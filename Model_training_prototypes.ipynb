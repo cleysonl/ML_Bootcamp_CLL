{
  "nbformat": 4,
  "nbformat_minor": 0,
  "metadata": {
    "colab": {
      "name": "Model_training_prototypes.ipynb",
      "provenance": [],
      "authorship_tag": "ABX9TyPZ1bVUPuI2zmi8ujGPUFbX",
      "include_colab_link": true
    },
    "kernelspec": {
      "name": "python3",
      "display_name": "Python 3"
    },
    "accelerator": "GPU"
  },
  "cells": [
    {
      "cell_type": "markdown",
      "metadata": {
        "id": "view-in-github",
        "colab_type": "text"
      },
      "source": [
        "<a href=\"https://colab.research.google.com/github/cleysonl/ML_Bootcamp_CLL/blob/master/Model_training_prototypes.ipynb\" target=\"_parent\"><img src=\"https://colab.research.google.com/assets/colab-badge.svg\" alt=\"Open In Colab\"/></a>"
      ]
    },
    {
      "cell_type": "markdown",
      "metadata": {
        "id": "3mQWMaoCauKm",
        "colab_type": "text"
      },
      "source": [
        "### **Load Dependencies**"
      ]
    },
    {
      "cell_type": "code",
      "metadata": {
        "id": "bpGQcBklaxXe",
        "colab_type": "code",
        "outputId": "f1e82c0e-4e6f-4c2d-cf60-c9b32bb51377",
        "colab": {
          "base_uri": "https://localhost:8080/",
          "height": 496
        }
      },
      "source": [
        "!pip install tensorflow-gpu==2.0.0.alpha0"
      ],
      "execution_count": 2,
      "outputs": [
        {
          "output_type": "stream",
          "text": [
            "Collecting tensorflow-gpu==2.0.0.alpha0\n",
            "\u001b[?25l  Downloading https://files.pythonhosted.org/packages/1a/66/32cffad095253219d53f6b6c2a436637bbe45ac4e7be0244557210dc3918/tensorflow_gpu-2.0.0a0-cp36-cp36m-manylinux1_x86_64.whl (332.1MB)\n",
            "\u001b[K     |████████████████████████████████| 332.1MB 49kB/s \n",
            "\u001b[?25hCollecting tb-nightly<1.14.0a20190302,>=1.14.0a20190301\n",
            "\u001b[?25l  Downloading https://files.pythonhosted.org/packages/a9/51/aa1d756644bf4624c03844115e4ac4058eff77acd786b26315f051a4b195/tb_nightly-1.14.0a20190301-py3-none-any.whl (3.0MB)\n",
            "\u001b[K     |████████████████████████████████| 3.0MB 42.3MB/s \n",
            "\u001b[?25hRequirement already satisfied: six>=1.10.0 in /usr/local/lib/python3.6/dist-packages (from tensorflow-gpu==2.0.0.alpha0) (1.12.0)\n",
            "Requirement already satisfied: numpy<2.0,>=1.14.5 in /usr/local/lib/python3.6/dist-packages (from tensorflow-gpu==2.0.0.alpha0) (1.17.5)\n",
            "Requirement already satisfied: absl-py>=0.7.0 in /usr/local/lib/python3.6/dist-packages (from tensorflow-gpu==2.0.0.alpha0) (0.9.0)\n",
            "Requirement already satisfied: grpcio>=1.8.6 in /usr/local/lib/python3.6/dist-packages (from tensorflow-gpu==2.0.0.alpha0) (1.15.0)\n",
            "Requirement already satisfied: google-pasta>=0.1.2 in /usr/local/lib/python3.6/dist-packages (from tensorflow-gpu==2.0.0.alpha0) (0.1.8)\n",
            "Requirement already satisfied: protobuf>=3.6.1 in /usr/local/lib/python3.6/dist-packages (from tensorflow-gpu==2.0.0.alpha0) (3.10.0)\n",
            "Requirement already satisfied: termcolor>=1.1.0 in /usr/local/lib/python3.6/dist-packages (from tensorflow-gpu==2.0.0.alpha0) (1.1.0)\n",
            "Requirement already satisfied: keras-applications>=1.0.6 in /usr/local/lib/python3.6/dist-packages (from tensorflow-gpu==2.0.0.alpha0) (1.0.8)\n",
            "Requirement already satisfied: astor>=0.6.0 in /usr/local/lib/python3.6/dist-packages (from tensorflow-gpu==2.0.0.alpha0) (0.8.1)\n",
            "Requirement already satisfied: wheel>=0.26 in /usr/local/lib/python3.6/dist-packages (from tensorflow-gpu==2.0.0.alpha0) (0.34.2)\n",
            "Requirement already satisfied: keras-preprocessing>=1.0.5 in /usr/local/lib/python3.6/dist-packages (from tensorflow-gpu==2.0.0.alpha0) (1.1.0)\n",
            "Collecting tf-estimator-nightly<1.14.0.dev2019030116,>=1.14.0.dev2019030115\n",
            "\u001b[?25l  Downloading https://files.pythonhosted.org/packages/13/82/f16063b4eed210dc2ab057930ac1da4fbe1e91b7b051a6c8370b401e6ae7/tf_estimator_nightly-1.14.0.dev2019030115-py2.py3-none-any.whl (411kB)\n",
            "\u001b[K     |████████████████████████████████| 419kB 49.0MB/s \n",
            "\u001b[?25hRequirement already satisfied: gast>=0.2.0 in /usr/local/lib/python3.6/dist-packages (from tensorflow-gpu==2.0.0.alpha0) (0.2.2)\n",
            "Requirement already satisfied: werkzeug>=0.11.15 in /usr/local/lib/python3.6/dist-packages (from tb-nightly<1.14.0a20190302,>=1.14.0a20190301->tensorflow-gpu==2.0.0.alpha0) (0.16.1)\n",
            "Requirement already satisfied: markdown>=2.6.8 in /usr/local/lib/python3.6/dist-packages (from tb-nightly<1.14.0a20190302,>=1.14.0a20190301->tensorflow-gpu==2.0.0.alpha0) (3.1.1)\n",
            "Requirement already satisfied: setuptools in /usr/local/lib/python3.6/dist-packages (from protobuf>=3.6.1->tensorflow-gpu==2.0.0.alpha0) (45.1.0)\n",
            "Requirement already satisfied: h5py in /usr/local/lib/python3.6/dist-packages (from keras-applications>=1.0.6->tensorflow-gpu==2.0.0.alpha0) (2.8.0)\n",
            "Installing collected packages: tb-nightly, tf-estimator-nightly, tensorflow-gpu\n",
            "Successfully installed tb-nightly-1.14.0a20190301 tensorflow-gpu-2.0.0a0 tf-estimator-nightly-1.14.0.dev2019030115\n"
          ],
          "name": "stdout"
        }
      ]
    },
    {
      "cell_type": "code",
      "metadata": {
        "id": "N39sGe01OyiV",
        "colab_type": "code",
        "colab": {}
      },
      "source": [
        "import warnings\n",
        "warnings.simplefilter(action='ignore', category = FutureWarning)\n",
        "\n",
        "import tensorflow as tf\n",
        "from tensorflow import keras\n",
        "\n",
        "import numpy as np\n",
        "import matplotlib.pyplot as plt\n",
        "import os\n",
        "import subprocess\n",
        "import cv2\n",
        "import json\n",
        "import requests\n",
        "from tqdm import tqdm\n",
        "\n",
        "%matplotlib inline"
      ],
      "execution_count": 0,
      "outputs": []
    },
    {
      "cell_type": "markdown",
      "metadata": {
        "id": "bS9Ff4_MbkDY",
        "colab_type": "text"
      },
      "source": [
        "## **Building & Deploying an Apparel Classifier**"
      ]
    },
    {
      "cell_type": "markdown",
      "metadata": {
        "id": "CnBvNNQuc-Fc",
        "colab_type": "text"
      },
      "source": [
        "### **Load Dataset**"
      ]
    },
    {
      "cell_type": "code",
      "metadata": {
        "id": "bFDwyEmcbdvl",
        "colab_type": "code",
        "outputId": "09bc8684-9907-434c-afd5-a7cb31367574",
        "colab": {
          "base_uri": "https://localhost:8080/",
          "height": 204
        }
      },
      "source": [
        "fashion_mnist = keras.datasets.fashion_mnist\n",
        "(train_images, train_labels), (test_images, test_labels) = fashion_mnist.load_data()\n",
        "\n",
        "class_names = ['T-shirt/top', 'Trouser', 'Pullover', 'Dress', 'Coat', 'Sandal', 'Shirt', 'Sneaker', 'Bag', 'Ankle boot']\n",
        "\n",
        "print('\\nTrain_images.shape: {}, of {}'.format(train_images.shape, train_images.dtype))\n",
        "print('Test_images.shape: {}, of {}'.format(test_images.shape, test_images.dtype))"
      ],
      "execution_count": 4,
      "outputs": [
        {
          "output_type": "stream",
          "text": [
            "Downloading data from https://storage.googleapis.com/tensorflow/tf-keras-datasets/train-labels-idx1-ubyte.gz\n",
            "32768/29515 [=================================] - 0s 0us/step\n",
            "Downloading data from https://storage.googleapis.com/tensorflow/tf-keras-datasets/train-images-idx3-ubyte.gz\n",
            "26427392/26421880 [==============================] - 0s 0us/step\n",
            "Downloading data from https://storage.googleapis.com/tensorflow/tf-keras-datasets/t10k-labels-idx1-ubyte.gz\n",
            "8192/5148 [===============================================] - 0s 0us/step\n",
            "Downloading data from https://storage.googleapis.com/tensorflow/tf-keras-datasets/t10k-images-idx3-ubyte.gz\n",
            "4423680/4422102 [==============================] - 0s 0us/step\n",
            "\n",
            "Train_images.shape: (60000, 28, 28), of uint8\n",
            "Test_images.shape: (10000, 28, 28), of uint8\n"
          ],
          "name": "stdout"
        }
      ]
    },
    {
      "cell_type": "markdown",
      "metadata": {
        "id": "b1HPiVwgQWLY",
        "colab_type": "text"
      },
      "source": [
        "## **Training a simple CNN model from Scratch**"
      ]
    },
    {
      "cell_type": "markdown",
      "metadata": {
        "id": "7UcIJdu4Qbr8",
        "colab_type": "text"
      },
      "source": [
        "### **Reshaping Image Data for Modeling**"
      ]
    },
    {
      "cell_type": "code",
      "metadata": {
        "id": "9V9PtvnLbp64",
        "colab_type": "code",
        "colab": {
          "base_uri": "https://localhost:8080/",
          "height": 85
        },
        "outputId": "931ace0f-c1b5-47ec-f3cd-6c624ea342df"
      },
      "source": [
        "#reshape for feeding into the model\n",
        "train_images_gr = train_images.reshape(train_images.shape[0], 28, 28, 1)\n",
        "test_images_gr = test_images.reshape(test_images.shape[0], 28, 28, 1)\n",
        "\n",
        "print('\\nTrain_images.shape: {}, of {}'.format(train_images_gr.shape, train_images_gr.dtype))\n",
        "print('\\nTest_images.shape: {}, of {}'.format(test_images_gr.shape, test_images_gr.dtype))"
      ],
      "execution_count": 5,
      "outputs": [
        {
          "output_type": "stream",
          "text": [
            "\n",
            "Train_images.shape: (60000, 28, 28, 1), of uint8\n",
            "\n",
            "Test_images.shape: (10000, 28, 28, 1), of uint8\n"
          ],
          "name": "stdout"
        }
      ]
    },
    {
      "cell_type": "markdown",
      "metadata": {
        "id": "JOUxSlGdQ5vO",
        "colab_type": "text"
      },
      "source": [
        "### **Visualize sample images**"
      ]
    },
    {
      "cell_type": "code",
      "metadata": {
        "id": "w7uJctpORY7L",
        "colab_type": "code",
        "colab": {
          "base_uri": "https://localhost:8080/",
          "height": 380
        },
        "outputId": "1b6ae809-045f-4ce6-d5d2-a34948a318b1"
      },
      "source": [
        "fig, ax = plt.subplots(2, 5, figsize=(12, 6))\n",
        "ax[0, 0].imshow(train_images_gr[0].reshape(28, 28))\n",
        "ax[0, 1].imshow(train_images_gr[1].reshape(28, 28))\n",
        "ax[0, 2].imshow(train_images_gr[2].reshape(28, 28))\n",
        "ax[0, 3].imshow(train_images_gr[3].reshape(28, 28))\n",
        "ax[0, 4].imshow(train_images_gr[4].reshape(28, 28))\n",
        "ax[1, 0].imshow(train_images_gr[5].reshape(28, 28))\n",
        "ax[1, 1].imshow(train_images_gr[6].reshape(28, 28))\n",
        "ax[1, 2].imshow(train_images_gr[7].reshape(28, 28))\n",
        "ax[1, 3].imshow(train_images_gr[8].reshape(28, 28))\n",
        "ax[1, 4].imshow(train_images_gr[9].reshape(28, 28))\n",
        "\n",
        "print([class_names[i] for i in train_labels[:10]])"
      ],
      "execution_count": 6,
      "outputs": [
        {
          "output_type": "stream",
          "text": [
            "['Ankle boot', 'T-shirt/top', 'T-shirt/top', 'Dress', 'T-shirt/top', 'Pullover', 'Sneaker', 'Pullover', 'Sandal', 'Sandal']\n"
          ],
          "name": "stdout"
        },
        {
          "output_type": "display_data",
          "data": {
            "image/png": "[encoded data removed]",
            "text/plain": [
              "<Figure size 864x432 with 10 Axes>"
            ]
          },
          "metadata": {
            "tags": []
          }
        }
      ]
    },
    {
      "cell_type": "markdown",
      "metadata": {
        "id": "Mf8AmJlTSwYB",
        "colab_type": "text"
      },
      "source": [
        "### **Build CNN Model Architecture**"
      ]
    },
    {
      "cell_type": "code",
      "metadata": {
        "id": "r7jDbsJOSahX",
        "colab_type": "code",
        "colab": {}
      },
      "source": [
        "INPUT_SHAPE = (28, 28, 1)\n",
        "\n",
        "def create_cnn_architecture_model1(input_shape):\n",
        "  inp = keras.layers.Input(shape = input_shape)\n",
        "\n",
        "  conv1 = keras.layers.Conv2D(filters=16, kernel_size = (3,3), strides = (1,1), activation = 'relu', padding='same')(inp)\n",
        "  pool1 = keras.layers.MaxPooling2D(pool_size = (2,2))(conv1)\n",
        "  conv2 = keras.layers.Conv2D(filters=32, kernel_size = (3,3), strides = (1,1), activation = 'relu', padding='same')(pool1)\n",
        "  pool2 = keras.layers.MaxPooling2D(pool_size =(2, 2))(conv2)\n",
        "\n",
        "  flat = keras.layers.Flatten()(pool2)\n",
        "\n",
        "  hidden1 = keras.layers.Dense(256, activation='relu')(flat)\n",
        "  drop1 = keras.layers.Dropout(rate=0.3)(hidden1)\n",
        "\n",
        "  out = keras.layers.Dense(10, activation = 'softmax')(drop1)\n",
        "\n",
        "  model = keras.Model(inputs=inp, outputs=out)\n",
        "  model.compile(optimizer='adam', loss='sparse_categorical_crossentropy', metrics=['accuracy'])\n",
        "\n",
        "  return model"
      ],
      "execution_count": 0,
      "outputs": []
    },
    {
      "cell_type": "code",
      "metadata": {
        "id": "X9zYOYEPYcVB",
        "colab_type": "code",
        "colab": {
          "base_uri": "https://localhost:8080/",
          "height": 459
        },
        "outputId": "880fa2c6-93c4-4668-81c1-6a4291e2ac16"
      },
      "source": [
        "model = create_cnn_architecture_model1(input_shape=INPUT_SHAPE)\n",
        "model.summary()"
      ],
      "execution_count": 8,
      "outputs": [
        {
          "output_type": "stream",
          "text": [
            "Model: \"model\"\n",
            "_________________________________________________________________\n",
            "Layer (type)                 Output Shape              Param #   \n",
            "=================================================================\n",
            "input_1 (InputLayer)         [(None, 28, 28, 1)]       0         \n",
            "_________________________________________________________________\n",
            "conv2d (Conv2D)              (None, 28, 28, 16)        160       \n",
            "_________________________________________________________________\n",
            "max_pooling2d (MaxPooling2D) (None, 14, 14, 16)        0         \n",
            "_________________________________________________________________\n",
            "conv2d_1 (Conv2D)            (None, 14, 14, 32)        4640      \n",
            "_________________________________________________________________\n",
            "max_pooling2d_1 (MaxPooling2 (None, 7, 7, 32)          0         \n",
            "_________________________________________________________________\n",
            "flatten (Flatten)            (None, 1568)              0         \n",
            "_________________________________________________________________\n",
            "dense (Dense)                (None, 256)               401664    \n",
            "_________________________________________________________________\n",
            "dropout (Dropout)            (None, 256)               0         \n",
            "_________________________________________________________________\n",
            "dense_1 (Dense)              (None, 10)                2570      \n",
            "=================================================================\n",
            "Total params: 409,034\n",
            "Trainable params: 409,034\n",
            "Non-trainable params: 0\n",
            "_________________________________________________________________\n"
          ],
          "name": "stdout"
        }
      ]
    },
    {
      "cell_type": "markdown",
      "metadata": {
        "id": "1p9QcUMiasgv",
        "colab_type": "text"
      },
      "source": [
        "### **Model Training**"
      ]
    },
    {
      "cell_type": "code",
      "metadata": {
        "id": "cYMgCstdY0cP",
        "colab_type": "code",
        "colab": {
          "base_uri": "https://localhost:8080/",
          "height": 411
        },
        "outputId": "abe5ccc5-54ac-43dc-ae5b-c8ab619808ad"
      },
      "source": [
        "EPOCHS = 10\n",
        "train_images_scaled = train_images_gr / 255.\n",
        "model.fit(train_images_scaled, train_labels, validation_split=0.1, epochs=EPOCHS)"
      ],
      "execution_count": 9,
      "outputs": [
        {
          "output_type": "stream",
          "text": [
            "Train on 54000 samples, validate on 6000 samples\n",
            "Epoch 1/10\n",
            "54000/54000 [==============================] - 15s 273us/sample - loss: 0.4545 - accuracy: 0.8357 - val_loss: 0.3120 - val_accuracy: 0.8862\n",
            "Epoch 2/10\n",
            "54000/54000 [==============================] - 8s 146us/sample - loss: 0.3056 - accuracy: 0.8891 - val_loss: 0.2848 - val_accuracy: 0.8903\n",
            "Epoch 3/10\n",
            "54000/54000 [==============================] - 8s 144us/sample - loss: 0.2612 - accuracy: 0.9046 - val_loss: 0.2561 - val_accuracy: 0.9020\n",
            "Epoch 4/10\n",
            "54000/54000 [==============================] - 8s 148us/sample - loss: 0.2325 - accuracy: 0.9147 - val_loss: 0.2401 - val_accuracy: 0.9115\n",
            "Epoch 5/10\n",
            "54000/54000 [==============================] - 8s 151us/sample - loss: 0.2098 - accuracy: 0.9226 - val_loss: 0.2339 - val_accuracy: 0.9157\n",
            "Epoch 6/10\n",
            "54000/54000 [==============================] - 8s 143us/sample - loss: 0.1891 - accuracy: 0.9286 - val_loss: 0.2441 - val_accuracy: 0.9117\n",
            "Epoch 7/10\n",
            "54000/54000 [==============================] - 8s 145us/sample - loss: 0.1715 - accuracy: 0.9358 - val_loss: 0.2347 - val_accuracy: 0.9138\n",
            "Epoch 8/10\n",
            "54000/54000 [==============================] - 8s 146us/sample - loss: 0.1545 - accuracy: 0.9426 - val_loss: 0.2295 - val_accuracy: 0.9165\n",
            "Epoch 9/10\n",
            "54000/54000 [==============================] - 8s 146us/sample - loss: 0.1412 - accuracy: 0.9472 - val_loss: 0.2346 - val_accuracy: 0.9193\n",
            "Epoch 10/10\n",
            "54000/54000 [==============================] - 8s 144us/sample - loss: 0.1256 - accuracy: 0.9524 - val_loss: 0.2602 - val_accuracy: 0.9170\n"
          ],
          "name": "stdout"
        },
        {
          "output_type": "execute_result",
          "data": {
            "text/plain": [
              "<tensorflow.python.keras.callbacks.History at 0x7f7f161eaf60>"
            ]
          },
          "metadata": {
            "tags": []
          },
          "execution_count": 9
        }
      ]
    },
    {
      "cell_type": "markdown",
      "metadata": {
        "id": "JwWyBtktcq51",
        "colab_type": "text"
      },
      "source": [
        "### **Save Model Weights**"
      ]
    },
    {
      "cell_type": "code",
      "metadata": {
        "id": "PIlY3JUZcDsb",
        "colab_type": "code",
        "colab": {}
      },
      "source": [
        "import os\n",
        "\n",
        "if not os.path.isdir('model_weights/'):\n",
        "  os.mkdir('model_weights/')\n",
        "\n",
        "model.save_weights(filepath= 'model_weights/cnn_model1_wt.h5', overwrite=True)"
      ],
      "execution_count": 0,
      "outputs": []
    },
    {
      "cell_type": "markdown",
      "metadata": {
        "id": "Eu2kGWLsdfff",
        "colab_type": "text"
      },
      "source": [
        "### **Build Model Architecture and Load Model Weights**"
      ]
    },
    {
      "cell_type": "code",
      "metadata": {
        "id": "wAfj1-s6dEYO",
        "colab_type": "code",
        "colab": {}
      },
      "source": [
        "model = create_cnn_architecture_model1(input_shape=INPUT_SHAPE)\n",
        "model.load_weights('model_weights/cnn_model1_wt.h5')"
      ],
      "execution_count": 0,
      "outputs": []
    },
    {
      "cell_type": "markdown",
      "metadata": {
        "id": "3dQBdP6neKvQ",
        "colab_type": "text"
      },
      "source": [
        "### **Evaluate Model Performance on Test Data**"
      ]
    },
    {
      "cell_type": "code",
      "metadata": {
        "id": "RReUlOLsdzK1",
        "colab_type": "code",
        "colab": {
          "base_uri": "https://localhost:8080/",
          "height": 272
        },
        "outputId": "e0cc86c1-b9d4-455a-fa3e-f3b078bfd22a"
      },
      "source": [
        "test_images_scaled = test_images_gr / 255.\n",
        "predictions = model.predict(test_images_scaled)\n",
        "predictions[:5]"
      ],
      "execution_count": 12,
      "outputs": [
        {
          "output_type": "execute_result",
          "data": {
            "text/plain": [
              "array([[3.2201641e-10, 9.9601265e-11, 1.7097684e-11, 2.6733574e-12,\n",
              "        3.8706949e-14, 4.6951385e-08, 2.1165492e-10, 3.7328386e-06,\n",
              "        5.5910454e-12, 9.9999619e-01],\n",
              "       [2.3883952e-06, 4.5564983e-16, 9.9999535e-01, 2.4299649e-09,\n",
              "        5.2777136e-08, 2.2843714e-15, 2.1662629e-06, 1.7365359e-19,\n",
              "        1.1381398e-12, 4.5614855e-14],\n",
              "       [1.7035331e-13, 1.0000000e+00, 1.3777361e-16, 5.0966674e-13,\n",
              "        4.7717084e-18, 2.1355547e-18, 1.4347315e-14, 1.4429070e-25,\n",
              "        2.8800603e-16, 5.1436655e-26],\n",
              "       [2.5959234e-13, 1.0000000e+00, 2.3996795e-16, 2.0491137e-11,\n",
              "        6.0351870e-16, 1.9818513e-17, 1.3883076e-14, 1.5566638e-26,\n",
              "        1.8113081e-19, 5.3787716e-24],\n",
              "       [4.4905405e-02, 1.5136965e-10, 5.4451352e-04, 2.5514382e-06,\n",
              "        1.4470932e-04, 3.8549269e-10, 9.5440280e-01, 5.3083757e-12,\n",
              "        2.1257422e-08, 2.7874472e-09]], dtype=float32)"
            ]
          },
          "metadata": {
            "tags": []
          },
          "execution_count": 12
        }
      ]
    },
    {
      "cell_type": "code",
      "metadata": {
        "id": "AEXgEpUqeahW",
        "colab_type": "code",
        "colab": {
          "base_uri": "https://localhost:8080/",
          "height": 34
        },
        "outputId": "3c15b1c3-7e66-428e-ac89-2240ae7a910e"
      },
      "source": [
        "prediction_labels = np.argmax(predictions, axis=1)\n",
        "prediction_labels[:5]"
      ],
      "execution_count": 13,
      "outputs": [
        {
          "output_type": "execute_result",
          "data": {
            "text/plain": [
              "array([9, 2, 1, 1, 6])"
            ]
          },
          "metadata": {
            "tags": []
          },
          "execution_count": 13
        }
      ]
    },
    {
      "cell_type": "code",
      "metadata": {
        "id": "v9A2jTuRek6z",
        "colab_type": "code",
        "colab": {
          "base_uri": "https://localhost:8080/",
          "height": 648
        },
        "outputId": "f252ef3a-a1fb-4dfe-eec5-7fde259dcafc"
      },
      "source": [
        "from sklearn.metrics import confusion_matrix, classification_report\n",
        "import pandas as pd\n",
        "\n",
        "print(classification_report(test_labels, prediction_labels, target_names = class_names))\n",
        "pd.DataFrame(confusion_matrix(test_labels, prediction_labels), index=class_names, columns = class_names)"
      ],
      "execution_count": 14,
      "outputs": [
        {
          "output_type": "stream",
          "text": [
            "              precision    recall  f1-score   support\n",
            "\n",
            " T-shirt/top       0.86      0.87      0.87      1000\n",
            "     Trouser       1.00      0.98      0.99      1000\n",
            "    Pullover       0.80      0.93      0.86      1000\n",
            "       Dress       0.89      0.95      0.92      1000\n",
            "        Coat       0.90      0.81      0.85      1000\n",
            "      Sandal       0.98      0.99      0.98      1000\n",
            "       Shirt       0.83      0.70      0.76      1000\n",
            "     Sneaker       0.95      0.98      0.96      1000\n",
            "         Bag       0.98      0.98      0.98      1000\n",
            "  Ankle boot       0.98      0.95      0.97      1000\n",
            "\n",
            "    accuracy                           0.92     10000\n",
            "   macro avg       0.92      0.92      0.91     10000\n",
            "weighted avg       0.92      0.92      0.91     10000\n",
            "\n"
          ],
          "name": "stdout"
        },
        {
          "output_type": "execute_result",
          "data": {
            "text/html": [
              "<div>\n",
              "<style scoped>\n",
              "    .dataframe tbody tr th:only-of-type {\n",
              "        vertical-align: middle;\n",
              "    }\n",
              "\n",
              "    .dataframe tbody tr th {\n",
              "        vertical-align: top;\n",
              "    }\n",
              "\n",
              "    .dataframe thead th {\n",
              "        text-align: right;\n",
              "    }\n",
              "</style>\n",
              "<table border=\"1\" class=\"dataframe\">\n",
              "  <thead>\n",
              "    <tr style=\"text-align: right;\">\n",
              "      <th></th>\n",
              "      <th>T-shirt/top</th>\n",
              "      <th>Trouser</th>\n",
              "      <th>Pullover</th>\n",
              "      <th>Dress</th>\n",
              "      <th>Coat</th>\n",
              "      <th>Sandal</th>\n",
              "      <th>Shirt</th>\n",
              "      <th>Sneaker</th>\n",
              "      <th>Bag</th>\n",
              "      <th>Ankle boot</th>\n",
              "    </tr>\n",
              "  </thead>\n",
              "  <tbody>\n",
              "    <tr>\n",
              "      <th>T-shirt/top</th>\n",
              "      <td>874</td>\n",
              "      <td>0</td>\n",
              "      <td>21</td>\n",
              "      <td>30</td>\n",
              "      <td>2</td>\n",
              "      <td>2</td>\n",
              "      <td>64</td>\n",
              "      <td>0</td>\n",
              "      <td>7</td>\n",
              "      <td>0</td>\n",
              "    </tr>\n",
              "    <tr>\n",
              "      <th>Trouser</th>\n",
              "      <td>0</td>\n",
              "      <td>985</td>\n",
              "      <td>0</td>\n",
              "      <td>10</td>\n",
              "      <td>1</td>\n",
              "      <td>0</td>\n",
              "      <td>3</td>\n",
              "      <td>0</td>\n",
              "      <td>1</td>\n",
              "      <td>0</td>\n",
              "    </tr>\n",
              "    <tr>\n",
              "      <th>Pullover</th>\n",
              "      <td>16</td>\n",
              "      <td>1</td>\n",
              "      <td>929</td>\n",
              "      <td>5</td>\n",
              "      <td>25</td>\n",
              "      <td>0</td>\n",
              "      <td>24</td>\n",
              "      <td>0</td>\n",
              "      <td>0</td>\n",
              "      <td>0</td>\n",
              "    </tr>\n",
              "    <tr>\n",
              "      <th>Dress</th>\n",
              "      <td>10</td>\n",
              "      <td>1</td>\n",
              "      <td>12</td>\n",
              "      <td>950</td>\n",
              "      <td>12</td>\n",
              "      <td>0</td>\n",
              "      <td>13</td>\n",
              "      <td>0</td>\n",
              "      <td>2</td>\n",
              "      <td>0</td>\n",
              "    </tr>\n",
              "    <tr>\n",
              "      <th>Coat</th>\n",
              "      <td>0</td>\n",
              "      <td>0</td>\n",
              "      <td>111</td>\n",
              "      <td>36</td>\n",
              "      <td>812</td>\n",
              "      <td>0</td>\n",
              "      <td>39</td>\n",
              "      <td>0</td>\n",
              "      <td>2</td>\n",
              "      <td>0</td>\n",
              "    </tr>\n",
              "    <tr>\n",
              "      <th>Sandal</th>\n",
              "      <td>0</td>\n",
              "      <td>0</td>\n",
              "      <td>0</td>\n",
              "      <td>0</td>\n",
              "      <td>0</td>\n",
              "      <td>987</td>\n",
              "      <td>0</td>\n",
              "      <td>11</td>\n",
              "      <td>0</td>\n",
              "      <td>2</td>\n",
              "    </tr>\n",
              "    <tr>\n",
              "      <th>Shirt</th>\n",
              "      <td>108</td>\n",
              "      <td>2</td>\n",
              "      <td>90</td>\n",
              "      <td>34</td>\n",
              "      <td>52</td>\n",
              "      <td>2</td>\n",
              "      <td>705</td>\n",
              "      <td>0</td>\n",
              "      <td>7</td>\n",
              "      <td>0</td>\n",
              "    </tr>\n",
              "    <tr>\n",
              "      <th>Sneaker</th>\n",
              "      <td>0</td>\n",
              "      <td>0</td>\n",
              "      <td>0</td>\n",
              "      <td>0</td>\n",
              "      <td>0</td>\n",
              "      <td>6</td>\n",
              "      <td>0</td>\n",
              "      <td>981</td>\n",
              "      <td>0</td>\n",
              "      <td>13</td>\n",
              "    </tr>\n",
              "    <tr>\n",
              "      <th>Bag</th>\n",
              "      <td>6</td>\n",
              "      <td>0</td>\n",
              "      <td>0</td>\n",
              "      <td>4</td>\n",
              "      <td>1</td>\n",
              "      <td>3</td>\n",
              "      <td>3</td>\n",
              "      <td>3</td>\n",
              "      <td>980</td>\n",
              "      <td>0</td>\n",
              "    </tr>\n",
              "    <tr>\n",
              "      <th>Ankle boot</th>\n",
              "      <td>0</td>\n",
              "      <td>0</td>\n",
              "      <td>0</td>\n",
              "      <td>0</td>\n",
              "      <td>0</td>\n",
              "      <td>5</td>\n",
              "      <td>2</td>\n",
              "      <td>43</td>\n",
              "      <td>0</td>\n",
              "      <td>950</td>\n",
              "    </tr>\n",
              "  </tbody>\n",
              "</table>\n",
              "</div>"
            ],
            "text/plain": [
              "             T-shirt/top  Trouser  Pullover  ...  Sneaker  Bag  Ankle boot\n",
              "T-shirt/top          874        0        21  ...        0    7           0\n",
              "Trouser                0      985         0  ...        0    1           0\n",
              "Pullover              16        1       929  ...        0    0           0\n",
              "Dress                 10        1        12  ...        0    2           0\n",
              "Coat                   0        0       111  ...        0    2           0\n",
              "Sandal                 0        0         0  ...       11    0           2\n",
              "Shirt                108        2        90  ...        0    7           0\n",
              "Sneaker                0        0         0  ...      981    0          13\n",
              "Bag                    6        0         0  ...        3  980           0\n",
              "Ankle boot             0        0         0  ...       43    0         950\n",
              "\n",
              "[10 rows x 10 columns]"
            ]
          },
          "metadata": {
            "tags": []
          },
          "execution_count": 14
        }
      ]
    },
    {
      "cell_type": "markdown",
      "metadata": {
        "id": "DwE68vtufYYl",
        "colab_type": "text"
      },
      "source": [
        "## **Fine-tuning a pre-trained ResNet-50 CNN Model***"
      ]
    },
    {
      "cell_type": "markdown",
      "metadata": {
        "id": "QcljpkSaf4ta",
        "colab_type": "text"
      },
      "source": [
        "### **Build CNN Model Architecture**"
      ]
    },
    {
      "cell_type": "code",
      "metadata": {
        "id": "VMHupwMgfTH7",
        "colab_type": "code",
        "colab": {}
      },
      "source": [
        ""
      ],
      "execution_count": 0,
      "outputs": []
    }
  ]
}