{
  "nbformat": 4,
  "nbformat_minor": 0,
  "metadata": {
    "colab": {
      "name": "Data Processing and Analysis.ipynb",
      "provenance": [],
      "authorship_tag": "ABX9TyPiqWbXMsU7ZzdsyUi6+rSs",
      "include_colab_link": true
    },
    "kernelspec": {
      "name": "python3",
      "display_name": "Python 3"
    }
  },
  "cells": [
    {
      "cell_type": "markdown",
      "metadata": {
        "id": "view-in-github",
        "colab_type": "text"
      },
      "source": [
        "<a href=\"https://colab.research.google.com/github/cleysonl/ML_Bootcamp_CLL/blob/master/Data_Processing_and_Analysis.ipynb\" target=\"_parent\"><img src=\"https://colab.research.google.com/assets/colab-badge.svg\" alt=\"Open In Colab\"/></a>"
      ]
    },
    {
      "cell_type": "markdown",
      "metadata": {
        "id": "VbXQXjG_xHsS",
        "colab_type": "text"
      },
      "source": [
        "# **Data Processing and Analysis**"
      ]
    },
    {
      "cell_type": "code",
      "metadata": {
        "id": "-f2o6C_sw73C",
        "colab_type": "code",
        "colab": {}
      },
      "source": [
        "import datetime\n",
        "import random\n",
        "from random import randrange\n",
        "import numpy as np\n",
        "import pandas as pd"
      ],
      "execution_count": 0,
      "outputs": []
    },
    {
      "cell_type": "code",
      "metadata": {
        "id": "uxv9stE5xKNy",
        "colab_type": "code",
        "colab": {}
      },
      "source": [
        "def _random_date(start,date_count):\n",
        "    \"\"\"This function generates a random date based on params\n",
        "    Args:\n",
        "        start (date object): the base date\n",
        "        date_count (int): number of dates to be generated\n",
        "    Returns:\n",
        "        list of random dates\n",
        "\n",
        "    \"\"\"\n",
        "    current = start\n",
        "    while date_count > 0:\n",
        "        curr = current + datetime.timedelta(days=randrange(42))\n",
        "        yield curr\n",
        "        date_count-=1\n",
        "        \n",
        "        \n",
        "\n",
        "def generate_sample_data(row_count=100):\n",
        "    \"\"\"This function generates a random transaction dataset\n",
        "    Args:\n",
        "        row_count (int): number of rows for the dataframe\n",
        "    Returns:\n",
        "        a pandas dataframe\n",
        "\n",
        "    \"\"\"\n",
        "\n",
        "    # sentinels\n",
        "    startDate = datetime.datetime(2016, 1, 1, 13)\n",
        "    serial_number_sentinel = 1000\n",
        "    user_id_sentinel = 5001\n",
        "    product_id_sentinel = 101\n",
        "    price_sentinel = 2000\n",
        "\n",
        "    # base list of attributes\n",
        "    data_dict = {\n",
        "        'Serial No':\n",
        "        np.arange(row_count) + serial_number_sentinel,\n",
        "        'Date':\n",
        "        np.random.permutation(\n",
        "            pd.to_datetime([\n",
        "                x.strftime(\"%d-%m-%Y\")\n",
        "                for x in _random_date(startDate, row_count)\n",
        "            ]).date),\n",
        "        'User ID':\n",
        "        np.random.permutation(\n",
        "            np.random.randint(0, row_count, size=int(row_count / 10)) +\n",
        "            user_id_sentinel).tolist() * 10,\n",
        "        'Product ID':\n",
        "        np.random.permutation(\n",
        "            np.random.randint(0, row_count, size=int(row_count / 10)) +\n",
        "            product_id_sentinel).tolist() * 10,\n",
        "        'Quantity Purchased':\n",
        "        np.random.permutation(np.random.randint(1, 42, size=row_count)),\n",
        "        'Price':\n",
        "        np.round(\n",
        "            np.abs(np.random.randn(row_count) + 1) * price_sentinel,\n",
        "            decimals=2),\n",
        "        'User Type':\n",
        "        np.random.permutation(\n",
        "            [chr(random.randrange(97, 97 + 3 + 1)) for i in range(row_count)])\n",
        "    }\n",
        "\n",
        "    # introduce missing values\n",
        "    for index in range(int(np.sqrt(row_count))):\n",
        "        data_dict['Price'][np.argmax(\n",
        "            data_dict['Price'] == random.choice(data_dict['Price']))] = np.nan\n",
        "        data_dict['User Type'][np.argmax(\n",
        "            data_dict['User Type'] == random.choice(\n",
        "                data_dict['User Type']))] = np.nan\n",
        "        data_dict['Date'][np.argmax(\n",
        "            data_dict['Date'] == random.choice(data_dict['Date']))] = np.nan\n",
        "        data_dict['Product ID'][np.argmax(data_dict['Product ID'] == random.\n",
        "                                          choice(data_dict['Product ID']))] = 0\n",
        "        data_dict['Serial No'][np.argmax(data_dict['Serial No'] == random.\n",
        "                                         choice(data_dict['Serial No']))] = -1\n",
        "        data_dict['User ID'][np.argmax(data_dict['User ID'] == random.choice(\n",
        "            data_dict['User ID']))] = -101\n",
        "\n",
        "    # create data frame\n",
        "    df = pd.DataFrame(data_dict)\n",
        "\n",
        "    return df"
      ],
      "execution_count": 0,
      "outputs": []
    },
    {
      "cell_type": "markdown",
      "metadata": {
        "id": "CAwU-8uy3rdB",
        "colab_type": "text"
      },
      "source": [
        "## **Import dependencies**"
      ]
    },
    {
      "cell_type": "code",
      "metadata": {
        "id": "AcN_hiPT3u1S",
        "colab_type": "code",
        "colab": {}
      },
      "source": [
        "import numpy as np\n",
        "import pandas as pd\n",
        "from IPython.display import display\n",
        "from sklearn import preprocessing\n",
        "\n",
        "pd.options.mode.chained_assignment = None"
      ],
      "execution_count": 0,
      "outputs": []
    },
    {
      "cell_type": "markdown",
      "metadata": {
        "id": "t6FF37E_3v7x",
        "colab_type": "text"
      },
      "source": [
        "## **Generate dataset**"
      ]
    },
    {
      "cell_type": "code",
      "metadata": {
        "id": "JROm_oSG3zOB",
        "colab_type": "code",
        "outputId": "b959a7cf-f8cf-4500-955c-8d9276f0dec1",
        "colab": {
          "base_uri": "https://localhost:8080/",
          "height": 34
        }
      },
      "source": [
        "# Generate a dataset with 1000 rows\n",
        "df = generate_sample_data(row_count=1000)\n",
        "df.shape"
      ],
      "execution_count": 7,
      "outputs": [
        {
          "output_type": "execute_result",
          "data": {
            "text/plain": [
              "(1000, 7)"
            ]
          },
          "metadata": {
            "tags": []
          },
          "execution_count": 7
        }
      ]
    },
    {
      "cell_type": "markdown",
      "metadata": {
        "id": "SDKjuXdt5kqM",
        "colab_type": "text"
      },
      "source": [
        "### **Analyze generated Dataset**"
      ]
    },
    {
      "cell_type": "code",
      "metadata": {
        "id": "XtQfNh295pX3",
        "colab_type": "code",
        "outputId": "7c2d8715-bf70-45d1-bf71-62d7da53dbd5",
        "colab": {
          "base_uri": "https://localhost:8080/",
          "height": 204
        }
      },
      "source": [
        "df.head()"
      ],
      "execution_count": 8,
      "outputs": [
        {
          "output_type": "execute_result",
          "data": {
            "text/html": [
              "<div>\n",
              "<style scoped>\n",
              "    .dataframe tbody tr th:only-of-type {\n",
              "        vertical-align: middle;\n",
              "    }\n",
              "\n",
              "    .dataframe tbody tr th {\n",
              "        vertical-align: top;\n",
              "    }\n",
              "\n",
              "    .dataframe thead th {\n",
              "        text-align: right;\n",
              "    }\n",
              "</style>\n",
              "<table border=\"1\" class=\"dataframe\">\n",
              "  <thead>\n",
              "    <tr style=\"text-align: right;\">\n",
              "      <th></th>\n",
              "      <th>Serial No</th>\n",
              "      <th>Date</th>\n",
              "      <th>User ID</th>\n",
              "      <th>Product ID</th>\n",
              "      <th>Quantity Purchased</th>\n",
              "      <th>Price</th>\n",
              "      <th>User Type</th>\n",
              "    </tr>\n",
              "  </thead>\n",
              "  <tbody>\n",
              "    <tr>\n",
              "      <th>0</th>\n",
              "      <td>1000</td>\n",
              "      <td>NaN</td>\n",
              "      <td>-101</td>\n",
              "      <td>0</td>\n",
              "      <td>12</td>\n",
              "      <td>1379.22</td>\n",
              "      <td>n</td>\n",
              "    </tr>\n",
              "    <tr>\n",
              "      <th>1</th>\n",
              "      <td>1001</td>\n",
              "      <td>2016-01-15</td>\n",
              "      <td>5288</td>\n",
              "      <td>304</td>\n",
              "      <td>5</td>\n",
              "      <td>4749.63</td>\n",
              "      <td>n</td>\n",
              "    </tr>\n",
              "    <tr>\n",
              "      <th>2</th>\n",
              "      <td>1002</td>\n",
              "      <td>2016-01-02</td>\n",
              "      <td>5563</td>\n",
              "      <td>478</td>\n",
              "      <td>41</td>\n",
              "      <td>1374.87</td>\n",
              "      <td>n</td>\n",
              "    </tr>\n",
              "    <tr>\n",
              "      <th>3</th>\n",
              "      <td>1003</td>\n",
              "      <td>2016-01-16</td>\n",
              "      <td>5772</td>\n",
              "      <td>999</td>\n",
              "      <td>2</td>\n",
              "      <td>4936.43</td>\n",
              "      <td>n</td>\n",
              "    </tr>\n",
              "    <tr>\n",
              "      <th>4</th>\n",
              "      <td>1004</td>\n",
              "      <td>2016-04-02</td>\n",
              "      <td>5928</td>\n",
              "      <td>769</td>\n",
              "      <td>9</td>\n",
              "      <td>651.20</td>\n",
              "      <td>n</td>\n",
              "    </tr>\n",
              "  </tbody>\n",
              "</table>\n",
              "</div>"
            ],
            "text/plain": [
              "   Serial No        Date  User ID  ...  Quantity Purchased    Price  User Type\n",
              "0       1000         NaN     -101  ...                  12  1379.22          n\n",
              "1       1001  2016-01-15     5288  ...                   5  4749.63          n\n",
              "2       1002  2016-01-02     5563  ...                  41  1374.87          n\n",
              "3       1003  2016-01-16     5772  ...                   2  4936.43          n\n",
              "4       1004  2016-04-02     5928  ...                   9   651.20          n\n",
              "\n",
              "[5 rows x 7 columns]"
            ]
          },
          "metadata": {
            "tags": []
          },
          "execution_count": 8
        }
      ]
    },
    {
      "cell_type": "markdown",
      "metadata": {
        "id": "U6YqahUK7pbR",
        "colab_type": "text"
      },
      "source": [
        "**Dataframe stats**"
      ]
    },
    {
      "cell_type": "code",
      "metadata": {
        "id": "-CmOCxrX5rL_",
        "colab_type": "code",
        "outputId": "82774141-a5a6-4a32-a6e3-0cfe8edc6a5b",
        "colab": {
          "base_uri": "https://localhost:8080/",
          "height": 34
        }
      },
      "source": [
        "print('Number of rows:', df.shape[0])"
      ],
      "execution_count": 9,
      "outputs": [
        {
          "output_type": "stream",
          "text": [
            "Number of rows: 1000\n"
          ],
          "name": "stdout"
        }
      ]
    },
    {
      "cell_type": "code",
      "metadata": {
        "id": "-X6A5Jmq58yu",
        "colab_type": "code",
        "outputId": "c2bb98ed-644c-4e5d-c9dc-6e5f2fd252d5",
        "colab": {
          "base_uri": "https://localhost:8080/",
          "height": 34
        }
      },
      "source": [
        "print('Number of columns:', df.shape[1])"
      ],
      "execution_count": 10,
      "outputs": [
        {
          "output_type": "stream",
          "text": [
            "Number of columns: 7\n"
          ],
          "name": "stdout"
        }
      ]
    },
    {
      "cell_type": "code",
      "metadata": {
        "id": "MMEPmC3Q6B7o",
        "colab_type": "code",
        "outputId": "20dc92a9-d602-4142-e991-787964107b1d",
        "colab": {
          "base_uri": "https://localhost:8080/",
          "height": 170
        }
      },
      "source": [
        "print('Column data types: \\n', df.dtypes)"
      ],
      "execution_count": 11,
      "outputs": [
        {
          "output_type": "stream",
          "text": [
            "Column data types: \n",
            " Serial No               int64\n",
            "Date                   object\n",
            "User ID                 int64\n",
            "Product ID              int64\n",
            "Quantity Purchased      int64\n",
            "Price                 float64\n",
            "User Type              object\n",
            "dtype: object\n"
          ],
          "name": "stdout"
        }
      ]
    },
    {
      "cell_type": "code",
      "metadata": {
        "id": "u1W2uQgD6gGY",
        "colab_type": "code",
        "outputId": "77cfef53-6539-4709-d314-b1d5e9ca22bd",
        "colab": {
          "base_uri": "https://localhost:8080/",
          "height": 34
        }
      },
      "source": [
        "print('Columns with missing values:', df.columns[df.isnull().any()].tolist())"
      ],
      "execution_count": 12,
      "outputs": [
        {
          "output_type": "stream",
          "text": [
            "Columns with missing values: ['Date', 'Price']\n"
          ],
          "name": "stdout"
        }
      ]
    },
    {
      "cell_type": "code",
      "metadata": {
        "id": "TTguaQDz63EJ",
        "colab_type": "code",
        "outputId": "826142ed-f7f2-43eb-ca7c-c62ec26cb6bb",
        "colab": {
          "base_uri": "https://localhost:8080/",
          "height": 88
        }
      },
      "source": [
        "print('Number of rows with Missing values:', len(pd.isnull(df).any(1).nonzero()[0].tolist()))"
      ],
      "execution_count": 13,
      "outputs": [
        {
          "output_type": "stream",
          "text": [
            "Number of rows with Missing values: 61\n"
          ],
          "name": "stdout"
        },
        {
          "output_type": "stream",
          "text": [
            "/usr/local/lib/python3.6/dist-packages/ipykernel_launcher.py:1: FutureWarning: Series.nonzero() is deprecated and will be removed in a future version.Use Series.to_numpy().nonzero() instead\n",
            "  \"\"\"Entry point for launching an IPython kernel.\n"
          ],
          "name": "stderr"
        }
      ]
    },
    {
      "cell_type": "markdown",
      "metadata": {
        "id": "2z-f4Kvc7wP6",
        "colab_type": "text"
      },
      "source": [
        "**General Stats**"
      ]
    },
    {
      "cell_type": "code",
      "metadata": {
        "id": "IfMoaCwc7OJL",
        "colab_type": "code",
        "outputId": "7767c522-f7cf-4557-9bb9-9775be71add1",
        "colab": {
          "base_uri": "https://localhost:8080/",
          "height": 238
        }
      },
      "source": [
        "print(df.info())"
      ],
      "execution_count": 14,
      "outputs": [
        {
          "output_type": "stream",
          "text": [
            "<class 'pandas.core.frame.DataFrame'>\n",
            "RangeIndex: 1000 entries, 0 to 999\n",
            "Data columns (total 7 columns):\n",
            "Serial No             1000 non-null int64\n",
            "Date                  969 non-null object\n",
            "User ID               1000 non-null int64\n",
            "Product ID            1000 non-null int64\n",
            "Quantity Purchased    1000 non-null int64\n",
            "Price                 969 non-null float64\n",
            "User Type             1000 non-null object\n",
            "dtypes: float64(1), int64(4), object(2)\n",
            "memory usage: 54.8+ KB\n",
            "None\n"
          ],
          "name": "stdout"
        }
      ]
    },
    {
      "cell_type": "code",
      "metadata": {
        "id": "3st26Fr37y7N",
        "colab_type": "code",
        "outputId": "6e22777f-49b7-49ab-d92b-dd0acb9be6fb",
        "colab": {
          "base_uri": "https://localhost:8080/",
          "height": 170
        }
      },
      "source": [
        "print(df.describe())"
      ],
      "execution_count": 15,
      "outputs": [
        {
          "output_type": "stream",
          "text": [
            "         Serial No      User ID   Product ID  Quantity Purchased        Price\n",
            "count  1000.000000  1000.000000  1000.000000         1000.000000   969.000000\n",
            "mean   1451.083000  5451.383000   551.211000           21.220000  2334.919876\n",
            "std     385.701581   355.125691   268.790924           12.051757  1596.970973\n",
            "min      -1.000000  -101.000000     0.000000            1.000000     0.280000\n",
            "25%    1221.750000  5214.000000   325.000000           10.750000  1097.220000\n",
            "50%    1482.000000  5430.000000   515.000000           22.000000  2119.880000\n",
            "75%    1741.250000  5735.000000   775.250000           32.000000  3371.640000\n",
            "max    1999.000000  6000.000000  1095.000000           41.000000  8541.130000\n"
          ],
          "name": "stdout"
        }
      ]
    },
    {
      "cell_type": "markdown",
      "metadata": {
        "id": "qsAkyKOf8nf5",
        "colab_type": "text"
      },
      "source": [
        " ### **Standardize Columns**"
      ]
    },
    {
      "cell_type": "code",
      "metadata": {
        "id": "SYjIb3aZ8qHW",
        "colab_type": "code",
        "outputId": "776891c3-94b7-45da-ae75-b46fe28f0fc1",
        "colab": {
          "base_uri": "https://localhost:8080/",
          "height": 51
        }
      },
      "source": [
        "# list all columns\n",
        "print(\"Dataframe columns>\\n{}\".format(df.columns.tolist()))"
      ],
      "execution_count": 16,
      "outputs": [
        {
          "output_type": "stream",
          "text": [
            "Dataframe columns>\n",
            "['Serial No', 'Date', 'User ID', 'Product ID', 'Quantity Purchased', 'Price', 'User Type']\n"
          ],
          "name": "stdout"
        }
      ]
    },
    {
      "cell_type": "code",
      "metadata": {
        "id": "YPl6XX-909BB",
        "colab_type": "code",
        "colab": {}
      },
      "source": [
        "# change all columns names to lowercase-snakecased column names in python\n",
        "def cleanup_column_names(df, rename_dict={}, do_inplace=True):\n",
        "  if not rename_dict:\n",
        "    return df.rename(columns={col:col.lower().replace(' ','_') for col in df.columns.values.tolist()}, inplace=True)\n",
        "  else:\n",
        "    return df.rename(columns = rename_dict, inplace=do_inplace)"
      ],
      "execution_count": 0,
      "outputs": []
    },
    {
      "cell_type": "code",
      "metadata": {
        "id": "CTW5D26I2LIt",
        "colab_type": "code",
        "colab": {}
      },
      "source": [
        "cleanup_column_names(df)"
      ],
      "execution_count": 0,
      "outputs": []
    },
    {
      "cell_type": "code",
      "metadata": {
        "id": "hCj7l2sD2Na-",
        "colab_type": "code",
        "outputId": "1d49bbb3-f32b-4b28-9946-bf9be921251e",
        "colab": {
          "base_uri": "https://localhost:8080/",
          "height": 51
        }
      },
      "source": [
        "print(\"Dataframe columns:\\n{}\".format(df.columns.tolist()))"
      ],
      "execution_count": 19,
      "outputs": [
        {
          "output_type": "stream",
          "text": [
            "Dataframe columns:\n",
            "['serial_no', 'date', 'user_id', 'product_id', 'quantity_purchased', 'price', 'user_type']\n"
          ],
          "name": "stdout"
        }
      ]
    },
    {
      "cell_type": "markdown",
      "metadata": {
        "id": "K8_fy1Xx2197",
        "colab_type": "text"
      },
      "source": [
        "### **Basic Manipulation**"
      ]
    },
    {
      "cell_type": "markdown",
      "metadata": {
        "id": "_maIa-yr3NJF",
        "colab_type": "text"
      },
      "source": [
        "**Sort basic specific atributes**"
      ]
    },
    {
      "cell_type": "code",
      "metadata": {
        "id": "gvvymgMk2Ve4",
        "colab_type": "code",
        "outputId": "b5d67703-1a31-480f-c0ec-fce5fa85f089",
        "colab": {
          "base_uri": "https://localhost:8080/",
          "height": 204
        }
      },
      "source": [
        "# Ascending for serial_no and descending for price\n",
        "display(df.sort_values(['serial_no','price'], ascending=[True, False]).head())"
      ],
      "execution_count": 20,
      "outputs": [
        {
          "output_type": "display_data",
          "data": {
            "text/html": [
              "<div>\n",
              "<style scoped>\n",
              "    .dataframe tbody tr th:only-of-type {\n",
              "        vertical-align: middle;\n",
              "    }\n",
              "\n",
              "    .dataframe tbody tr th {\n",
              "        vertical-align: top;\n",
              "    }\n",
              "\n",
              "    .dataframe thead th {\n",
              "        text-align: right;\n",
              "    }\n",
              "</style>\n",
              "<table border=\"1\" class=\"dataframe\">\n",
              "  <thead>\n",
              "    <tr style=\"text-align: right;\">\n",
              "      <th></th>\n",
              "      <th>serial_no</th>\n",
              "      <th>date</th>\n",
              "      <th>user_id</th>\n",
              "      <th>product_id</th>\n",
              "      <th>quantity_purchased</th>\n",
              "      <th>price</th>\n",
              "      <th>user_type</th>\n",
              "    </tr>\n",
              "  </thead>\n",
              "  <tbody>\n",
              "    <tr>\n",
              "      <th>738</th>\n",
              "      <td>-1</td>\n",
              "      <td>2016-01-18</td>\n",
              "      <td>5398</td>\n",
              "      <td>247</td>\n",
              "      <td>22</td>\n",
              "      <td>8541.13</td>\n",
              "      <td>c</td>\n",
              "    </tr>\n",
              "    <tr>\n",
              "      <th>539</th>\n",
              "      <td>-1</td>\n",
              "      <td>2016-01-26</td>\n",
              "      <td>5375</td>\n",
              "      <td>795</td>\n",
              "      <td>3</td>\n",
              "      <td>6960.59</td>\n",
              "      <td>b</td>\n",
              "    </tr>\n",
              "    <tr>\n",
              "      <th>563</th>\n",
              "      <td>-1</td>\n",
              "      <td>2016-01-16</td>\n",
              "      <td>5606</td>\n",
              "      <td>298</td>\n",
              "      <td>15</td>\n",
              "      <td>6005.74</td>\n",
              "      <td>b</td>\n",
              "    </tr>\n",
              "    <tr>\n",
              "      <th>658</th>\n",
              "      <td>-1</td>\n",
              "      <td>2016-01-14</td>\n",
              "      <td>5009</td>\n",
              "      <td>330</td>\n",
              "      <td>17</td>\n",
              "      <td>5422.24</td>\n",
              "      <td>c</td>\n",
              "    </tr>\n",
              "    <tr>\n",
              "      <th>975</th>\n",
              "      <td>-1</td>\n",
              "      <td>2016-01-15</td>\n",
              "      <td>5863</td>\n",
              "      <td>608</td>\n",
              "      <td>9</td>\n",
              "      <td>4811.86</td>\n",
              "      <td>b</td>\n",
              "    </tr>\n",
              "  </tbody>\n",
              "</table>\n",
              "</div>"
            ],
            "text/plain": [
              "     serial_no        date  user_id  ...  quantity_purchased    price  user_type\n",
              "738         -1  2016-01-18     5398  ...                  22  8541.13          c\n",
              "539         -1  2016-01-26     5375  ...                   3  6960.59          b\n",
              "563         -1  2016-01-16     5606  ...                  15  6005.74          b\n",
              "658         -1  2016-01-14     5009  ...                  17  5422.24          c\n",
              "975         -1  2016-01-15     5863  ...                   9  4811.86          b\n",
              "\n",
              "[5 rows x 7 columns]"
            ]
          },
          "metadata": {
            "tags": []
          }
        }
      ]
    },
    {
      "cell_type": "markdown",
      "metadata": {
        "id": "v-JjGa5F4UXO",
        "colab_type": "text"
      },
      "source": [
        "**Reorder columns**"
      ]
    },
    {
      "cell_type": "code",
      "metadata": {
        "id": "PooDZceV249k",
        "colab_type": "code",
        "outputId": "7a6248b9-8938-4eb7-9f9d-eb607c62acc9",
        "colab": {
          "base_uri": "https://localhost:8080/",
          "height": 204
        }
      },
      "source": [
        "display(df[['serial_no','date','user_id','user_type',\n",
        "              'product_id','quantity_purchased','price']].head())"
      ],
      "execution_count": 21,
      "outputs": [
        {
          "output_type": "display_data",
          "data": {
            "text/html": [
              "<div>\n",
              "<style scoped>\n",
              "    .dataframe tbody tr th:only-of-type {\n",
              "        vertical-align: middle;\n",
              "    }\n",
              "\n",
              "    .dataframe tbody tr th {\n",
              "        vertical-align: top;\n",
              "    }\n",
              "\n",
              "    .dataframe thead th {\n",
              "        text-align: right;\n",
              "    }\n",
              "</style>\n",
              "<table border=\"1\" class=\"dataframe\">\n",
              "  <thead>\n",
              "    <tr style=\"text-align: right;\">\n",
              "      <th></th>\n",
              "      <th>serial_no</th>\n",
              "      <th>date</th>\n",
              "      <th>user_id</th>\n",
              "      <th>user_type</th>\n",
              "      <th>product_id</th>\n",
              "      <th>quantity_purchased</th>\n",
              "      <th>price</th>\n",
              "    </tr>\n",
              "  </thead>\n",
              "  <tbody>\n",
              "    <tr>\n",
              "      <th>0</th>\n",
              "      <td>1000</td>\n",
              "      <td>NaN</td>\n",
              "      <td>-101</td>\n",
              "      <td>n</td>\n",
              "      <td>0</td>\n",
              "      <td>12</td>\n",
              "      <td>1379.22</td>\n",
              "    </tr>\n",
              "    <tr>\n",
              "      <th>1</th>\n",
              "      <td>1001</td>\n",
              "      <td>2016-01-15</td>\n",
              "      <td>5288</td>\n",
              "      <td>n</td>\n",
              "      <td>304</td>\n",
              "      <td>5</td>\n",
              "      <td>4749.63</td>\n",
              "    </tr>\n",
              "    <tr>\n",
              "      <th>2</th>\n",
              "      <td>1002</td>\n",
              "      <td>2016-01-02</td>\n",
              "      <td>5563</td>\n",
              "      <td>n</td>\n",
              "      <td>478</td>\n",
              "      <td>41</td>\n",
              "      <td>1374.87</td>\n",
              "    </tr>\n",
              "    <tr>\n",
              "      <th>3</th>\n",
              "      <td>1003</td>\n",
              "      <td>2016-01-16</td>\n",
              "      <td>5772</td>\n",
              "      <td>n</td>\n",
              "      <td>999</td>\n",
              "      <td>2</td>\n",
              "      <td>4936.43</td>\n",
              "    </tr>\n",
              "    <tr>\n",
              "      <th>4</th>\n",
              "      <td>1004</td>\n",
              "      <td>2016-04-02</td>\n",
              "      <td>5928</td>\n",
              "      <td>n</td>\n",
              "      <td>769</td>\n",
              "      <td>9</td>\n",
              "      <td>651.20</td>\n",
              "    </tr>\n",
              "  </tbody>\n",
              "</table>\n",
              "</div>"
            ],
            "text/plain": [
              "   serial_no        date  user_id  ... product_id  quantity_purchased    price\n",
              "0       1000         NaN     -101  ...          0                  12  1379.22\n",
              "1       1001  2016-01-15     5288  ...        304                   5  4749.63\n",
              "2       1002  2016-01-02     5563  ...        478                  41  1374.87\n",
              "3       1003  2016-01-16     5772  ...        999                   2  4936.43\n",
              "4       1004  2016-04-02     5928  ...        769                   9   651.20\n",
              "\n",
              "[5 rows x 7 columns]"
            ]
          },
          "metadata": {
            "tags": []
          }
        }
      ]
    },
    {
      "cell_type": "markdown",
      "metadata": {
        "id": "Ylto49Ok5YXw",
        "colab_type": "text"
      },
      "source": [
        "**Select Attributes**"
      ]
    },
    {
      "cell_type": "code",
      "metadata": {
        "id": "rP75T3ar4XYk",
        "colab_type": "code",
        "outputId": "a1a74712-1031-4539-872d-0b7bee80aba0",
        "colab": {
          "base_uri": "https://localhost:8080/",
          "height": 34
        }
      },
      "source": [
        "# Using column index print 10 values from column at index 3\n",
        "print(df.iloc[:,3].values[0:10])"
      ],
      "execution_count": 22,
      "outputs": [
        {
          "output_type": "stream",
          "text": [
            "[  0 304 478 999 769 852 738 792 523 876]\n"
          ],
          "name": "stdout"
        }
      ]
    },
    {
      "cell_type": "code",
      "metadata": {
        "id": "uV9ojrDv511d",
        "colab_type": "code",
        "outputId": "0f9b9329-807a-453f-94e9-c26ee363ce14",
        "colab": {
          "base_uri": "https://localhost:8080/",
          "height": 34
        }
      },
      "source": [
        "# Using column name print 10 values of quantity_purchased\n",
        "print(df.quantity_purchased.values[0:10])"
      ],
      "execution_count": 23,
      "outputs": [
        {
          "output_type": "stream",
          "text": [
            "[12  5 41  2  9 16 38 22 41 36]\n"
          ],
          "name": "stdout"
        }
      ]
    },
    {
      "cell_type": "code",
      "metadata": {
        "id": "_Ke19ogE6RJT",
        "colab_type": "code",
        "outputId": "93c386c3-d4aa-4a49-b2c0-4c67721dc27e",
        "colab": {
          "base_uri": "https://localhost:8080/",
          "height": 51
        }
      },
      "source": [
        "# Using datatype, print 10 values of columns with data type float\n",
        "print(df.select_dtypes(include=['float64']).values[:10,0])"
      ],
      "execution_count": 24,
      "outputs": [
        {
          "output_type": "stream",
          "text": [
            "[1379.22 4749.63 1374.87 4936.43  651.2  1654.07 2345.68  350.46 3240.16\n",
            " 1401.46]\n"
          ],
          "name": "stdout"
        }
      ]
    },
    {
      "cell_type": "markdown",
      "metadata": {
        "id": "laQ-JAet7dh1",
        "colab_type": "text"
      },
      "source": [
        "**Select rows**"
      ]
    },
    {
      "cell_type": "code",
      "metadata": {
        "id": "l1JEkanb7XXP",
        "colab_type": "code",
        "outputId": "b2d9fd8c-173e-4a96-a418-55083ed20048",
        "colab": {
          "base_uri": "https://localhost:8080/",
          "height": 142
        }
      },
      "source": [
        "# using row index\n",
        "display(df.iloc[[10,501,20]])"
      ],
      "execution_count": 25,
      "outputs": [
        {
          "output_type": "display_data",
          "data": {
            "text/html": [
              "<div>\n",
              "<style scoped>\n",
              "    .dataframe tbody tr th:only-of-type {\n",
              "        vertical-align: middle;\n",
              "    }\n",
              "\n",
              "    .dataframe tbody tr th {\n",
              "        vertical-align: top;\n",
              "    }\n",
              "\n",
              "    .dataframe thead th {\n",
              "        text-align: right;\n",
              "    }\n",
              "</style>\n",
              "<table border=\"1\" class=\"dataframe\">\n",
              "  <thead>\n",
              "    <tr style=\"text-align: right;\">\n",
              "      <th></th>\n",
              "      <th>serial_no</th>\n",
              "      <th>date</th>\n",
              "      <th>user_id</th>\n",
              "      <th>product_id</th>\n",
              "      <th>quantity_purchased</th>\n",
              "      <th>price</th>\n",
              "      <th>user_type</th>\n",
              "    </tr>\n",
              "  </thead>\n",
              "  <tbody>\n",
              "    <tr>\n",
              "      <th>10</th>\n",
              "      <td>1010</td>\n",
              "      <td>NaN</td>\n",
              "      <td>5870</td>\n",
              "      <td>186</td>\n",
              "      <td>31</td>\n",
              "      <td>4999.07</td>\n",
              "      <td>a</td>\n",
              "    </tr>\n",
              "    <tr>\n",
              "      <th>501</th>\n",
              "      <td>1501</td>\n",
              "      <td>2016-03-02</td>\n",
              "      <td>5288</td>\n",
              "      <td>304</td>\n",
              "      <td>20</td>\n",
              "      <td>2668.83</td>\n",
              "      <td>d</td>\n",
              "    </tr>\n",
              "    <tr>\n",
              "      <th>20</th>\n",
              "      <td>1020</td>\n",
              "      <td>NaN</td>\n",
              "      <td>5899</td>\n",
              "      <td>423</td>\n",
              "      <td>1</td>\n",
              "      <td>977.11</td>\n",
              "      <td>n</td>\n",
              "    </tr>\n",
              "  </tbody>\n",
              "</table>\n",
              "</div>"
            ],
            "text/plain": [
              "     serial_no        date  user_id  ...  quantity_purchased    price  user_type\n",
              "10        1010         NaN     5870  ...                  31  4999.07          a\n",
              "501       1501  2016-03-02     5288  ...                  20  2668.83          d\n",
              "20        1020         NaN     5899  ...                   1   977.11          n\n",
              "\n",
              "[3 rows x 7 columns]"
            ]
          },
          "metadata": {
            "tags": []
          }
        }
      ]
    },
    {
      "cell_type": "code",
      "metadata": {
        "id": "EaNvMfw07fgk",
        "colab_type": "code",
        "outputId": "23d9be23-f16b-4bd2-d0ca-5e7afb7451e9",
        "colab": {
          "base_uri": "https://localhost:8080/",
          "height": 204
        }
      },
      "source": [
        "# excluding specific rows\n",
        "display(df.drop([0,24,51], axis=0).head())"
      ],
      "execution_count": 26,
      "outputs": [
        {
          "output_type": "display_data",
          "data": {
            "text/html": [
              "<div>\n",
              "<style scoped>\n",
              "    .dataframe tbody tr th:only-of-type {\n",
              "        vertical-align: middle;\n",
              "    }\n",
              "\n",
              "    .dataframe tbody tr th {\n",
              "        vertical-align: top;\n",
              "    }\n",
              "\n",
              "    .dataframe thead th {\n",
              "        text-align: right;\n",
              "    }\n",
              "</style>\n",
              "<table border=\"1\" class=\"dataframe\">\n",
              "  <thead>\n",
              "    <tr style=\"text-align: right;\">\n",
              "      <th></th>\n",
              "      <th>serial_no</th>\n",
              "      <th>date</th>\n",
              "      <th>user_id</th>\n",
              "      <th>product_id</th>\n",
              "      <th>quantity_purchased</th>\n",
              "      <th>price</th>\n",
              "      <th>user_type</th>\n",
              "    </tr>\n",
              "  </thead>\n",
              "  <tbody>\n",
              "    <tr>\n",
              "      <th>1</th>\n",
              "      <td>1001</td>\n",
              "      <td>2016-01-15</td>\n",
              "      <td>5288</td>\n",
              "      <td>304</td>\n",
              "      <td>5</td>\n",
              "      <td>4749.63</td>\n",
              "      <td>n</td>\n",
              "    </tr>\n",
              "    <tr>\n",
              "      <th>2</th>\n",
              "      <td>1002</td>\n",
              "      <td>2016-01-02</td>\n",
              "      <td>5563</td>\n",
              "      <td>478</td>\n",
              "      <td>41</td>\n",
              "      <td>1374.87</td>\n",
              "      <td>n</td>\n",
              "    </tr>\n",
              "    <tr>\n",
              "      <th>3</th>\n",
              "      <td>1003</td>\n",
              "      <td>2016-01-16</td>\n",
              "      <td>5772</td>\n",
              "      <td>999</td>\n",
              "      <td>2</td>\n",
              "      <td>4936.43</td>\n",
              "      <td>n</td>\n",
              "    </tr>\n",
              "    <tr>\n",
              "      <th>4</th>\n",
              "      <td>1004</td>\n",
              "      <td>2016-04-02</td>\n",
              "      <td>5928</td>\n",
              "      <td>769</td>\n",
              "      <td>9</td>\n",
              "      <td>651.20</td>\n",
              "      <td>n</td>\n",
              "    </tr>\n",
              "    <tr>\n",
              "      <th>5</th>\n",
              "      <td>1005</td>\n",
              "      <td>2016-06-02</td>\n",
              "      <td>5171</td>\n",
              "      <td>852</td>\n",
              "      <td>16</td>\n",
              "      <td>1654.07</td>\n",
              "      <td>n</td>\n",
              "    </tr>\n",
              "  </tbody>\n",
              "</table>\n",
              "</div>"
            ],
            "text/plain": [
              "   serial_no        date  user_id  ...  quantity_purchased    price  user_type\n",
              "1       1001  2016-01-15     5288  ...                   5  4749.63          n\n",
              "2       1002  2016-01-02     5563  ...                  41  1374.87          n\n",
              "3       1003  2016-01-16     5772  ...                   2  4936.43          n\n",
              "4       1004  2016-04-02     5928  ...                   9   651.20          n\n",
              "5       1005  2016-06-02     5171  ...                  16  1654.07          n\n",
              "\n",
              "[5 rows x 7 columns]"
            ]
          },
          "metadata": {
            "tags": []
          }
        }
      ]
    },
    {
      "cell_type": "code",
      "metadata": {
        "id": "vr_Rc5ZP8Pnb",
        "colab_type": "code",
        "outputId": "10bbd8e9-0527-453d-ef81-2efb195a23c9",
        "colab": {
          "base_uri": "https://localhost:8080/",
          "height": 204
        }
      },
      "source": [
        "# Conditional filtering\n",
        "# Quantity_purchased > 25\n",
        "display(df[df.quantity_purchased>25].head())"
      ],
      "execution_count": 27,
      "outputs": [
        {
          "output_type": "display_data",
          "data": {
            "text/html": [
              "<div>\n",
              "<style scoped>\n",
              "    .dataframe tbody tr th:only-of-type {\n",
              "        vertical-align: middle;\n",
              "    }\n",
              "\n",
              "    .dataframe tbody tr th {\n",
              "        vertical-align: top;\n",
              "    }\n",
              "\n",
              "    .dataframe thead th {\n",
              "        text-align: right;\n",
              "    }\n",
              "</style>\n",
              "<table border=\"1\" class=\"dataframe\">\n",
              "  <thead>\n",
              "    <tr style=\"text-align: right;\">\n",
              "      <th></th>\n",
              "      <th>serial_no</th>\n",
              "      <th>date</th>\n",
              "      <th>user_id</th>\n",
              "      <th>product_id</th>\n",
              "      <th>quantity_purchased</th>\n",
              "      <th>price</th>\n",
              "      <th>user_type</th>\n",
              "    </tr>\n",
              "  </thead>\n",
              "  <tbody>\n",
              "    <tr>\n",
              "      <th>2</th>\n",
              "      <td>1002</td>\n",
              "      <td>2016-01-02</td>\n",
              "      <td>5563</td>\n",
              "      <td>478</td>\n",
              "      <td>41</td>\n",
              "      <td>1374.87</td>\n",
              "      <td>n</td>\n",
              "    </tr>\n",
              "    <tr>\n",
              "      <th>6</th>\n",
              "      <td>1006</td>\n",
              "      <td>NaN</td>\n",
              "      <td>5684</td>\n",
              "      <td>738</td>\n",
              "      <td>38</td>\n",
              "      <td>2345.68</td>\n",
              "      <td>n</td>\n",
              "    </tr>\n",
              "    <tr>\n",
              "      <th>8</th>\n",
              "      <td>1008</td>\n",
              "      <td>NaN</td>\n",
              "      <td>5220</td>\n",
              "      <td>523</td>\n",
              "      <td>41</td>\n",
              "      <td>3240.16</td>\n",
              "      <td>n</td>\n",
              "    </tr>\n",
              "    <tr>\n",
              "      <th>9</th>\n",
              "      <td>1009</td>\n",
              "      <td>NaN</td>\n",
              "      <td>5011</td>\n",
              "      <td>876</td>\n",
              "      <td>36</td>\n",
              "      <td>1401.46</td>\n",
              "      <td>a</td>\n",
              "    </tr>\n",
              "    <tr>\n",
              "      <th>10</th>\n",
              "      <td>1010</td>\n",
              "      <td>NaN</td>\n",
              "      <td>5870</td>\n",
              "      <td>186</td>\n",
              "      <td>31</td>\n",
              "      <td>4999.07</td>\n",
              "      <td>a</td>\n",
              "    </tr>\n",
              "  </tbody>\n",
              "</table>\n",
              "</div>"
            ],
            "text/plain": [
              "    serial_no        date  user_id  ...  quantity_purchased    price  user_type\n",
              "2        1002  2016-01-02     5563  ...                  41  1374.87          n\n",
              "6        1006         NaN     5684  ...                  38  2345.68          n\n",
              "8        1008         NaN     5220  ...                  41  3240.16          n\n",
              "9        1009         NaN     5011  ...                  36  1401.46          a\n",
              "10       1010         NaN     5870  ...                  31  4999.07          a\n",
              "\n",
              "[5 rows x 7 columns]"
            ]
          },
          "metadata": {
            "tags": []
          }
        }
      ]
    },
    {
      "cell_type": "code",
      "metadata": {
        "id": "OZ9C1rK0-sk-",
        "colab_type": "code",
        "outputId": "dab2caf1-6135-4db4-a490-cf88e8b1eecc",
        "colab": {
          "base_uri": "https://localhost:8080/",
          "height": 204
        }
      },
      "source": [
        "# Offset from top\n",
        "display(df[100:].head())"
      ],
      "execution_count": 28,
      "outputs": [
        {
          "output_type": "display_data",
          "data": {
            "text/html": [
              "<div>\n",
              "<style scoped>\n",
              "    .dataframe tbody tr th:only-of-type {\n",
              "        vertical-align: middle;\n",
              "    }\n",
              "\n",
              "    .dataframe tbody tr th {\n",
              "        vertical-align: top;\n",
              "    }\n",
              "\n",
              "    .dataframe thead th {\n",
              "        text-align: right;\n",
              "    }\n",
              "</style>\n",
              "<table border=\"1\" class=\"dataframe\">\n",
              "  <thead>\n",
              "    <tr style=\"text-align: right;\">\n",
              "      <th></th>\n",
              "      <th>serial_no</th>\n",
              "      <th>date</th>\n",
              "      <th>user_id</th>\n",
              "      <th>product_id</th>\n",
              "      <th>quantity_purchased</th>\n",
              "      <th>price</th>\n",
              "      <th>user_type</th>\n",
              "    </tr>\n",
              "  </thead>\n",
              "  <tbody>\n",
              "    <tr>\n",
              "      <th>100</th>\n",
              "      <td>1100</td>\n",
              "      <td>2016-01-19</td>\n",
              "      <td>5806</td>\n",
              "      <td>429</td>\n",
              "      <td>28</td>\n",
              "      <td>2715.85</td>\n",
              "      <td>c</td>\n",
              "    </tr>\n",
              "    <tr>\n",
              "      <th>101</th>\n",
              "      <td>1101</td>\n",
              "      <td>2016-01-28</td>\n",
              "      <td>5288</td>\n",
              "      <td>304</td>\n",
              "      <td>28</td>\n",
              "      <td>3484.24</td>\n",
              "      <td>c</td>\n",
              "    </tr>\n",
              "    <tr>\n",
              "      <th>102</th>\n",
              "      <td>1102</td>\n",
              "      <td>2016-02-02</td>\n",
              "      <td>5563</td>\n",
              "      <td>478</td>\n",
              "      <td>32</td>\n",
              "      <td>1262.40</td>\n",
              "      <td>d</td>\n",
              "    </tr>\n",
              "    <tr>\n",
              "      <th>103</th>\n",
              "      <td>1103</td>\n",
              "      <td>2016-09-01</td>\n",
              "      <td>5772</td>\n",
              "      <td>999</td>\n",
              "      <td>27</td>\n",
              "      <td>49.54</td>\n",
              "      <td>b</td>\n",
              "    </tr>\n",
              "    <tr>\n",
              "      <th>104</th>\n",
              "      <td>1104</td>\n",
              "      <td>2016-02-02</td>\n",
              "      <td>5928</td>\n",
              "      <td>769</td>\n",
              "      <td>27</td>\n",
              "      <td>4365.00</td>\n",
              "      <td>c</td>\n",
              "    </tr>\n",
              "  </tbody>\n",
              "</table>\n",
              "</div>"
            ],
            "text/plain": [
              "     serial_no        date  user_id  ...  quantity_purchased    price  user_type\n",
              "100       1100  2016-01-19     5806  ...                  28  2715.85          c\n",
              "101       1101  2016-01-28     5288  ...                  28  3484.24          c\n",
              "102       1102  2016-02-02     5563  ...                  32  1262.40          d\n",
              "103       1103  2016-09-01     5772  ...                  27    49.54          b\n",
              "104       1104  2016-02-02     5928  ...                  27  4365.00          c\n",
              "\n",
              "[5 rows x 7 columns]"
            ]
          },
          "metadata": {
            "tags": []
          }
        }
      ]
    },
    {
      "cell_type": "code",
      "metadata": {
        "id": "IOEDhyk8-8_Q",
        "colab_type": "code",
        "outputId": "fa21c991-b6c5-46cd-b02a-98c7a9ed00f7",
        "colab": {
          "base_uri": "https://localhost:8080/",
          "height": 204
        }
      },
      "source": [
        "#offset from Bottom\n",
        "display(df[-10:].head())"
      ],
      "execution_count": 29,
      "outputs": [
        {
          "output_type": "display_data",
          "data": {
            "text/html": [
              "<div>\n",
              "<style scoped>\n",
              "    .dataframe tbody tr th:only-of-type {\n",
              "        vertical-align: middle;\n",
              "    }\n",
              "\n",
              "    .dataframe tbody tr th {\n",
              "        vertical-align: top;\n",
              "    }\n",
              "\n",
              "    .dataframe thead th {\n",
              "        text-align: right;\n",
              "    }\n",
              "</style>\n",
              "<table border=\"1\" class=\"dataframe\">\n",
              "  <thead>\n",
              "    <tr style=\"text-align: right;\">\n",
              "      <th></th>\n",
              "      <th>serial_no</th>\n",
              "      <th>date</th>\n",
              "      <th>user_id</th>\n",
              "      <th>product_id</th>\n",
              "      <th>quantity_purchased</th>\n",
              "      <th>price</th>\n",
              "      <th>user_type</th>\n",
              "    </tr>\n",
              "  </thead>\n",
              "  <tbody>\n",
              "    <tr>\n",
              "      <th>990</th>\n",
              "      <td>1990</td>\n",
              "      <td>2016-06-02</td>\n",
              "      <td>5370</td>\n",
              "      <td>448</td>\n",
              "      <td>2</td>\n",
              "      <td>2023.46</td>\n",
              "      <td>b</td>\n",
              "    </tr>\n",
              "    <tr>\n",
              "      <th>991</th>\n",
              "      <td>1991</td>\n",
              "      <td>2016-01-19</td>\n",
              "      <td>5324</td>\n",
              "      <td>422</td>\n",
              "      <td>4</td>\n",
              "      <td>712.27</td>\n",
              "      <td>c</td>\n",
              "    </tr>\n",
              "    <tr>\n",
              "      <th>992</th>\n",
              "      <td>1992</td>\n",
              "      <td>2016-01-21</td>\n",
              "      <td>5873</td>\n",
              "      <td>825</td>\n",
              "      <td>11</td>\n",
              "      <td>1222.19</td>\n",
              "      <td>a</td>\n",
              "    </tr>\n",
              "    <tr>\n",
              "      <th>993</th>\n",
              "      <td>1993</td>\n",
              "      <td>2016-03-01</td>\n",
              "      <td>5515</td>\n",
              "      <td>167</td>\n",
              "      <td>6</td>\n",
              "      <td>2360.77</td>\n",
              "      <td>b</td>\n",
              "    </tr>\n",
              "    <tr>\n",
              "      <th>994</th>\n",
              "      <td>1994</td>\n",
              "      <td>2016-03-01</td>\n",
              "      <td>5407</td>\n",
              "      <td>886</td>\n",
              "      <td>17</td>\n",
              "      <td>1097.22</td>\n",
              "      <td>a</td>\n",
              "    </tr>\n",
              "  </tbody>\n",
              "</table>\n",
              "</div>"
            ],
            "text/plain": [
              "     serial_no        date  user_id  ...  quantity_purchased    price  user_type\n",
              "990       1990  2016-06-02     5370  ...                   2  2023.46          b\n",
              "991       1991  2016-01-19     5324  ...                   4   712.27          c\n",
              "992       1992  2016-01-21     5873  ...                  11  1222.19          a\n",
              "993       1993  2016-03-01     5515  ...                   6  2360.77          b\n",
              "994       1994  2016-03-01     5407  ...                  17  1097.22          a\n",
              "\n",
              "[5 rows x 7 columns]"
            ]
          },
          "metadata": {
            "tags": []
          }
        }
      ]
    },
    {
      "cell_type": "markdown",
      "metadata": {
        "id": "uNI6OaWU_ZTp",
        "colab_type": "text"
      },
      "source": [
        "**Type casting**"
      ]
    },
    {
      "cell_type": "code",
      "metadata": {
        "id": "E1q_WlGr_W-0",
        "colab_type": "code",
        "outputId": "d5b8e69d-d5d7-4a34-a764-0ee5fd0e1aeb",
        "colab": {
          "base_uri": "https://localhost:8080/",
          "height": 153
        }
      },
      "source": [
        "# existing datatypes\n",
        "df.dtypes"
      ],
      "execution_count": 30,
      "outputs": [
        {
          "output_type": "execute_result",
          "data": {
            "text/plain": [
              "serial_no               int64\n",
              "date                   object\n",
              "user_id                 int64\n",
              "product_id              int64\n",
              "quantity_purchased      int64\n",
              "price                 float64\n",
              "user_type              object\n",
              "dtype: object"
            ]
          },
          "metadata": {
            "tags": []
          },
          "execution_count": 30
        }
      ]
    },
    {
      "cell_type": "code",
      "metadata": {
        "id": "0LaYOO9k_c-O",
        "colab_type": "code",
        "outputId": "957ce12a-8845-440d-82da-8bf65ae64065",
        "colab": {
          "base_uri": "https://localhost:8080/",
          "height": 153
        }
      },
      "source": [
        "# set datatime as dtype for date column\n",
        "df['date'] = pd.to_datetime(df.date)\n",
        "print(df.dtypes)"
      ],
      "execution_count": 31,
      "outputs": [
        {
          "output_type": "stream",
          "text": [
            "serial_no                      int64\n",
            "date                  datetime64[ns]\n",
            "user_id                        int64\n",
            "product_id                     int64\n",
            "quantity_purchased             int64\n",
            "price                        float64\n",
            "user_type                     object\n",
            "dtype: object\n"
          ],
          "name": "stdout"
        }
      ]
    },
    {
      "cell_type": "markdown",
      "metadata": {
        "id": "QlyU6IXOBFKu",
        "colab_type": "text"
      },
      "source": [
        "**Map/Apply Functionality**"
      ]
    },
    {
      "cell_type": "code",
      "metadata": {
        "id": "b3fbU3NhA42u",
        "colab_type": "code",
        "colab": {}
      },
      "source": [
        "def expand_user_type(u_type):\n",
        "  if u_type in ['a','b']:\n",
        "    return 'new'\n",
        "  elif u_type == 'c':\n",
        "    return 'existing'\n",
        "  elif u_type == 'd':\n",
        "    return 'loyal_existing'\n",
        "  else:\n",
        "    return 'error'"
      ],
      "execution_count": 0,
      "outputs": []
    },
    {
      "cell_type": "code",
      "metadata": {
        "id": "D7SF8SDZBM2K",
        "colab_type": "code",
        "outputId": "a8ea75b5-9548-4f48-bd10-bc2a673255fc",
        "colab": {
          "base_uri": "https://localhost:8080/",
          "height": 309
        }
      },
      "source": [
        "# Map user Type to user class\n",
        "df['user_class'] = df['user_type'].map(expand_user_type)\n",
        "display(df.tail())"
      ],
      "execution_count": 38,
      "outputs": [
        {
          "output_type": "display_data",
          "data": {
            "text/html": [
              "<div>\n",
              "<style scoped>\n",
              "    .dataframe tbody tr th:only-of-type {\n",
              "        vertical-align: middle;\n",
              "    }\n",
              "\n",
              "    .dataframe tbody tr th {\n",
              "        vertical-align: top;\n",
              "    }\n",
              "\n",
              "    .dataframe thead th {\n",
              "        text-align: right;\n",
              "    }\n",
              "</style>\n",
              "<table border=\"1\" class=\"dataframe\">\n",
              "  <thead>\n",
              "    <tr style=\"text-align: right;\">\n",
              "      <th></th>\n",
              "      <th>serial_no</th>\n",
              "      <th>date</th>\n",
              "      <th>user_id</th>\n",
              "      <th>product_id</th>\n",
              "      <th>quantity_purchased</th>\n",
              "      <th>price</th>\n",
              "      <th>user_type</th>\n",
              "      <th>user_class</th>\n",
              "      <th>purchase_week</th>\n",
              "    </tr>\n",
              "  </thead>\n",
              "  <tbody>\n",
              "    <tr>\n",
              "      <th>995</th>\n",
              "      <td>1995</td>\n",
              "      <td>2016-05-01</td>\n",
              "      <td>5488</td>\n",
              "      <td>325</td>\n",
              "      <td>40</td>\n",
              "      <td>2869.80</td>\n",
              "      <td>a</td>\n",
              "      <td>new</td>\n",
              "      <td>17</td>\n",
              "    </tr>\n",
              "    <tr>\n",
              "      <th>996</th>\n",
              "      <td>1996</td>\n",
              "      <td>2016-01-29</td>\n",
              "      <td>5258</td>\n",
              "      <td>390</td>\n",
              "      <td>9</td>\n",
              "      <td>2636.31</td>\n",
              "      <td>b</td>\n",
              "      <td>new</td>\n",
              "      <td>4</td>\n",
              "    </tr>\n",
              "    <tr>\n",
              "      <th>997</th>\n",
              "      <td>1997</td>\n",
              "      <td>2016-02-02</td>\n",
              "      <td>5927</td>\n",
              "      <td>730</td>\n",
              "      <td>10</td>\n",
              "      <td>6485.87</td>\n",
              "      <td>c</td>\n",
              "      <td>existing</td>\n",
              "      <td>5</td>\n",
              "    </tr>\n",
              "    <tr>\n",
              "      <th>998</th>\n",
              "      <td>1998</td>\n",
              "      <td>2016-01-17</td>\n",
              "      <td>5376</td>\n",
              "      <td>717</td>\n",
              "      <td>34</td>\n",
              "      <td>NaN</td>\n",
              "      <td>c</td>\n",
              "      <td>existing</td>\n",
              "      <td>2</td>\n",
              "    </tr>\n",
              "    <tr>\n",
              "      <th>999</th>\n",
              "      <td>1999</td>\n",
              "      <td>2016-10-01</td>\n",
              "      <td>5030</td>\n",
              "      <td>129</td>\n",
              "      <td>22</td>\n",
              "      <td>164.45</td>\n",
              "      <td>a</td>\n",
              "      <td>new</td>\n",
              "      <td>39</td>\n",
              "    </tr>\n",
              "  </tbody>\n",
              "</table>\n",
              "</div>"
            ],
            "text/plain": [
              "     serial_no       date  user_id  ...  user_type  user_class  purchase_week\n",
              "995       1995 2016-05-01     5488  ...          a         new             17\n",
              "996       1996 2016-01-29     5258  ...          b         new              4\n",
              "997       1997 2016-02-02     5927  ...          c    existing              5\n",
              "998       1998 2016-01-17     5376  ...          c    existing              2\n",
              "999       1999 2016-10-01     5030  ...          a         new             39\n",
              "\n",
              "[5 rows x 9 columns]"
            ]
          },
          "metadata": {
            "tags": []
          }
        }
      ]
    },
    {
      "cell_type": "code",
      "metadata": {
        "id": "-1X9Qj6jC74v",
        "colab_type": "code",
        "colab": {
          "base_uri": "https://localhost:8080/",
          "height": 119
        },
        "outputId": "f156596d-e616-4027-8238-9beba4f07ac3"
      },
      "source": [
        "# Apply: Using apply to get attribute ranges\n",
        "display(df.select_dtypes(include=[np.number]).apply(lambda x: x.max()-x.min()))"
      ],
      "execution_count": 34,
      "outputs": [
        {
          "output_type": "display_data",
          "data": {
            "text/plain": [
              "serial_no             2000.00\n",
              "user_id               6101.00\n",
              "product_id            1095.00\n",
              "quantity_purchased      40.00\n",
              "price                 8540.85\n",
              "dtype: float64"
            ]
          },
          "metadata": {
            "tags": []
          }
        }
      ]
    },
    {
      "cell_type": "code",
      "metadata": {
        "id": "dJmTRvV7lseR",
        "colab_type": "code",
        "colab": {}
      },
      "source": [
        "# Apply-Map: Extract week from date\n",
        "df['purchase_week'] = df[['date']].applymap(lambda dt: dt.week if not pd.isnull(dt.week) else 0)"
      ],
      "execution_count": 0,
      "outputs": []
    },
    {
      "cell_type": "code",
      "metadata": {
        "id": "I-1vsJgplsvE",
        "colab_type": "code",
        "colab": {
          "base_uri": "https://localhost:8080/",
          "height": 272
        },
        "outputId": "ae44aaa2-b3cd-4ab6-e10a-c87600fe065a"
      },
      "source": [
        "display(df.head())"
      ],
      "execution_count": 36,
      "outputs": [
        {
          "output_type": "display_data",
          "data": {
            "text/html": [
              "<div>\n",
              "<style scoped>\n",
              "    .dataframe tbody tr th:only-of-type {\n",
              "        vertical-align: middle;\n",
              "    }\n",
              "\n",
              "    .dataframe tbody tr th {\n",
              "        vertical-align: top;\n",
              "    }\n",
              "\n",
              "    .dataframe thead th {\n",
              "        text-align: right;\n",
              "    }\n",
              "</style>\n",
              "<table border=\"1\" class=\"dataframe\">\n",
              "  <thead>\n",
              "    <tr style=\"text-align: right;\">\n",
              "      <th></th>\n",
              "      <th>serial_no</th>\n",
              "      <th>date</th>\n",
              "      <th>user_id</th>\n",
              "      <th>product_id</th>\n",
              "      <th>quantity_purchased</th>\n",
              "      <th>price</th>\n",
              "      <th>user_type</th>\n",
              "      <th>user_class</th>\n",
              "      <th>purchase_week</th>\n",
              "    </tr>\n",
              "  </thead>\n",
              "  <tbody>\n",
              "    <tr>\n",
              "      <th>0</th>\n",
              "      <td>1000</td>\n",
              "      <td>NaT</td>\n",
              "      <td>-101</td>\n",
              "      <td>0</td>\n",
              "      <td>12</td>\n",
              "      <td>1379.22</td>\n",
              "      <td>n</td>\n",
              "      <td>error</td>\n",
              "      <td>0</td>\n",
              "    </tr>\n",
              "    <tr>\n",
              "      <th>1</th>\n",
              "      <td>1001</td>\n",
              "      <td>2016-01-15</td>\n",
              "      <td>5288</td>\n",
              "      <td>304</td>\n",
              "      <td>5</td>\n",
              "      <td>4749.63</td>\n",
              "      <td>n</td>\n",
              "      <td>error</td>\n",
              "      <td>2</td>\n",
              "    </tr>\n",
              "    <tr>\n",
              "      <th>2</th>\n",
              "      <td>1002</td>\n",
              "      <td>2016-01-02</td>\n",
              "      <td>5563</td>\n",
              "      <td>478</td>\n",
              "      <td>41</td>\n",
              "      <td>1374.87</td>\n",
              "      <td>n</td>\n",
              "      <td>error</td>\n",
              "      <td>53</td>\n",
              "    </tr>\n",
              "    <tr>\n",
              "      <th>3</th>\n",
              "      <td>1003</td>\n",
              "      <td>2016-01-16</td>\n",
              "      <td>5772</td>\n",
              "      <td>999</td>\n",
              "      <td>2</td>\n",
              "      <td>4936.43</td>\n",
              "      <td>n</td>\n",
              "      <td>error</td>\n",
              "      <td>2</td>\n",
              "    </tr>\n",
              "    <tr>\n",
              "      <th>4</th>\n",
              "      <td>1004</td>\n",
              "      <td>2016-04-02</td>\n",
              "      <td>5928</td>\n",
              "      <td>769</td>\n",
              "      <td>9</td>\n",
              "      <td>651.20</td>\n",
              "      <td>n</td>\n",
              "      <td>error</td>\n",
              "      <td>13</td>\n",
              "    </tr>\n",
              "  </tbody>\n",
              "</table>\n",
              "</div>"
            ],
            "text/plain": [
              "   serial_no       date  user_id  ...  user_type  user_class  purchase_week\n",
              "0       1000        NaT     -101  ...          n       error              0\n",
              "1       1001 2016-01-15     5288  ...          n       error              2\n",
              "2       1002 2016-01-02     5563  ...          n       error             53\n",
              "3       1003 2016-01-16     5772  ...          n       error              2\n",
              "4       1004 2016-04-02     5928  ...          n       error             13\n",
              "\n",
              "[5 rows x 9 columns]"
            ]
          },
          "metadata": {
            "tags": []
          }
        }
      ]
    },
    {
      "cell_type": "markdown",
      "metadata": {
        "id": "Rr0XcFkRmztZ",
        "colab_type": "text"
      },
      "source": [
        "### **Handle Missing Values**"
      ]
    },
    {
      "cell_type": "code",
      "metadata": {
        "id": "5jVl5tr1mZ8A",
        "colab_type": "code",
        "colab": {
          "base_uri": "https://localhost:8080/",
          "height": 289
        },
        "outputId": "92951f6b-f8fc-4fa6-8bcc-6b6af271a462"
      },
      "source": [
        "# Drop rows with missing values\n",
        "df_dropped = df.dropna(subset=['date'])\n",
        "display(df_dropped.head())"
      ],
      "execution_count": 40,
      "outputs": [
        {
          "output_type": "display_data",
          "data": {
            "text/html": [
              "<div>\n",
              "<style scoped>\n",
              "    .dataframe tbody tr th:only-of-type {\n",
              "        vertical-align: middle;\n",
              "    }\n",
              "\n",
              "    .dataframe tbody tr th {\n",
              "        vertical-align: top;\n",
              "    }\n",
              "\n",
              "    .dataframe thead th {\n",
              "        text-align: right;\n",
              "    }\n",
              "</style>\n",
              "<table border=\"1\" class=\"dataframe\">\n",
              "  <thead>\n",
              "    <tr style=\"text-align: right;\">\n",
              "      <th></th>\n",
              "      <th>serial_no</th>\n",
              "      <th>date</th>\n",
              "      <th>user_id</th>\n",
              "      <th>product_id</th>\n",
              "      <th>quantity_purchased</th>\n",
              "      <th>price</th>\n",
              "      <th>user_type</th>\n",
              "      <th>user_class</th>\n",
              "      <th>purchase_week</th>\n",
              "    </tr>\n",
              "  </thead>\n",
              "  <tbody>\n",
              "    <tr>\n",
              "      <th>1</th>\n",
              "      <td>1001</td>\n",
              "      <td>2016-01-15</td>\n",
              "      <td>5288</td>\n",
              "      <td>304</td>\n",
              "      <td>5</td>\n",
              "      <td>4749.63</td>\n",
              "      <td>n</td>\n",
              "      <td>error</td>\n",
              "      <td>2</td>\n",
              "    </tr>\n",
              "    <tr>\n",
              "      <th>2</th>\n",
              "      <td>1002</td>\n",
              "      <td>2016-01-02</td>\n",
              "      <td>5563</td>\n",
              "      <td>478</td>\n",
              "      <td>41</td>\n",
              "      <td>1374.87</td>\n",
              "      <td>n</td>\n",
              "      <td>error</td>\n",
              "      <td>53</td>\n",
              "    </tr>\n",
              "    <tr>\n",
              "      <th>3</th>\n",
              "      <td>1003</td>\n",
              "      <td>2016-01-16</td>\n",
              "      <td>5772</td>\n",
              "      <td>999</td>\n",
              "      <td>2</td>\n",
              "      <td>4936.43</td>\n",
              "      <td>n</td>\n",
              "      <td>error</td>\n",
              "      <td>2</td>\n",
              "    </tr>\n",
              "    <tr>\n",
              "      <th>4</th>\n",
              "      <td>1004</td>\n",
              "      <td>2016-04-02</td>\n",
              "      <td>5928</td>\n",
              "      <td>769</td>\n",
              "      <td>9</td>\n",
              "      <td>651.20</td>\n",
              "      <td>n</td>\n",
              "      <td>error</td>\n",
              "      <td>13</td>\n",
              "    </tr>\n",
              "    <tr>\n",
              "      <th>5</th>\n",
              "      <td>1005</td>\n",
              "      <td>2016-06-02</td>\n",
              "      <td>5171</td>\n",
              "      <td>852</td>\n",
              "      <td>16</td>\n",
              "      <td>1654.07</td>\n",
              "      <td>n</td>\n",
              "      <td>error</td>\n",
              "      <td>22</td>\n",
              "    </tr>\n",
              "  </tbody>\n",
              "</table>\n",
              "</div>"
            ],
            "text/plain": [
              "   serial_no       date  user_id  ...  user_type  user_class  purchase_week\n",
              "1       1001 2016-01-15     5288  ...          n       error              2\n",
              "2       1002 2016-01-02     5563  ...          n       error             53\n",
              "3       1003 2016-01-16     5772  ...          n       error              2\n",
              "4       1004 2016-04-02     5928  ...          n       error             13\n",
              "5       1005 2016-06-02     5171  ...          n       error             22\n",
              "\n",
              "[5 rows x 9 columns]"
            ]
          },
          "metadata": {
            "tags": []
          }
        }
      ]
    },
    {
      "cell_type": "code",
      "metadata": {
        "id": "dbrNieKSnKwZ",
        "colab_type": "code",
        "colab": {}
      },
      "source": [
        "# filling missing price with mean price\n",
        "df_dropped['price'].fillna(value=np.round(df.price.mean(), decimals=2), inplace=True)"
      ],
      "execution_count": 0,
      "outputs": []
    },
    {
      "cell_type": "code",
      "metadata": {
        "id": "r9WXCpKsoAC-",
        "colab_type": "code",
        "colab": {}
      },
      "source": [
        "# filling missing user types using values from previous row\n",
        "df_dropped['user_type'].fillna(method='ffill', inplace=True)"
      ],
      "execution_count": 0,
      "outputs": []
    },
    {
      "cell_type": "markdown",
      "metadata": {
        "id": "wfjypd8eoeOi",
        "colab_type": "text"
      },
      "source": [
        "### **Handle Duplicates**"
      ]
    },
    {
      "cell_type": "code",
      "metadata": {
        "id": "uMo97h3OoRBS",
        "colab_type": "code",
        "colab": {
          "base_uri": "https://localhost:8080/",
          "height": 326
        },
        "outputId": "853dde84-770a-44c9-cc85-729d9dafa34a"
      },
      "source": [
        "# sample duplicates. Identify for serial_no\n",
        "display(df_dropped[df_dropped.duplicated(subset=['serial_no'])].head())\n",
        "print('Shape of df={}'.format(df_dropped.shape))"
      ],
      "execution_count": 43,
      "outputs": [
        {
          "output_type": "display_data",
          "data": {
            "text/html": [
              "<div>\n",
              "<style scoped>\n",
              "    .dataframe tbody tr th:only-of-type {\n",
              "        vertical-align: middle;\n",
              "    }\n",
              "\n",
              "    .dataframe tbody tr th {\n",
              "        vertical-align: top;\n",
              "    }\n",
              "\n",
              "    .dataframe thead th {\n",
              "        text-align: right;\n",
              "    }\n",
              "</style>\n",
              "<table border=\"1\" class=\"dataframe\">\n",
              "  <thead>\n",
              "    <tr style=\"text-align: right;\">\n",
              "      <th></th>\n",
              "      <th>serial_no</th>\n",
              "      <th>date</th>\n",
              "      <th>user_id</th>\n",
              "      <th>product_id</th>\n",
              "      <th>quantity_purchased</th>\n",
              "      <th>price</th>\n",
              "      <th>user_type</th>\n",
              "      <th>user_class</th>\n",
              "      <th>purchase_week</th>\n",
              "    </tr>\n",
              "  </thead>\n",
              "  <tbody>\n",
              "    <tr>\n",
              "      <th>137</th>\n",
              "      <td>-1</td>\n",
              "      <td>2016-08-02</td>\n",
              "      <td>5518</td>\n",
              "      <td>521</td>\n",
              "      <td>32</td>\n",
              "      <td>2402.26</td>\n",
              "      <td>b</td>\n",
              "      <td>new</td>\n",
              "      <td>31</td>\n",
              "    </tr>\n",
              "    <tr>\n",
              "      <th>214</th>\n",
              "      <td>-1</td>\n",
              "      <td>2016-01-21</td>\n",
              "      <td>5017</td>\n",
              "      <td>667</td>\n",
              "      <td>33</td>\n",
              "      <td>402.88</td>\n",
              "      <td>d</td>\n",
              "      <td>loyal_existing</td>\n",
              "      <td>3</td>\n",
              "    </tr>\n",
              "    <tr>\n",
              "      <th>272</th>\n",
              "      <td>-1</td>\n",
              "      <td>2016-05-02</td>\n",
              "      <td>5049</td>\n",
              "      <td>442</td>\n",
              "      <td>34</td>\n",
              "      <td>4535.64</td>\n",
              "      <td>d</td>\n",
              "      <td>loyal_existing</td>\n",
              "      <td>18</td>\n",
              "    </tr>\n",
              "    <tr>\n",
              "      <th>285</th>\n",
              "      <td>-1</td>\n",
              "      <td>2016-01-30</td>\n",
              "      <td>5234</td>\n",
              "      <td>877</td>\n",
              "      <td>16</td>\n",
              "      <td>1436.32</td>\n",
              "      <td>a</td>\n",
              "      <td>new</td>\n",
              "      <td>4</td>\n",
              "    </tr>\n",
              "    <tr>\n",
              "      <th>298</th>\n",
              "      <td>-1</td>\n",
              "      <td>2016-09-01</td>\n",
              "      <td>5376</td>\n",
              "      <td>717</td>\n",
              "      <td>20</td>\n",
              "      <td>74.21</td>\n",
              "      <td>c</td>\n",
              "      <td>existing</td>\n",
              "      <td>35</td>\n",
              "    </tr>\n",
              "  </tbody>\n",
              "</table>\n",
              "</div>"
            ],
            "text/plain": [
              "     serial_no       date  user_id  ...  user_type      user_class  purchase_week\n",
              "137         -1 2016-08-02     5518  ...          b             new             31\n",
              "214         -1 2016-01-21     5017  ...          d  loyal_existing              3\n",
              "272         -1 2016-05-02     5049  ...          d  loyal_existing             18\n",
              "285         -1 2016-01-30     5234  ...          a             new              4\n",
              "298         -1 2016-09-01     5376  ...          c        existing             35\n",
              "\n",
              "[5 rows x 9 columns]"
            ]
          },
          "metadata": {
            "tags": []
          }
        },
        {
          "output_type": "stream",
          "text": [
            "Shape of df=(969, 9)\n"
          ],
          "name": "stdout"
        }
      ]
    },
    {
      "cell_type": "code",
      "metadata": {
        "id": "Yi00qEK5qFsV",
        "colab_type": "code",
        "colab": {
          "base_uri": "https://localhost:8080/",
          "height": 306
        },
        "outputId": "b1ab2910-1d1f-4ab9-bd8f-5d158cd55871"
      },
      "source": [
        "# Drop duplicates\n",
        "df_dropped.drop_duplicates(subset=['serial_no'], inplace=True)\n",
        "display(df_dropped.head())\n",
        "print('Shape of df={}'.format(df_dropped.shape))"
      ],
      "execution_count": 44,
      "outputs": [
        {
          "output_type": "display_data",
          "data": {
            "text/html": [
              "<div>\n",
              "<style scoped>\n",
              "    .dataframe tbody tr th:only-of-type {\n",
              "        vertical-align: middle;\n",
              "    }\n",
              "\n",
              "    .dataframe tbody tr th {\n",
              "        vertical-align: top;\n",
              "    }\n",
              "\n",
              "    .dataframe thead th {\n",
              "        text-align: right;\n",
              "    }\n",
              "</style>\n",
              "<table border=\"1\" class=\"dataframe\">\n",
              "  <thead>\n",
              "    <tr style=\"text-align: right;\">\n",
              "      <th></th>\n",
              "      <th>serial_no</th>\n",
              "      <th>date</th>\n",
              "      <th>user_id</th>\n",
              "      <th>product_id</th>\n",
              "      <th>quantity_purchased</th>\n",
              "      <th>price</th>\n",
              "      <th>user_type</th>\n",
              "      <th>user_class</th>\n",
              "      <th>purchase_week</th>\n",
              "    </tr>\n",
              "  </thead>\n",
              "  <tbody>\n",
              "    <tr>\n",
              "      <th>1</th>\n",
              "      <td>1001</td>\n",
              "      <td>2016-01-15</td>\n",
              "      <td>5288</td>\n",
              "      <td>304</td>\n",
              "      <td>5</td>\n",
              "      <td>4749.63</td>\n",
              "      <td>n</td>\n",
              "      <td>error</td>\n",
              "      <td>2</td>\n",
              "    </tr>\n",
              "    <tr>\n",
              "      <th>2</th>\n",
              "      <td>1002</td>\n",
              "      <td>2016-01-02</td>\n",
              "      <td>5563</td>\n",
              "      <td>478</td>\n",
              "      <td>41</td>\n",
              "      <td>1374.87</td>\n",
              "      <td>n</td>\n",
              "      <td>error</td>\n",
              "      <td>53</td>\n",
              "    </tr>\n",
              "    <tr>\n",
              "      <th>3</th>\n",
              "      <td>1003</td>\n",
              "      <td>2016-01-16</td>\n",
              "      <td>5772</td>\n",
              "      <td>999</td>\n",
              "      <td>2</td>\n",
              "      <td>4936.43</td>\n",
              "      <td>n</td>\n",
              "      <td>error</td>\n",
              "      <td>2</td>\n",
              "    </tr>\n",
              "    <tr>\n",
              "      <th>4</th>\n",
              "      <td>1004</td>\n",
              "      <td>2016-04-02</td>\n",
              "      <td>5928</td>\n",
              "      <td>769</td>\n",
              "      <td>9</td>\n",
              "      <td>651.20</td>\n",
              "      <td>n</td>\n",
              "      <td>error</td>\n",
              "      <td>13</td>\n",
              "    </tr>\n",
              "    <tr>\n",
              "      <th>5</th>\n",
              "      <td>1005</td>\n",
              "      <td>2016-06-02</td>\n",
              "      <td>5171</td>\n",
              "      <td>852</td>\n",
              "      <td>16</td>\n",
              "      <td>1654.07</td>\n",
              "      <td>n</td>\n",
              "      <td>error</td>\n",
              "      <td>22</td>\n",
              "    </tr>\n",
              "  </tbody>\n",
              "</table>\n",
              "</div>"
            ],
            "text/plain": [
              "   serial_no       date  user_id  ...  user_type  user_class  purchase_week\n",
              "1       1001 2016-01-15     5288  ...          n       error              2\n",
              "2       1002 2016-01-02     5563  ...          n       error             53\n",
              "3       1003 2016-01-16     5772  ...          n       error              2\n",
              "4       1004 2016-04-02     5928  ...          n       error             13\n",
              "5       1005 2016-06-02     5171  ...          n       error             22\n",
              "\n",
              "[5 rows x 9 columns]"
            ]
          },
          "metadata": {
            "tags": []
          }
        },
        {
          "output_type": "stream",
          "text": [
            "Shape of df=(939, 9)\n"
          ],
          "name": "stdout"
        }
      ]
    },
    {
      "cell_type": "code",
      "metadata": {
        "id": "1bvSz4Ubqpqg",
        "colab_type": "code",
        "colab": {
          "base_uri": "https://localhost:8080/",
          "height": 289
        },
        "outputId": "df6a63c9-ec88-4b90-bf34-7114b533f088"
      },
      "source": [
        "# Remove rows which have less than 3 attributes with non-missing data\n",
        "display(df.dropna(thresh=3).head())\n",
        "print('Shape of df={}'.format(df.dropna(thresh=3).shape))"
      ],
      "execution_count": 45,
      "outputs": [
        {
          "output_type": "display_data",
          "data": {
            "text/html": [
              "<div>\n",
              "<style scoped>\n",
              "    .dataframe tbody tr th:only-of-type {\n",
              "        vertical-align: middle;\n",
              "    }\n",
              "\n",
              "    .dataframe tbody tr th {\n",
              "        vertical-align: top;\n",
              "    }\n",
              "\n",
              "    .dataframe thead th {\n",
              "        text-align: right;\n",
              "    }\n",
              "</style>\n",
              "<table border=\"1\" class=\"dataframe\">\n",
              "  <thead>\n",
              "    <tr style=\"text-align: right;\">\n",
              "      <th></th>\n",
              "      <th>serial_no</th>\n",
              "      <th>date</th>\n",
              "      <th>user_id</th>\n",
              "      <th>product_id</th>\n",
              "      <th>quantity_purchased</th>\n",
              "      <th>price</th>\n",
              "      <th>user_type</th>\n",
              "      <th>user_class</th>\n",
              "      <th>purchase_week</th>\n",
              "    </tr>\n",
              "  </thead>\n",
              "  <tbody>\n",
              "    <tr>\n",
              "      <th>0</th>\n",
              "      <td>1000</td>\n",
              "      <td>NaT</td>\n",
              "      <td>-101</td>\n",
              "      <td>0</td>\n",
              "      <td>12</td>\n",
              "      <td>1379.22</td>\n",
              "      <td>n</td>\n",
              "      <td>error</td>\n",
              "      <td>0</td>\n",
              "    </tr>\n",
              "    <tr>\n",
              "      <th>1</th>\n",
              "      <td>1001</td>\n",
              "      <td>2016-01-15</td>\n",
              "      <td>5288</td>\n",
              "      <td>304</td>\n",
              "      <td>5</td>\n",
              "      <td>4749.63</td>\n",
              "      <td>n</td>\n",
              "      <td>error</td>\n",
              "      <td>2</td>\n",
              "    </tr>\n",
              "    <tr>\n",
              "      <th>2</th>\n",
              "      <td>1002</td>\n",
              "      <td>2016-01-02</td>\n",
              "      <td>5563</td>\n",
              "      <td>478</td>\n",
              "      <td>41</td>\n",
              "      <td>1374.87</td>\n",
              "      <td>n</td>\n",
              "      <td>error</td>\n",
              "      <td>53</td>\n",
              "    </tr>\n",
              "    <tr>\n",
              "      <th>3</th>\n",
              "      <td>1003</td>\n",
              "      <td>2016-01-16</td>\n",
              "      <td>5772</td>\n",
              "      <td>999</td>\n",
              "      <td>2</td>\n",
              "      <td>4936.43</td>\n",
              "      <td>n</td>\n",
              "      <td>error</td>\n",
              "      <td>2</td>\n",
              "    </tr>\n",
              "    <tr>\n",
              "      <th>4</th>\n",
              "      <td>1004</td>\n",
              "      <td>2016-04-02</td>\n",
              "      <td>5928</td>\n",
              "      <td>769</td>\n",
              "      <td>9</td>\n",
              "      <td>651.20</td>\n",
              "      <td>n</td>\n",
              "      <td>error</td>\n",
              "      <td>13</td>\n",
              "    </tr>\n",
              "  </tbody>\n",
              "</table>\n",
              "</div>"
            ],
            "text/plain": [
              "   serial_no       date  user_id  ...  user_type  user_class  purchase_week\n",
              "0       1000        NaT     -101  ...          n       error              0\n",
              "1       1001 2016-01-15     5288  ...          n       error              2\n",
              "2       1002 2016-01-02     5563  ...          n       error             53\n",
              "3       1003 2016-01-16     5772  ...          n       error              2\n",
              "4       1004 2016-04-02     5928  ...          n       error             13\n",
              "\n",
              "[5 rows x 9 columns]"
            ]
          },
          "metadata": {
            "tags": []
          }
        },
        {
          "output_type": "stream",
          "text": [
            "Shape of df=(1000, 9)\n"
          ],
          "name": "stdout"
        }
      ]
    },
    {
      "cell_type": "markdown",
      "metadata": {
        "id": "tnbHbcZXs-jd",
        "colab_type": "text"
      },
      "source": [
        "### **Handle Categoricals**"
      ]
    },
    {
      "cell_type": "markdown",
      "metadata": {
        "id": "HOT1cG2XtCxt",
        "colab_type": "text"
      },
      "source": [
        "**One Hot Encoding**"
      ]
    },
    {
      "cell_type": "code",
      "metadata": {
        "id": "m79WSRUssziS",
        "colab_type": "code",
        "colab": {
          "base_uri": "https://localhost:8080/",
          "height": 292
        },
        "outputId": "6dbefc6f-7b69-4b7c-befd-8ba95b306ffb"
      },
      "source": [
        "display(pd.get_dummies(df, columns=['user_type']).head())"
      ],
      "execution_count": 46,
      "outputs": [
        {
          "output_type": "display_data",
          "data": {
            "text/html": [
              "<div>\n",
              "<style scoped>\n",
              "    .dataframe tbody tr th:only-of-type {\n",
              "        vertical-align: middle;\n",
              "    }\n",
              "\n",
              "    .dataframe tbody tr th {\n",
              "        vertical-align: top;\n",
              "    }\n",
              "\n",
              "    .dataframe thead th {\n",
              "        text-align: right;\n",
              "    }\n",
              "</style>\n",
              "<table border=\"1\" class=\"dataframe\">\n",
              "  <thead>\n",
              "    <tr style=\"text-align: right;\">\n",
              "      <th></th>\n",
              "      <th>serial_no</th>\n",
              "      <th>date</th>\n",
              "      <th>user_id</th>\n",
              "      <th>product_id</th>\n",
              "      <th>quantity_purchased</th>\n",
              "      <th>price</th>\n",
              "      <th>user_class</th>\n",
              "      <th>purchase_week</th>\n",
              "      <th>user_type_a</th>\n",
              "      <th>user_type_b</th>\n",
              "      <th>user_type_c</th>\n",
              "      <th>user_type_d</th>\n",
              "      <th>user_type_n</th>\n",
              "    </tr>\n",
              "  </thead>\n",
              "  <tbody>\n",
              "    <tr>\n",
              "      <th>0</th>\n",
              "      <td>1000</td>\n",
              "      <td>NaT</td>\n",
              "      <td>-101</td>\n",
              "      <td>0</td>\n",
              "      <td>12</td>\n",
              "      <td>1379.22</td>\n",
              "      <td>error</td>\n",
              "      <td>0</td>\n",
              "      <td>0</td>\n",
              "      <td>0</td>\n",
              "      <td>0</td>\n",
              "      <td>0</td>\n",
              "      <td>1</td>\n",
              "    </tr>\n",
              "    <tr>\n",
              "      <th>1</th>\n",
              "      <td>1001</td>\n",
              "      <td>2016-01-15</td>\n",
              "      <td>5288</td>\n",
              "      <td>304</td>\n",
              "      <td>5</td>\n",
              "      <td>4749.63</td>\n",
              "      <td>error</td>\n",
              "      <td>2</td>\n",
              "      <td>0</td>\n",
              "      <td>0</td>\n",
              "      <td>0</td>\n",
              "      <td>0</td>\n",
              "      <td>1</td>\n",
              "    </tr>\n",
              "    <tr>\n",
              "      <th>2</th>\n",
              "      <td>1002</td>\n",
              "      <td>2016-01-02</td>\n",
              "      <td>5563</td>\n",
              "      <td>478</td>\n",
              "      <td>41</td>\n",
              "      <td>1374.87</td>\n",
              "      <td>error</td>\n",
              "      <td>53</td>\n",
              "      <td>0</td>\n",
              "      <td>0</td>\n",
              "      <td>0</td>\n",
              "      <td>0</td>\n",
              "      <td>1</td>\n",
              "    </tr>\n",
              "    <tr>\n",
              "      <th>3</th>\n",
              "      <td>1003</td>\n",
              "      <td>2016-01-16</td>\n",
              "      <td>5772</td>\n",
              "      <td>999</td>\n",
              "      <td>2</td>\n",
              "      <td>4936.43</td>\n",
              "      <td>error</td>\n",
              "      <td>2</td>\n",
              "      <td>0</td>\n",
              "      <td>0</td>\n",
              "      <td>0</td>\n",
              "      <td>0</td>\n",
              "      <td>1</td>\n",
              "    </tr>\n",
              "    <tr>\n",
              "      <th>4</th>\n",
              "      <td>1004</td>\n",
              "      <td>2016-04-02</td>\n",
              "      <td>5928</td>\n",
              "      <td>769</td>\n",
              "      <td>9</td>\n",
              "      <td>651.20</td>\n",
              "      <td>error</td>\n",
              "      <td>13</td>\n",
              "      <td>0</td>\n",
              "      <td>0</td>\n",
              "      <td>0</td>\n",
              "      <td>0</td>\n",
              "      <td>1</td>\n",
              "    </tr>\n",
              "  </tbody>\n",
              "</table>\n",
              "</div>"
            ],
            "text/plain": [
              "   serial_no       date  user_id  ...  user_type_c  user_type_d  user_type_n\n",
              "0       1000        NaT     -101  ...            0            0            1\n",
              "1       1001 2016-01-15     5288  ...            0            0            1\n",
              "2       1002 2016-01-02     5563  ...            0            0            1\n",
              "3       1003 2016-01-16     5772  ...            0            0            1\n",
              "4       1004 2016-04-02     5928  ...            0            0            1\n",
              "\n",
              "[5 rows x 13 columns]"
            ]
          },
          "metadata": {
            "tags": []
          }
        }
      ]
    },
    {
      "cell_type": "markdown",
      "metadata": {
        "id": "2EcmXJeqtZyg",
        "colab_type": "text"
      },
      "source": [
        "**Label Encoding**"
      ]
    },
    {
      "cell_type": "code",
      "metadata": {
        "id": "wVly33cgtO7j",
        "colab_type": "code",
        "colab": {
          "base_uri": "https://localhost:8080/",
          "height": 309
        },
        "outputId": "81d0aed4-ae22-41db-a698-7e455566e32d"
      },
      "source": [
        "type_map = {'a': 0, 'b': 1, 'c': 2, 'd': 3, np.NAN: -1}\n",
        "df['encoded_user_type'] = df.user_type.map(type_map)\n",
        "display((df.tail()))"
      ],
      "execution_count": 47,
      "outputs": [
        {
          "output_type": "display_data",
          "data": {
            "text/html": [
              "<div>\n",
              "<style scoped>\n",
              "    .dataframe tbody tr th:only-of-type {\n",
              "        vertical-align: middle;\n",
              "    }\n",
              "\n",
              "    .dataframe tbody tr th {\n",
              "        vertical-align: top;\n",
              "    }\n",
              "\n",
              "    .dataframe thead th {\n",
              "        text-align: right;\n",
              "    }\n",
              "</style>\n",
              "<table border=\"1\" class=\"dataframe\">\n",
              "  <thead>\n",
              "    <tr style=\"text-align: right;\">\n",
              "      <th></th>\n",
              "      <th>serial_no</th>\n",
              "      <th>date</th>\n",
              "      <th>user_id</th>\n",
              "      <th>product_id</th>\n",
              "      <th>quantity_purchased</th>\n",
              "      <th>price</th>\n",
              "      <th>user_type</th>\n",
              "      <th>user_class</th>\n",
              "      <th>purchase_week</th>\n",
              "      <th>encoded_user_type</th>\n",
              "    </tr>\n",
              "  </thead>\n",
              "  <tbody>\n",
              "    <tr>\n",
              "      <th>995</th>\n",
              "      <td>1995</td>\n",
              "      <td>2016-05-01</td>\n",
              "      <td>5488</td>\n",
              "      <td>325</td>\n",
              "      <td>40</td>\n",
              "      <td>2869.80</td>\n",
              "      <td>a</td>\n",
              "      <td>new</td>\n",
              "      <td>17</td>\n",
              "      <td>0.0</td>\n",
              "    </tr>\n",
              "    <tr>\n",
              "      <th>996</th>\n",
              "      <td>1996</td>\n",
              "      <td>2016-01-29</td>\n",
              "      <td>5258</td>\n",
              "      <td>390</td>\n",
              "      <td>9</td>\n",
              "      <td>2636.31</td>\n",
              "      <td>b</td>\n",
              "      <td>new</td>\n",
              "      <td>4</td>\n",
              "      <td>1.0</td>\n",
              "    </tr>\n",
              "    <tr>\n",
              "      <th>997</th>\n",
              "      <td>1997</td>\n",
              "      <td>2016-02-02</td>\n",
              "      <td>5927</td>\n",
              "      <td>730</td>\n",
              "      <td>10</td>\n",
              "      <td>6485.87</td>\n",
              "      <td>c</td>\n",
              "      <td>existing</td>\n",
              "      <td>5</td>\n",
              "      <td>2.0</td>\n",
              "    </tr>\n",
              "    <tr>\n",
              "      <th>998</th>\n",
              "      <td>1998</td>\n",
              "      <td>2016-01-17</td>\n",
              "      <td>5376</td>\n",
              "      <td>717</td>\n",
              "      <td>34</td>\n",
              "      <td>NaN</td>\n",
              "      <td>c</td>\n",
              "      <td>existing</td>\n",
              "      <td>2</td>\n",
              "      <td>2.0</td>\n",
              "    </tr>\n",
              "    <tr>\n",
              "      <th>999</th>\n",
              "      <td>1999</td>\n",
              "      <td>2016-10-01</td>\n",
              "      <td>5030</td>\n",
              "      <td>129</td>\n",
              "      <td>22</td>\n",
              "      <td>164.45</td>\n",
              "      <td>a</td>\n",
              "      <td>new</td>\n",
              "      <td>39</td>\n",
              "      <td>0.0</td>\n",
              "    </tr>\n",
              "  </tbody>\n",
              "</table>\n",
              "</div>"
            ],
            "text/plain": [
              "     serial_no       date  user_id  ...  user_class  purchase_week  encoded_user_type\n",
              "995       1995 2016-05-01     5488  ...         new             17                0.0\n",
              "996       1996 2016-01-29     5258  ...         new              4                1.0\n",
              "997       1997 2016-02-02     5927  ...    existing              5                2.0\n",
              "998       1998 2016-01-17     5376  ...    existing              2                2.0\n",
              "999       1999 2016-10-01     5030  ...         new             39                0.0\n",
              "\n",
              "[5 rows x 10 columns]"
            ]
          },
          "metadata": {
            "tags": []
          }
        }
      ]
    },
    {
      "cell_type": "markdown",
      "metadata": {
        "id": "rLUsN-Cut9_M",
        "colab_type": "text"
      },
      "source": [
        "### **Handle Numerical Attributes**"
      ]
    },
    {
      "cell_type": "markdown",
      "metadata": {
        "id": "0Hw72NVEuE1M",
        "colab_type": "text"
      },
      "source": [
        "**Min-Max Scalar**"
      ]
    },
    {
      "cell_type": "code",
      "metadata": {
        "id": "R_9HtjF8t2cz",
        "colab_type": "code",
        "colab": {}
      },
      "source": [
        "df_normalized = df.dropna().copy()\n",
        "min_max_scaler = preprocessing.MinMaxScaler()\n",
        "np_scaled = min_max_scaler.fit_transform(df_normalized['price'].values.reshape(-1,1))\n",
        "df_normalized['price'] = np_scaled.reshape(-1,1)"
      ],
      "execution_count": 0,
      "outputs": []
    },
    {
      "cell_type": "code",
      "metadata": {
        "id": "spGtLlY1uhg3",
        "colab_type": "code",
        "colab": {
          "base_uri": "https://localhost:8080/",
          "height": 309
        },
        "outputId": "98a298b1-fde4-4b27-e0d6-5ba69d4a4bec"
      },
      "source": [
        "display(df_normalized.head())"
      ],
      "execution_count": 51,
      "outputs": [
        {
          "output_type": "display_data",
          "data": {
            "text/html": [
              "<div>\n",
              "<style scoped>\n",
              "    .dataframe tbody tr th:only-of-type {\n",
              "        vertical-align: middle;\n",
              "    }\n",
              "\n",
              "    .dataframe tbody tr th {\n",
              "        vertical-align: top;\n",
              "    }\n",
              "\n",
              "    .dataframe thead th {\n",
              "        text-align: right;\n",
              "    }\n",
              "</style>\n",
              "<table border=\"1\" class=\"dataframe\">\n",
              "  <thead>\n",
              "    <tr style=\"text-align: right;\">\n",
              "      <th></th>\n",
              "      <th>serial_no</th>\n",
              "      <th>date</th>\n",
              "      <th>user_id</th>\n",
              "      <th>product_id</th>\n",
              "      <th>quantity_purchased</th>\n",
              "      <th>price</th>\n",
              "      <th>user_type</th>\n",
              "      <th>user_class</th>\n",
              "      <th>purchase_week</th>\n",
              "      <th>encoded_user_type</th>\n",
              "    </tr>\n",
              "  </thead>\n",
              "  <tbody>\n",
              "    <tr>\n",
              "      <th>19</th>\n",
              "      <td>1019</td>\n",
              "      <td>2016-11-01</td>\n",
              "      <td>5747</td>\n",
              "      <td>844</td>\n",
              "      <td>4</td>\n",
              "      <td>0.221145</td>\n",
              "      <td>a</td>\n",
              "      <td>new</td>\n",
              "      <td>44</td>\n",
              "      <td>0.0</td>\n",
              "    </tr>\n",
              "    <tr>\n",
              "      <th>22</th>\n",
              "      <td>1022</td>\n",
              "      <td>2016-11-02</td>\n",
              "      <td>5794</td>\n",
              "      <td>1095</td>\n",
              "      <td>8</td>\n",
              "      <td>0.267564</td>\n",
              "      <td>d</td>\n",
              "      <td>loyal_existing</td>\n",
              "      <td>44</td>\n",
              "      <td>3.0</td>\n",
              "    </tr>\n",
              "    <tr>\n",
              "      <th>24</th>\n",
              "      <td>1024</td>\n",
              "      <td>2016-01-28</td>\n",
              "      <td>5047</td>\n",
              "      <td>466</td>\n",
              "      <td>2</td>\n",
              "      <td>0.173251</td>\n",
              "      <td>d</td>\n",
              "      <td>loyal_existing</td>\n",
              "      <td>4</td>\n",
              "      <td>3.0</td>\n",
              "    </tr>\n",
              "    <tr>\n",
              "      <th>29</th>\n",
              "      <td>1029</td>\n",
              "      <td>2016-03-02</td>\n",
              "      <td>5711</td>\n",
              "      <td>292</td>\n",
              "      <td>12</td>\n",
              "      <td>0.038883</td>\n",
              "      <td>d</td>\n",
              "      <td>loyal_existing</td>\n",
              "      <td>9</td>\n",
              "      <td>3.0</td>\n",
              "    </tr>\n",
              "    <tr>\n",
              "      <th>35</th>\n",
              "      <td>1035</td>\n",
              "      <td>2016-08-01</td>\n",
              "      <td>5659</td>\n",
              "      <td>148</td>\n",
              "      <td>1</td>\n",
              "      <td>0.237769</td>\n",
              "      <td>d</td>\n",
              "      <td>loyal_existing</td>\n",
              "      <td>31</td>\n",
              "      <td>3.0</td>\n",
              "    </tr>\n",
              "  </tbody>\n",
              "</table>\n",
              "</div>"
            ],
            "text/plain": [
              "    serial_no       date  ...  purchase_week  encoded_user_type\n",
              "19       1019 2016-11-01  ...             44                0.0\n",
              "22       1022 2016-11-02  ...             44                3.0\n",
              "24       1024 2016-01-28  ...              4                3.0\n",
              "29       1029 2016-03-02  ...              9                3.0\n",
              "35       1035 2016-08-01  ...             31                3.0\n",
              "\n",
              "[5 rows x 10 columns]"
            ]
          },
          "metadata": {
            "tags": []
          }
        }
      ]
    },
    {
      "cell_type": "markdown",
      "metadata": {
        "id": "JEBG_ApPu5eK",
        "colab_type": "text"
      },
      "source": [
        "**Robust Scaler**"
      ]
    },
    {
      "cell_type": "code",
      "metadata": {
        "id": "5jhocIsmu2HZ",
        "colab_type": "code",
        "colab": {}
      },
      "source": [
        "df_normalized = df.dropna().copy()\n",
        "robust_scaler = preprocessing.RobustScaler()\n",
        "rs_scaled = robust_scaler.fit_transform(df_normalized['quantity_purchased'].values.reshape(-1,1))\n",
        "df_normalized['quantity_purchased'] = rs_scaled.reshape(-1,1)"
      ],
      "execution_count": 0,
      "outputs": []
    },
    {
      "cell_type": "code",
      "metadata": {
        "id": "fG8gBb9Dvf_l",
        "colab_type": "code",
        "colab": {
          "base_uri": "https://localhost:8080/",
          "height": 309
        },
        "outputId": "42dc1c8a-5163-4b44-da20-c57a2129e8b4"
      },
      "source": [
        "display(df_normalized.head())"
      ],
      "execution_count": 53,
      "outputs": [
        {
          "output_type": "display_data",
          "data": {
            "text/html": [
              "<div>\n",
              "<style scoped>\n",
              "    .dataframe tbody tr th:only-of-type {\n",
              "        vertical-align: middle;\n",
              "    }\n",
              "\n",
              "    .dataframe tbody tr th {\n",
              "        vertical-align: top;\n",
              "    }\n",
              "\n",
              "    .dataframe thead th {\n",
              "        text-align: right;\n",
              "    }\n",
              "</style>\n",
              "<table border=\"1\" class=\"dataframe\">\n",
              "  <thead>\n",
              "    <tr style=\"text-align: right;\">\n",
              "      <th></th>\n",
              "      <th>serial_no</th>\n",
              "      <th>date</th>\n",
              "      <th>user_id</th>\n",
              "      <th>product_id</th>\n",
              "      <th>quantity_purchased</th>\n",
              "      <th>price</th>\n",
              "      <th>user_type</th>\n",
              "      <th>user_class</th>\n",
              "      <th>purchase_week</th>\n",
              "      <th>encoded_user_type</th>\n",
              "    </tr>\n",
              "  </thead>\n",
              "  <tbody>\n",
              "    <tr>\n",
              "      <th>19</th>\n",
              "      <td>1019</td>\n",
              "      <td>2016-11-01</td>\n",
              "      <td>5747</td>\n",
              "      <td>844</td>\n",
              "      <td>-0.827586</td>\n",
              "      <td>1889.05</td>\n",
              "      <td>a</td>\n",
              "      <td>new</td>\n",
              "      <td>44</td>\n",
              "      <td>0.0</td>\n",
              "    </tr>\n",
              "    <tr>\n",
              "      <th>22</th>\n",
              "      <td>1022</td>\n",
              "      <td>2016-11-02</td>\n",
              "      <td>5794</td>\n",
              "      <td>1095</td>\n",
              "      <td>-0.643678</td>\n",
              "      <td>2285.50</td>\n",
              "      <td>d</td>\n",
              "      <td>loyal_existing</td>\n",
              "      <td>44</td>\n",
              "      <td>3.0</td>\n",
              "    </tr>\n",
              "    <tr>\n",
              "      <th>24</th>\n",
              "      <td>1024</td>\n",
              "      <td>2016-01-28</td>\n",
              "      <td>5047</td>\n",
              "      <td>466</td>\n",
              "      <td>-0.919540</td>\n",
              "      <td>1479.99</td>\n",
              "      <td>d</td>\n",
              "      <td>loyal_existing</td>\n",
              "      <td>4</td>\n",
              "      <td>3.0</td>\n",
              "    </tr>\n",
              "    <tr>\n",
              "      <th>29</th>\n",
              "      <td>1029</td>\n",
              "      <td>2016-03-02</td>\n",
              "      <td>5711</td>\n",
              "      <td>292</td>\n",
              "      <td>-0.459770</td>\n",
              "      <td>332.37</td>\n",
              "      <td>d</td>\n",
              "      <td>loyal_existing</td>\n",
              "      <td>9</td>\n",
              "      <td>3.0</td>\n",
              "    </tr>\n",
              "    <tr>\n",
              "      <th>35</th>\n",
              "      <td>1035</td>\n",
              "      <td>2016-08-01</td>\n",
              "      <td>5659</td>\n",
              "      <td>148</td>\n",
              "      <td>-0.965517</td>\n",
              "      <td>2031.03</td>\n",
              "      <td>d</td>\n",
              "      <td>loyal_existing</td>\n",
              "      <td>31</td>\n",
              "      <td>3.0</td>\n",
              "    </tr>\n",
              "  </tbody>\n",
              "</table>\n",
              "</div>"
            ],
            "text/plain": [
              "    serial_no       date  ...  purchase_week  encoded_user_type\n",
              "19       1019 2016-11-01  ...             44                0.0\n",
              "22       1022 2016-11-02  ...             44                3.0\n",
              "24       1024 2016-01-28  ...              4                3.0\n",
              "29       1029 2016-03-02  ...              9                3.0\n",
              "35       1035 2016-08-01  ...             31                3.0\n",
              "\n",
              "[5 rows x 10 columns]"
            ]
          },
          "metadata": {
            "tags": []
          }
        }
      ]
    },
    {
      "cell_type": "markdown",
      "metadata": {
        "id": "DaCdANkdwz0l",
        "colab_type": "text"
      },
      "source": [
        "### **Group by**"
      ]
    },
    {
      "cell_type": "code",
      "metadata": {
        "id": "6uVgMOgyw7Sm",
        "colab_type": "code",
        "colab": {
          "base_uri": "https://localhost:8080/",
          "height": 119
        },
        "outputId": "7b058b14-ec16-4fe5-b263-e45a776902e4"
      },
      "source": [
        "# Group by attributes user_class and get sum of quantity_purchased\n",
        "print(df.groupby(['user_class'])['quantity_purchased'].sum())"
      ],
      "execution_count": 54,
      "outputs": [
        {
          "output_type": "stream",
          "text": [
            "user_class\n",
            "error               679\n",
            "existing           4537\n",
            "loyal_existing     5524\n",
            "new               10480\n",
            "Name: quantity_purchased, dtype: int64\n"
          ],
          "name": "stdout"
        }
      ]
    },
    {
      "cell_type": "code",
      "metadata": {
        "id": "f9irbGl4xVmc",
        "colab_type": "code",
        "colab": {
          "base_uri": "https://localhost:8080/",
          "height": 255
        },
        "outputId": "84bd3641-e0fe-4b29-8cde-fce9ecf4cc07"
      },
      "source": [
        "# Aggregate functions\n",
        "#Sum, mean and Non Zero Count row count\n",
        "display(df.groupby(['user_class']).agg([np.sum, np.mean, np.count_nonzero]))"
      ],
      "execution_count": 55,
      "outputs": [
        {
          "output_type": "display_data",
          "data": {
            "text/html": [
              "<div>\n",
              "<style scoped>\n",
              "    .dataframe tbody tr th:only-of-type {\n",
              "        vertical-align: middle;\n",
              "    }\n",
              "\n",
              "    .dataframe tbody tr th {\n",
              "        vertical-align: top;\n",
              "    }\n",
              "\n",
              "    .dataframe thead tr th {\n",
              "        text-align: left;\n",
              "    }\n",
              "\n",
              "    .dataframe thead tr:last-of-type th {\n",
              "        text-align: right;\n",
              "    }\n",
              "</style>\n",
              "<table border=\"1\" class=\"dataframe\">\n",
              "  <thead>\n",
              "    <tr>\n",
              "      <th></th>\n",
              "      <th colspan=\"3\" halign=\"left\">serial_no</th>\n",
              "      <th colspan=\"3\" halign=\"left\">user_id</th>\n",
              "      <th colspan=\"3\" halign=\"left\">product_id</th>\n",
              "      <th colspan=\"3\" halign=\"left\">quantity_purchased</th>\n",
              "      <th colspan=\"3\" halign=\"left\">price</th>\n",
              "      <th colspan=\"3\" halign=\"left\">purchase_week</th>\n",
              "      <th colspan=\"3\" halign=\"left\">encoded_user_type</th>\n",
              "    </tr>\n",
              "    <tr>\n",
              "      <th></th>\n",
              "      <th>sum</th>\n",
              "      <th>mean</th>\n",
              "      <th>count_nonzero</th>\n",
              "      <th>sum</th>\n",
              "      <th>mean</th>\n",
              "      <th>count_nonzero</th>\n",
              "      <th>sum</th>\n",
              "      <th>mean</th>\n",
              "      <th>count_nonzero</th>\n",
              "      <th>sum</th>\n",
              "      <th>mean</th>\n",
              "      <th>count_nonzero</th>\n",
              "      <th>sum</th>\n",
              "      <th>mean</th>\n",
              "      <th>count_nonzero</th>\n",
              "      <th>sum</th>\n",
              "      <th>mean</th>\n",
              "      <th>count_nonzero</th>\n",
              "      <th>sum</th>\n",
              "      <th>mean</th>\n",
              "      <th>count_nonzero</th>\n",
              "    </tr>\n",
              "    <tr>\n",
              "      <th>user_class</th>\n",
              "      <th></th>\n",
              "      <th></th>\n",
              "      <th></th>\n",
              "      <th></th>\n",
              "      <th></th>\n",
              "      <th></th>\n",
              "      <th></th>\n",
              "      <th></th>\n",
              "      <th></th>\n",
              "      <th></th>\n",
              "      <th></th>\n",
              "      <th></th>\n",
              "      <th></th>\n",
              "      <th></th>\n",
              "      <th></th>\n",
              "      <th></th>\n",
              "      <th></th>\n",
              "      <th></th>\n",
              "      <th></th>\n",
              "      <th></th>\n",
              "      <th></th>\n",
              "    </tr>\n",
              "  </thead>\n",
              "  <tbody>\n",
              "    <tr>\n",
              "      <th>error</th>\n",
              "      <td>31661</td>\n",
              "      <td>1021.322581</td>\n",
              "      <td>31</td>\n",
              "      <td>163626</td>\n",
              "      <td>5278.258065</td>\n",
              "      <td>31</td>\n",
              "      <td>18635</td>\n",
              "      <td>601.129032</td>\n",
              "      <td>30</td>\n",
              "      <td>679</td>\n",
              "      <td>21.903226</td>\n",
              "      <td>31</td>\n",
              "      <td>78412.93</td>\n",
              "      <td>2613.764333</td>\n",
              "      <td>31.0</td>\n",
              "      <td>318</td>\n",
              "      <td>10.258065</td>\n",
              "      <td>18</td>\n",
              "      <td>0.0</td>\n",
              "      <td>NaN</td>\n",
              "      <td>31.0</td>\n",
              "    </tr>\n",
              "    <tr>\n",
              "      <th>existing</th>\n",
              "      <td>332068</td>\n",
              "      <td>1516.292237</td>\n",
              "      <td>219</td>\n",
              "      <td>1188833</td>\n",
              "      <td>5428.461187</td>\n",
              "      <td>219</td>\n",
              "      <td>115906</td>\n",
              "      <td>529.251142</td>\n",
              "      <td>219</td>\n",
              "      <td>4537</td>\n",
              "      <td>20.716895</td>\n",
              "      <td>219</td>\n",
              "      <td>512284.21</td>\n",
              "      <td>2416.434953</td>\n",
              "      <td>219.0</td>\n",
              "      <td>3266</td>\n",
              "      <td>14.913242</td>\n",
              "      <td>218</td>\n",
              "      <td>438.0</td>\n",
              "      <td>2.000000</td>\n",
              "      <td>219.0</td>\n",
              "    </tr>\n",
              "    <tr>\n",
              "      <th>loyal_existing</th>\n",
              "      <td>388755</td>\n",
              "      <td>1445.185874</td>\n",
              "      <td>269</td>\n",
              "      <td>1465549</td>\n",
              "      <td>5448.137546</td>\n",
              "      <td>269</td>\n",
              "      <td>150738</td>\n",
              "      <td>560.364312</td>\n",
              "      <td>269</td>\n",
              "      <td>5524</td>\n",
              "      <td>20.535316</td>\n",
              "      <td>269</td>\n",
              "      <td>590612.29</td>\n",
              "      <td>2262.882337</td>\n",
              "      <td>269.0</td>\n",
              "      <td>4455</td>\n",
              "      <td>16.561338</td>\n",
              "      <td>264</td>\n",
              "      <td>807.0</td>\n",
              "      <td>3.000000</td>\n",
              "      <td>269.0</td>\n",
              "    </tr>\n",
              "    <tr>\n",
              "      <th>new</th>\n",
              "      <td>698599</td>\n",
              "      <td>1452.388773</td>\n",
              "      <td>481</td>\n",
              "      <td>2633375</td>\n",
              "      <td>5474.792100</td>\n",
              "      <td>481</td>\n",
              "      <td>265932</td>\n",
              "      <td>552.873181</td>\n",
              "      <td>481</td>\n",
              "      <td>10480</td>\n",
              "      <td>21.787942</td>\n",
              "      <td>481</td>\n",
              "      <td>1081227.93</td>\n",
              "      <td>2320.231609</td>\n",
              "      <td>481.0</td>\n",
              "      <td>7347</td>\n",
              "      <td>15.274428</td>\n",
              "      <td>469</td>\n",
              "      <td>233.0</td>\n",
              "      <td>0.484407</td>\n",
              "      <td>233.0</td>\n",
              "    </tr>\n",
              "  </tbody>\n",
              "</table>\n",
              "</div>"
            ],
            "text/plain": [
              "               serial_no               ... encoded_user_type              \n",
              "                     sum         mean  ...              mean count_nonzero\n",
              "user_class                             ...                                \n",
              "error              31661  1021.322581  ...               NaN          31.0\n",
              "existing          332068  1516.292237  ...          2.000000         219.0\n",
              "loyal_existing    388755  1445.185874  ...          3.000000         269.0\n",
              "new               698599  1452.388773  ...          0.484407         233.0\n",
              "\n",
              "[4 rows x 21 columns]"
            ]
          },
          "metadata": {
            "tags": []
          }
        }
      ]
    },
    {
      "cell_type": "code",
      "metadata": {
        "id": "Fk1LepAKxzrL",
        "colab_type": "code",
        "colab": {
          "base_uri": "https://localhost:8080/",
          "height": 235
        },
        "outputId": "05dc5a41-336b-4201-c016-0364b3c04f76"
      },
      "source": [
        "# Aggregate functions specific to columns\n",
        "display(df.groupby(['user_class', 'user_type']).agg({'price':np.mean, 'quantity_purchased':np.max}))"
      ],
      "execution_count": 56,
      "outputs": [
        {
          "output_type": "display_data",
          "data": {
            "text/html": [
              "<div>\n",
              "<style scoped>\n",
              "    .dataframe tbody tr th:only-of-type {\n",
              "        vertical-align: middle;\n",
              "    }\n",
              "\n",
              "    .dataframe tbody tr th {\n",
              "        vertical-align: top;\n",
              "    }\n",
              "\n",
              "    .dataframe thead th {\n",
              "        text-align: right;\n",
              "    }\n",
              "</style>\n",
              "<table border=\"1\" class=\"dataframe\">\n",
              "  <thead>\n",
              "    <tr style=\"text-align: right;\">\n",
              "      <th></th>\n",
              "      <th></th>\n",
              "      <th>price</th>\n",
              "      <th>quantity_purchased</th>\n",
              "    </tr>\n",
              "    <tr>\n",
              "      <th>user_class</th>\n",
              "      <th>user_type</th>\n",
              "      <th></th>\n",
              "      <th></th>\n",
              "    </tr>\n",
              "  </thead>\n",
              "  <tbody>\n",
              "    <tr>\n",
              "      <th>error</th>\n",
              "      <th>n</th>\n",
              "      <td>2613.764333</td>\n",
              "      <td>41</td>\n",
              "    </tr>\n",
              "    <tr>\n",
              "      <th>existing</th>\n",
              "      <th>c</th>\n",
              "      <td>2416.434953</td>\n",
              "      <td>41</td>\n",
              "    </tr>\n",
              "    <tr>\n",
              "      <th>loyal_existing</th>\n",
              "      <th>d</th>\n",
              "      <td>2262.882337</td>\n",
              "      <td>41</td>\n",
              "    </tr>\n",
              "    <tr>\n",
              "      <th rowspan=\"2\" valign=\"top\">new</th>\n",
              "      <th>a</th>\n",
              "      <td>2104.658299</td>\n",
              "      <td>41</td>\n",
              "    </tr>\n",
              "    <tr>\n",
              "      <th>b</th>\n",
              "      <td>2551.134578</td>\n",
              "      <td>41</td>\n",
              "    </tr>\n",
              "  </tbody>\n",
              "</table>\n",
              "</div>"
            ],
            "text/plain": [
              "                                price  quantity_purchased\n",
              "user_class     user_type                                 \n",
              "error          n          2613.764333                  41\n",
              "existing       c          2416.434953                  41\n",
              "loyal_existing d          2262.882337                  41\n",
              "new            a          2104.658299                  41\n",
              "               b          2551.134578                  41"
            ]
          },
          "metadata": {
            "tags": []
          }
        }
      ]
    },
    {
      "cell_type": "code",
      "metadata": {
        "id": "MGTmJiJEyijo",
        "colab_type": "code",
        "colab": {
          "base_uri": "https://localhost:8080/",
          "height": 422
        },
        "outputId": "ec50f656-cf86-46aa-b904-bc2700ac41f3"
      },
      "source": [
        "# Multiple aggregate functions\n",
        "display(df.groupby(['user_class', 'user_type']).agg({'price': {'total_price': np.sum,\n",
        "                                                               'mean_price': np.mean,\n",
        "                                                               'variance_price': np.std,\n",
        "                                                               'count': np.count_nonzero},\n",
        "                                                     'quantity_purchased': np.sum}))"
      ],
      "execution_count": 57,
      "outputs": [
        {
          "output_type": "stream",
          "text": [
            "/usr/local/lib/python3.6/dist-packages/pandas/core/groupby/generic.py:1455: FutureWarning: using a dict with renaming is deprecated and will be removed\n",
            "in a future version.\n",
            "\n",
            "For column-specific groupby renaming, use named aggregation\n",
            "\n",
            "    >>> df.groupby(...).agg(name=('column', aggfunc))\n",
            "\n",
            "  return super().aggregate(arg, *args, **kwargs)\n"
          ],
          "name": "stderr"
        },
        {
          "output_type": "display_data",
          "data": {
            "text/html": [
              "<div>\n",
              "<style scoped>\n",
              "    .dataframe tbody tr th:only-of-type {\n",
              "        vertical-align: middle;\n",
              "    }\n",
              "\n",
              "    .dataframe tbody tr th {\n",
              "        vertical-align: top;\n",
              "    }\n",
              "\n",
              "    .dataframe thead tr th {\n",
              "        text-align: left;\n",
              "    }\n",
              "\n",
              "    .dataframe thead tr:last-of-type th {\n",
              "        text-align: right;\n",
              "    }\n",
              "</style>\n",
              "<table border=\"1\" class=\"dataframe\">\n",
              "  <thead>\n",
              "    <tr>\n",
              "      <th></th>\n",
              "      <th></th>\n",
              "      <th colspan=\"4\" halign=\"left\">price</th>\n",
              "      <th>quantity_purchased</th>\n",
              "    </tr>\n",
              "    <tr>\n",
              "      <th></th>\n",
              "      <th></th>\n",
              "      <th>total_price</th>\n",
              "      <th>mean_price</th>\n",
              "      <th>variance_price</th>\n",
              "      <th>count</th>\n",
              "      <th>sum</th>\n",
              "    </tr>\n",
              "    <tr>\n",
              "      <th>user_class</th>\n",
              "      <th>user_type</th>\n",
              "      <th></th>\n",
              "      <th></th>\n",
              "      <th></th>\n",
              "      <th></th>\n",
              "      <th></th>\n",
              "    </tr>\n",
              "  </thead>\n",
              "  <tbody>\n",
              "    <tr>\n",
              "      <th>error</th>\n",
              "      <th>n</th>\n",
              "      <td>78412.93</td>\n",
              "      <td>2613.764333</td>\n",
              "      <td>2277.354978</td>\n",
              "      <td>31.0</td>\n",
              "      <td>679</td>\n",
              "    </tr>\n",
              "    <tr>\n",
              "      <th>existing</th>\n",
              "      <th>c</th>\n",
              "      <td>512284.21</td>\n",
              "      <td>2416.434953</td>\n",
              "      <td>1671.281233</td>\n",
              "      <td>219.0</td>\n",
              "      <td>4537</td>\n",
              "    </tr>\n",
              "    <tr>\n",
              "      <th>loyal_existing</th>\n",
              "      <th>d</th>\n",
              "      <td>590612.29</td>\n",
              "      <td>2262.882337</td>\n",
              "      <td>1521.002596</td>\n",
              "      <td>269.0</td>\n",
              "      <td>5524</td>\n",
              "    </tr>\n",
              "    <tr>\n",
              "      <th rowspan=\"2\" valign=\"top\">new</th>\n",
              "      <th>a</th>\n",
              "      <td>507222.65</td>\n",
              "      <td>2104.658299</td>\n",
              "      <td>1468.650332</td>\n",
              "      <td>248.0</td>\n",
              "      <td>5474</td>\n",
              "    </tr>\n",
              "    <tr>\n",
              "      <th>b</th>\n",
              "      <td>574005.28</td>\n",
              "      <td>2551.134578</td>\n",
              "      <td>1611.050013</td>\n",
              "      <td>233.0</td>\n",
              "      <td>5006</td>\n",
              "    </tr>\n",
              "  </tbody>\n",
              "</table>\n",
              "</div>"
            ],
            "text/plain": [
              "                               price               ...        quantity_purchased\n",
              "                         total_price   mean_price  ...  count                sum\n",
              "user_class     user_type                           ...                          \n",
              "error          n            78412.93  2613.764333  ...   31.0                679\n",
              "existing       c           512284.21  2416.434953  ...  219.0               4537\n",
              "loyal_existing d           590612.29  2262.882337  ...  269.0               5524\n",
              "new            a           507222.65  2104.658299  ...  248.0               5474\n",
              "               b           574005.28  2551.134578  ...  233.0               5006\n",
              "\n",
              "[5 rows x 5 columns]"
            ]
          },
          "metadata": {
            "tags": []
          }
        }
      ]
    },
    {
      "cell_type": "markdown",
      "metadata": {
        "id": "XVstfyDq0eb9",
        "colab_type": "text"
      },
      "source": [
        "### **Pivot Tables**"
      ]
    },
    {
      "cell_type": "code",
      "metadata": {
        "id": "dSpOn22a0BoW",
        "colab_type": "code",
        "colab": {
          "base_uri": "https://localhost:8080/",
          "height": 1000
        },
        "outputId": "cb8bf014-d36b-41b1-ff3c-b86ade986248"
      },
      "source": [
        "display(df.pivot_table(index='date', columns='user_type', values='price', aggfunc=np.mean))"
      ],
      "execution_count": 58,
      "outputs": [
        {
          "output_type": "display_data",
          "data": {
            "text/html": [
              "<div>\n",
              "<style scoped>\n",
              "    .dataframe tbody tr th:only-of-type {\n",
              "        vertical-align: middle;\n",
              "    }\n",
              "\n",
              "    .dataframe tbody tr th {\n",
              "        vertical-align: top;\n",
              "    }\n",
              "\n",
              "    .dataframe thead th {\n",
              "        text-align: right;\n",
              "    }\n",
              "</style>\n",
              "<table border=\"1\" class=\"dataframe\">\n",
              "  <thead>\n",
              "    <tr style=\"text-align: right;\">\n",
              "      <th>user_type</th>\n",
              "      <th>a</th>\n",
              "      <th>b</th>\n",
              "      <th>c</th>\n",
              "      <th>d</th>\n",
              "      <th>n</th>\n",
              "    </tr>\n",
              "    <tr>\n",
              "      <th>date</th>\n",
              "      <th></th>\n",
              "      <th></th>\n",
              "      <th></th>\n",
              "      <th></th>\n",
              "      <th></th>\n",
              "    </tr>\n",
              "  </thead>\n",
              "  <tbody>\n",
              "    <tr>\n",
              "      <th>2016-01-01</th>\n",
              "      <td>2360.730000</td>\n",
              "      <td>2495.096000</td>\n",
              "      <td>2552.750000</td>\n",
              "      <td>1003.740000</td>\n",
              "      <td>NaN</td>\n",
              "    </tr>\n",
              "    <tr>\n",
              "      <th>2016-01-02</th>\n",
              "      <td>NaN</td>\n",
              "      <td>2585.630000</td>\n",
              "      <td>3380.715000</td>\n",
              "      <td>3221.525000</td>\n",
              "      <td>1049.763333</td>\n",
              "    </tr>\n",
              "    <tr>\n",
              "      <th>2016-01-13</th>\n",
              "      <td>3643.733636</td>\n",
              "      <td>3164.737500</td>\n",
              "      <td>2465.897500</td>\n",
              "      <td>2150.992857</td>\n",
              "      <td>NaN</td>\n",
              "    </tr>\n",
              "    <tr>\n",
              "      <th>2016-01-14</th>\n",
              "      <td>1898.148182</td>\n",
              "      <td>1628.500000</td>\n",
              "      <td>3405.648889</td>\n",
              "      <td>2623.214000</td>\n",
              "      <td>NaN</td>\n",
              "    </tr>\n",
              "    <tr>\n",
              "      <th>2016-01-15</th>\n",
              "      <td>1759.955000</td>\n",
              "      <td>4074.144286</td>\n",
              "      <td>440.345000</td>\n",
              "      <td>2342.030000</td>\n",
              "      <td>2725.425000</td>\n",
              "    </tr>\n",
              "    <tr>\n",
              "      <th>2016-01-16</th>\n",
              "      <td>2032.100000</td>\n",
              "      <td>3303.661667</td>\n",
              "      <td>1722.183333</td>\n",
              "      <td>1585.260000</td>\n",
              "      <td>2654.220000</td>\n",
              "    </tr>\n",
              "    <tr>\n",
              "      <th>2016-01-17</th>\n",
              "      <td>1762.170000</td>\n",
              "      <td>1627.997500</td>\n",
              "      <td>3467.657500</td>\n",
              "      <td>1234.581429</td>\n",
              "      <td>NaN</td>\n",
              "    </tr>\n",
              "    <tr>\n",
              "      <th>2016-01-18</th>\n",
              "      <td>1939.475000</td>\n",
              "      <td>2754.012000</td>\n",
              "      <td>3461.632500</td>\n",
              "      <td>2650.680000</td>\n",
              "      <td>NaN</td>\n",
              "    </tr>\n",
              "    <tr>\n",
              "      <th>2016-01-19</th>\n",
              "      <td>1714.397500</td>\n",
              "      <td>960.695000</td>\n",
              "      <td>2193.397778</td>\n",
              "      <td>1973.841111</td>\n",
              "      <td>NaN</td>\n",
              "    </tr>\n",
              "    <tr>\n",
              "      <th>2016-01-20</th>\n",
              "      <td>688.380000</td>\n",
              "      <td>1686.525000</td>\n",
              "      <td>2072.630000</td>\n",
              "      <td>1433.358333</td>\n",
              "      <td>NaN</td>\n",
              "    </tr>\n",
              "    <tr>\n",
              "      <th>2016-01-21</th>\n",
              "      <td>2589.112000</td>\n",
              "      <td>2312.861667</td>\n",
              "      <td>2692.275455</td>\n",
              "      <td>2054.479000</td>\n",
              "      <td>2119.880000</td>\n",
              "    </tr>\n",
              "    <tr>\n",
              "      <th>2016-01-22</th>\n",
              "      <td>1630.355000</td>\n",
              "      <td>3022.186000</td>\n",
              "      <td>4332.770000</td>\n",
              "      <td>1796.715000</td>\n",
              "      <td>3570.965000</td>\n",
              "    </tr>\n",
              "    <tr>\n",
              "      <th>2016-01-23</th>\n",
              "      <td>2362.990000</td>\n",
              "      <td>2086.340000</td>\n",
              "      <td>3156.422500</td>\n",
              "      <td>3037.780000</td>\n",
              "      <td>NaN</td>\n",
              "    </tr>\n",
              "    <tr>\n",
              "      <th>2016-01-24</th>\n",
              "      <td>2337.216000</td>\n",
              "      <td>2059.404000</td>\n",
              "      <td>1709.864000</td>\n",
              "      <td>2575.228571</td>\n",
              "      <td>NaN</td>\n",
              "    </tr>\n",
              "    <tr>\n",
              "      <th>2016-01-25</th>\n",
              "      <td>1891.086000</td>\n",
              "      <td>1456.212000</td>\n",
              "      <td>4709.160000</td>\n",
              "      <td>3879.960000</td>\n",
              "      <td>2290.120000</td>\n",
              "    </tr>\n",
              "    <tr>\n",
              "      <th>2016-01-26</th>\n",
              "      <td>1809.952500</td>\n",
              "      <td>2581.905000</td>\n",
              "      <td>2561.848750</td>\n",
              "      <td>2342.765000</td>\n",
              "      <td>NaN</td>\n",
              "    </tr>\n",
              "    <tr>\n",
              "      <th>2016-01-27</th>\n",
              "      <td>2374.211250</td>\n",
              "      <td>2846.221000</td>\n",
              "      <td>1707.251667</td>\n",
              "      <td>832.225000</td>\n",
              "      <td>NaN</td>\n",
              "    </tr>\n",
              "    <tr>\n",
              "      <th>2016-01-28</th>\n",
              "      <td>2067.056364</td>\n",
              "      <td>1826.346667</td>\n",
              "      <td>2328.522222</td>\n",
              "      <td>2635.967500</td>\n",
              "      <td>926.140000</td>\n",
              "    </tr>\n",
              "    <tr>\n",
              "      <th>2016-01-29</th>\n",
              "      <td>1704.160000</td>\n",
              "      <td>3236.835000</td>\n",
              "      <td>3106.216667</td>\n",
              "      <td>3086.095000</td>\n",
              "      <td>NaN</td>\n",
              "    </tr>\n",
              "    <tr>\n",
              "      <th>2016-01-30</th>\n",
              "      <td>2156.995000</td>\n",
              "      <td>1664.540000</td>\n",
              "      <td>1424.384286</td>\n",
              "      <td>2653.264000</td>\n",
              "      <td>NaN</td>\n",
              "    </tr>\n",
              "    <tr>\n",
              "      <th>2016-01-31</th>\n",
              "      <td>1925.813750</td>\n",
              "      <td>3907.702000</td>\n",
              "      <td>564.403333</td>\n",
              "      <td>3251.908000</td>\n",
              "      <td>NaN</td>\n",
              "    </tr>\n",
              "    <tr>\n",
              "      <th>2016-02-01</th>\n",
              "      <td>1458.774286</td>\n",
              "      <td>3243.293333</td>\n",
              "      <td>1440.217143</td>\n",
              "      <td>1939.592500</td>\n",
              "      <td>NaN</td>\n",
              "    </tr>\n",
              "    <tr>\n",
              "      <th>2016-02-02</th>\n",
              "      <td>1422.310000</td>\n",
              "      <td>2629.053333</td>\n",
              "      <td>2700.537143</td>\n",
              "      <td>1929.497500</td>\n",
              "      <td>NaN</td>\n",
              "    </tr>\n",
              "    <tr>\n",
              "      <th>2016-03-01</th>\n",
              "      <td>2542.202000</td>\n",
              "      <td>2107.535000</td>\n",
              "      <td>3225.835000</td>\n",
              "      <td>2497.406000</td>\n",
              "      <td>NaN</td>\n",
              "    </tr>\n",
              "    <tr>\n",
              "      <th>2016-03-02</th>\n",
              "      <td>2737.354000</td>\n",
              "      <td>625.840000</td>\n",
              "      <td>2027.406000</td>\n",
              "      <td>2133.529091</td>\n",
              "      <td>NaN</td>\n",
              "    </tr>\n",
              "    <tr>\n",
              "      <th>2016-04-01</th>\n",
              "      <td>730.214000</td>\n",
              "      <td>3482.296000</td>\n",
              "      <td>1915.730000</td>\n",
              "      <td>2156.646000</td>\n",
              "      <td>NaN</td>\n",
              "    </tr>\n",
              "    <tr>\n",
              "      <th>2016-04-02</th>\n",
              "      <td>1597.160000</td>\n",
              "      <td>4141.056667</td>\n",
              "      <td>3783.736667</td>\n",
              "      <td>2515.786000</td>\n",
              "      <td>2759.105000</td>\n",
              "    </tr>\n",
              "    <tr>\n",
              "      <th>2016-05-01</th>\n",
              "      <td>1750.810000</td>\n",
              "      <td>2881.526667</td>\n",
              "      <td>5987.815000</td>\n",
              "      <td>1707.992500</td>\n",
              "      <td>NaN</td>\n",
              "    </tr>\n",
              "    <tr>\n",
              "      <th>2016-05-02</th>\n",
              "      <td>1889.150000</td>\n",
              "      <td>1080.135000</td>\n",
              "      <td>1601.370909</td>\n",
              "      <td>2171.318750</td>\n",
              "      <td>NaN</td>\n",
              "    </tr>\n",
              "    <tr>\n",
              "      <th>2016-06-01</th>\n",
              "      <td>1964.182000</td>\n",
              "      <td>2621.781000</td>\n",
              "      <td>1614.105000</td>\n",
              "      <td>2573.558333</td>\n",
              "      <td>NaN</td>\n",
              "    </tr>\n",
              "    <tr>\n",
              "      <th>2016-06-02</th>\n",
              "      <td>3062.953333</td>\n",
              "      <td>1920.605000</td>\n",
              "      <td>2751.714000</td>\n",
              "      <td>3437.616250</td>\n",
              "      <td>1654.070000</td>\n",
              "    </tr>\n",
              "    <tr>\n",
              "      <th>2016-07-01</th>\n",
              "      <td>2400.003333</td>\n",
              "      <td>2434.808000</td>\n",
              "      <td>NaN</td>\n",
              "      <td>1649.660000</td>\n",
              "      <td>NaN</td>\n",
              "    </tr>\n",
              "    <tr>\n",
              "      <th>2016-07-02</th>\n",
              "      <td>2137.266667</td>\n",
              "      <td>677.540000</td>\n",
              "      <td>2306.470000</td>\n",
              "      <td>2369.542500</td>\n",
              "      <td>NaN</td>\n",
              "    </tr>\n",
              "    <tr>\n",
              "      <th>2016-08-01</th>\n",
              "      <td>2058.403333</td>\n",
              "      <td>3146.305000</td>\n",
              "      <td>2392.152857</td>\n",
              "      <td>2136.175714</td>\n",
              "      <td>NaN</td>\n",
              "    </tr>\n",
              "    <tr>\n",
              "      <th>2016-08-02</th>\n",
              "      <td>2074.703333</td>\n",
              "      <td>2206.215000</td>\n",
              "      <td>1751.708571</td>\n",
              "      <td>2244.717000</td>\n",
              "      <td>NaN</td>\n",
              "    </tr>\n",
              "    <tr>\n",
              "      <th>2016-09-01</th>\n",
              "      <td>1890.772500</td>\n",
              "      <td>2282.619167</td>\n",
              "      <td>2161.271667</td>\n",
              "      <td>2767.160000</td>\n",
              "      <td>NaN</td>\n",
              "    </tr>\n",
              "    <tr>\n",
              "      <th>2016-09-02</th>\n",
              "      <td>2341.220000</td>\n",
              "      <td>1869.036667</td>\n",
              "      <td>2303.457500</td>\n",
              "      <td>2444.832857</td>\n",
              "      <td>NaN</td>\n",
              "    </tr>\n",
              "    <tr>\n",
              "      <th>2016-10-01</th>\n",
              "      <td>1899.562000</td>\n",
              "      <td>1872.850000</td>\n",
              "      <td>2329.400000</td>\n",
              "      <td>2786.020000</td>\n",
              "      <td>4575.310000</td>\n",
              "    </tr>\n",
              "    <tr>\n",
              "      <th>2016-10-02</th>\n",
              "      <td>2082.615000</td>\n",
              "      <td>2762.883750</td>\n",
              "      <td>516.000000</td>\n",
              "      <td>860.562500</td>\n",
              "      <td>NaN</td>\n",
              "    </tr>\n",
              "    <tr>\n",
              "      <th>2016-11-01</th>\n",
              "      <td>1726.200000</td>\n",
              "      <td>3343.560000</td>\n",
              "      <td>2620.945000</td>\n",
              "      <td>1730.912500</td>\n",
              "      <td>NaN</td>\n",
              "    </tr>\n",
              "    <tr>\n",
              "      <th>2016-11-02</th>\n",
              "      <td>2382.905000</td>\n",
              "      <td>2589.236667</td>\n",
              "      <td>2739.326667</td>\n",
              "      <td>2328.838000</td>\n",
              "      <td>7485.500000</td>\n",
              "    </tr>\n",
              "    <tr>\n",
              "      <th>2016-12-01</th>\n",
              "      <td>2089.267500</td>\n",
              "      <td>3297.600000</td>\n",
              "      <td>1746.932500</td>\n",
              "      <td>2557.225714</td>\n",
              "      <td>NaN</td>\n",
              "    </tr>\n",
              "  </tbody>\n",
              "</table>\n",
              "</div>"
            ],
            "text/plain": [
              "user_type             a            b            c            d            n\n",
              "date                                                                       \n",
              "2016-01-01  2360.730000  2495.096000  2552.750000  1003.740000          NaN\n",
              "2016-01-02          NaN  2585.630000  3380.715000  3221.525000  1049.763333\n",
              "2016-01-13  3643.733636  3164.737500  2465.897500  2150.992857          NaN\n",
              "2016-01-14  1898.148182  1628.500000  3405.648889  2623.214000          NaN\n",
              "2016-01-15  1759.955000  4074.144286   440.345000  2342.030000  2725.425000\n",
              "2016-01-16  2032.100000  3303.661667  1722.183333  1585.260000  2654.220000\n",
              "2016-01-17  1762.170000  1627.997500  3467.657500  1234.581429          NaN\n",
              "2016-01-18  1939.475000  2754.012000  3461.632500  2650.680000          NaN\n",
              "2016-01-19  1714.397500   960.695000  2193.397778  1973.841111          NaN\n",
              "2016-01-20   688.380000  1686.525000  2072.630000  1433.358333          NaN\n",
              "2016-01-21  2589.112000  2312.861667  2692.275455  2054.479000  2119.880000\n",
              "2016-01-22  1630.355000  3022.186000  4332.770000  1796.715000  3570.965000\n",
              "2016-01-23  2362.990000  2086.340000  3156.422500  3037.780000          NaN\n",
              "2016-01-24  2337.216000  2059.404000  1709.864000  2575.228571          NaN\n",
              "2016-01-25  1891.086000  1456.212000  4709.160000  3879.960000  2290.120000\n",
              "2016-01-26  1809.952500  2581.905000  2561.848750  2342.765000          NaN\n",
              "2016-01-27  2374.211250  2846.221000  1707.251667   832.225000          NaN\n",
              "2016-01-28  2067.056364  1826.346667  2328.522222  2635.967500   926.140000\n",
              "2016-01-29  1704.160000  3236.835000  3106.216667  3086.095000          NaN\n",
              "2016-01-30  2156.995000  1664.540000  1424.384286  2653.264000          NaN\n",
              "2016-01-31  1925.813750  3907.702000   564.403333  3251.908000          NaN\n",
              "2016-02-01  1458.774286  3243.293333  1440.217143  1939.592500          NaN\n",
              "2016-02-02  1422.310000  2629.053333  2700.537143  1929.497500          NaN\n",
              "2016-03-01  2542.202000  2107.535000  3225.835000  2497.406000          NaN\n",
              "2016-03-02  2737.354000   625.840000  2027.406000  2133.529091          NaN\n",
              "2016-04-01   730.214000  3482.296000  1915.730000  2156.646000          NaN\n",
              "2016-04-02  1597.160000  4141.056667  3783.736667  2515.786000  2759.105000\n",
              "2016-05-01  1750.810000  2881.526667  5987.815000  1707.992500          NaN\n",
              "2016-05-02  1889.150000  1080.135000  1601.370909  2171.318750          NaN\n",
              "2016-06-01  1964.182000  2621.781000  1614.105000  2573.558333          NaN\n",
              "2016-06-02  3062.953333  1920.605000  2751.714000  3437.616250  1654.070000\n",
              "2016-07-01  2400.003333  2434.808000          NaN  1649.660000          NaN\n",
              "2016-07-02  2137.266667   677.540000  2306.470000  2369.542500          NaN\n",
              "2016-08-01  2058.403333  3146.305000  2392.152857  2136.175714          NaN\n",
              "2016-08-02  2074.703333  2206.215000  1751.708571  2244.717000          NaN\n",
              "2016-09-01  1890.772500  2282.619167  2161.271667  2767.160000          NaN\n",
              "2016-09-02  2341.220000  1869.036667  2303.457500  2444.832857          NaN\n",
              "2016-10-01  1899.562000  1872.850000  2329.400000  2786.020000  4575.310000\n",
              "2016-10-02  2082.615000  2762.883750   516.000000   860.562500          NaN\n",
              "2016-11-01  1726.200000  3343.560000  2620.945000  1730.912500          NaN\n",
              "2016-11-02  2382.905000  2589.236667  2739.326667  2328.838000  7485.500000\n",
              "2016-12-01  2089.267500  3297.600000  1746.932500  2557.225714          NaN"
            ]
          },
          "metadata": {
            "tags": []
          }
        }
      ]
    },
    {
      "cell_type": "markdown",
      "metadata": {
        "id": "ti6KtFf7001R",
        "colab_type": "text"
      },
      "source": [
        "### **Stacking**"
      ]
    },
    {
      "cell_type": "code",
      "metadata": {
        "id": "NQAoTJyN0gfq",
        "colab_type": "code",
        "colab": {
          "base_uri": "https://localhost:8080/",
          "height": 221
        },
        "outputId": "cfeb1c4e-5c24-4a19-dc6a-6c9a7a9b417b"
      },
      "source": [
        "print(df.stack())"
      ],
      "execution_count": 59,
      "outputs": [
        {
          "output_type": "stream",
          "text": [
            "0    serial_no                1000\n",
            "     user_id                  -101\n",
            "     product_id                  0\n",
            "     quantity_purchased         12\n",
            "     price                 1379.22\n",
            "                            ...   \n",
            "999  price                  164.45\n",
            "     user_type                   a\n",
            "     user_class                new\n",
            "     purchase_week              39\n",
            "     encoded_user_type           0\n",
            "Length: 9907, dtype: object\n"
          ],
          "name": "stdout"
        }
      ]
    },
    {
      "cell_type": "code",
      "metadata": {
        "id": "DSpDlPqC07-_",
        "colab_type": "code",
        "colab": {}
      },
      "source": [
        ""
      ],
      "execution_count": 0,
      "outputs": []
    }
  ]
}