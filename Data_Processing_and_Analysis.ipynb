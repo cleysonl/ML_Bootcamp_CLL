{
  "nbformat": 4,
  "nbformat_minor": 0,
  "metadata": {
    "colab": {
      "name": "Data Processing and Analysis.ipynb",
      "provenance": [],
      "authorship_tag": "ABX9TyMVSHgs5Cg3WKmDPL4S+zBz",
      "include_colab_link": true
    },
    "kernelspec": {
      "name": "python3",
      "display_name": "Python 3"
    }
  },
  "cells": [
    {
      "cell_type": "markdown",
      "metadata": {
        "id": "view-in-github",
        "colab_type": "text"
      },
      "source": [
        "<a href=\"https://colab.research.google.com/github/cleysonl/ML_Bootcamp_CLL/blob/master/Data_Processing_and_Analysis.ipynb\" target=\"_parent\"><img src=\"https://colab.research.google.com/assets/colab-badge.svg\" alt=\"Open In Colab\"/></a>"
      ]
    },
    {
      "cell_type": "markdown",
      "metadata": {
        "id": "VbXQXjG_xHsS",
        "colab_type": "text"
      },
      "source": [
        "# **Data Processing and Analysis**"
      ]
    },
    {
      "cell_type": "code",
      "metadata": {
        "id": "-f2o6C_sw73C",
        "colab_type": "code",
        "colab": {}
      },
      "source": [
        "import datetime\n",
        "import random\n",
        "from random import randrange\n",
        "import numpy as np\n",
        "import pandas as pd"
      ],
      "execution_count": 0,
      "outputs": []
    },
    {
      "cell_type": "code",
      "metadata": {
        "id": "uxv9stE5xKNy",
        "colab_type": "code",
        "colab": {}
      },
      "source": [
        "def _random_date(start,date_count):\n",
        "    \"\"\"This function generates a random date based on params\n",
        "    Args:\n",
        "        start (date object): the base date\n",
        "        date_count (int): number of dates to be generated\n",
        "    Returns:\n",
        "        list of random dates\n",
        "\n",
        "    \"\"\"\n",
        "    current = start\n",
        "    while date_count > 0:\n",
        "        curr = current + datetime.timedelta(days=randrange(42))\n",
        "        yield curr\n",
        "        date_count-=1\n",
        "        \n",
        "        \n",
        "\n",
        "def generate_sample_data(row_count=100):\n",
        "    \"\"\"This function generates a random transaction dataset\n",
        "    Args:\n",
        "        row_count (int): number of rows for the dataframe\n",
        "    Returns:\n",
        "        a pandas dataframe\n",
        "\n",
        "    \"\"\"\n",
        "\n",
        "    # sentinels\n",
        "    startDate = datetime.datetime(2016, 1, 1, 13)\n",
        "    serial_number_sentinel = 1000\n",
        "    user_id_sentinel = 5001\n",
        "    product_id_sentinel = 101\n",
        "    price_sentinel = 2000\n",
        "\n",
        "    # base list of attributes\n",
        "    data_dict = {\n",
        "        'Serial No':\n",
        "        np.arange(row_count) + serial_number_sentinel,\n",
        "        'Date':\n",
        "        np.random.permutation(\n",
        "            pd.to_datetime([\n",
        "                x.strftime(\"%d-%m-%Y\")\n",
        "                for x in _random_date(startDate, row_count)\n",
        "            ]).date),\n",
        "        'User ID':\n",
        "        np.random.permutation(\n",
        "            np.random.randint(0, row_count, size=int(row_count / 10)) +\n",
        "            user_id_sentinel).tolist() * 10,\n",
        "        'Product ID':\n",
        "        np.random.permutation(\n",
        "            np.random.randint(0, row_count, size=int(row_count / 10)) +\n",
        "            product_id_sentinel).tolist() * 10,\n",
        "        'Quantity Purchased':\n",
        "        np.random.permutation(np.random.randint(1, 42, size=row_count)),\n",
        "        'Price':\n",
        "        np.round(\n",
        "            np.abs(np.random.randn(row_count) + 1) * price_sentinel,\n",
        "            decimals=2),\n",
        "        'User Type':\n",
        "        np.random.permutation(\n",
        "            [chr(random.randrange(97, 97 + 3 + 1)) for i in range(row_count)])\n",
        "    }\n",
        "\n",
        "    # introduce missing values\n",
        "    for index in range(int(np.sqrt(row_count))):\n",
        "        data_dict['Price'][np.argmax(\n",
        "            data_dict['Price'] == random.choice(data_dict['Price']))] = np.nan\n",
        "        data_dict['User Type'][np.argmax(\n",
        "            data_dict['User Type'] == random.choice(\n",
        "                data_dict['User Type']))] = np.nan\n",
        "        data_dict['Date'][np.argmax(\n",
        "            data_dict['Date'] == random.choice(data_dict['Date']))] = np.nan\n",
        "        data_dict['Product ID'][np.argmax(data_dict['Product ID'] == random.\n",
        "                                          choice(data_dict['Product ID']))] = 0\n",
        "        data_dict['Serial No'][np.argmax(data_dict['Serial No'] == random.\n",
        "                                         choice(data_dict['Serial No']))] = -1\n",
        "        data_dict['User ID'][np.argmax(data_dict['User ID'] == random.choice(\n",
        "            data_dict['User ID']))] = -101\n",
        "\n",
        "    # create data frame\n",
        "    df = pd.DataFrame(data_dict)\n",
        "\n",
        "    return df"
      ],
      "execution_count": 0,
      "outputs": []
    },
    {
      "cell_type": "markdown",
      "metadata": {
        "id": "CAwU-8uy3rdB",
        "colab_type": "text"
      },
      "source": [
        "## **Import dependencies**"
      ]
    },
    {
      "cell_type": "code",
      "metadata": {
        "id": "AcN_hiPT3u1S",
        "colab_type": "code",
        "colab": {}
      },
      "source": [
        "import numpy as np\n",
        "import pandas as pd\n",
        "from IPython.display import display\n",
        "from sklearn import preprocessing\n",
        "\n",
        "pd.options.mode.chained_assignment = None"
      ],
      "execution_count": 0,
      "outputs": []
    },
    {
      "cell_type": "markdown",
      "metadata": {
        "id": "t6FF37E_3v7x",
        "colab_type": "text"
      },
      "source": [
        "## **Generate dataset**"
      ]
    },
    {
      "cell_type": "code",
      "metadata": {
        "id": "JROm_oSG3zOB",
        "colab_type": "code",
        "outputId": "dd8e7073-035c-45f9-8eb6-e379afcaf042",
        "colab": {
          "base_uri": "https://localhost:8080/",
          "height": 34
        }
      },
      "source": [
        "# Generate a dataset with 1000 rows\n",
        "df = generate_sample_data(row_count=1000)\n",
        "df.shape"
      ],
      "execution_count": 12,
      "outputs": [
        {
          "output_type": "execute_result",
          "data": {
            "text/plain": [
              "(1000, 7)"
            ]
          },
          "metadata": {
            "tags": []
          },
          "execution_count": 12
        }
      ]
    },
    {
      "cell_type": "markdown",
      "metadata": {
        "id": "SDKjuXdt5kqM",
        "colab_type": "text"
      },
      "source": [
        "### **Analyze generated Dataset**"
      ]
    },
    {
      "cell_type": "code",
      "metadata": {
        "id": "XtQfNh295pX3",
        "colab_type": "code",
        "outputId": "6b96838a-6194-4de5-b94b-05a938a8367a",
        "colab": {
          "base_uri": "https://localhost:8080/",
          "height": 204
        }
      },
      "source": [
        "df.head()"
      ],
      "execution_count": 13,
      "outputs": [
        {
          "output_type": "execute_result",
          "data": {
            "text/html": [
              "<div>\n",
              "<style scoped>\n",
              "    .dataframe tbody tr th:only-of-type {\n",
              "        vertical-align: middle;\n",
              "    }\n",
              "\n",
              "    .dataframe tbody tr th {\n",
              "        vertical-align: top;\n",
              "    }\n",
              "\n",
              "    .dataframe thead th {\n",
              "        text-align: right;\n",
              "    }\n",
              "</style>\n",
              "<table border=\"1\" class=\"dataframe\">\n",
              "  <thead>\n",
              "    <tr style=\"text-align: right;\">\n",
              "      <th></th>\n",
              "      <th>Serial No</th>\n",
              "      <th>Date</th>\n",
              "      <th>User ID</th>\n",
              "      <th>Product ID</th>\n",
              "      <th>Quantity Purchased</th>\n",
              "      <th>Price</th>\n",
              "      <th>User Type</th>\n",
              "    </tr>\n",
              "  </thead>\n",
              "  <tbody>\n",
              "    <tr>\n",
              "      <th>0</th>\n",
              "      <td>1000</td>\n",
              "      <td>NaN</td>\n",
              "      <td>-101</td>\n",
              "      <td>0</td>\n",
              "      <td>6</td>\n",
              "      <td>3690.50</td>\n",
              "      <td>n</td>\n",
              "    </tr>\n",
              "    <tr>\n",
              "      <th>1</th>\n",
              "      <td>-1</td>\n",
              "      <td>2016-01-01</td>\n",
              "      <td>5400</td>\n",
              "      <td>1054</td>\n",
              "      <td>7</td>\n",
              "      <td>159.62</td>\n",
              "      <td>n</td>\n",
              "    </tr>\n",
              "    <tr>\n",
              "      <th>2</th>\n",
              "      <td>1002</td>\n",
              "      <td>NaN</td>\n",
              "      <td>5304</td>\n",
              "      <td>124</td>\n",
              "      <td>3</td>\n",
              "      <td>4280.63</td>\n",
              "      <td>n</td>\n",
              "    </tr>\n",
              "    <tr>\n",
              "      <th>3</th>\n",
              "      <td>1003</td>\n",
              "      <td>2016-03-02</td>\n",
              "      <td>5493</td>\n",
              "      <td>903</td>\n",
              "      <td>6</td>\n",
              "      <td>2157.57</td>\n",
              "      <td>n</td>\n",
              "    </tr>\n",
              "    <tr>\n",
              "      <th>4</th>\n",
              "      <td>1004</td>\n",
              "      <td>NaN</td>\n",
              "      <td>5141</td>\n",
              "      <td>241</td>\n",
              "      <td>22</td>\n",
              "      <td>6850.55</td>\n",
              "      <td>n</td>\n",
              "    </tr>\n",
              "  </tbody>\n",
              "</table>\n",
              "</div>"
            ],
            "text/plain": [
              "   Serial No        Date  User ID  ...  Quantity Purchased    Price  User Type\n",
              "0       1000         NaN     -101  ...                   6  3690.50          n\n",
              "1         -1  2016-01-01     5400  ...                   7   159.62          n\n",
              "2       1002         NaN     5304  ...                   3  4280.63          n\n",
              "3       1003  2016-03-02     5493  ...                   6  2157.57          n\n",
              "4       1004         NaN     5141  ...                  22  6850.55          n\n",
              "\n",
              "[5 rows x 7 columns]"
            ]
          },
          "metadata": {
            "tags": []
          },
          "execution_count": 13
        }
      ]
    },
    {
      "cell_type": "markdown",
      "metadata": {
        "id": "U6YqahUK7pbR",
        "colab_type": "text"
      },
      "source": [
        "**Dataframe stats**"
      ]
    },
    {
      "cell_type": "code",
      "metadata": {
        "id": "-CmOCxrX5rL_",
        "colab_type": "code",
        "outputId": "73c0ea5f-52b8-4f73-f794-7860af5403fa",
        "colab": {
          "base_uri": "https://localhost:8080/",
          "height": 34
        }
      },
      "source": [
        "print('Number of rows:', df.shape[0])"
      ],
      "execution_count": 14,
      "outputs": [
        {
          "output_type": "stream",
          "text": [
            "Number of rows: 1000\n"
          ],
          "name": "stdout"
        }
      ]
    },
    {
      "cell_type": "code",
      "metadata": {
        "id": "-X6A5Jmq58yu",
        "colab_type": "code",
        "outputId": "2175f611-5ea4-4d5c-c262-c779ce037fac",
        "colab": {
          "base_uri": "https://localhost:8080/",
          "height": 34
        }
      },
      "source": [
        "print('Number of columns:', df.shape[1])"
      ],
      "execution_count": 15,
      "outputs": [
        {
          "output_type": "stream",
          "text": [
            "Number of columns: 7\n"
          ],
          "name": "stdout"
        }
      ]
    },
    {
      "cell_type": "code",
      "metadata": {
        "id": "MMEPmC3Q6B7o",
        "colab_type": "code",
        "colab": {
          "base_uri": "https://localhost:8080/",
          "height": 170
        },
        "outputId": "9e62c6a6-fedf-477f-eacc-28f420e9f199"
      },
      "source": [
        "print('Column data types: \\n', df.dtypes)"
      ],
      "execution_count": 17,
      "outputs": [
        {
          "output_type": "stream",
          "text": [
            "Column data types: \n",
            " Serial No               int64\n",
            "Date                   object\n",
            "User ID                 int64\n",
            "Product ID              int64\n",
            "Quantity Purchased      int64\n",
            "Price                 float64\n",
            "User Type              object\n",
            "dtype: object\n"
          ],
          "name": "stdout"
        }
      ]
    },
    {
      "cell_type": "code",
      "metadata": {
        "id": "u1W2uQgD6gGY",
        "colab_type": "code",
        "colab": {
          "base_uri": "https://localhost:8080/",
          "height": 34
        },
        "outputId": "90136639-0fe1-4ae8-cf7a-67eb31d2052f"
      },
      "source": [
        "print('Columns with missing values:', df.columns[df.isnull().any()].tolist())"
      ],
      "execution_count": 19,
      "outputs": [
        {
          "output_type": "stream",
          "text": [
            "Columns with missing values: ['Date', 'Price']\n"
          ],
          "name": "stdout"
        }
      ]
    },
    {
      "cell_type": "code",
      "metadata": {
        "id": "TTguaQDz63EJ",
        "colab_type": "code",
        "colab": {
          "base_uri": "https://localhost:8080/",
          "height": 88
        },
        "outputId": "80d41bc9-7341-4c60-8215-0795c2a91b19"
      },
      "source": [
        "print('Number of rows with Missing values:', len(pd.isnull(df).any(1).nonzero()[0].tolist()))"
      ],
      "execution_count": 21,
      "outputs": [
        {
          "output_type": "stream",
          "text": [
            "Number of rows with Missing values: 60\n"
          ],
          "name": "stdout"
        },
        {
          "output_type": "stream",
          "text": [
            "/usr/local/lib/python3.6/dist-packages/ipykernel_launcher.py:1: FutureWarning: Series.nonzero() is deprecated and will be removed in a future version.Use Series.to_numpy().nonzero() instead\n",
            "  \"\"\"Entry point for launching an IPython kernel.\n"
          ],
          "name": "stderr"
        }
      ]
    },
    {
      "cell_type": "markdown",
      "metadata": {
        "id": "2z-f4Kvc7wP6",
        "colab_type": "text"
      },
      "source": [
        "**General Stats**"
      ]
    },
    {
      "cell_type": "code",
      "metadata": {
        "id": "IfMoaCwc7OJL",
        "colab_type": "code",
        "colab": {
          "base_uri": "https://localhost:8080/",
          "height": 238
        },
        "outputId": "8f21dc71-f699-40ef-e062-05006d8827e5"
      },
      "source": [
        "print(df.info())"
      ],
      "execution_count": 22,
      "outputs": [
        {
          "output_type": "stream",
          "text": [
            "<class 'pandas.core.frame.DataFrame'>\n",
            "RangeIndex: 1000 entries, 0 to 999\n",
            "Data columns (total 7 columns):\n",
            "Serial No             1000 non-null int64\n",
            "Date                  969 non-null object\n",
            "User ID               1000 non-null int64\n",
            "Product ID            1000 non-null int64\n",
            "Quantity Purchased    1000 non-null int64\n",
            "Price                 969 non-null float64\n",
            "User Type             1000 non-null object\n",
            "dtypes: float64(1), int64(4), object(2)\n",
            "memory usage: 54.8+ KB\n",
            "None\n"
          ],
          "name": "stdout"
        }
      ]
    },
    {
      "cell_type": "code",
      "metadata": {
        "id": "3st26Fr37y7N",
        "colab_type": "code",
        "colab": {
          "base_uri": "https://localhost:8080/",
          "height": 170
        },
        "outputId": "6df9408e-5257-4cbc-d195-3c0906f078b0"
      },
      "source": [
        "print(df.describe())"
      ],
      "execution_count": 23,
      "outputs": [
        {
          "output_type": "stream",
          "text": [
            "         Serial No      User ID   Product ID  Quantity Purchased        Price\n",
            "count  1000.000000  1000.000000  1000.000000          1000.00000   969.000000\n",
            "mean   1454.085000  5485.533000   641.354000            21.01600  2358.206770\n",
            "std     384.806125   342.345178   291.477563            11.92451  1607.567586\n",
            "min      -1.000000  -101.000000     0.000000             1.00000    11.860000\n",
            "25%    1228.750000  5228.000000   376.000000            11.00000  1090.010000\n",
            "50%    1484.500000  5506.000000   664.000000            21.00000  2198.970000\n",
            "75%    1740.250000  5722.500000   909.000000            31.00000  3366.410000\n",
            "max    1999.000000  5999.000000  1095.000000            41.00000  9500.200000\n"
          ],
          "name": "stdout"
        }
      ]
    },
    {
      "cell_type": "code",
      "metadata": {
        "id": "PGGXktPY8EPZ",
        "colab_type": "code",
        "colab": {}
      },
      "source": [
        ""
      ],
      "execution_count": 0,
      "outputs": []
    },
    {
      "cell_type": "markdown",
      "metadata": {
        "id": "CQb5v7lh8m5c",
        "colab_type": "text"
      },
      "source": [
        "###"
      ]
    },
    {
      "cell_type": "markdown",
      "metadata": {
        "id": "qsAkyKOf8nf5",
        "colab_type": "text"
      },
      "source": [
        " ### **Standardize Columns**"
      ]
    },
    {
      "cell_type": "code",
      "metadata": {
        "id": "SYjIb3aZ8qHW",
        "colab_type": "code",
        "colab": {}
      },
      "source": [
        ""
      ],
      "execution_count": 0,
      "outputs": []
    }
  ]
}