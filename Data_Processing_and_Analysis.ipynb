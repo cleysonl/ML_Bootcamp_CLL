{
  "nbformat": 4,
  "nbformat_minor": 0,
  "metadata": {
    "colab": {
      "name": "Data Processing and Analysis.ipynb",
      "provenance": [],
      "authorship_tag": "ABX9TyMc1JxPuylcKv5ypmGgHsfW",
      "include_colab_link": true
    },
    "kernelspec": {
      "name": "python3",
      "display_name": "Python 3"
    }
  },
  "cells": [
    {
      "cell_type": "markdown",
      "metadata": {
        "id": "view-in-github",
        "colab_type": "text"
      },
      "source": [
        "<a href=\"https://colab.research.google.com/github/cleysonl/ML_Bootcamp_CLL/blob/master/Data_Processing_and_Analysis.ipynb\" target=\"_parent\"><img src=\"https://colab.research.google.com/assets/colab-badge.svg\" alt=\"Open In Colab\"/></a>"
      ]
    },
    {
      "cell_type": "markdown",
      "metadata": {
        "id": "VbXQXjG_xHsS",
        "colab_type": "text"
      },
      "source": [
        "# **Data Processing and Analysis**"
      ]
    },
    {
      "cell_type": "code",
      "metadata": {
        "id": "-f2o6C_sw73C",
        "colab_type": "code",
        "colab": {}
      },
      "source": [
        "import datetime\n",
        "import random\n",
        "from random import randrange\n",
        "import numpy as np\n",
        "import pandas as pd"
      ],
      "execution_count": 0,
      "outputs": []
    },
    {
      "cell_type": "code",
      "metadata": {
        "id": "uxv9stE5xKNy",
        "colab_type": "code",
        "colab": {}
      },
      "source": [
        "def _random_date(start,date_count):\n",
        "    \"\"\"This function generates a random date based on params\n",
        "    Args:\n",
        "        start (date object): the base date\n",
        "        date_count (int): number of dates to be generated\n",
        "    Returns:\n",
        "        list of random dates\n",
        "\n",
        "    \"\"\"\n",
        "    current = start\n",
        "    while date_count > 0:\n",
        "        curr = current + datetime.timedelta(days=randrange(42))\n",
        "        yield curr\n",
        "        date_count-=1\n",
        "        \n",
        "        \n",
        "\n",
        "def generate_sample_data(row_count=100):\n",
        "    \"\"\"This function generates a random transaction dataset\n",
        "    Args:\n",
        "        row_count (int): number of rows for the dataframe\n",
        "    Returns:\n",
        "        a pandas dataframe\n",
        "\n",
        "    \"\"\"\n",
        "\n",
        "    # sentinels\n",
        "    startDate = datetime.datetime(2016, 1, 1, 13)\n",
        "    serial_number_sentinel = 1000\n",
        "    user_id_sentinel = 5001\n",
        "    product_id_sentinel = 101\n",
        "    price_sentinel = 2000\n",
        "\n",
        "    # base list of attributes\n",
        "    data_dict = {\n",
        "        'Serial No':\n",
        "        np.arange(row_count) + serial_number_sentinel,\n",
        "        'Date':\n",
        "        np.random.permutation(\n",
        "            pd.to_datetime([\n",
        "                x.strftime(\"%d-%m-%Y\")\n",
        "                for x in _random_date(startDate, row_count)\n",
        "            ]).date),\n",
        "        'User ID':\n",
        "        np.random.permutation(\n",
        "            np.random.randint(0, row_count, size=int(row_count / 10)) +\n",
        "            user_id_sentinel).tolist() * 10,\n",
        "        'Product ID':\n",
        "        np.random.permutation(\n",
        "            np.random.randint(0, row_count, size=int(row_count / 10)) +\n",
        "            product_id_sentinel).tolist() * 10,\n",
        "        'Quantity Purchased':\n",
        "        np.random.permutation(np.random.randint(1, 42, size=row_count)),\n",
        "        'Price':\n",
        "        np.round(\n",
        "            np.abs(np.random.randn(row_count) + 1) * price_sentinel,\n",
        "            decimals=2),\n",
        "        'User Type':\n",
        "        np.random.permutation(\n",
        "            [chr(random.randrange(97, 97 + 3 + 1)) for i in range(row_count)])\n",
        "    }\n",
        "\n",
        "    # introduce missing values\n",
        "    for index in range(int(np.sqrt(row_count))):\n",
        "        data_dict['Price'][np.argmax(\n",
        "            data_dict['Price'] == random.choice(data_dict['Price']))] = np.nan\n",
        "        data_dict['User Type'][np.argmax(\n",
        "            data_dict['User Type'] == random.choice(\n",
        "                data_dict['User Type']))] = np.nan\n",
        "        data_dict['Date'][np.argmax(\n",
        "            data_dict['Date'] == random.choice(data_dict['Date']))] = np.nan\n",
        "        data_dict['Product ID'][np.argmax(data_dict['Product ID'] == random.\n",
        "                                          choice(data_dict['Product ID']))] = 0\n",
        "        data_dict['Serial No'][np.argmax(data_dict['Serial No'] == random.\n",
        "                                         choice(data_dict['Serial No']))] = -1\n",
        "        data_dict['User ID'][np.argmax(data_dict['User ID'] == random.choice(\n",
        "            data_dict['User ID']))] = -101\n",
        "\n",
        "    # create data frame\n",
        "    df = pd.DataFrame(data_dict)\n",
        "\n",
        "    return df"
      ],
      "execution_count": 0,
      "outputs": []
    },
    {
      "cell_type": "markdown",
      "metadata": {
        "id": "CAwU-8uy3rdB",
        "colab_type": "text"
      },
      "source": [
        "## **Import dependencies**"
      ]
    },
    {
      "cell_type": "code",
      "metadata": {
        "id": "AcN_hiPT3u1S",
        "colab_type": "code",
        "colab": {}
      },
      "source": [
        "import numpy as np\n",
        "import pandas as pd\n",
        "from IPython.display import display\n",
        "from sklearn import preprocessing\n",
        "\n",
        "pd.options.mode.chained_assignment = None"
      ],
      "execution_count": 0,
      "outputs": []
    },
    {
      "cell_type": "markdown",
      "metadata": {
        "id": "t6FF37E_3v7x",
        "colab_type": "text"
      },
      "source": [
        "## **Generate dataset**"
      ]
    },
    {
      "cell_type": "code",
      "metadata": {
        "id": "JROm_oSG3zOB",
        "colab_type": "code",
        "outputId": "31f87605-289a-43d0-d851-490425eb88e0",
        "colab": {
          "base_uri": "https://localhost:8080/",
          "height": 34
        }
      },
      "source": [
        "# Generate a dataset with 1000 rows\n",
        "df = generate_sample_data(row_count=1000)\n",
        "df.shape"
      ],
      "execution_count": 4,
      "outputs": [
        {
          "output_type": "execute_result",
          "data": {
            "text/plain": [
              "(1000, 7)"
            ]
          },
          "metadata": {
            "tags": []
          },
          "execution_count": 4
        }
      ]
    },
    {
      "cell_type": "markdown",
      "metadata": {
        "id": "SDKjuXdt5kqM",
        "colab_type": "text"
      },
      "source": [
        "### **Analyze generated Dataset**"
      ]
    },
    {
      "cell_type": "code",
      "metadata": {
        "id": "XtQfNh295pX3",
        "colab_type": "code",
        "outputId": "3e80e49c-5168-4876-8806-ae3c2951e46e",
        "colab": {
          "base_uri": "https://localhost:8080/",
          "height": 204
        }
      },
      "source": [
        "df.head()"
      ],
      "execution_count": 5,
      "outputs": [
        {
          "output_type": "execute_result",
          "data": {
            "text/html": [
              "<div>\n",
              "<style scoped>\n",
              "    .dataframe tbody tr th:only-of-type {\n",
              "        vertical-align: middle;\n",
              "    }\n",
              "\n",
              "    .dataframe tbody tr th {\n",
              "        vertical-align: top;\n",
              "    }\n",
              "\n",
              "    .dataframe thead th {\n",
              "        text-align: right;\n",
              "    }\n",
              "</style>\n",
              "<table border=\"1\" class=\"dataframe\">\n",
              "  <thead>\n",
              "    <tr style=\"text-align: right;\">\n",
              "      <th></th>\n",
              "      <th>Serial No</th>\n",
              "      <th>Date</th>\n",
              "      <th>User ID</th>\n",
              "      <th>Product ID</th>\n",
              "      <th>Quantity Purchased</th>\n",
              "      <th>Price</th>\n",
              "      <th>User Type</th>\n",
              "    </tr>\n",
              "  </thead>\n",
              "  <tbody>\n",
              "    <tr>\n",
              "      <th>0</th>\n",
              "      <td>1000</td>\n",
              "      <td>NaN</td>\n",
              "      <td>-101</td>\n",
              "      <td>0</td>\n",
              "      <td>10</td>\n",
              "      <td>7.10</td>\n",
              "      <td>n</td>\n",
              "    </tr>\n",
              "    <tr>\n",
              "      <th>1</th>\n",
              "      <td>1001</td>\n",
              "      <td>2016-05-01</td>\n",
              "      <td>5426</td>\n",
              "      <td>726</td>\n",
              "      <td>32</td>\n",
              "      <td>834.55</td>\n",
              "      <td>n</td>\n",
              "    </tr>\n",
              "    <tr>\n",
              "      <th>2</th>\n",
              "      <td>1002</td>\n",
              "      <td>NaN</td>\n",
              "      <td>5222</td>\n",
              "      <td>936</td>\n",
              "      <td>27</td>\n",
              "      <td>2046.63</td>\n",
              "      <td>n</td>\n",
              "    </tr>\n",
              "    <tr>\n",
              "      <th>3</th>\n",
              "      <td>1003</td>\n",
              "      <td>NaN</td>\n",
              "      <td>5716</td>\n",
              "      <td>347</td>\n",
              "      <td>21</td>\n",
              "      <td>1206.54</td>\n",
              "      <td>n</td>\n",
              "    </tr>\n",
              "    <tr>\n",
              "      <th>4</th>\n",
              "      <td>1004</td>\n",
              "      <td>NaN</td>\n",
              "      <td>5065</td>\n",
              "      <td>604</td>\n",
              "      <td>19</td>\n",
              "      <td>2824.19</td>\n",
              "      <td>n</td>\n",
              "    </tr>\n",
              "  </tbody>\n",
              "</table>\n",
              "</div>"
            ],
            "text/plain": [
              "   Serial No        Date  User ID  ...  Quantity Purchased    Price  User Type\n",
              "0       1000         NaN     -101  ...                  10     7.10          n\n",
              "1       1001  2016-05-01     5426  ...                  32   834.55          n\n",
              "2       1002         NaN     5222  ...                  27  2046.63          n\n",
              "3       1003         NaN     5716  ...                  21  1206.54          n\n",
              "4       1004         NaN     5065  ...                  19  2824.19          n\n",
              "\n",
              "[5 rows x 7 columns]"
            ]
          },
          "metadata": {
            "tags": []
          },
          "execution_count": 5
        }
      ]
    },
    {
      "cell_type": "markdown",
      "metadata": {
        "id": "U6YqahUK7pbR",
        "colab_type": "text"
      },
      "source": [
        "**Dataframe stats**"
      ]
    },
    {
      "cell_type": "code",
      "metadata": {
        "id": "-CmOCxrX5rL_",
        "colab_type": "code",
        "outputId": "212cb3f9-4e03-46ad-923c-d6f30409b47d",
        "colab": {
          "base_uri": "https://localhost:8080/",
          "height": 34
        }
      },
      "source": [
        "print('Number of rows:', df.shape[0])"
      ],
      "execution_count": 6,
      "outputs": [
        {
          "output_type": "stream",
          "text": [
            "Number of rows: 1000\n"
          ],
          "name": "stdout"
        }
      ]
    },
    {
      "cell_type": "code",
      "metadata": {
        "id": "-X6A5Jmq58yu",
        "colab_type": "code",
        "outputId": "69c469c6-9b31-4c47-8d13-364f47eda3aa",
        "colab": {
          "base_uri": "https://localhost:8080/",
          "height": 34
        }
      },
      "source": [
        "print('Number of columns:', df.shape[1])"
      ],
      "execution_count": 7,
      "outputs": [
        {
          "output_type": "stream",
          "text": [
            "Number of columns: 7\n"
          ],
          "name": "stdout"
        }
      ]
    },
    {
      "cell_type": "code",
      "metadata": {
        "id": "MMEPmC3Q6B7o",
        "colab_type": "code",
        "outputId": "893d3ce8-66e0-41db-9151-d720aeedc14b",
        "colab": {
          "base_uri": "https://localhost:8080/",
          "height": 170
        }
      },
      "source": [
        "print('Column data types: \\n', df.dtypes)"
      ],
      "execution_count": 8,
      "outputs": [
        {
          "output_type": "stream",
          "text": [
            "Column data types: \n",
            " Serial No               int64\n",
            "Date                   object\n",
            "User ID                 int64\n",
            "Product ID              int64\n",
            "Quantity Purchased      int64\n",
            "Price                 float64\n",
            "User Type              object\n",
            "dtype: object\n"
          ],
          "name": "stdout"
        }
      ]
    },
    {
      "cell_type": "code",
      "metadata": {
        "id": "u1W2uQgD6gGY",
        "colab_type": "code",
        "outputId": "9c1e1723-fb65-4189-fadf-f48390b97775",
        "colab": {
          "base_uri": "https://localhost:8080/",
          "height": 34
        }
      },
      "source": [
        "print('Columns with missing values:', df.columns[df.isnull().any()].tolist())"
      ],
      "execution_count": 9,
      "outputs": [
        {
          "output_type": "stream",
          "text": [
            "Columns with missing values: ['Date', 'Price']\n"
          ],
          "name": "stdout"
        }
      ]
    },
    {
      "cell_type": "code",
      "metadata": {
        "id": "TTguaQDz63EJ",
        "colab_type": "code",
        "outputId": "35e8fea9-27b7-4432-edfa-c2cb7579b178",
        "colab": {
          "base_uri": "https://localhost:8080/",
          "height": 88
        }
      },
      "source": [
        "print('Number of rows with Missing values:', len(pd.isnull(df).any(1).nonzero()[0].tolist()))"
      ],
      "execution_count": 10,
      "outputs": [
        {
          "output_type": "stream",
          "text": [
            "Number of rows with Missing values: 62\n"
          ],
          "name": "stdout"
        },
        {
          "output_type": "stream",
          "text": [
            "/usr/local/lib/python3.6/dist-packages/ipykernel_launcher.py:1: FutureWarning: Series.nonzero() is deprecated and will be removed in a future version.Use Series.to_numpy().nonzero() instead\n",
            "  \"\"\"Entry point for launching an IPython kernel.\n"
          ],
          "name": "stderr"
        }
      ]
    },
    {
      "cell_type": "markdown",
      "metadata": {
        "id": "2z-f4Kvc7wP6",
        "colab_type": "text"
      },
      "source": [
        "**General Stats**"
      ]
    },
    {
      "cell_type": "code",
      "metadata": {
        "id": "IfMoaCwc7OJL",
        "colab_type": "code",
        "outputId": "988603a1-6b05-444b-a974-fcc4f4980ce2",
        "colab": {
          "base_uri": "https://localhost:8080/",
          "height": 238
        }
      },
      "source": [
        "print(df.info())"
      ],
      "execution_count": 11,
      "outputs": [
        {
          "output_type": "stream",
          "text": [
            "<class 'pandas.core.frame.DataFrame'>\n",
            "RangeIndex: 1000 entries, 0 to 999\n",
            "Data columns (total 7 columns):\n",
            "Serial No             1000 non-null int64\n",
            "Date                  969 non-null object\n",
            "User ID               1000 non-null int64\n",
            "Product ID            1000 non-null int64\n",
            "Quantity Purchased    1000 non-null int64\n",
            "Price                 969 non-null float64\n",
            "User Type             1000 non-null object\n",
            "dtypes: float64(1), int64(4), object(2)\n",
            "memory usage: 54.8+ KB\n",
            "None\n"
          ],
          "name": "stdout"
        }
      ]
    },
    {
      "cell_type": "code",
      "metadata": {
        "id": "3st26Fr37y7N",
        "colab_type": "code",
        "outputId": "06167964-5302-431f-f34d-619ae2a925d7",
        "colab": {
          "base_uri": "https://localhost:8080/",
          "height": 170
        }
      },
      "source": [
        "print(df.describe())"
      ],
      "execution_count": 12,
      "outputs": [
        {
          "output_type": "stream",
          "text": [
            "         Serial No      User ID   Product ID  Quantity Purchased        Price\n",
            "count  1000.000000  1000.000000  1000.000000         1000.000000   969.000000\n",
            "mean   1452.193000  5510.703000   565.698000           21.015000  2246.807296\n",
            "std     382.054228   340.229183   279.269601           11.743282  1606.744565\n",
            "min      -1.000000  -101.000000     0.000000            1.000000     7.100000\n",
            "25%    1225.750000  5288.000000   325.000000           11.000000   898.650000\n",
            "50%    1481.500000  5517.500000   524.000000           20.000000  2001.540000\n",
            "75%    1738.250000  5744.750000   807.000000           31.000000  3243.250000\n",
            "max    1999.000000  6000.000000  1091.000000           41.000000  7626.880000\n"
          ],
          "name": "stdout"
        }
      ]
    },
    {
      "cell_type": "markdown",
      "metadata": {
        "id": "qsAkyKOf8nf5",
        "colab_type": "text"
      },
      "source": [
        " ### **Standardize Columns**"
      ]
    },
    {
      "cell_type": "code",
      "metadata": {
        "id": "SYjIb3aZ8qHW",
        "colab_type": "code",
        "colab": {
          "base_uri": "https://localhost:8080/",
          "height": 51
        },
        "outputId": "1f354aa4-40ad-4a50-e22d-5148864ec7f0"
      },
      "source": [
        "# list all columns\n",
        "print(\"Dataframe columns>\\n{}\".format(df.columns.tolist()))"
      ],
      "execution_count": 13,
      "outputs": [
        {
          "output_type": "stream",
          "text": [
            "Dataframe columns>\n",
            "['Serial No', 'Date', 'User ID', 'Product ID', 'Quantity Purchased', 'Price', 'User Type']\n"
          ],
          "name": "stdout"
        }
      ]
    },
    {
      "cell_type": "code",
      "metadata": {
        "id": "YPl6XX-909BB",
        "colab_type": "code",
        "colab": {}
      },
      "source": [
        "# change all columns names to lowercase-snakecased column names in python\n",
        "def cleanup_column_names(df, rename_dict={}, do_inplace=True):\n",
        "  if not rename_dict:\n",
        "    return df.rename(columns={col:col.lower().replace(' ','_') for col in df.columns.values.tolist()}, inplace=True)\n",
        "  else:\n",
        "    return df.rename(columns = rename_dict, inplace=do_inplace)"
      ],
      "execution_count": 0,
      "outputs": []
    },
    {
      "cell_type": "code",
      "metadata": {
        "id": "CTW5D26I2LIt",
        "colab_type": "code",
        "colab": {}
      },
      "source": [
        "cleanup_column_names(df)"
      ],
      "execution_count": 0,
      "outputs": []
    },
    {
      "cell_type": "code",
      "metadata": {
        "id": "hCj7l2sD2Na-",
        "colab_type": "code",
        "colab": {
          "base_uri": "https://localhost:8080/",
          "height": 51
        },
        "outputId": "1e6dbaee-eb67-4719-a7d6-887c96ffb76c"
      },
      "source": [
        "print(\"Dataframe columns:\\n{}\".format(df.columns.tolist()))"
      ],
      "execution_count": 16,
      "outputs": [
        {
          "output_type": "stream",
          "text": [
            "Dataframe columns:\n",
            "['serial_no', 'date', 'user_id', 'product_id', 'quantity_purchased', 'price', 'user_type']\n"
          ],
          "name": "stdout"
        }
      ]
    },
    {
      "cell_type": "markdown",
      "metadata": {
        "id": "K8_fy1Xx2197",
        "colab_type": "text"
      },
      "source": [
        "### **Basic Manipulation**"
      ]
    },
    {
      "cell_type": "markdown",
      "metadata": {
        "id": "_maIa-yr3NJF",
        "colab_type": "text"
      },
      "source": [
        "**Sort basic specific atributes**"
      ]
    },
    {
      "cell_type": "code",
      "metadata": {
        "id": "gvvymgMk2Ve4",
        "colab_type": "code",
        "colab": {
          "base_uri": "https://localhost:8080/",
          "height": 204
        },
        "outputId": "58b398a3-ae77-4739-f1f2-7e8d35934b3f"
      },
      "source": [
        "# Ascending for serial_no and descending for price\n",
        "display(df.sort_values(['serial_no','price'], ascending=[True, False]).head())"
      ],
      "execution_count": 18,
      "outputs": [
        {
          "output_type": "display_data",
          "data": {
            "text/html": [
              "<div>\n",
              "<style scoped>\n",
              "    .dataframe tbody tr th:only-of-type {\n",
              "        vertical-align: middle;\n",
              "    }\n",
              "\n",
              "    .dataframe tbody tr th {\n",
              "        vertical-align: top;\n",
              "    }\n",
              "\n",
              "    .dataframe thead th {\n",
              "        text-align: right;\n",
              "    }\n",
              "</style>\n",
              "<table border=\"1\" class=\"dataframe\">\n",
              "  <thead>\n",
              "    <tr style=\"text-align: right;\">\n",
              "      <th></th>\n",
              "      <th>serial_no</th>\n",
              "      <th>date</th>\n",
              "      <th>user_id</th>\n",
              "      <th>product_id</th>\n",
              "      <th>quantity_purchased</th>\n",
              "      <th>price</th>\n",
              "      <th>user_type</th>\n",
              "    </tr>\n",
              "  </thead>\n",
              "  <tbody>\n",
              "    <tr>\n",
              "      <th>601</th>\n",
              "      <td>-1</td>\n",
              "      <td>2016-01-23</td>\n",
              "      <td>5426</td>\n",
              "      <td>726</td>\n",
              "      <td>34</td>\n",
              "      <td>5830.82</td>\n",
              "      <td>d</td>\n",
              "    </tr>\n",
              "    <tr>\n",
              "      <th>866</th>\n",
              "      <td>-1</td>\n",
              "      <td>2016-05-01</td>\n",
              "      <td>5896</td>\n",
              "      <td>974</td>\n",
              "      <td>33</td>\n",
              "      <td>5592.77</td>\n",
              "      <td>c</td>\n",
              "    </tr>\n",
              "    <tr>\n",
              "      <th>222</th>\n",
              "      <td>-1</td>\n",
              "      <td>2016-05-02</td>\n",
              "      <td>5615</td>\n",
              "      <td>122</td>\n",
              "      <td>27</td>\n",
              "      <td>4047.99</td>\n",
              "      <td>b</td>\n",
              "    </tr>\n",
              "    <tr>\n",
              "      <th>852</th>\n",
              "      <td>-1</td>\n",
              "      <td>2016-01-28</td>\n",
              "      <td>5927</td>\n",
              "      <td>211</td>\n",
              "      <td>32</td>\n",
              "      <td>3961.71</td>\n",
              "      <td>d</td>\n",
              "    </tr>\n",
              "    <tr>\n",
              "      <th>600</th>\n",
              "      <td>-1</td>\n",
              "      <td>2016-01-15</td>\n",
              "      <td>5306</td>\n",
              "      <td>192</td>\n",
              "      <td>31</td>\n",
              "      <td>3774.54</td>\n",
              "      <td>c</td>\n",
              "    </tr>\n",
              "  </tbody>\n",
              "</table>\n",
              "</div>"
            ],
            "text/plain": [
              "     serial_no        date  user_id  ...  quantity_purchased    price  user_type\n",
              "601         -1  2016-01-23     5426  ...                  34  5830.82          d\n",
              "866         -1  2016-05-01     5896  ...                  33  5592.77          c\n",
              "222         -1  2016-05-02     5615  ...                  27  4047.99          b\n",
              "852         -1  2016-01-28     5927  ...                  32  3961.71          d\n",
              "600         -1  2016-01-15     5306  ...                  31  3774.54          c\n",
              "\n",
              "[5 rows x 7 columns]"
            ]
          },
          "metadata": {
            "tags": []
          }
        }
      ]
    },
    {
      "cell_type": "markdown",
      "metadata": {
        "id": "v-JjGa5F4UXO",
        "colab_type": "text"
      },
      "source": [
        "**Reorder columns**"
      ]
    },
    {
      "cell_type": "code",
      "metadata": {
        "id": "PooDZceV249k",
        "colab_type": "code",
        "colab": {
          "base_uri": "https://localhost:8080/",
          "height": 204
        },
        "outputId": "47401a75-789e-46b9-d4ef-9504dda59f3e"
      },
      "source": [
        "display(df[['serial_no','date','user_id','user_type',\n",
        "              'product_id','quantity_purchased','price']].head())"
      ],
      "execution_count": 19,
      "outputs": [
        {
          "output_type": "display_data",
          "data": {
            "text/html": [
              "<div>\n",
              "<style scoped>\n",
              "    .dataframe tbody tr th:only-of-type {\n",
              "        vertical-align: middle;\n",
              "    }\n",
              "\n",
              "    .dataframe tbody tr th {\n",
              "        vertical-align: top;\n",
              "    }\n",
              "\n",
              "    .dataframe thead th {\n",
              "        text-align: right;\n",
              "    }\n",
              "</style>\n",
              "<table border=\"1\" class=\"dataframe\">\n",
              "  <thead>\n",
              "    <tr style=\"text-align: right;\">\n",
              "      <th></th>\n",
              "      <th>serial_no</th>\n",
              "      <th>date</th>\n",
              "      <th>user_id</th>\n",
              "      <th>user_type</th>\n",
              "      <th>product_id</th>\n",
              "      <th>quantity_purchased</th>\n",
              "      <th>price</th>\n",
              "    </tr>\n",
              "  </thead>\n",
              "  <tbody>\n",
              "    <tr>\n",
              "      <th>0</th>\n",
              "      <td>1000</td>\n",
              "      <td>NaN</td>\n",
              "      <td>-101</td>\n",
              "      <td>n</td>\n",
              "      <td>0</td>\n",
              "      <td>10</td>\n",
              "      <td>7.10</td>\n",
              "    </tr>\n",
              "    <tr>\n",
              "      <th>1</th>\n",
              "      <td>1001</td>\n",
              "      <td>2016-05-01</td>\n",
              "      <td>5426</td>\n",
              "      <td>n</td>\n",
              "      <td>726</td>\n",
              "      <td>32</td>\n",
              "      <td>834.55</td>\n",
              "    </tr>\n",
              "    <tr>\n",
              "      <th>2</th>\n",
              "      <td>1002</td>\n",
              "      <td>NaN</td>\n",
              "      <td>5222</td>\n",
              "      <td>n</td>\n",
              "      <td>936</td>\n",
              "      <td>27</td>\n",
              "      <td>2046.63</td>\n",
              "    </tr>\n",
              "    <tr>\n",
              "      <th>3</th>\n",
              "      <td>1003</td>\n",
              "      <td>NaN</td>\n",
              "      <td>5716</td>\n",
              "      <td>n</td>\n",
              "      <td>347</td>\n",
              "      <td>21</td>\n",
              "      <td>1206.54</td>\n",
              "    </tr>\n",
              "    <tr>\n",
              "      <th>4</th>\n",
              "      <td>1004</td>\n",
              "      <td>NaN</td>\n",
              "      <td>5065</td>\n",
              "      <td>n</td>\n",
              "      <td>604</td>\n",
              "      <td>19</td>\n",
              "      <td>2824.19</td>\n",
              "    </tr>\n",
              "  </tbody>\n",
              "</table>\n",
              "</div>"
            ],
            "text/plain": [
              "   serial_no        date  user_id  ... product_id  quantity_purchased    price\n",
              "0       1000         NaN     -101  ...          0                  10     7.10\n",
              "1       1001  2016-05-01     5426  ...        726                  32   834.55\n",
              "2       1002         NaN     5222  ...        936                  27  2046.63\n",
              "3       1003         NaN     5716  ...        347                  21  1206.54\n",
              "4       1004         NaN     5065  ...        604                  19  2824.19\n",
              "\n",
              "[5 rows x 7 columns]"
            ]
          },
          "metadata": {
            "tags": []
          }
        }
      ]
    },
    {
      "cell_type": "markdown",
      "metadata": {
        "id": "Ylto49Ok5YXw",
        "colab_type": "text"
      },
      "source": [
        "**Select Attributes**"
      ]
    },
    {
      "cell_type": "code",
      "metadata": {
        "id": "rP75T3ar4XYk",
        "colab_type": "code",
        "colab": {
          "base_uri": "https://localhost:8080/",
          "height": 34
        },
        "outputId": "57215bee-4372-4b1f-a88d-00d5b741bf07"
      },
      "source": [
        "# Using column index print 10 values from column at index 3\n",
        "print(df.iloc[:,3].values[0:10])"
      ],
      "execution_count": 21,
      "outputs": [
        {
          "output_type": "stream",
          "text": [
            "[  0 726 936 347 604 182 865 237 900 213]\n"
          ],
          "name": "stdout"
        }
      ]
    },
    {
      "cell_type": "code",
      "metadata": {
        "id": "uV9ojrDv511d",
        "colab_type": "code",
        "colab": {
          "base_uri": "https://localhost:8080/",
          "height": 34
        },
        "outputId": "3df79541-0d25-4806-8f08-742cc7a03e21"
      },
      "source": [
        "# Using column name print 10 values of quantity_purchased\n",
        "print(df.quantity_purchased.values[0:10])"
      ],
      "execution_count": 24,
      "outputs": [
        {
          "output_type": "stream",
          "text": [
            "[10 32 27 21 19 14 14  8 37 21]\n"
          ],
          "name": "stdout"
        }
      ]
    },
    {
      "cell_type": "code",
      "metadata": {
        "id": "_Ke19ogE6RJT",
        "colab_type": "code",
        "colab": {
          "base_uri": "https://localhost:8080/",
          "height": 51
        },
        "outputId": "99516218-663d-4a47-cd5e-6caedf959802"
      },
      "source": [
        "# Using datatype, print 10 values of columns with data type float\n",
        "print(df.select_dtypes(include=['float64']).values[:10,0])"
      ],
      "execution_count": 25,
      "outputs": [
        {
          "output_type": "stream",
          "text": [
            "[   7.1   834.55 2046.63 1206.54 2824.19 1211.12 2268.52 4468.28 2987.57\n",
            " 1555.05]\n"
          ],
          "name": "stdout"
        }
      ]
    },
    {
      "cell_type": "markdown",
      "metadata": {
        "id": "laQ-JAet7dh1",
        "colab_type": "text"
      },
      "source": [
        "**Select rows**"
      ]
    },
    {
      "cell_type": "code",
      "metadata": {
        "id": "l1JEkanb7XXP",
        "colab_type": "code",
        "colab": {
          "base_uri": "https://localhost:8080/",
          "height": 142
        },
        "outputId": "c5ffe82f-83f5-4378-b991-091095f5c80b"
      },
      "source": [
        "# using row index\n",
        "display(df.iloc[[10,501,20]])"
      ],
      "execution_count": 26,
      "outputs": [
        {
          "output_type": "display_data",
          "data": {
            "text/html": [
              "<div>\n",
              "<style scoped>\n",
              "    .dataframe tbody tr th:only-of-type {\n",
              "        vertical-align: middle;\n",
              "    }\n",
              "\n",
              "    .dataframe tbody tr th {\n",
              "        vertical-align: top;\n",
              "    }\n",
              "\n",
              "    .dataframe thead th {\n",
              "        text-align: right;\n",
              "    }\n",
              "</style>\n",
              "<table border=\"1\" class=\"dataframe\">\n",
              "  <thead>\n",
              "    <tr style=\"text-align: right;\">\n",
              "      <th></th>\n",
              "      <th>serial_no</th>\n",
              "      <th>date</th>\n",
              "      <th>user_id</th>\n",
              "      <th>product_id</th>\n",
              "      <th>quantity_purchased</th>\n",
              "      <th>price</th>\n",
              "      <th>user_type</th>\n",
              "    </tr>\n",
              "  </thead>\n",
              "  <tbody>\n",
              "    <tr>\n",
              "      <th>10</th>\n",
              "      <td>1010</td>\n",
              "      <td>2016-01-18</td>\n",
              "      <td>5371</td>\n",
              "      <td>796</td>\n",
              "      <td>10</td>\n",
              "      <td>701.83</td>\n",
              "      <td>n</td>\n",
              "    </tr>\n",
              "    <tr>\n",
              "      <th>501</th>\n",
              "      <td>1501</td>\n",
              "      <td>2016-01-26</td>\n",
              "      <td>5426</td>\n",
              "      <td>726</td>\n",
              "      <td>21</td>\n",
              "      <td>722.10</td>\n",
              "      <td>a</td>\n",
              "    </tr>\n",
              "    <tr>\n",
              "      <th>20</th>\n",
              "      <td>1020</td>\n",
              "      <td>2016-01-26</td>\n",
              "      <td>5346</td>\n",
              "      <td>531</td>\n",
              "      <td>19</td>\n",
              "      <td>3127.34</td>\n",
              "      <td>n</td>\n",
              "    </tr>\n",
              "  </tbody>\n",
              "</table>\n",
              "</div>"
            ],
            "text/plain": [
              "     serial_no        date  user_id  ...  quantity_purchased    price  user_type\n",
              "10        1010  2016-01-18     5371  ...                  10   701.83          n\n",
              "501       1501  2016-01-26     5426  ...                  21   722.10          a\n",
              "20        1020  2016-01-26     5346  ...                  19  3127.34          n\n",
              "\n",
              "[3 rows x 7 columns]"
            ]
          },
          "metadata": {
            "tags": []
          }
        }
      ]
    },
    {
      "cell_type": "code",
      "metadata": {
        "id": "EaNvMfw07fgk",
        "colab_type": "code",
        "colab": {
          "base_uri": "https://localhost:8080/",
          "height": 204
        },
        "outputId": "41443e04-5db6-4a16-a200-7030e04b5338"
      },
      "source": [
        "# excluding specific rows\n",
        "display(df.drop([0,24,51], axis=0).head())"
      ],
      "execution_count": 27,
      "outputs": [
        {
          "output_type": "display_data",
          "data": {
            "text/html": [
              "<div>\n",
              "<style scoped>\n",
              "    .dataframe tbody tr th:only-of-type {\n",
              "        vertical-align: middle;\n",
              "    }\n",
              "\n",
              "    .dataframe tbody tr th {\n",
              "        vertical-align: top;\n",
              "    }\n",
              "\n",
              "    .dataframe thead th {\n",
              "        text-align: right;\n",
              "    }\n",
              "</style>\n",
              "<table border=\"1\" class=\"dataframe\">\n",
              "  <thead>\n",
              "    <tr style=\"text-align: right;\">\n",
              "      <th></th>\n",
              "      <th>serial_no</th>\n",
              "      <th>date</th>\n",
              "      <th>user_id</th>\n",
              "      <th>product_id</th>\n",
              "      <th>quantity_purchased</th>\n",
              "      <th>price</th>\n",
              "      <th>user_type</th>\n",
              "    </tr>\n",
              "  </thead>\n",
              "  <tbody>\n",
              "    <tr>\n",
              "      <th>1</th>\n",
              "      <td>1001</td>\n",
              "      <td>2016-05-01</td>\n",
              "      <td>5426</td>\n",
              "      <td>726</td>\n",
              "      <td>32</td>\n",
              "      <td>834.55</td>\n",
              "      <td>n</td>\n",
              "    </tr>\n",
              "    <tr>\n",
              "      <th>2</th>\n",
              "      <td>1002</td>\n",
              "      <td>NaN</td>\n",
              "      <td>5222</td>\n",
              "      <td>936</td>\n",
              "      <td>27</td>\n",
              "      <td>2046.63</td>\n",
              "      <td>n</td>\n",
              "    </tr>\n",
              "    <tr>\n",
              "      <th>3</th>\n",
              "      <td>1003</td>\n",
              "      <td>NaN</td>\n",
              "      <td>5716</td>\n",
              "      <td>347</td>\n",
              "      <td>21</td>\n",
              "      <td>1206.54</td>\n",
              "      <td>n</td>\n",
              "    </tr>\n",
              "    <tr>\n",
              "      <th>4</th>\n",
              "      <td>1004</td>\n",
              "      <td>NaN</td>\n",
              "      <td>5065</td>\n",
              "      <td>604</td>\n",
              "      <td>19</td>\n",
              "      <td>2824.19</td>\n",
              "      <td>n</td>\n",
              "    </tr>\n",
              "    <tr>\n",
              "      <th>5</th>\n",
              "      <td>1005</td>\n",
              "      <td>2016-07-02</td>\n",
              "      <td>5699</td>\n",
              "      <td>182</td>\n",
              "      <td>14</td>\n",
              "      <td>1211.12</td>\n",
              "      <td>n</td>\n",
              "    </tr>\n",
              "  </tbody>\n",
              "</table>\n",
              "</div>"
            ],
            "text/plain": [
              "   serial_no        date  user_id  ...  quantity_purchased    price  user_type\n",
              "1       1001  2016-05-01     5426  ...                  32   834.55          n\n",
              "2       1002         NaN     5222  ...                  27  2046.63          n\n",
              "3       1003         NaN     5716  ...                  21  1206.54          n\n",
              "4       1004         NaN     5065  ...                  19  2824.19          n\n",
              "5       1005  2016-07-02     5699  ...                  14  1211.12          n\n",
              "\n",
              "[5 rows x 7 columns]"
            ]
          },
          "metadata": {
            "tags": []
          }
        }
      ]
    },
    {
      "cell_type": "code",
      "metadata": {
        "id": "vr_Rc5ZP8Pnb",
        "colab_type": "code",
        "colab": {
          "base_uri": "https://localhost:8080/",
          "height": 204
        },
        "outputId": "d525b843-c83e-4b1f-c066-dca7d275b1f4"
      },
      "source": [
        "# Conditional filtering\n",
        "# Quantity_purchased > 25\n",
        "display(df[df.quantity_purchased>25].head())"
      ],
      "execution_count": 28,
      "outputs": [
        {
          "output_type": "display_data",
          "data": {
            "text/html": [
              "<div>\n",
              "<style scoped>\n",
              "    .dataframe tbody tr th:only-of-type {\n",
              "        vertical-align: middle;\n",
              "    }\n",
              "\n",
              "    .dataframe tbody tr th {\n",
              "        vertical-align: top;\n",
              "    }\n",
              "\n",
              "    .dataframe thead th {\n",
              "        text-align: right;\n",
              "    }\n",
              "</style>\n",
              "<table border=\"1\" class=\"dataframe\">\n",
              "  <thead>\n",
              "    <tr style=\"text-align: right;\">\n",
              "      <th></th>\n",
              "      <th>serial_no</th>\n",
              "      <th>date</th>\n",
              "      <th>user_id</th>\n",
              "      <th>product_id</th>\n",
              "      <th>quantity_purchased</th>\n",
              "      <th>price</th>\n",
              "      <th>user_type</th>\n",
              "    </tr>\n",
              "  </thead>\n",
              "  <tbody>\n",
              "    <tr>\n",
              "      <th>1</th>\n",
              "      <td>1001</td>\n",
              "      <td>2016-05-01</td>\n",
              "      <td>5426</td>\n",
              "      <td>726</td>\n",
              "      <td>32</td>\n",
              "      <td>834.55</td>\n",
              "      <td>n</td>\n",
              "    </tr>\n",
              "    <tr>\n",
              "      <th>2</th>\n",
              "      <td>1002</td>\n",
              "      <td>NaN</td>\n",
              "      <td>5222</td>\n",
              "      <td>936</td>\n",
              "      <td>27</td>\n",
              "      <td>2046.63</td>\n",
              "      <td>n</td>\n",
              "    </tr>\n",
              "    <tr>\n",
              "      <th>8</th>\n",
              "      <td>1008</td>\n",
              "      <td>2016-08-02</td>\n",
              "      <td>6000</td>\n",
              "      <td>900</td>\n",
              "      <td>37</td>\n",
              "      <td>2987.57</td>\n",
              "      <td>n</td>\n",
              "    </tr>\n",
              "    <tr>\n",
              "      <th>12</th>\n",
              "      <td>1012</td>\n",
              "      <td>2016-02-01</td>\n",
              "      <td>5136</td>\n",
              "      <td>395</td>\n",
              "      <td>41</td>\n",
              "      <td>1183.75</td>\n",
              "      <td>n</td>\n",
              "    </tr>\n",
              "    <tr>\n",
              "      <th>14</th>\n",
              "      <td>1014</td>\n",
              "      <td>2016-11-02</td>\n",
              "      <td>5549</td>\n",
              "      <td>163</td>\n",
              "      <td>30</td>\n",
              "      <td>2358.50</td>\n",
              "      <td>n</td>\n",
              "    </tr>\n",
              "  </tbody>\n",
              "</table>\n",
              "</div>"
            ],
            "text/plain": [
              "    serial_no        date  user_id  ...  quantity_purchased    price  user_type\n",
              "1        1001  2016-05-01     5426  ...                  32   834.55          n\n",
              "2        1002         NaN     5222  ...                  27  2046.63          n\n",
              "8        1008  2016-08-02     6000  ...                  37  2987.57          n\n",
              "12       1012  2016-02-01     5136  ...                  41  1183.75          n\n",
              "14       1014  2016-11-02     5549  ...                  30  2358.50          n\n",
              "\n",
              "[5 rows x 7 columns]"
            ]
          },
          "metadata": {
            "tags": []
          }
        }
      ]
    },
    {
      "cell_type": "code",
      "metadata": {
        "id": "OZ9C1rK0-sk-",
        "colab_type": "code",
        "colab": {
          "base_uri": "https://localhost:8080/",
          "height": 204
        },
        "outputId": "340e087a-f76b-4ff8-98c2-a943cf3e998a"
      },
      "source": [
        "# Offset from top\n",
        "display(df[100:].head())"
      ],
      "execution_count": 29,
      "outputs": [
        {
          "output_type": "display_data",
          "data": {
            "text/html": [
              "<div>\n",
              "<style scoped>\n",
              "    .dataframe tbody tr th:only-of-type {\n",
              "        vertical-align: middle;\n",
              "    }\n",
              "\n",
              "    .dataframe tbody tr th {\n",
              "        vertical-align: top;\n",
              "    }\n",
              "\n",
              "    .dataframe thead th {\n",
              "        text-align: right;\n",
              "    }\n",
              "</style>\n",
              "<table border=\"1\" class=\"dataframe\">\n",
              "  <thead>\n",
              "    <tr style=\"text-align: right;\">\n",
              "      <th></th>\n",
              "      <th>serial_no</th>\n",
              "      <th>date</th>\n",
              "      <th>user_id</th>\n",
              "      <th>product_id</th>\n",
              "      <th>quantity_purchased</th>\n",
              "      <th>price</th>\n",
              "      <th>user_type</th>\n",
              "    </tr>\n",
              "  </thead>\n",
              "  <tbody>\n",
              "    <tr>\n",
              "      <th>100</th>\n",
              "      <td>1100</td>\n",
              "      <td>NaN</td>\n",
              "      <td>5306</td>\n",
              "      <td>192</td>\n",
              "      <td>9</td>\n",
              "      <td>2558.69</td>\n",
              "      <td>d</td>\n",
              "    </tr>\n",
              "    <tr>\n",
              "      <th>101</th>\n",
              "      <td>1101</td>\n",
              "      <td>2016-01-28</td>\n",
              "      <td>5426</td>\n",
              "      <td>726</td>\n",
              "      <td>33</td>\n",
              "      <td>2385.22</td>\n",
              "      <td>a</td>\n",
              "    </tr>\n",
              "    <tr>\n",
              "      <th>102</th>\n",
              "      <td>1102</td>\n",
              "      <td>2016-01-25</td>\n",
              "      <td>5222</td>\n",
              "      <td>936</td>\n",
              "      <td>41</td>\n",
              "      <td>3261.19</td>\n",
              "      <td>a</td>\n",
              "    </tr>\n",
              "    <tr>\n",
              "      <th>103</th>\n",
              "      <td>1103</td>\n",
              "      <td>2016-01-13</td>\n",
              "      <td>5716</td>\n",
              "      <td>347</td>\n",
              "      <td>36</td>\n",
              "      <td>3272.22</td>\n",
              "      <td>d</td>\n",
              "    </tr>\n",
              "    <tr>\n",
              "      <th>104</th>\n",
              "      <td>1104</td>\n",
              "      <td>2016-09-01</td>\n",
              "      <td>5065</td>\n",
              "      <td>604</td>\n",
              "      <td>10</td>\n",
              "      <td>223.15</td>\n",
              "      <td>d</td>\n",
              "    </tr>\n",
              "  </tbody>\n",
              "</table>\n",
              "</div>"
            ],
            "text/plain": [
              "     serial_no        date  user_id  ...  quantity_purchased    price  user_type\n",
              "100       1100         NaN     5306  ...                   9  2558.69          d\n",
              "101       1101  2016-01-28     5426  ...                  33  2385.22          a\n",
              "102       1102  2016-01-25     5222  ...                  41  3261.19          a\n",
              "103       1103  2016-01-13     5716  ...                  36  3272.22          d\n",
              "104       1104  2016-09-01     5065  ...                  10   223.15          d\n",
              "\n",
              "[5 rows x 7 columns]"
            ]
          },
          "metadata": {
            "tags": []
          }
        }
      ]
    },
    {
      "cell_type": "code",
      "metadata": {
        "id": "IOEDhyk8-8_Q",
        "colab_type": "code",
        "colab": {
          "base_uri": "https://localhost:8080/",
          "height": 204
        },
        "outputId": "36b4f80e-18f2-4e17-ea1d-188f22de2ab0"
      },
      "source": [
        "#offset from Bottom\n",
        "display(df[-10:].head())"
      ],
      "execution_count": 30,
      "outputs": [
        {
          "output_type": "display_data",
          "data": {
            "text/html": [
              "<div>\n",
              "<style scoped>\n",
              "    .dataframe tbody tr th:only-of-type {\n",
              "        vertical-align: middle;\n",
              "    }\n",
              "\n",
              "    .dataframe tbody tr th {\n",
              "        vertical-align: top;\n",
              "    }\n",
              "\n",
              "    .dataframe thead th {\n",
              "        text-align: right;\n",
              "    }\n",
              "</style>\n",
              "<table border=\"1\" class=\"dataframe\">\n",
              "  <thead>\n",
              "    <tr style=\"text-align: right;\">\n",
              "      <th></th>\n",
              "      <th>serial_no</th>\n",
              "      <th>date</th>\n",
              "      <th>user_id</th>\n",
              "      <th>product_id</th>\n",
              "      <th>quantity_purchased</th>\n",
              "      <th>price</th>\n",
              "      <th>user_type</th>\n",
              "    </tr>\n",
              "  </thead>\n",
              "  <tbody>\n",
              "    <tr>\n",
              "      <th>990</th>\n",
              "      <td>1990</td>\n",
              "      <td>2016-06-01</td>\n",
              "      <td>5427</td>\n",
              "      <td>708</td>\n",
              "      <td>21</td>\n",
              "      <td>3791.00</td>\n",
              "      <td>b</td>\n",
              "    </tr>\n",
              "    <tr>\n",
              "      <th>991</th>\n",
              "      <td>1991</td>\n",
              "      <td>2016-01-16</td>\n",
              "      <td>5500</td>\n",
              "      <td>652</td>\n",
              "      <td>9</td>\n",
              "      <td>188.01</td>\n",
              "      <td>b</td>\n",
              "    </tr>\n",
              "    <tr>\n",
              "      <th>992</th>\n",
              "      <td>1992</td>\n",
              "      <td>2016-01-20</td>\n",
              "      <td>5781</td>\n",
              "      <td>351</td>\n",
              "      <td>18</td>\n",
              "      <td>785.80</td>\n",
              "      <td>c</td>\n",
              "    </tr>\n",
              "    <tr>\n",
              "      <th>993</th>\n",
              "      <td>1993</td>\n",
              "      <td>2016-03-02</td>\n",
              "      <td>5853</td>\n",
              "      <td>379</td>\n",
              "      <td>20</td>\n",
              "      <td>245.14</td>\n",
              "      <td>d</td>\n",
              "    </tr>\n",
              "    <tr>\n",
              "      <th>994</th>\n",
              "      <td>1994</td>\n",
              "      <td>2016-12-01</td>\n",
              "      <td>5565</td>\n",
              "      <td>641</td>\n",
              "      <td>28</td>\n",
              "      <td>4813.95</td>\n",
              "      <td>a</td>\n",
              "    </tr>\n",
              "  </tbody>\n",
              "</table>\n",
              "</div>"
            ],
            "text/plain": [
              "     serial_no        date  user_id  ...  quantity_purchased    price  user_type\n",
              "990       1990  2016-06-01     5427  ...                  21  3791.00          b\n",
              "991       1991  2016-01-16     5500  ...                   9   188.01          b\n",
              "992       1992  2016-01-20     5781  ...                  18   785.80          c\n",
              "993       1993  2016-03-02     5853  ...                  20   245.14          d\n",
              "994       1994  2016-12-01     5565  ...                  28  4813.95          a\n",
              "\n",
              "[5 rows x 7 columns]"
            ]
          },
          "metadata": {
            "tags": []
          }
        }
      ]
    },
    {
      "cell_type": "markdown",
      "metadata": {
        "id": "uNI6OaWU_ZTp",
        "colab_type": "text"
      },
      "source": [
        "**Type casting**"
      ]
    },
    {
      "cell_type": "code",
      "metadata": {
        "id": "E1q_WlGr_W-0",
        "colab_type": "code",
        "colab": {
          "base_uri": "https://localhost:8080/",
          "height": 153
        },
        "outputId": "c2ee7d47-5a16-498d-975b-6c32e16b6f68"
      },
      "source": [
        "# existing datatypes\n",
        "df.dtypes"
      ],
      "execution_count": 32,
      "outputs": [
        {
          "output_type": "execute_result",
          "data": {
            "text/plain": [
              "serial_no               int64\n",
              "date                   object\n",
              "user_id                 int64\n",
              "product_id              int64\n",
              "quantity_purchased      int64\n",
              "price                 float64\n",
              "user_type              object\n",
              "dtype: object"
            ]
          },
          "metadata": {
            "tags": []
          },
          "execution_count": 32
        }
      ]
    },
    {
      "cell_type": "code",
      "metadata": {
        "id": "0LaYOO9k_c-O",
        "colab_type": "code",
        "colab": {
          "base_uri": "https://localhost:8080/",
          "height": 153
        },
        "outputId": "68c0987c-ff78-417a-b90b-bc37055c7b0c"
      },
      "source": [
        "# set datatime as dtype for date column\n",
        "df['date'] = pd.to_datetime(df.date)\n",
        "print(df.dtypes)"
      ],
      "execution_count": 33,
      "outputs": [
        {
          "output_type": "stream",
          "text": [
            "serial_no                      int64\n",
            "date                  datetime64[ns]\n",
            "user_id                        int64\n",
            "product_id                     int64\n",
            "quantity_purchased             int64\n",
            "price                        float64\n",
            "user_type                     object\n",
            "dtype: object\n"
          ],
          "name": "stdout"
        }
      ]
    },
    {
      "cell_type": "markdown",
      "metadata": {
        "id": "QlyU6IXOBFKu",
        "colab_type": "text"
      },
      "source": [
        "**Map/Apply Functionality**"
      ]
    },
    {
      "cell_type": "code",
      "metadata": {
        "id": "b3fbU3NhA42u",
        "colab_type": "code",
        "colab": {}
      },
      "source": [
        "def expand_user_type(u_type):\n",
        "  if u_type in ['a','b']:\n",
        "    return 'new'\n",
        "  elif u_type == 'c':\n",
        "    return 'existing'\n",
        "  elif u_type == 'd':\n",
        "    return 'loyal_existing'\n",
        "  else:\n",
        "    return 'error'"
      ],
      "execution_count": 0,
      "outputs": []
    },
    {
      "cell_type": "code",
      "metadata": {
        "id": "D7SF8SDZBM2K",
        "colab_type": "code",
        "colab": {
          "base_uri": "https://localhost:8080/",
          "height": 204
        },
        "outputId": "53965686-5478-4675-e4ca-3ae9e2a2b021"
      },
      "source": [
        "# Map user Type to user class\n",
        "df['user_class'] = df['user_type'].map(expand_user_type)\n",
        "display(df.tail())"
      ],
      "execution_count": 35,
      "outputs": [
        {
          "output_type": "display_data",
          "data": {
            "text/html": [
              "<div>\n",
              "<style scoped>\n",
              "    .dataframe tbody tr th:only-of-type {\n",
              "        vertical-align: middle;\n",
              "    }\n",
              "\n",
              "    .dataframe tbody tr th {\n",
              "        vertical-align: top;\n",
              "    }\n",
              "\n",
              "    .dataframe thead th {\n",
              "        text-align: right;\n",
              "    }\n",
              "</style>\n",
              "<table border=\"1\" class=\"dataframe\">\n",
              "  <thead>\n",
              "    <tr style=\"text-align: right;\">\n",
              "      <th></th>\n",
              "      <th>serial_no</th>\n",
              "      <th>date</th>\n",
              "      <th>user_id</th>\n",
              "      <th>product_id</th>\n",
              "      <th>quantity_purchased</th>\n",
              "      <th>price</th>\n",
              "      <th>user_type</th>\n",
              "      <th>user_class</th>\n",
              "    </tr>\n",
              "  </thead>\n",
              "  <tbody>\n",
              "    <tr>\n",
              "      <th>995</th>\n",
              "      <td>1995</td>\n",
              "      <td>2016-07-01</td>\n",
              "      <td>5032</td>\n",
              "      <td>900</td>\n",
              "      <td>15</td>\n",
              "      <td>1300.10</td>\n",
              "      <td>c</td>\n",
              "      <td>existing</td>\n",
              "    </tr>\n",
              "    <tr>\n",
              "      <th>996</th>\n",
              "      <td>1996</td>\n",
              "      <td>2016-10-02</td>\n",
              "      <td>5288</td>\n",
              "      <td>621</td>\n",
              "      <td>25</td>\n",
              "      <td>4295.21</td>\n",
              "      <td>b</td>\n",
              "      <td>new</td>\n",
              "    </tr>\n",
              "    <tr>\n",
              "      <th>997</th>\n",
              "      <td>1997</td>\n",
              "      <td>2016-09-02</td>\n",
              "      <td>5203</td>\n",
              "      <td>461</td>\n",
              "      <td>38</td>\n",
              "      <td>1037.14</td>\n",
              "      <td>a</td>\n",
              "      <td>new</td>\n",
              "    </tr>\n",
              "    <tr>\n",
              "      <th>998</th>\n",
              "      <td>1998</td>\n",
              "      <td>2016-01-16</td>\n",
              "      <td>5016</td>\n",
              "      <td>915</td>\n",
              "      <td>8</td>\n",
              "      <td>648.07</td>\n",
              "      <td>b</td>\n",
              "      <td>new</td>\n",
              "    </tr>\n",
              "    <tr>\n",
              "      <th>999</th>\n",
              "      <td>1999</td>\n",
              "      <td>2016-06-01</td>\n",
              "      <td>5180</td>\n",
              "      <td>493</td>\n",
              "      <td>37</td>\n",
              "      <td>369.54</td>\n",
              "      <td>b</td>\n",
              "      <td>new</td>\n",
              "    </tr>\n",
              "  </tbody>\n",
              "</table>\n",
              "</div>"
            ],
            "text/plain": [
              "     serial_no       date  user_id  ...    price  user_type  user_class\n",
              "995       1995 2016-07-01     5032  ...  1300.10          c    existing\n",
              "996       1996 2016-10-02     5288  ...  4295.21          b         new\n",
              "997       1997 2016-09-02     5203  ...  1037.14          a         new\n",
              "998       1998 2016-01-16     5016  ...   648.07          b         new\n",
              "999       1999 2016-06-01     5180  ...   369.54          b         new\n",
              "\n",
              "[5 rows x 8 columns]"
            ]
          },
          "metadata": {
            "tags": []
          }
        }
      ]
    },
    {
      "cell_type": "code",
      "metadata": {
        "id": "-1X9Qj6jC74v",
        "colab_type": "code",
        "colab": {}
      },
      "source": [
        ""
      ],
      "execution_count": 0,
      "outputs": []
    }
  ]
}