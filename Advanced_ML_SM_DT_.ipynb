{
  "nbformat": 4,
  "nbformat_minor": 0,
  "metadata": {
    "colab": {
      "name": "Advanced_ML_SM_DT .ipynb",
      "provenance": [],
      "authorship_tag": "ABX9TyNQkPHXZI6uST+E4y13gUYR",
      "include_colab_link": true
    },
    "kernelspec": {
      "name": "python3",
      "display_name": "Python 3"
    }
  },
  "cells": [
    {
      "cell_type": "markdown",
      "metadata": {
        "id": "view-in-github",
        "colab_type": "text"
      },
      "source": [
        "<a href=\"https://colab.research.google.com/github/cleysonl/ML_Bootcamp_CLL/blob/master/Advanced_ML_SM_DT_.ipynb\" target=\"_parent\"><img src=\"https://colab.research.google.com/assets/colab-badge.svg\" alt=\"Open In Colab\"/></a>"
      ]
    },
    {
      "cell_type": "code",
      "metadata": {
        "id": "XybLe0oLe2_4",
        "colab_type": "code",
        "colab": {
          "base_uri": "https://localhost:8080/",
          "height": 71
        },
        "outputId": "b0741830-95e3-4186-bd1c-b2fa8a6ceb98"
      },
      "source": [
        "!pip install pydotplus"
      ],
      "execution_count": 1,
      "outputs": [
        {
          "output_type": "stream",
          "text": [
            "Requirement already satisfied: pydotplus in /usr/local/lib/python3.6/dist-packages (2.0.2)\n",
            "Requirement already satisfied: pyparsing>=2.0.1 in /usr/local/lib/python3.6/dist-packages (from pydotplus) (2.4.6)\n"
          ],
          "name": "stdout"
        }
      ]
    },
    {
      "cell_type": "code",
      "metadata": {
        "id": "Ro_LWTBLjyzW",
        "colab_type": "code",
        "colab": {}
      },
      "source": [
        "import numpy as np\n",
        "import pandas as pd\n",
        "\n",
        "data = pd.read_csv('https://raw.githubusercontent.com/dipanjanS/appliedml_workshop_dhs_av_2019/master/Module%2008%20-%20%20Advanced%20ML%20-%20Supervised%20Models/data/Wine_Quality_Data.csv')"
      ],
      "execution_count": 0,
      "outputs": []
    },
    {
      "cell_type": "markdown",
      "metadata": {
        "id": "lEULkvT6j-Wi",
        "colab_type": "text"
      },
      "source": [
        "### **Encode Target Variable**"
      ]
    },
    {
      "cell_type": "code",
      "metadata": {
        "id": "ZA3kYgGZj8SM",
        "colab_type": "code",
        "colab": {}
      },
      "source": [
        "data['color'] = data.color.replace('white', 0).replace('red', 1).astype(np.int)"
      ],
      "execution_count": 0,
      "outputs": []
    },
    {
      "cell_type": "code",
      "metadata": {
        "id": "uSAWXDOgkyFG",
        "colab_type": "code",
        "colab": {
          "base_uri": "https://localhost:8080/",
          "height": 379
        },
        "outputId": "5636547d-f6a4-40ff-dd8b-86dd7183159d"
      },
      "source": [
        "data.sample(10)"
      ],
      "execution_count": 4,
      "outputs": [
        {
          "output_type": "execute_result",
          "data": {
            "text/html": [
              "<div>\n",
              "<style scoped>\n",
              "    .dataframe tbody tr th:only-of-type {\n",
              "        vertical-align: middle;\n",
              "    }\n",
              "\n",
              "    .dataframe tbody tr th {\n",
              "        vertical-align: top;\n",
              "    }\n",
              "\n",
              "    .dataframe thead th {\n",
              "        text-align: right;\n",
              "    }\n",
              "</style>\n",
              "<table border=\"1\" class=\"dataframe\">\n",
              "  <thead>\n",
              "    <tr style=\"text-align: right;\">\n",
              "      <th></th>\n",
              "      <th>fixed_acidity</th>\n",
              "      <th>volatile_acidity</th>\n",
              "      <th>citric_acid</th>\n",
              "      <th>residual_sugar</th>\n",
              "      <th>chlorides</th>\n",
              "      <th>free_sulfur_dioxide</th>\n",
              "      <th>total_sulfur_dioxide</th>\n",
              "      <th>density</th>\n",
              "      <th>pH</th>\n",
              "      <th>sulphates</th>\n",
              "      <th>alcohol</th>\n",
              "      <th>quality</th>\n",
              "      <th>color</th>\n",
              "    </tr>\n",
              "  </thead>\n",
              "  <tbody>\n",
              "    <tr>\n",
              "      <th>698</th>\n",
              "      <td>9.4</td>\n",
              "      <td>0.615</td>\n",
              "      <td>0.28</td>\n",
              "      <td>3.20</td>\n",
              "      <td>0.087</td>\n",
              "      <td>18.0</td>\n",
              "      <td>72.0</td>\n",
              "      <td>1.00010</td>\n",
              "      <td>3.31</td>\n",
              "      <td>0.53</td>\n",
              "      <td>9.7</td>\n",
              "      <td>5</td>\n",
              "      <td>1</td>\n",
              "    </tr>\n",
              "    <tr>\n",
              "      <th>5132</th>\n",
              "      <td>6.6</td>\n",
              "      <td>0.220</td>\n",
              "      <td>0.30</td>\n",
              "      <td>14.70</td>\n",
              "      <td>0.045</td>\n",
              "      <td>50.0</td>\n",
              "      <td>136.0</td>\n",
              "      <td>0.99704</td>\n",
              "      <td>3.14</td>\n",
              "      <td>0.37</td>\n",
              "      <td>10.6</td>\n",
              "      <td>6</td>\n",
              "      <td>0</td>\n",
              "    </tr>\n",
              "    <tr>\n",
              "      <th>3809</th>\n",
              "      <td>7.4</td>\n",
              "      <td>0.240</td>\n",
              "      <td>0.26</td>\n",
              "      <td>1.60</td>\n",
              "      <td>0.058</td>\n",
              "      <td>53.0</td>\n",
              "      <td>150.0</td>\n",
              "      <td>0.99360</td>\n",
              "      <td>3.18</td>\n",
              "      <td>0.50</td>\n",
              "      <td>9.9</td>\n",
              "      <td>7</td>\n",
              "      <td>0</td>\n",
              "    </tr>\n",
              "    <tr>\n",
              "      <th>1934</th>\n",
              "      <td>6.3</td>\n",
              "      <td>0.230</td>\n",
              "      <td>0.30</td>\n",
              "      <td>1.80</td>\n",
              "      <td>0.033</td>\n",
              "      <td>16.0</td>\n",
              "      <td>91.0</td>\n",
              "      <td>0.99060</td>\n",
              "      <td>3.28</td>\n",
              "      <td>0.40</td>\n",
              "      <td>11.8</td>\n",
              "      <td>6</td>\n",
              "      <td>0</td>\n",
              "    </tr>\n",
              "    <tr>\n",
              "      <th>4294</th>\n",
              "      <td>5.7</td>\n",
              "      <td>0.230</td>\n",
              "      <td>0.28</td>\n",
              "      <td>9.65</td>\n",
              "      <td>0.025</td>\n",
              "      <td>26.0</td>\n",
              "      <td>121.0</td>\n",
              "      <td>0.99250</td>\n",
              "      <td>3.28</td>\n",
              "      <td>0.38</td>\n",
              "      <td>11.3</td>\n",
              "      <td>6</td>\n",
              "      <td>0</td>\n",
              "    </tr>\n",
              "    <tr>\n",
              "      <th>2167</th>\n",
              "      <td>6.1</td>\n",
              "      <td>0.260</td>\n",
              "      <td>0.51</td>\n",
              "      <td>2.20</td>\n",
              "      <td>0.050</td>\n",
              "      <td>61.0</td>\n",
              "      <td>154.0</td>\n",
              "      <td>0.99290</td>\n",
              "      <td>3.08</td>\n",
              "      <td>0.60</td>\n",
              "      <td>9.8</td>\n",
              "      <td>6</td>\n",
              "      <td>0</td>\n",
              "    </tr>\n",
              "    <tr>\n",
              "      <th>4210</th>\n",
              "      <td>6.5</td>\n",
              "      <td>0.300</td>\n",
              "      <td>0.39</td>\n",
              "      <td>7.80</td>\n",
              "      <td>0.038</td>\n",
              "      <td>61.0</td>\n",
              "      <td>219.0</td>\n",
              "      <td>0.99590</td>\n",
              "      <td>3.19</td>\n",
              "      <td>0.50</td>\n",
              "      <td>9.4</td>\n",
              "      <td>5</td>\n",
              "      <td>0</td>\n",
              "    </tr>\n",
              "    <tr>\n",
              "      <th>2645</th>\n",
              "      <td>6.5</td>\n",
              "      <td>0.190</td>\n",
              "      <td>0.10</td>\n",
              "      <td>1.30</td>\n",
              "      <td>0.046</td>\n",
              "      <td>23.0</td>\n",
              "      <td>107.0</td>\n",
              "      <td>0.99370</td>\n",
              "      <td>3.29</td>\n",
              "      <td>0.45</td>\n",
              "      <td>10.0</td>\n",
              "      <td>5</td>\n",
              "      <td>0</td>\n",
              "    </tr>\n",
              "    <tr>\n",
              "      <th>6221</th>\n",
              "      <td>6.5</td>\n",
              "      <td>0.500</td>\n",
              "      <td>0.22</td>\n",
              "      <td>4.10</td>\n",
              "      <td>0.036</td>\n",
              "      <td>35.0</td>\n",
              "      <td>131.0</td>\n",
              "      <td>0.99020</td>\n",
              "      <td>3.26</td>\n",
              "      <td>0.55</td>\n",
              "      <td>13.0</td>\n",
              "      <td>7</td>\n",
              "      <td>0</td>\n",
              "    </tr>\n",
              "    <tr>\n",
              "      <th>2209</th>\n",
              "      <td>6.5</td>\n",
              "      <td>0.360</td>\n",
              "      <td>0.28</td>\n",
              "      <td>3.20</td>\n",
              "      <td>0.037</td>\n",
              "      <td>29.0</td>\n",
              "      <td>119.0</td>\n",
              "      <td>0.99080</td>\n",
              "      <td>3.25</td>\n",
              "      <td>0.65</td>\n",
              "      <td>12.4</td>\n",
              "      <td>8</td>\n",
              "      <td>0</td>\n",
              "    </tr>\n",
              "  </tbody>\n",
              "</table>\n",
              "</div>"
            ],
            "text/plain": [
              "      fixed_acidity  volatile_acidity  citric_acid  ...  alcohol  quality  color\n",
              "698             9.4             0.615         0.28  ...      9.7        5      1\n",
              "5132            6.6             0.220         0.30  ...     10.6        6      0\n",
              "3809            7.4             0.240         0.26  ...      9.9        7      0\n",
              "1934            6.3             0.230         0.30  ...     11.8        6      0\n",
              "4294            5.7             0.230         0.28  ...     11.3        6      0\n",
              "2167            6.1             0.260         0.51  ...      9.8        6      0\n",
              "4210            6.5             0.300         0.39  ...      9.4        5      0\n",
              "2645            6.5             0.190         0.10  ...     10.0        5      0\n",
              "6221            6.5             0.500         0.22  ...     13.0        7      0\n",
              "2209            6.5             0.360         0.28  ...     12.4        8      0\n",
              "\n",
              "[10 rows x 13 columns]"
            ]
          },
          "metadata": {
            "tags": []
          },
          "execution_count": 4
        }
      ]
    },
    {
      "cell_type": "code",
      "metadata": {
        "id": "7gV55DX8k9gr",
        "colab_type": "code",
        "colab": {}
      },
      "source": [
        "feature_cols = [x for x in data.columns if x not in 'color']\n",
        "\n",
        "# use StratifiedShuffleSplit to split into train and test sets that are stratified\n",
        "from sklearn.model_selection import StratifiedShuffleSplit\n",
        "\n",
        "#split the data into two parts with 1000 points in the test data\n",
        "#this creates a generator\n",
        "strat_shuff_split = StratifiedShuffleSplit(n_splits=1, test_size=1000, random_state=42)\n",
        "\n",
        "# Get the index values from the generator\n",
        "train_idx, test_idx = next(strat_shuff_split.split(data[feature_cols], data['color']))\n",
        "\n",
        "#Create the data sets\n",
        "X_train = data.loc[train_idx, feature_cols]\n",
        "y_train = data.loc[train_idx, 'color']\n",
        "\n",
        "X_test = data.loc[test_idx, feature_cols]\n",
        "y_test = data.loc[test_idx, 'color']"
      ],
      "execution_count": 0,
      "outputs": []
    },
    {
      "cell_type": "code",
      "metadata": {
        "id": "ELnQOWYRn4Ro",
        "colab_type": "code",
        "colab": {}
      },
      "source": [
        "X_train.shape, X_test_shape"
      ],
      "execution_count": 0,
      "outputs": []
    },
    {
      "cell_type": "code",
      "metadata": {
        "id": "q21vLVQxoKsX",
        "colab_type": "code",
        "colab": {}
      },
      "source": [
        ""
      ],
      "execution_count": 0,
      "outputs": []
    }
  ]
}