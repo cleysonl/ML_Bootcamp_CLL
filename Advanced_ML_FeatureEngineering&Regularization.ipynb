{
  "nbformat": 4,
  "nbformat_minor": 0,
  "metadata": {
    "colab": {
      "name": "Advanced_ML_FeatureEngineering&Regularization.ipynb",
      "provenance": [],
      "authorship_tag": "ABX9TyO3uCJNiGwAJQvqYZT+V8p4",
      "include_colab_link": true
    },
    "kernelspec": {
      "name": "python3",
      "display_name": "Python 3"
    }
  },
  "cells": [
    {
      "cell_type": "markdown",
      "metadata": {
        "id": "view-in-github",
        "colab_type": "text"
      },
      "source": [
        "<a href=\"https://colab.research.google.com/github/cleysonl/ML_Bootcamp_CLL/blob/master/Advanced_ML_FeatureEngineering%26Regularization.ipynb\" target=\"_parent\"><img src=\"https://colab.research.google.com/assets/colab-badge.svg\" alt=\"Open In Colab\"/></a>"
      ]
    },
    {
      "cell_type": "code",
      "metadata": {
        "id": "4RtezI09bPST",
        "colab_type": "code",
        "colab": {
          "base_uri": "https://localhost:8080/",
          "height": 34
        },
        "outputId": "4cae4709-7f95-4c3f-923d-c5f0cfd67485"
      },
      "source": [
        "import pandas as pd\n",
        "import numpy as np\n",
        "\n",
        "np.set_printoptions(suppress=True)\n",
        "\n",
        "#Import the data using the file path\n",
        "train = pd.read_csv('https://raw.githubusercontent.com/raghavbali/appliedml_workshop_dhs_av_2019/master/Module%2006%20-%20Advanced%20ML%20-%20Feature%20Engineering%20and%20Regularization/data/train.csv')\n",
        "train.shape"
      ],
      "execution_count": 58,
      "outputs": [
        {
          "output_type": "execute_result",
          "data": {
            "text/plain": [
              "(1460, 81)"
            ]
          },
          "metadata": {
            "tags": []
          },
          "execution_count": 58
        }
      ]
    },
    {
      "cell_type": "code",
      "metadata": {
        "id": "hCa7H7Hs480Q",
        "colab_type": "code",
        "colab": {
          "base_uri": "https://localhost:8080/",
          "height": 1000
        },
        "outputId": "156f79d5-09ba-4796-e76f-eaf613f29488"
      },
      "source": [
        "train.info()"
      ],
      "execution_count": 59,
      "outputs": [
        {
          "output_type": "stream",
          "text": [
            "<class 'pandas.core.frame.DataFrame'>\n",
            "RangeIndex: 1460 entries, 0 to 1459\n",
            "Data columns (total 81 columns):\n",
            "Id               1460 non-null int64\n",
            "MSSubClass       1460 non-null int64\n",
            "MSZoning         1460 non-null object\n",
            "LotFrontage      1201 non-null float64\n",
            "LotArea          1460 non-null int64\n",
            "Street           1460 non-null object\n",
            "Alley            91 non-null object\n",
            "LotShape         1460 non-null object\n",
            "LandContour      1460 non-null object\n",
            "Utilities        1460 non-null object\n",
            "LotConfig        1460 non-null object\n",
            "LandSlope        1460 non-null object\n",
            "Neighborhood     1460 non-null object\n",
            "Condition1       1460 non-null object\n",
            "Condition2       1460 non-null object\n",
            "BldgType         1460 non-null object\n",
            "HouseStyle       1460 non-null object\n",
            "OverallQual      1460 non-null int64\n",
            "OverallCond      1460 non-null int64\n",
            "YearBuilt        1460 non-null int64\n",
            "YearRemodAdd     1460 non-null int64\n",
            "RoofStyle        1460 non-null object\n",
            "RoofMatl         1460 non-null object\n",
            "Exterior1st      1460 non-null object\n",
            "Exterior2nd      1460 non-null object\n",
            "MasVnrType       1452 non-null object\n",
            "MasVnrArea       1452 non-null float64\n",
            "ExterQual        1460 non-null object\n",
            "ExterCond        1460 non-null object\n",
            "Foundation       1460 non-null object\n",
            "BsmtQual         1423 non-null object\n",
            "BsmtCond         1423 non-null object\n",
            "BsmtExposure     1422 non-null object\n",
            "BsmtFinType1     1423 non-null object\n",
            "BsmtFinSF1       1460 non-null int64\n",
            "BsmtFinType2     1422 non-null object\n",
            "BsmtFinSF2       1460 non-null int64\n",
            "BsmtUnfSF        1460 non-null int64\n",
            "TotalBsmtSF      1460 non-null int64\n",
            "Heating          1460 non-null object\n",
            "HeatingQC        1460 non-null object\n",
            "CentralAir       1460 non-null object\n",
            "Electrical       1459 non-null object\n",
            "1stFlrSF         1460 non-null int64\n",
            "2ndFlrSF         1460 non-null int64\n",
            "LowQualFinSF     1460 non-null int64\n",
            "GrLivArea        1460 non-null int64\n",
            "BsmtFullBath     1460 non-null int64\n",
            "BsmtHalfBath     1460 non-null int64\n",
            "FullBath         1460 non-null int64\n",
            "HalfBath         1460 non-null int64\n",
            "BedroomAbvGr     1460 non-null int64\n",
            "KitchenAbvGr     1460 non-null int64\n",
            "KitchenQual      1460 non-null object\n",
            "TotRmsAbvGrd     1460 non-null int64\n",
            "Functional       1460 non-null object\n",
            "Fireplaces       1460 non-null int64\n",
            "FireplaceQu      770 non-null object\n",
            "GarageType       1379 non-null object\n",
            "GarageYrBlt      1379 non-null float64\n",
            "GarageFinish     1379 non-null object\n",
            "GarageCars       1460 non-null int64\n",
            "GarageArea       1460 non-null int64\n",
            "GarageQual       1379 non-null object\n",
            "GarageCond       1379 non-null object\n",
            "PavedDrive       1460 non-null object\n",
            "WoodDeckSF       1460 non-null int64\n",
            "OpenPorchSF      1460 non-null int64\n",
            "EnclosedPorch    1460 non-null int64\n",
            "3SsnPorch        1460 non-null int64\n",
            "ScreenPorch      1460 non-null int64\n",
            "PoolArea         1460 non-null int64\n",
            "PoolQC           7 non-null object\n",
            "Fence            281 non-null object\n",
            "MiscFeature      54 non-null object\n",
            "MiscVal          1460 non-null int64\n",
            "MoSold           1460 non-null int64\n",
            "YrSold           1460 non-null int64\n",
            "SaleType         1460 non-null object\n",
            "SaleCondition    1460 non-null object\n",
            "SalePrice        1460 non-null int64\n",
            "dtypes: float64(3), int64(35), object(43)\n",
            "memory usage: 924.0+ KB\n"
          ],
          "name": "stdout"
        }
      ]
    },
    {
      "cell_type": "code",
      "metadata": {
        "id": "xDGwqOy_5Dnl",
        "colab_type": "code",
        "colab": {
          "base_uri": "https://localhost:8080/",
          "height": 253
        },
        "outputId": "fbf90948-3e0f-4cf6-990d-cf7067647f43"
      },
      "source": [
        "train.head()"
      ],
      "execution_count": 60,
      "outputs": [
        {
          "output_type": "execute_result",
          "data": {
            "text/html": [
              "<div>\n",
              "<style scoped>\n",
              "    .dataframe tbody tr th:only-of-type {\n",
              "        vertical-align: middle;\n",
              "    }\n",
              "\n",
              "    .dataframe tbody tr th {\n",
              "        vertical-align: top;\n",
              "    }\n",
              "\n",
              "    .dataframe thead th {\n",
              "        text-align: right;\n",
              "    }\n",
              "</style>\n",
              "<table border=\"1\" class=\"dataframe\">\n",
              "  <thead>\n",
              "    <tr style=\"text-align: right;\">\n",
              "      <th></th>\n",
              "      <th>Id</th>\n",
              "      <th>MSSubClass</th>\n",
              "      <th>MSZoning</th>\n",
              "      <th>LotFrontage</th>\n",
              "      <th>LotArea</th>\n",
              "      <th>Street</th>\n",
              "      <th>Alley</th>\n",
              "      <th>LotShape</th>\n",
              "      <th>LandContour</th>\n",
              "      <th>Utilities</th>\n",
              "      <th>LotConfig</th>\n",
              "      <th>LandSlope</th>\n",
              "      <th>Neighborhood</th>\n",
              "      <th>Condition1</th>\n",
              "      <th>Condition2</th>\n",
              "      <th>BldgType</th>\n",
              "      <th>HouseStyle</th>\n",
              "      <th>OverallQual</th>\n",
              "      <th>OverallCond</th>\n",
              "      <th>YearBuilt</th>\n",
              "      <th>YearRemodAdd</th>\n",
              "      <th>RoofStyle</th>\n",
              "      <th>RoofMatl</th>\n",
              "      <th>Exterior1st</th>\n",
              "      <th>Exterior2nd</th>\n",
              "      <th>MasVnrType</th>\n",
              "      <th>MasVnrArea</th>\n",
              "      <th>ExterQual</th>\n",
              "      <th>ExterCond</th>\n",
              "      <th>Foundation</th>\n",
              "      <th>BsmtQual</th>\n",
              "      <th>BsmtCond</th>\n",
              "      <th>BsmtExposure</th>\n",
              "      <th>BsmtFinType1</th>\n",
              "      <th>BsmtFinSF1</th>\n",
              "      <th>BsmtFinType2</th>\n",
              "      <th>BsmtFinSF2</th>\n",
              "      <th>BsmtUnfSF</th>\n",
              "      <th>TotalBsmtSF</th>\n",
              "      <th>Heating</th>\n",
              "      <th>...</th>\n",
              "      <th>CentralAir</th>\n",
              "      <th>Electrical</th>\n",
              "      <th>1stFlrSF</th>\n",
              "      <th>2ndFlrSF</th>\n",
              "      <th>LowQualFinSF</th>\n",
              "      <th>GrLivArea</th>\n",
              "      <th>BsmtFullBath</th>\n",
              "      <th>BsmtHalfBath</th>\n",
              "      <th>FullBath</th>\n",
              "      <th>HalfBath</th>\n",
              "      <th>BedroomAbvGr</th>\n",
              "      <th>KitchenAbvGr</th>\n",
              "      <th>KitchenQual</th>\n",
              "      <th>TotRmsAbvGrd</th>\n",
              "      <th>Functional</th>\n",
              "      <th>Fireplaces</th>\n",
              "      <th>FireplaceQu</th>\n",
              "      <th>GarageType</th>\n",
              "      <th>GarageYrBlt</th>\n",
              "      <th>GarageFinish</th>\n",
              "      <th>GarageCars</th>\n",
              "      <th>GarageArea</th>\n",
              "      <th>GarageQual</th>\n",
              "      <th>GarageCond</th>\n",
              "      <th>PavedDrive</th>\n",
              "      <th>WoodDeckSF</th>\n",
              "      <th>OpenPorchSF</th>\n",
              "      <th>EnclosedPorch</th>\n",
              "      <th>3SsnPorch</th>\n",
              "      <th>ScreenPorch</th>\n",
              "      <th>PoolArea</th>\n",
              "      <th>PoolQC</th>\n",
              "      <th>Fence</th>\n",
              "      <th>MiscFeature</th>\n",
              "      <th>MiscVal</th>\n",
              "      <th>MoSold</th>\n",
              "      <th>YrSold</th>\n",
              "      <th>SaleType</th>\n",
              "      <th>SaleCondition</th>\n",
              "      <th>SalePrice</th>\n",
              "    </tr>\n",
              "  </thead>\n",
              "  <tbody>\n",
              "    <tr>\n",
              "      <th>0</th>\n",
              "      <td>1</td>\n",
              "      <td>60</td>\n",
              "      <td>RL</td>\n",
              "      <td>65.0</td>\n",
              "      <td>8450</td>\n",
              "      <td>Pave</td>\n",
              "      <td>NaN</td>\n",
              "      <td>Reg</td>\n",
              "      <td>Lvl</td>\n",
              "      <td>AllPub</td>\n",
              "      <td>Inside</td>\n",
              "      <td>Gtl</td>\n",
              "      <td>CollgCr</td>\n",
              "      <td>Norm</td>\n",
              "      <td>Norm</td>\n",
              "      <td>1Fam</td>\n",
              "      <td>2Story</td>\n",
              "      <td>7</td>\n",
              "      <td>5</td>\n",
              "      <td>2003</td>\n",
              "      <td>2003</td>\n",
              "      <td>Gable</td>\n",
              "      <td>CompShg</td>\n",
              "      <td>VinylSd</td>\n",
              "      <td>VinylSd</td>\n",
              "      <td>BrkFace</td>\n",
              "      <td>196.0</td>\n",
              "      <td>Gd</td>\n",
              "      <td>TA</td>\n",
              "      <td>PConc</td>\n",
              "      <td>Gd</td>\n",
              "      <td>TA</td>\n",
              "      <td>No</td>\n",
              "      <td>GLQ</td>\n",
              "      <td>706</td>\n",
              "      <td>Unf</td>\n",
              "      <td>0</td>\n",
              "      <td>150</td>\n",
              "      <td>856</td>\n",
              "      <td>GasA</td>\n",
              "      <td>...</td>\n",
              "      <td>Y</td>\n",
              "      <td>SBrkr</td>\n",
              "      <td>856</td>\n",
              "      <td>854</td>\n",
              "      <td>0</td>\n",
              "      <td>1710</td>\n",
              "      <td>1</td>\n",
              "      <td>0</td>\n",
              "      <td>2</td>\n",
              "      <td>1</td>\n",
              "      <td>3</td>\n",
              "      <td>1</td>\n",
              "      <td>Gd</td>\n",
              "      <td>8</td>\n",
              "      <td>Typ</td>\n",
              "      <td>0</td>\n",
              "      <td>NaN</td>\n",
              "      <td>Attchd</td>\n",
              "      <td>2003.0</td>\n",
              "      <td>RFn</td>\n",
              "      <td>2</td>\n",
              "      <td>548</td>\n",
              "      <td>TA</td>\n",
              "      <td>TA</td>\n",
              "      <td>Y</td>\n",
              "      <td>0</td>\n",
              "      <td>61</td>\n",
              "      <td>0</td>\n",
              "      <td>0</td>\n",
              "      <td>0</td>\n",
              "      <td>0</td>\n",
              "      <td>NaN</td>\n",
              "      <td>NaN</td>\n",
              "      <td>NaN</td>\n",
              "      <td>0</td>\n",
              "      <td>2</td>\n",
              "      <td>2008</td>\n",
              "      <td>WD</td>\n",
              "      <td>Normal</td>\n",
              "      <td>208500</td>\n",
              "    </tr>\n",
              "    <tr>\n",
              "      <th>1</th>\n",
              "      <td>2</td>\n",
              "      <td>20</td>\n",
              "      <td>RL</td>\n",
              "      <td>80.0</td>\n",
              "      <td>9600</td>\n",
              "      <td>Pave</td>\n",
              "      <td>NaN</td>\n",
              "      <td>Reg</td>\n",
              "      <td>Lvl</td>\n",
              "      <td>AllPub</td>\n",
              "      <td>FR2</td>\n",
              "      <td>Gtl</td>\n",
              "      <td>Veenker</td>\n",
              "      <td>Feedr</td>\n",
              "      <td>Norm</td>\n",
              "      <td>1Fam</td>\n",
              "      <td>1Story</td>\n",
              "      <td>6</td>\n",
              "      <td>8</td>\n",
              "      <td>1976</td>\n",
              "      <td>1976</td>\n",
              "      <td>Gable</td>\n",
              "      <td>CompShg</td>\n",
              "      <td>MetalSd</td>\n",
              "      <td>MetalSd</td>\n",
              "      <td>None</td>\n",
              "      <td>0.0</td>\n",
              "      <td>TA</td>\n",
              "      <td>TA</td>\n",
              "      <td>CBlock</td>\n",
              "      <td>Gd</td>\n",
              "      <td>TA</td>\n",
              "      <td>Gd</td>\n",
              "      <td>ALQ</td>\n",
              "      <td>978</td>\n",
              "      <td>Unf</td>\n",
              "      <td>0</td>\n",
              "      <td>284</td>\n",
              "      <td>1262</td>\n",
              "      <td>GasA</td>\n",
              "      <td>...</td>\n",
              "      <td>Y</td>\n",
              "      <td>SBrkr</td>\n",
              "      <td>1262</td>\n",
              "      <td>0</td>\n",
              "      <td>0</td>\n",
              "      <td>1262</td>\n",
              "      <td>0</td>\n",
              "      <td>1</td>\n",
              "      <td>2</td>\n",
              "      <td>0</td>\n",
              "      <td>3</td>\n",
              "      <td>1</td>\n",
              "      <td>TA</td>\n",
              "      <td>6</td>\n",
              "      <td>Typ</td>\n",
              "      <td>1</td>\n",
              "      <td>TA</td>\n",
              "      <td>Attchd</td>\n",
              "      <td>1976.0</td>\n",
              "      <td>RFn</td>\n",
              "      <td>2</td>\n",
              "      <td>460</td>\n",
              "      <td>TA</td>\n",
              "      <td>TA</td>\n",
              "      <td>Y</td>\n",
              "      <td>298</td>\n",
              "      <td>0</td>\n",
              "      <td>0</td>\n",
              "      <td>0</td>\n",
              "      <td>0</td>\n",
              "      <td>0</td>\n",
              "      <td>NaN</td>\n",
              "      <td>NaN</td>\n",
              "      <td>NaN</td>\n",
              "      <td>0</td>\n",
              "      <td>5</td>\n",
              "      <td>2007</td>\n",
              "      <td>WD</td>\n",
              "      <td>Normal</td>\n",
              "      <td>181500</td>\n",
              "    </tr>\n",
              "    <tr>\n",
              "      <th>2</th>\n",
              "      <td>3</td>\n",
              "      <td>60</td>\n",
              "      <td>RL</td>\n",
              "      <td>68.0</td>\n",
              "      <td>11250</td>\n",
              "      <td>Pave</td>\n",
              "      <td>NaN</td>\n",
              "      <td>IR1</td>\n",
              "      <td>Lvl</td>\n",
              "      <td>AllPub</td>\n",
              "      <td>Inside</td>\n",
              "      <td>Gtl</td>\n",
              "      <td>CollgCr</td>\n",
              "      <td>Norm</td>\n",
              "      <td>Norm</td>\n",
              "      <td>1Fam</td>\n",
              "      <td>2Story</td>\n",
              "      <td>7</td>\n",
              "      <td>5</td>\n",
              "      <td>2001</td>\n",
              "      <td>2002</td>\n",
              "      <td>Gable</td>\n",
              "      <td>CompShg</td>\n",
              "      <td>VinylSd</td>\n",
              "      <td>VinylSd</td>\n",
              "      <td>BrkFace</td>\n",
              "      <td>162.0</td>\n",
              "      <td>Gd</td>\n",
              "      <td>TA</td>\n",
              "      <td>PConc</td>\n",
              "      <td>Gd</td>\n",
              "      <td>TA</td>\n",
              "      <td>Mn</td>\n",
              "      <td>GLQ</td>\n",
              "      <td>486</td>\n",
              "      <td>Unf</td>\n",
              "      <td>0</td>\n",
              "      <td>434</td>\n",
              "      <td>920</td>\n",
              "      <td>GasA</td>\n",
              "      <td>...</td>\n",
              "      <td>Y</td>\n",
              "      <td>SBrkr</td>\n",
              "      <td>920</td>\n",
              "      <td>866</td>\n",
              "      <td>0</td>\n",
              "      <td>1786</td>\n",
              "      <td>1</td>\n",
              "      <td>0</td>\n",
              "      <td>2</td>\n",
              "      <td>1</td>\n",
              "      <td>3</td>\n",
              "      <td>1</td>\n",
              "      <td>Gd</td>\n",
              "      <td>6</td>\n",
              "      <td>Typ</td>\n",
              "      <td>1</td>\n",
              "      <td>TA</td>\n",
              "      <td>Attchd</td>\n",
              "      <td>2001.0</td>\n",
              "      <td>RFn</td>\n",
              "      <td>2</td>\n",
              "      <td>608</td>\n",
              "      <td>TA</td>\n",
              "      <td>TA</td>\n",
              "      <td>Y</td>\n",
              "      <td>0</td>\n",
              "      <td>42</td>\n",
              "      <td>0</td>\n",
              "      <td>0</td>\n",
              "      <td>0</td>\n",
              "      <td>0</td>\n",
              "      <td>NaN</td>\n",
              "      <td>NaN</td>\n",
              "      <td>NaN</td>\n",
              "      <td>0</td>\n",
              "      <td>9</td>\n",
              "      <td>2008</td>\n",
              "      <td>WD</td>\n",
              "      <td>Normal</td>\n",
              "      <td>223500</td>\n",
              "    </tr>\n",
              "    <tr>\n",
              "      <th>3</th>\n",
              "      <td>4</td>\n",
              "      <td>70</td>\n",
              "      <td>RL</td>\n",
              "      <td>60.0</td>\n",
              "      <td>9550</td>\n",
              "      <td>Pave</td>\n",
              "      <td>NaN</td>\n",
              "      <td>IR1</td>\n",
              "      <td>Lvl</td>\n",
              "      <td>AllPub</td>\n",
              "      <td>Corner</td>\n",
              "      <td>Gtl</td>\n",
              "      <td>Crawfor</td>\n",
              "      <td>Norm</td>\n",
              "      <td>Norm</td>\n",
              "      <td>1Fam</td>\n",
              "      <td>2Story</td>\n",
              "      <td>7</td>\n",
              "      <td>5</td>\n",
              "      <td>1915</td>\n",
              "      <td>1970</td>\n",
              "      <td>Gable</td>\n",
              "      <td>CompShg</td>\n",
              "      <td>Wd Sdng</td>\n",
              "      <td>Wd Shng</td>\n",
              "      <td>None</td>\n",
              "      <td>0.0</td>\n",
              "      <td>TA</td>\n",
              "      <td>TA</td>\n",
              "      <td>BrkTil</td>\n",
              "      <td>TA</td>\n",
              "      <td>Gd</td>\n",
              "      <td>No</td>\n",
              "      <td>ALQ</td>\n",
              "      <td>216</td>\n",
              "      <td>Unf</td>\n",
              "      <td>0</td>\n",
              "      <td>540</td>\n",
              "      <td>756</td>\n",
              "      <td>GasA</td>\n",
              "      <td>...</td>\n",
              "      <td>Y</td>\n",
              "      <td>SBrkr</td>\n",
              "      <td>961</td>\n",
              "      <td>756</td>\n",
              "      <td>0</td>\n",
              "      <td>1717</td>\n",
              "      <td>1</td>\n",
              "      <td>0</td>\n",
              "      <td>1</td>\n",
              "      <td>0</td>\n",
              "      <td>3</td>\n",
              "      <td>1</td>\n",
              "      <td>Gd</td>\n",
              "      <td>7</td>\n",
              "      <td>Typ</td>\n",
              "      <td>1</td>\n",
              "      <td>Gd</td>\n",
              "      <td>Detchd</td>\n",
              "      <td>1998.0</td>\n",
              "      <td>Unf</td>\n",
              "      <td>3</td>\n",
              "      <td>642</td>\n",
              "      <td>TA</td>\n",
              "      <td>TA</td>\n",
              "      <td>Y</td>\n",
              "      <td>0</td>\n",
              "      <td>35</td>\n",
              "      <td>272</td>\n",
              "      <td>0</td>\n",
              "      <td>0</td>\n",
              "      <td>0</td>\n",
              "      <td>NaN</td>\n",
              "      <td>NaN</td>\n",
              "      <td>NaN</td>\n",
              "      <td>0</td>\n",
              "      <td>2</td>\n",
              "      <td>2006</td>\n",
              "      <td>WD</td>\n",
              "      <td>Abnorml</td>\n",
              "      <td>140000</td>\n",
              "    </tr>\n",
              "    <tr>\n",
              "      <th>4</th>\n",
              "      <td>5</td>\n",
              "      <td>60</td>\n",
              "      <td>RL</td>\n",
              "      <td>84.0</td>\n",
              "      <td>14260</td>\n",
              "      <td>Pave</td>\n",
              "      <td>NaN</td>\n",
              "      <td>IR1</td>\n",
              "      <td>Lvl</td>\n",
              "      <td>AllPub</td>\n",
              "      <td>FR2</td>\n",
              "      <td>Gtl</td>\n",
              "      <td>NoRidge</td>\n",
              "      <td>Norm</td>\n",
              "      <td>Norm</td>\n",
              "      <td>1Fam</td>\n",
              "      <td>2Story</td>\n",
              "      <td>8</td>\n",
              "      <td>5</td>\n",
              "      <td>2000</td>\n",
              "      <td>2000</td>\n",
              "      <td>Gable</td>\n",
              "      <td>CompShg</td>\n",
              "      <td>VinylSd</td>\n",
              "      <td>VinylSd</td>\n",
              "      <td>BrkFace</td>\n",
              "      <td>350.0</td>\n",
              "      <td>Gd</td>\n",
              "      <td>TA</td>\n",
              "      <td>PConc</td>\n",
              "      <td>Gd</td>\n",
              "      <td>TA</td>\n",
              "      <td>Av</td>\n",
              "      <td>GLQ</td>\n",
              "      <td>655</td>\n",
              "      <td>Unf</td>\n",
              "      <td>0</td>\n",
              "      <td>490</td>\n",
              "      <td>1145</td>\n",
              "      <td>GasA</td>\n",
              "      <td>...</td>\n",
              "      <td>Y</td>\n",
              "      <td>SBrkr</td>\n",
              "      <td>1145</td>\n",
              "      <td>1053</td>\n",
              "      <td>0</td>\n",
              "      <td>2198</td>\n",
              "      <td>1</td>\n",
              "      <td>0</td>\n",
              "      <td>2</td>\n",
              "      <td>1</td>\n",
              "      <td>4</td>\n",
              "      <td>1</td>\n",
              "      <td>Gd</td>\n",
              "      <td>9</td>\n",
              "      <td>Typ</td>\n",
              "      <td>1</td>\n",
              "      <td>TA</td>\n",
              "      <td>Attchd</td>\n",
              "      <td>2000.0</td>\n",
              "      <td>RFn</td>\n",
              "      <td>3</td>\n",
              "      <td>836</td>\n",
              "      <td>TA</td>\n",
              "      <td>TA</td>\n",
              "      <td>Y</td>\n",
              "      <td>192</td>\n",
              "      <td>84</td>\n",
              "      <td>0</td>\n",
              "      <td>0</td>\n",
              "      <td>0</td>\n",
              "      <td>0</td>\n",
              "      <td>NaN</td>\n",
              "      <td>NaN</td>\n",
              "      <td>NaN</td>\n",
              "      <td>0</td>\n",
              "      <td>12</td>\n",
              "      <td>2008</td>\n",
              "      <td>WD</td>\n",
              "      <td>Normal</td>\n",
              "      <td>250000</td>\n",
              "    </tr>\n",
              "  </tbody>\n",
              "</table>\n",
              "<p>5 rows × 81 columns</p>\n",
              "</div>"
            ],
            "text/plain": [
              "   Id  MSSubClass MSZoning  ...  SaleType  SaleCondition SalePrice\n",
              "0   1          60       RL  ...        WD         Normal    208500\n",
              "1   2          20       RL  ...        WD         Normal    181500\n",
              "2   3          60       RL  ...        WD         Normal    223500\n",
              "3   4          70       RL  ...        WD        Abnorml    140000\n",
              "4   5          60       RL  ...        WD         Normal    250000\n",
              "\n",
              "[5 rows x 81 columns]"
            ]
          },
          "metadata": {
            "tags": []
          },
          "execution_count": 60
        }
      ]
    },
    {
      "cell_type": "code",
      "metadata": {
        "id": "cTJb6yr55GyH",
        "colab_type": "code",
        "colab": {}
      },
      "source": [
        "train = train.drop(columns=['Id'])"
      ],
      "execution_count": 0,
      "outputs": []
    },
    {
      "cell_type": "code",
      "metadata": {
        "id": "BS1O92JJ5VO1",
        "colab_type": "code",
        "colab": {
          "base_uri": "https://localhost:8080/",
          "height": 238
        },
        "outputId": "99bd996f-3864-4642-b341-a153554d9184"
      },
      "source": [
        "train.isnull().sum(axis=1).sort_values(ascending=False)[:12]"
      ],
      "execution_count": 62,
      "outputs": [
        {
          "output_type": "execute_result",
          "data": {
            "text/plain": [
              "1011    15\n",
              "533     15\n",
              "1218    15\n",
              "39      15\n",
              "705     14\n",
              "1179    14\n",
              "520     14\n",
              "375     11\n",
              "1035    11\n",
              "1143    11\n",
              "1030    11\n",
              "287     11\n",
              "dtype: int64"
            ]
          },
          "metadata": {
            "tags": []
          },
          "execution_count": 62
        }
      ]
    },
    {
      "cell_type": "code",
      "metadata": {
        "id": "UU2O4i2c5j1J",
        "colab_type": "code",
        "colab": {
          "base_uri": "https://localhost:8080/",
          "height": 34
        },
        "outputId": "b89644a4-c0ef-4439-b434-a217a91c5430"
      },
      "source": [
        "#checking manually for one of the rows\n",
        "train.iloc[1011,:].isnull().sum()"
      ],
      "execution_count": 63,
      "outputs": [
        {
          "output_type": "execute_result",
          "data": {
            "text/plain": [
              "15"
            ]
          },
          "metadata": {
            "tags": []
          },
          "execution_count": 63
        }
      ]
    },
    {
      "cell_type": "code",
      "metadata": {
        "id": "_65sPSYH58Hg",
        "colab_type": "code",
        "colab": {}
      },
      "source": [
        "train = train.drop([1011, 533, 1218, 39, 705, 1179, 520])"
      ],
      "execution_count": 0,
      "outputs": []
    },
    {
      "cell_type": "markdown",
      "metadata": {
        "id": "7ycLPI9I_BkN",
        "colab_type": "text"
      },
      "source": [
        "## **Removing Outliers**"
      ]
    },
    {
      "cell_type": "code",
      "metadata": {
        "id": "LwH7cl_M_AVh",
        "colab_type": "code",
        "colab": {
          "base_uri": "https://localhost:8080/",
          "height": 312
        },
        "outputId": "778cc772-a86d-4ab5-e0a5-ebcfc525614a"
      },
      "source": [
        "import matplotlib.pyplot as plt\n",
        "%matplotlib inline\n",
        "\n",
        "plt.scatter(train.GrLivArea, train.SalePrice, c = 'blue', marker = 's');\n",
        "plt.title('Looking for outliers')\n",
        "plt.xlabel('GrLivArea')\n",
        "plt.ylabel('SalePrice')"
      ],
      "execution_count": 65,
      "outputs": [
        {
          "output_type": "execute_result",
          "data": {
            "text/plain": [
              "Text(0, 0.5, 'SalePrice')"
            ]
          },
          "metadata": {
            "tags": []
          },
          "execution_count": 65
        },
        {
          "output_type": "display_data",
          "data": {
            "image/png": "[encoded data removed]",
            "text/plain": [
              "<Figure size 432x288 with 1 Axes>"
            ]
          },
          "metadata": {
            "tags": []
          }
        }
      ]
    },
    {
      "cell_type": "code",
      "metadata": {
        "id": "T2qw5MSw_D79",
        "colab_type": "code",
        "colab": {}
      },
      "source": [
        "train = train[train.GrLivArea < 4000]"
      ],
      "execution_count": 0,
      "outputs": []
    },
    {
      "cell_type": "markdown",
      "metadata": {
        "id": "AvtxpBKSAuBJ",
        "colab_type": "text"
      },
      "source": [
        "## **Log Transformation**"
      ]
    },
    {
      "cell_type": "markdown",
      "metadata": {
        "id": "8tTtPrwZA5Pj",
        "colab_type": "text"
      },
      "source": [
        "Log transform the response variable to handle skewness in the response variable which can be modeled better in linear models."
      ]
    },
    {
      "cell_type": "code",
      "metadata": {
        "id": "lv7XKipMAsi8",
        "colab_type": "code",
        "colab": {
          "base_uri": "https://localhost:8080/",
          "height": 265
        },
        "outputId": "a0031b72-1bcf-48f9-fca2-633fb64e3727"
      },
      "source": [
        "plt.hist(train.SalePrice);"
      ],
      "execution_count": 67,
      "outputs": [
        {
          "output_type": "display_data",
          "data": {
            "image/png": "[encoded data removed]",
            "text/plain": [
              "<Figure size 432x288 with 1 Axes>"
            ]
          },
          "metadata": {
            "tags": []
          }
        }
      ]
    },
    {
      "cell_type": "code",
      "metadata": {
        "id": "TWpcG7NRAw4T",
        "colab_type": "code",
        "colab": {}
      },
      "source": [
        "train.SalePrice = np.log(train.SalePrice)\n",
        "y = train.SalePrice"
      ],
      "execution_count": 0,
      "outputs": []
    },
    {
      "cell_type": "code",
      "metadata": {
        "id": "p7XWioSCBhNp",
        "colab_type": "code",
        "colab": {
          "base_uri": "https://localhost:8080/",
          "height": 265
        },
        "outputId": "692d6a24-163e-4dee-a848-2e0f641f4df8"
      },
      "source": [
        "plt.hist(y);"
      ],
      "execution_count": 69,
      "outputs": [
        {
          "output_type": "display_data",
          "data": {
            "image/png": "[encoded data removed]",
            "text/plain": [
              "<Figure size 432x288 with 1 Axes>"
            ]
          },
          "metadata": {
            "tags": []
          }
        }
      ]
    },
    {
      "cell_type": "markdown",
      "metadata": {
        "id": "uJda-TgJCUxV",
        "colab_type": "text"
      },
      "source": [
        "## **Handling Missing Values - Special Cases**"
      ]
    },
    {
      "cell_type": "code",
      "metadata": {
        "id": "8vqiR7LyBj0x",
        "colab_type": "code",
        "colab": {}
      },
      "source": [
        "# Alley: data description says NA means \"no alley access\"\n",
        "train.loc[:,\"Alley\"] = train.loc[:, \"Alley\"].fillna(\"None\")\n",
        "\n",
        "#BedroomAbvGr: NA most likely means 0\n",
        "train.loc[:, \"BedroomAbvGr\"] = train.loc[:, \"BedroomAbvGr\"].fillna(0)\n",
        "\n",
        "#BsmtQual etc: data description says NA for basement features is \"no basement\"\n",
        "train.loc[:, \"BsmtQual\"] = train.loc[:, \"BsmtQual\"].fillna(\"No\")\n",
        "train.loc[:, \"BsmtCond\"] = train.loc[:, \"BsmtCond\"].fillna(\"No\")\n",
        "train.loc[:, \"BsmtExposure\"] = train.loc[:, \"BsmtExposure\"].fillna(\"No\")\n",
        "train.loc[:, \"BsmtFinType1\"] = train.loc[:, \"BsmtFinType1\"].fillna(\"No\")\n",
        "train.loc[:, \"BsmtFinType2\"] = train.loc[:, \"BsmtFinType2\"].fillna(\"No\")\n",
        "train.loc[:, \"BsmtFullBath\"] = train.loc[:, \"BsmtFullBath\"].fillna(0)\n",
        "train.loc[:, \"BsmtUnfSF\"] = train.loc[:, \"BsmtUnfSF\"].fillna(0)\n",
        "\n",
        "#CentralAir: NA most likely means no\n",
        "train.loc[:, \"CentralAir\"] = train.loc[:, \"CentralAir\"].fillna(0)\n",
        "\n",
        "#Condition: NA most likely Normal\n",
        "train.loc[:, \"Condition1\"] = train.loc[:, \"Condition1\"].fillna(\"Norm\")\n",
        "train.loc[:, \"Condition2\"] = train.loc[:, \"Condition2\"].fillna(\"Norm\")\n",
        "\n",
        "#EnclosedPorch: NA most likely means no enclosed porch\n",
        "train.loc[:, \"EnclosedPorch\"] = train.loc[:, \"EnclosedPorch\"].fillna(0)\n",
        "\n",
        "#External stuff: NA most likely means average\n",
        "train.loc[:, \"ExterCond\"] = train.loc[:, \"ExterCond\"].fillna(\"TA\")\n",
        "train.loc[:, \"ExterQual\"] = train.loc[:, \"ExterQual\"].fillna(\"TA\")\n",
        "\n",
        "#Fence: data description says NA means \"no fence\"\n",
        "train.loc[:, \"Fence\"] = train.loc[:, \"Fence\"].fillna(\"No\")\n",
        "\n",
        "# FireplaceQu : data description says NA means \"no fireplace\"\n",
        "train.loc[:, \"FireplaceQu\"] = train.loc[:, \"FireplaceQu\"].fillna(\"No\")\n",
        "train.loc[:, \"Fireplaces\"] = train.loc[:, \"Fireplaces\"].fillna(0)\n",
        "\n",
        "# Functional : data description says NA means typical\n",
        "train.loc[:, \"Functional\"] = train.loc[:, \"Functional\"].fillna(\"Typ\")\n",
        "\n",
        "# GarageType etc : data description says NA for garage features is \"no garage\"\n",
        "train.loc[:, \"GarageType\"] = train.loc[:, \"GarageType\"].fillna(\"No\")\n",
        "train.loc[:, \"GarageFinish\"] = train.loc[:, \"GarageFinish\"].fillna(\"No\")\n",
        "train.loc[:, \"GarageQual\"] = train.loc[:, \"GarageQual\"].fillna(\"No\")\n",
        "train.loc[:, \"GarageCond\"] = train.loc[:, \"GarageCond\"].fillna(\"No\")\n",
        "train.loc[:, \"GarageArea\"] = train.loc[:, \"GarageArea\"].fillna(0)\n",
        "train.loc[:, \"GarageCars\"] = train.loc[:, \"GarageCars\"].fillna(0)\n",
        "\n",
        "# HalfBath : NA most likely means no half baths above grade\n",
        "train.loc[:, \"HalfBath\"] = train.loc[:, \"HalfBath\"].fillna(0)\n",
        "\n",
        "# HeatingQC : NA most likely means typical\n",
        "train.loc[:, \"HeatingQC\"] = train.loc[:, \"HeatingQC\"].fillna(\"TA\")\n",
        "\n",
        "# KitchenAbvGr : NA most likely means 0\n",
        "train.loc[:, \"KitchenAbvGr\"] = train.loc[:, \"KitchenAbvGr\"].fillna(0)\n",
        "\n",
        "# KitchenQual : NA most likely means typical\n",
        "train.loc[:, \"KitchenQual\"] = train.loc[:, \"KitchenQual\"].fillna(\"TA\")\n",
        "\n",
        "# LotFrontage : NA most likely means no lot frontage\n",
        "train.loc[:, \"LotFrontage\"] = train.loc[:, \"LotFrontage\"].fillna(0)\n",
        "\n",
        "# LotShape : NA most likely means regular\n",
        "train.loc[:, \"LotShape\"] = train.loc[:, \"LotShape\"].fillna(\"Reg\")\n",
        "\n",
        "# MasVnrType : NA most likely means no veneer\n",
        "train.loc[:, \"MasVnrType\"] = train.loc[:, \"MasVnrType\"].fillna(\"None\")\n",
        "train.loc[:, \"MasVnrArea\"] = train.loc[:, \"MasVnrArea\"].fillna(0)\n",
        "\n",
        "# MiscFeature : data description says NA means \"no misc feature\"\n",
        "train.loc[:, \"MiscFeature\"] = train.loc[:, \"MiscFeature\"].fillna(\"No\")\n",
        "train.loc[:, \"MiscVal\"] = train.loc[:, \"MiscVal\"].fillna(0)\n",
        "\n",
        "# OpenPorchSF : NA most likely means no open porch\n",
        "train.loc[:, \"OpenPorchSF\"] = train.loc[:, \"OpenPorchSF\"].fillna(0)\n",
        "\n",
        "# PavedDrive : NA most likely means not paved\n",
        "train.loc[:, \"PavedDrive\"] = train.loc[:, \"PavedDrive\"].fillna(\"N\")\n",
        "\n",
        "# PoolQC : data description says NA means \"no pool\"\n",
        "train.loc[:, \"PoolQC\"] = train.loc[:, \"PoolQC\"].fillna(\"No\")\n",
        "train.loc[:, \"PoolArea\"] = train.loc[:, \"PoolArea\"].fillna(0)\n",
        "\n",
        "# SaleCondition : NA most likely means normal sale\n",
        "train.loc[:, \"SaleCondition\"] = train.loc[:, \"SaleCondition\"].fillna(\"Normal\")\n",
        "\n",
        "# ScreenPorch : NA most likely means no screen porch\n",
        "train.loc[:, \"ScreenPorch\"] = train.loc[:, \"ScreenPorch\"].fillna(0)\n",
        "\n",
        "# TotRmsAbvGrd : NA most likely means 0\n",
        "train.loc[:, \"TotRmsAbvGrd\"] = train.loc[:, \"TotRmsAbvGrd\"].fillna(0)\n",
        "\n",
        "# Utilities : NA most likely means all public utilities\n",
        "train.loc[:, \"Utilities\"] = train.loc[:, \"Utilities\"].fillna(\"AllPub\")\n",
        "\n",
        "# WoodDeckSF : NA most likely means no wood deck\n",
        "train.loc[:, \"WoodDeckSF\"] = train.loc[:, \"WoodDeckSF\"].fillna(0)"
      ],
      "execution_count": 0,
      "outputs": []
    },
    {
      "cell_type": "code",
      "metadata": {
        "id": "L98nRnTjCZXK",
        "colab_type": "code",
        "colab": {
          "base_uri": "https://localhost:8080/",
          "height": 1000
        },
        "outputId": "69c2347a-6b7d-4e38-d913-50b5c4036f48"
      },
      "source": [
        "train.info()"
      ],
      "execution_count": 71,
      "outputs": [
        {
          "output_type": "stream",
          "text": [
            "<class 'pandas.core.frame.DataFrame'>\n",
            "Int64Index: 1449 entries, 0 to 1459\n",
            "Data columns (total 80 columns):\n",
            "MSSubClass       1449 non-null int64\n",
            "MSZoning         1449 non-null object\n",
            "LotFrontage      1449 non-null float64\n",
            "LotArea          1449 non-null int64\n",
            "Street           1449 non-null object\n",
            "Alley            1449 non-null object\n",
            "LotShape         1449 non-null object\n",
            "LandContour      1449 non-null object\n",
            "Utilities        1449 non-null object\n",
            "LotConfig        1449 non-null object\n",
            "LandSlope        1449 non-null object\n",
            "Neighborhood     1449 non-null object\n",
            "Condition1       1449 non-null object\n",
            "Condition2       1449 non-null object\n",
            "BldgType         1449 non-null object\n",
            "HouseStyle       1449 non-null object\n",
            "OverallQual      1449 non-null int64\n",
            "OverallCond      1449 non-null int64\n",
            "YearBuilt        1449 non-null int64\n",
            "YearRemodAdd     1449 non-null int64\n",
            "RoofStyle        1449 non-null object\n",
            "RoofMatl         1449 non-null object\n",
            "Exterior1st      1449 non-null object\n",
            "Exterior2nd      1449 non-null object\n",
            "MasVnrType       1449 non-null object\n",
            "MasVnrArea       1449 non-null float64\n",
            "ExterQual        1449 non-null object\n",
            "ExterCond        1449 non-null object\n",
            "Foundation       1449 non-null object\n",
            "BsmtQual         1449 non-null object\n",
            "BsmtCond         1449 non-null object\n",
            "BsmtExposure     1449 non-null object\n",
            "BsmtFinType1     1449 non-null object\n",
            "BsmtFinSF1       1449 non-null int64\n",
            "BsmtFinType2     1449 non-null object\n",
            "BsmtFinSF2       1449 non-null int64\n",
            "BsmtUnfSF        1449 non-null int64\n",
            "TotalBsmtSF      1449 non-null int64\n",
            "Heating          1449 non-null object\n",
            "HeatingQC        1449 non-null object\n",
            "CentralAir       1449 non-null object\n",
            "Electrical       1448 non-null object\n",
            "1stFlrSF         1449 non-null int64\n",
            "2ndFlrSF         1449 non-null int64\n",
            "LowQualFinSF     1449 non-null int64\n",
            "GrLivArea        1449 non-null int64\n",
            "BsmtFullBath     1449 non-null int64\n",
            "BsmtHalfBath     1449 non-null int64\n",
            "FullBath         1449 non-null int64\n",
            "HalfBath         1449 non-null int64\n",
            "BedroomAbvGr     1449 non-null int64\n",
            "KitchenAbvGr     1449 non-null int64\n",
            "KitchenQual      1449 non-null object\n",
            "TotRmsAbvGrd     1449 non-null int64\n",
            "Functional       1449 non-null object\n",
            "Fireplaces       1449 non-null int64\n",
            "FireplaceQu      1449 non-null object\n",
            "GarageType       1449 non-null object\n",
            "GarageYrBlt      1375 non-null float64\n",
            "GarageFinish     1449 non-null object\n",
            "GarageCars       1449 non-null int64\n",
            "GarageArea       1449 non-null int64\n",
            "GarageQual       1449 non-null object\n",
            "GarageCond       1449 non-null object\n",
            "PavedDrive       1449 non-null object\n",
            "WoodDeckSF       1449 non-null int64\n",
            "OpenPorchSF      1449 non-null int64\n",
            "EnclosedPorch    1449 non-null int64\n",
            "3SsnPorch        1449 non-null int64\n",
            "ScreenPorch      1449 non-null int64\n",
            "PoolArea         1449 non-null int64\n",
            "PoolQC           1449 non-null object\n",
            "Fence            1449 non-null object\n",
            "MiscFeature      1449 non-null object\n",
            "MiscVal          1449 non-null int64\n",
            "MoSold           1449 non-null int64\n",
            "YrSold           1449 non-null int64\n",
            "SaleType         1449 non-null object\n",
            "SaleCondition    1449 non-null object\n",
            "SalePrice        1449 non-null float64\n",
            "dtypes: float64(4), int64(33), object(43)\n",
            "memory usage: 916.9+ KB\n"
          ],
          "name": "stdout"
        }
      ]
    },
    {
      "cell_type": "code",
      "metadata": {
        "id": "_SIaPB1MTqgZ",
        "colab_type": "code",
        "colab": {}
      },
      "source": [
        ""
      ],
      "execution_count": 0,
      "outputs": []
    },
    {
      "cell_type": "markdown",
      "metadata": {
        "id": "YuPTjrnHVU6x",
        "colab_type": "text"
      },
      "source": [
        "## **Simple Feature Engineering**"
      ]
    },
    {
      "cell_type": "code",
      "metadata": {
        "id": "nIGcCvYfVYiO",
        "colab_type": "code",
        "colab": {}
      },
      "source": [
        "# Some numerical features are actually real categories (assuming it is nominal)\n",
        "\n",
        "train = train.replace({\"MSSubClass\": {20 : \"SC20\", 30 : \"SC30\", 40 : \"SC40\", 45 : \"SC45\",\n",
        "                                      50 : \"SC50\", 60 : \"SC60\", 70 : \"SC70\", 75 : \"SC75\",\n",
        "                                      80 : \"SC80\", 85 : \"SC85\", 90 : \"SC90\", 120 : \"SC120\",\n",
        "                                      150 : \"SC150\", 160 : \"SC160\", 180 : \"SC180\", 190 : \"SC190\"},\n",
        "                       \"MoSold\": {1 : \"Jan\", 2 : \"Feb\", 3 : \"Mar\", 4 : \"Apr\", 5 : \"May\", 6 : \"Jun\",\n",
        "                                  7 : \"Jul\", 8 : \"Ago\", 9 : \"Sep\", 10 : \"Oct\", 11 : \"Nov\", 12 : \"Dec\"}})"
      ],
      "execution_count": 0,
      "outputs": []
    },
    {
      "cell_type": "code",
      "metadata": {
        "id": "SO88n03fYFVt",
        "colab_type": "code",
        "colab": {}
      },
      "source": [
        "# Encode some categorical features as ordinal when there is information in the order\n",
        "\n",
        "train = train.replace({\"Alley\" : {\"Grvl\" : 1, \"Pave\" : 2},\n",
        "                       \"BsmtCond\" : {\"No\" : 0, \"Po\" : 1, \"Fa\" : 2, \"TA\" : 3, \"Gd\" : 4, \"Ex\" : 5},\n",
        "                       \"BsmtExposure\" : {\"No\" : 0, \"Mn\" : 1, \"Av\": 2, \"Gd\" : 3},\n",
        "                       \"BsmtFinType1\" : {\"No\" : 0, \"Unf\" : 1, \"LwQ\": 2, \"Rec\" : 3, \"BLQ\" : 4, \"ALQ\" : 5, \"GLQ\" : 6},\n",
        "                       \"BsmtFinType2\" : {\"No\" : 0, \"Unf\" : 1, \"LwQ\": 2, \"Rec\" : 3, \"BLQ\" : 4, \"ALQ\" : 5, \"GLQ\" : 6},\n",
        "                       \"BsmtQual\" : {\"No\" : 0, \"Po\" : 1, \"Fa\" : 2, \"TA\": 3, \"Gd\" : 4, \"Ex\" : 5},\n",
        "                       \"ExterCond\" : {\"Po\" : 1, \"Fa\" : 2, \"TA\": 3, \"Gd\": 4, \"Ex\" : 5},\n",
        "                       \"ExterQual\" : {\"Po\" : 1, \"Fa\" : 2, \"TA\": 3, \"Gd\": 4, \"Ex\" : 5},\n",
        "                       \"FireplaceQu\" : {\"No\" : 0, \"Po\" : 1, \"Fa\" : 2, \"TA\" : 3, \"Gd\" : 4, \"Ex\" : 5},\n",
        "                       \"Functional\" : {\"Sal\" : 1, \"Sev\" : 2, \"Maj2\" : 3, \"Maj1\" : 4, \"Mod\": 5, \"Min2\" : 6, \"Min1\" : 7, \"Typ\" : 8},\n",
        "                       \"GarageCond\" : {\"No\" : 0, \"Po\" : 1, \"Fa\" : 2, \"TA\" : 3, \"Gd\" : 4, \"Ex\" : 5},\n",
        "                       \"GarageQual\" : {\"No\" : 0, \"Po\" : 1, \"Fa\" : 2, \"TA\" : 3, \"Gd\" : 4, \"Ex\" : 5},\n",
        "                       \"HeatingQC\" : {\"Po\" : 1, \"Fa\" : 2, \"TA\" : 3, \"Gd\" : 4, \"Ex\" : 5},\n",
        "                       \"KitchenQual\" : {\"Po\" : 1, \"Fa\" : 2, \"TA\" : 3, \"Gd\" : 4, \"Ex\" : 5},\n",
        "                       \"LandSlope\" : {\"Sev\" : 1, \"Mod\" : 2, \"Gtl\" : 3},\n",
        "                       \"LotShape\" : {\"IR3\" : 1, \"IR2\" : 2, \"IR1\" : 3, \"Reg\" : 4},\n",
        "                       \"PavedDrive\" : {\"N\" : 0, \"P\" : 1, \"Y\" : 2},\n",
        "                       \"PoolQC\" : {\"No\" : 0, \"Fa\" : 1, \"TA\" : 2, \"Gd\" : 3, \"Ex\" : 4},\n",
        "                       \"Street\" : {\"Grvl\" : 1, \"Pave\" : 2},\n",
        "                       \"Utilities\" : {\"ELO\" : 1, \"NoSeWa\" : 2, \"NoSewr\" : 3, \"AllPub\" : 4}})"
      ],
      "execution_count": 0,
      "outputs": []
    },
    {
      "cell_type": "code",
      "metadata": {
        "id": "gzsSeTiUY8s6",
        "colab_type": "code",
        "colab": {}
      },
      "source": [
        ""
      ],
      "execution_count": 0,
      "outputs": []
    },
    {
      "cell_type": "markdown",
      "metadata": {
        "id": "lFj3LpyFZXSb",
        "colab_type": "text"
      },
      "source": [
        "## **Advanced Feature Engineering**"
      ]
    },
    {
      "cell_type": "markdown",
      "metadata": {
        "id": "wJkJdVpBZjbC",
        "colab_type": "text"
      },
      "source": [
        "### **Simplifying Existing Features**"
      ]
    },
    {
      "cell_type": "code",
      "metadata": {
        "id": "QESu-AsAZaLf",
        "colab_type": "code",
        "colab": {}
      },
      "source": [
        "train[\"SimplOverallQual\"] = train.OverallQual.replace({1 : 1, 2 : 1, 3 : 1, # bad\n",
        "                                                       4 : 2, 5 : 2, 6 : 2, # average\n",
        "                                                       7 : 3, 8 : 3, 9 : 3, 10 : 3 # good\n",
        "                                                      })\n",
        "\n",
        "train[\"SimplOverallCond\"] = train.OverallCond.replace({1 : 1, 2 : 1, 3 : 1, # bad\n",
        "                                                       4 : 2, 5 : 2, 6 : 2, # average\n",
        "                                                       7 : 3, 8 : 3, 9 : 3, 10 : 3 # good\n",
        "                                                      })\n",
        "\n",
        "train[\"SimplPoolQC\"] = train.PoolQC.replace({1 : 1, 2 : 1, # average\n",
        "                                             3 : 2, 4 : 2 # good\n",
        "                                            })\n",
        "\n",
        "train[\"SimplGarageCond\"] = train.GarageCond.replace({1 : 1, # bad\n",
        "                                                     2 : 1, 3 : 1, # average\n",
        "                                                     4 : 2, 5 : 2 # good\n",
        "                                                    })\n",
        "\n",
        "train[\"SimplGarageQual\"] = train.GarageQual.replace({1 : 1, # bad\n",
        "                                                     2 : 1, 3 : 1, # average\n",
        "                                                     4 : 2, 5 : 2 # good\n",
        "                                                    })\n",
        "\n",
        "train[\"SimplFireplaceQu\"] = train.FireplaceQu.replace({1 : 1, # bad\n",
        "                                                       2 : 1, 3 : 1, # average\n",
        "                                                       4 : 2, 5 : 2 # good\n",
        "                                                      })\n",
        "\n",
        "train[\"SimplFireplaceQu\"] = train.FireplaceQu.replace({1 : 1, # bad\n",
        "                                                       2 : 1, 3 : 1, # average\n",
        "                                                       4 : 2, 5 : 2 # good\n",
        "                                                      })\n",
        "\n",
        "train[\"SimplFunctional\"] = train.Functional.replace({1 : 1, 2 : 1, # bad\n",
        "                                                     3 : 2, 4 : 2, # major\n",
        "                                                     5 : 3, 6 : 3, 7 : 3, # minor\n",
        "                                                     8 : 4 # typical\n",
        "                                                    })\n",
        "\n",
        "train[\"SimplKitchenQual\"] = train.KitchenQual.replace({1 : 1, # bad\n",
        "                                                       2 : 1, 3 : 1, # average\n",
        "                                                       4 : 2, 5 : 2 # good\n",
        "                                                      })\n",
        "\n",
        "train[\"SimplHeatingQC\"] = train.HeatingQC.replace({1 : 1, # bad\n",
        "                                                   2 : 1, 3 : 1, # average\n",
        "                                                   4 : 2, 5 : 2 # good\n",
        "                                                  })\n",
        "\n",
        "train[\"SimplBsmtFinType1\"] = train.BsmtFinType1.replace({1 : 1, # unfinished\n",
        "                                                         2 : 1, 3 : 1, # rec room\n",
        "                                                         4 : 2, 5 : 2, 6 : 2 # living quarters\n",
        "                                                        })\n",
        "\n",
        "train[\"SimplBsmtFinType2\"] = train.BsmtFinType2.replace({1 : 1, # unfinished\n",
        "                                                         2 : 1, 3 : 1, # rec room\n",
        "                                                         4 : 2, 5 : 2, 6 : 2 # living quarters\n",
        "                                                        })\n",
        "\n",
        "train[\"SimplBsmtCond\"] = train.BsmtCond.replace({1 : 1, # bad\n",
        "                                                 2 : 1, 3 : 1, # average\n",
        "                                                 4 : 2, 5 : 2 # good\n",
        "                                                })\n",
        "\n",
        "train[\"SimplBsmtQual\"] = train.BsmtQual.replace({1 : 1, # bad\n",
        "                                                 2 : 1, 3 : 1, # average\n",
        "                                                 4 : 2, 5 : 2 # good\n",
        "                                                })\n",
        "\n",
        "train[\"SimplExterCond\"] = train.ExterCond.replace({1 : 1, # bad\n",
        "                                                   2 : 1, 3 : 1, # average\n",
        "                                                   4 : 2, 5 : 2 # good\n",
        "                                                  })\n",
        "\n",
        "train[\"SimplExterQual\"] = train.ExterQual.replace({1 : 1, # bad\n",
        "                                                   2 : 1, 3 : 1, # average\n",
        "                                                   4 : 2, 5 : 2 # good\n",
        "                                                  })"
      ],
      "execution_count": 0,
      "outputs": []
    },
    {
      "cell_type": "markdown",
      "metadata": {
        "id": "2L073mZqaBnZ",
        "colab_type": "text"
      },
      "source": [
        "### **New Features based on Feature Crosses\\Interaction**"
      ]
    },
    {
      "cell_type": "code",
      "metadata": {
        "id": "os6Y_R5raBGr",
        "colab_type": "code",
        "colab": {}
      },
      "source": [
        "# Overall quality of the house\n",
        "train[\"OverallGrade\"] = train[\"OverallQual\"] * train[\"OverallCond\"]\n",
        "\n",
        "# Overall quality of the garage\n",
        "train[\"GarageGrade\"] = train[\"GarageQual\"] * train[\"GarageCond\"]\n",
        "\n",
        "# Overall quality of the exterior\n",
        "train[\"ExterGrade\"] = train[\"ExterQual\"] * train[\"ExterCond\"]\n",
        "\n",
        "# Overall kitchen score\n",
        "train[\"KitchenScore\"] = train[\"KitchenAbvGr\"] * train[\"KitchenQual\"]\n",
        "\n",
        "# Overall fireplace score\n",
        "train[\"FireplaceScore\"] = train[\"Fireplaces\"] * train[\"FireplaceQu\"]\n",
        "\n",
        "# Overall garage score\n",
        "train[\"GarageScore\"] = train[\"GarageArea\"] * train[\"GarageQual\"]\n",
        "\n",
        "# Overall pool score\n",
        "train[\"PoolScore\"] = train[\"PoolArea\"] * train[\"PoolQC\"]\n",
        "\n",
        "# Simplified overall quality of the house\n",
        "train[\"SimplOverallGrade\"] = train[\"SimplOverallQual\"] * train[\"SimplOverallCond\"]\n",
        "\n",
        "# Simplified overall quality of the exterior\n",
        "train[\"SimplExterGrade\"] = train[\"SimplExterQual\"] * train[\"SimplExterCond\"]\n",
        "\n",
        "# Simplified overall pool score\n",
        "train[\"SimplPoolScore\"] = train[\"PoolArea\"] * train[\"SimplPoolQC\"]\n",
        "\n",
        "# Simplified overall garage score\n",
        "train[\"SimplGarageScore\"] = train[\"GarageArea\"] * train[\"SimplGarageQual\"]\n",
        "\n",
        "# Simplified overall fireplace score\n",
        "train[\"SimplFireplaceScore\"] = train[\"Fireplaces\"] * train[\"SimplFireplaceQu\"]\n",
        "\n",
        "# Simplified overall kitchen score\n",
        "train[\"SimplKitchenScore\"] = train[\"KitchenAbvGr\"] * train[\"SimplKitchenQual\"]\n",
        "\n",
        "# Total number of bathrooms\n",
        "train[\"TotalBath\"] = train[\"BsmtFullBath\"] + (0.5 * train[\"BsmtHalfBath\"]) + \\\n",
        "train[\"FullBath\"] + (0.5 * train[\"HalfBath\"])\n",
        "\n",
        "# Total SF for house (incl. basement)\n",
        "train[\"AllSF\"] = train[\"GrLivArea\"] + train[\"TotalBsmtSF\"]\n",
        "\n",
        "# Total SF for 1st + 2nd floors\n",
        "train[\"AllFlrsSF\"] = train[\"1stFlrSF\"] + train[\"2ndFlrSF\"]\n",
        "\n",
        "# Total SF for porch\n",
        "train[\"AllPorchSF\"] = train[\"OpenPorchSF\"] + train[\"EnclosedPorch\"] + \\\n",
        "train[\"3SsnPorch\"] + train[\"ScreenPorch\"]\n",
        "\n",
        "# Has masonry veneer or not\n",
        "train[\"HasMasVnr\"] = train.MasVnrType.replace({\"BrkCmn\" : 1, \"BrkFace\" : 1, \"CBlock\" : 1, \n",
        "                                               \"Stone\" : 1, \"None\" : 0})\n",
        "\n",
        "# House completed before sale or not\n",
        "train[\"BoughtOffPlan\"] = train.SaleCondition.replace({\"Abnorml\" : 0, \"Alloca\" : 0, \"AdjLand\" : 0, \n",
        "                                                      \"Family\" : 0, \"Normal\" : 0, \"Partial\" : 1})"
      ],
      "execution_count": 0,
      "outputs": []
    },
    {
      "cell_type": "markdown",
      "metadata": {
        "id": "xQWCFruTb2la",
        "colab_type": "text"
      },
      "source": [
        "## **Polynomial Features on Important Features**"
      ]
    },
    {
      "cell_type": "code",
      "metadata": {
        "id": "57lnQ4kbcjUX",
        "colab_type": "code",
        "colab": {
          "base_uri": "https://localhost:8080/",
          "height": 238
        },
        "outputId": "a0c50d5c-3d4d-4224-fc2c-4e141b8fd536"
      },
      "source": [
        "print(\"Find most important features relative to SalePrice\")\n",
        "corr = train.corr()\n",
        "corr.sort_values([\"SalePrice\"], ascending = False, inplace = True)\n",
        "print(corr.SalePrice[:11])"
      ],
      "execution_count": 76,
      "outputs": [
        {
          "output_type": "stream",
          "text": [
            "Find most important features relative to SalePrice\n",
            "SalePrice           1.000000\n",
            "OverallQual         0.816535\n",
            "AllSF               0.814008\n",
            "AllFlrsSF           0.729217\n",
            "GrLivArea           0.718464\n",
            "SimplOverallQual    0.706770\n",
            "ExterQual           0.677543\n",
            "GarageCars          0.674370\n",
            "TotalBath           0.673602\n",
            "KitchenQual         0.662787\n",
            "GarageScore         0.650761\n",
            "Name: SalePrice, dtype: float64\n"
          ],
          "name": "stdout"
        }
      ]
    },
    {
      "cell_type": "code",
      "metadata": {
        "id": "-E5CKd8rc3CH",
        "colab_type": "code",
        "colab": {}
      },
      "source": [
        "train[\"OverallQual-s2\"] = train[\"OverallQual\"] ** 2\n",
        "train[\"OverallQual-s3\"] = train[\"OverallQual\"] ** 3\n",
        "train[\"OverallQual-Sq\"] = np.sqrt(train[\"OverallQual\"])\n",
        "train[\"AllSF-2\"] = train[\"AllSF\"] ** 2\n",
        "train[\"AllSF-3\"] = train[\"AllSF\"] ** 3\n",
        "train[\"AllSF-Sq\"] = np.sqrt(train[\"AllSF\"])\n",
        "train[\"AllFlrsSF-2\"] = train[\"AllFlrsSF\"] ** 2\n",
        "train[\"AllFlrsSF-3\"] = train[\"AllFlrsSF\"] ** 3\n",
        "train[\"AllFlrsSF-Sq\"] = np.sqrt(train[\"AllFlrsSF\"])\n",
        "train[\"GrLivArea-2\"] = train[\"GrLivArea\"] ** 2\n",
        "train[\"GrLivArea-3\"] = train[\"GrLivArea\"] ** 3\n",
        "train[\"GrLivArea-Sq\"] = np.sqrt(train[\"GrLivArea\"])\n",
        "train[\"SimplOverallQual-s2\"] = train[\"SimplOverallQual\"] ** 2\n",
        "train[\"SimplOverallQual-s3\"] = train[\"SimplOverallQual\"] ** 3\n",
        "train[\"SimplOverallQual-Sq\"] = np.sqrt(train[\"SimplOverallQual\"])\n",
        "train[\"ExterQual-2\"] = train[\"ExterQual\"] ** 2\n",
        "train[\"ExterQual-3\"] = train[\"ExterQual\"] ** 3\n",
        "train[\"ExterQual-Sq\"] = np.sqrt(train[\"ExterQual\"])\n",
        "train[\"GarageCars-2\"] = train[\"GarageCars\"] ** 2\n",
        "train[\"GarageCars-3\"] = train[\"GarageCars\"] ** 3\n",
        "train[\"GarageCars-Sq\"] = np.sqrt(train[\"GarageCars\"])\n",
        "train[\"TotalBath-2\"] = train[\"TotalBath\"] ** 2\n",
        "train[\"TotalBath-3\"] = train[\"TotalBath\"] ** 3\n",
        "train[\"TotalBath-Sq\"] = np.sqrt(train[\"TotalBath\"])\n",
        "train[\"KitchenQual-2\"] = train[\"KitchenQual\"] ** 2\n",
        "train[\"KitchenQual-3\"] = train[\"KitchenQual\"] ** 3\n",
        "train[\"KitchenQual-Sq\"] = np.sqrt(train[\"KitchenQual\"])\n",
        "train[\"GarageScore-2\"] = train[\"GarageScore\"] ** 2\n",
        "train[\"GarageScore-3\"] = train[\"GarageScore\"] ** 3\n",
        "train[\"GarageScore-Sq\"] = np.sqrt(train[\"GarageScore\"])"
      ],
      "execution_count": 0,
      "outputs": []
    },
    {
      "cell_type": "markdown",
      "metadata": {
        "id": "MaNW9jgDf3aN",
        "colab_type": "text"
      },
      "source": [
        "## **Missing Value Imputation**"
      ]
    },
    {
      "cell_type": "code",
      "metadata": {
        "id": "D2ng-JvSdtDi",
        "colab_type": "code",
        "colab": {
          "base_uri": "https://localhost:8080/",
          "height": 221
        },
        "outputId": "432dae10-df0a-4cb0-dd9a-2fb63a032ed7"
      },
      "source": [
        "train.isnull().sum().sort_values(ascending=False)"
      ],
      "execution_count": 79,
      "outputs": [
        {
          "output_type": "execute_result",
          "data": {
            "text/plain": [
              "GarageYrBlt       74\n",
              "Electrical         1\n",
              "GarageScore-Sq     0\n",
              "GrLivArea          0\n",
              "BedroomAbvGr       0\n",
              "                  ..\n",
              "OverallGrade       0\n",
              "SimplExterQual     0\n",
              "SimplExterCond     0\n",
              "SimplBsmtQual      0\n",
              "MSSubClass         0\n",
              "Length: 144, dtype: int64"
            ]
          },
          "metadata": {
            "tags": []
          },
          "execution_count": 79
        }
      ]
    },
    {
      "cell_type": "code",
      "metadata": {
        "id": "oIis-qx-gCX3",
        "colab_type": "code",
        "colab": {}
      },
      "source": [
        "train[\"Electrical\"] = train[\"Electrical\"].fillna(train[\"Electrical\"].mode())"
      ],
      "execution_count": 0,
      "outputs": []
    },
    {
      "cell_type": "code",
      "metadata": {
        "id": "jPzeA02ugdqS",
        "colab_type": "code",
        "colab": {}
      },
      "source": [
        "train[\"GarageYrBlt\"] = train[\"GarageYrBlt\"].fillna(train[\"GarageYrBlt\"].mode())"
      ],
      "execution_count": 0,
      "outputs": []
    },
    {
      "cell_type": "markdown",
      "metadata": {
        "id": "V7Tos8FyiZOi",
        "colab_type": "text"
      },
      "source": [
        "### **One-hot encoding categoricals**"
      ]
    },
    {
      "cell_type": "code",
      "metadata": {
        "id": "z11lmHbvh0Mo",
        "colab_type": "code",
        "colab": {}
      },
      "source": [
        "train = pd.get_dummies(train)"
      ],
      "execution_count": 0,
      "outputs": []
    },
    {
      "cell_type": "markdown",
      "metadata": {
        "id": "pt_YpKx1ilpb",
        "colab_type": "text"
      },
      "source": [
        "### **Preparing Data for Modeling**"
      ]
    },
    {
      "cell_type": "code",
      "metadata": {
        "id": "71_TGgTriiPI",
        "colab_type": "code",
        "colab": {}
      },
      "source": [
        ""
      ],
      "execution_count": 0,
      "outputs": []
    },
    {
      "cell_type": "code",
      "metadata": {
        "id": "q0S-zvxripq3",
        "colab_type": "code",
        "colab": {}
      },
      "source": [
        ""
      ],
      "execution_count": 0,
      "outputs": []
    }
  ]
}