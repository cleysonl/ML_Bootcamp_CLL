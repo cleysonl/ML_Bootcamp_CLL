{
  "nbformat": 4,
  "nbformat_minor": 0,
  "metadata": {
    "colab": {
      "name": "Data_visualization_storytelling.ipynb",
      "provenance": [],
      "authorship_tag": "ABX9TyOrUa0+W4MZ7m93E+9R55Rr",
      "include_colab_link": true
    },
    "kernelspec": {
      "name": "python3",
      "display_name": "Python 3"
    }
  },
  "cells": [
    {
      "cell_type": "markdown",
      "metadata": {
        "id": "view-in-github",
        "colab_type": "text"
      },
      "source": [
        "<a href=\"https://colab.research.google.com/github/cleysonl/ML_Bootcamp_CLL/blob/master/Data_visualization_storytelling.ipynb\" target=\"_parent\"><img src=\"https://colab.research.google.com/assets/colab-badge.svg\" alt=\"Open In Colab\"/></a>"
      ]
    },
    {
      "cell_type": "markdown",
      "metadata": {
        "id": "rUEzdHtR9wO-",
        "colab_type": "text"
      },
      "source": [
        "## **Data Storytelling on Titanic**"
      ]
    },
    {
      "cell_type": "code",
      "metadata": {
        "id": "NC-G-tEZ9Tjs",
        "colab_type": "code",
        "colab": {}
      },
      "source": [
        "# Required libraries\n",
        "import numpy as np\n",
        "import pandas as pd\n",
        "import matplotlib.pyplot as plt\n",
        "import seaborn as sns\n",
        "%matplotlib inline\n",
        "sns.set()"
      ],
      "execution_count": 0,
      "outputs": []
    },
    {
      "cell_type": "markdown",
      "metadata": {
        "id": "IM-cPsp4_G8g",
        "colab_type": "text"
      },
      "source": [
        "**Load Dataset**"
      ]
    },
    {
      "cell_type": "code",
      "metadata": {
        "id": "_PuujhLQ90P9",
        "colab_type": "code",
        "colab": {
          "base_uri": "https://localhost:8080/",
          "height": 34
        },
        "outputId": "ef9cec0c-421b-48de-e583-14d71f82f931"
      },
      "source": [
        "df = pd.read_csv(\"https://raw.githubusercontent.com/raghavbali/appliedml_workshop_dhs_av_2019/master/Module%2003%20-%20Data%20Visualization%20and%20Storytelling/titanic.csv\")\n",
        "df.shape"
      ],
      "execution_count": 2,
      "outputs": [
        {
          "output_type": "execute_result",
          "data": {
            "text/plain": [
              "(891, 12)"
            ]
          },
          "metadata": {
            "tags": []
          },
          "execution_count": 2
        }
      ]
    },
    {
      "cell_type": "markdown",
      "metadata": {
        "id": "5d5j8mB9-5Mq",
        "colab_type": "text"
      },
      "source": [
        "**Sample records**"
      ]
    },
    {
      "cell_type": "code",
      "metadata": {
        "id": "jVRq5mOd-PV0",
        "colab_type": "code",
        "colab": {
          "base_uri": "https://localhost:8080/",
          "height": 425
        },
        "outputId": "ffeee4e5-5f85-4061-c959-e254af38c200"
      },
      "source": [
        "df.head()"
      ],
      "execution_count": 3,
      "outputs": [
        {
          "output_type": "execute_result",
          "data": {
            "text/html": [
              "<div>\n",
              "<style scoped>\n",
              "    .dataframe tbody tr th:only-of-type {\n",
              "        vertical-align: middle;\n",
              "    }\n",
              "\n",
              "    .dataframe tbody tr th {\n",
              "        vertical-align: top;\n",
              "    }\n",
              "\n",
              "    .dataframe thead th {\n",
              "        text-align: right;\n",
              "    }\n",
              "</style>\n",
              "<table border=\"1\" class=\"dataframe\">\n",
              "  <thead>\n",
              "    <tr style=\"text-align: right;\">\n",
              "      <th></th>\n",
              "      <th>PassengerId</th>\n",
              "      <th>Survived</th>\n",
              "      <th>Pclass</th>\n",
              "      <th>Name</th>\n",
              "      <th>Sex</th>\n",
              "      <th>Age</th>\n",
              "      <th>SibSp</th>\n",
              "      <th>Parch</th>\n",
              "      <th>Ticket</th>\n",
              "      <th>Fare</th>\n",
              "      <th>Cabin</th>\n",
              "      <th>Embarked</th>\n",
              "    </tr>\n",
              "  </thead>\n",
              "  <tbody>\n",
              "    <tr>\n",
              "      <th>0</th>\n",
              "      <td>1</td>\n",
              "      <td>0</td>\n",
              "      <td>3</td>\n",
              "      <td>Braund, Mr. Owen Harris</td>\n",
              "      <td>male</td>\n",
              "      <td>22.0</td>\n",
              "      <td>1</td>\n",
              "      <td>0</td>\n",
              "      <td>A/5 21171</td>\n",
              "      <td>7.2500</td>\n",
              "      <td>NaN</td>\n",
              "      <td>S</td>\n",
              "    </tr>\n",
              "    <tr>\n",
              "      <th>1</th>\n",
              "      <td>2</td>\n",
              "      <td>1</td>\n",
              "      <td>1</td>\n",
              "      <td>Cumings, Mrs. John Bradley (Florence Briggs Th...</td>\n",
              "      <td>female</td>\n",
              "      <td>38.0</td>\n",
              "      <td>1</td>\n",
              "      <td>0</td>\n",
              "      <td>PC 17599</td>\n",
              "      <td>71.2833</td>\n",
              "      <td>C85</td>\n",
              "      <td>C</td>\n",
              "    </tr>\n",
              "    <tr>\n",
              "      <th>2</th>\n",
              "      <td>3</td>\n",
              "      <td>1</td>\n",
              "      <td>3</td>\n",
              "      <td>Heikkinen, Miss. Laina</td>\n",
              "      <td>female</td>\n",
              "      <td>26.0</td>\n",
              "      <td>0</td>\n",
              "      <td>0</td>\n",
              "      <td>STON/O2. 3101282</td>\n",
              "      <td>7.9250</td>\n",
              "      <td>NaN</td>\n",
              "      <td>S</td>\n",
              "    </tr>\n",
              "    <tr>\n",
              "      <th>3</th>\n",
              "      <td>4</td>\n",
              "      <td>1</td>\n",
              "      <td>1</td>\n",
              "      <td>Futrelle, Mrs. Jacques Heath (Lily May Peel)</td>\n",
              "      <td>female</td>\n",
              "      <td>35.0</td>\n",
              "      <td>1</td>\n",
              "      <td>0</td>\n",
              "      <td>113803</td>\n",
              "      <td>53.1000</td>\n",
              "      <td>C123</td>\n",
              "      <td>S</td>\n",
              "    </tr>\n",
              "    <tr>\n",
              "      <th>4</th>\n",
              "      <td>5</td>\n",
              "      <td>0</td>\n",
              "      <td>3</td>\n",
              "      <td>Allen, Mr. William Henry</td>\n",
              "      <td>male</td>\n",
              "      <td>35.0</td>\n",
              "      <td>0</td>\n",
              "      <td>0</td>\n",
              "      <td>373450</td>\n",
              "      <td>8.0500</td>\n",
              "      <td>NaN</td>\n",
              "      <td>S</td>\n",
              "    </tr>\n",
              "  </tbody>\n",
              "</table>\n",
              "</div>"
            ],
            "text/plain": [
              "   PassengerId  Survived  Pclass  ...     Fare Cabin  Embarked\n",
              "0            1         0       3  ...   7.2500   NaN         S\n",
              "1            2         1       1  ...  71.2833   C85         C\n",
              "2            3         1       3  ...   7.9250   NaN         S\n",
              "3            4         1       1  ...  53.1000  C123         S\n",
              "4            5         0       3  ...   8.0500   NaN         S\n",
              "\n",
              "[5 rows x 12 columns]"
            ]
          },
          "metadata": {
            "tags": []
          },
          "execution_count": 3
        }
      ]
    },
    {
      "cell_type": "markdown",
      "metadata": {
        "id": "DDTwSAc8_Rrl",
        "colab_type": "text"
      },
      "source": [
        "### **Dataset details**"
      ]
    },
    {
      "cell_type": "code",
      "metadata": {
        "id": "E9pyNeZZ_K1S",
        "colab_type": "code",
        "colab": {
          "base_uri": "https://localhost:8080/",
          "height": 306
        },
        "outputId": "e7ad3a22-14b2-42f2-f8cc-e21b3fb621c6"
      },
      "source": [
        "# basic stats\n",
        "df.info()"
      ],
      "execution_count": 4,
      "outputs": [
        {
          "output_type": "stream",
          "text": [
            "<class 'pandas.core.frame.DataFrame'>\n",
            "RangeIndex: 891 entries, 0 to 890\n",
            "Data columns (total 12 columns):\n",
            "PassengerId    891 non-null int64\n",
            "Survived       891 non-null int64\n",
            "Pclass         891 non-null int64\n",
            "Name           891 non-null object\n",
            "Sex            891 non-null object\n",
            "Age            714 non-null float64\n",
            "SibSp          891 non-null int64\n",
            "Parch          891 non-null int64\n",
            "Ticket         891 non-null object\n",
            "Fare           891 non-null float64\n",
            "Cabin          204 non-null object\n",
            "Embarked       889 non-null object\n",
            "dtypes: float64(2), int64(5), object(5)\n",
            "memory usage: 83.7+ KB\n"
          ],
          "name": "stdout"
        }
      ]
    },
    {
      "cell_type": "markdown",
      "metadata": {
        "id": "rmQGVeX1_b_P",
        "colab_type": "text"
      },
      "source": [
        "### **Story begins**"
      ]
    },
    {
      "cell_type": "markdown",
      "metadata": {
        "id": "RZ1ox5fs_fDp",
        "colab_type": "text"
      },
      "source": [
        "**Visualizing missing values using heatmaps**"
      ]
    },
    {
      "cell_type": "code",
      "metadata": {
        "id": "lFxGR8Ux_X9c",
        "colab_type": "code",
        "colab": {
          "base_uri": "https://localhost:8080/",
          "height": 384
        },
        "outputId": "12ca26e9-81ff-4ce1-d97f-f625cbee3486"
      },
      "source": [
        "# set plotting canvas to 9x5 dimensions\n",
        "fig, ax = plt.subplots(figsize=(9,5))\n",
        "sns.heatmap(df.isnull(), cbar=False, cmap=sns.color_palette(\"Paired\"));"
      ],
      "execution_count": 5,
      "outputs": [
        {
          "output_type": "display_data",
          "data": {
            "image/png": "[encoded data removed]",
            "text/plain": [
              "<Figure size 648x360 with 1 Axes>"
            ]
          },
          "metadata": {
            "tags": []
          }
        }
      ]
    },
    {
      "cell_type": "markdown",
      "metadata": {
        "id": "G8usMZ86B24P",
        "colab_type": "text"
      },
      "source": [
        "**Who Survived?**"
      ]
    },
    {
      "cell_type": "code",
      "metadata": {
        "id": "QWpcZtk5_iqD",
        "colab_type": "code",
        "colab": {
          "base_uri": "https://localhost:8080/",
          "height": 447
        },
        "outputId": "17fd235e-0188-4cb7-b63e-3cd3695caa72"
      },
      "source": [
        "fig, ax = plt.subplots(1, 2, figsize=(16,7))\n",
        "\n",
        "df['Survived'][df['Sex']=='female'].value_counts().plot.pie(explode=[0,0.1], autopct='%1.2f%%', ax=ax[0], shadow=True)\n",
        "\n",
        "df['Survived'][df['Sex']=='male'].value_counts().plot.pie(explode=[0,0.1], autopct='%1.2f%%', ax=ax[1], shadow=True)\n",
        "\n",
        "ax[0].set_title('%age of Female Survivors')\n",
        "ax[1].set_title('%age of Male Survivors');"
      ],
      "execution_count": 10,
      "outputs": [
        {
          "output_type": "display_data",
          "data": {
            "image/png": "[encoded data removed]",
            "text/plain": [
              "<Figure size 1152x504 with 2 Axes>"
            ]
          },
          "metadata": {
            "tags": []
          }
        }
      ]
    },
    {
      "cell_type": "code",
      "metadata": {
        "id": "n5xrnb1NDAu1",
        "colab_type": "code",
        "colab": {
          "base_uri": "https://localhost:8080/",
          "height": 284
        },
        "outputId": "2e58c0f4-7478-49ad-c12e-e09ba7d607f7"
      },
      "source": [
        "df.groupby('Sex').agg({'Survived': np.sum}).plot(kind='barh')\n",
        "plt.title('Survivors');"
      ],
      "execution_count": 14,
      "outputs": [
        {
          "output_type": "display_data",
          "data": {
            "image/png": "[encoded data removed]",
            "text/plain": [
              "<Figure size 432x288 with 1 Axes>"
            ]
          },
          "metadata": {
            "tags": []
          }
        }
      ]
    },
    {
      "cell_type": "markdown",
      "metadata": {
        "id": "9j2nU_x5GWD0",
        "colab_type": "text"
      },
      "source": [
        "**Does money make you Safer?**"
      ]
    },
    {
      "cell_type": "code",
      "metadata": {
        "id": "pLXuPMSeEYae",
        "colab_type": "code",
        "colab": {
          "base_uri": "https://localhost:8080/",
          "height": 145
        },
        "outputId": "1745e79f-491d-47ce-9e1c-be1f177bad6e"
      },
      "source": [
        "pd.crosstab(df.Pclass, df.Survived, margins=True).style.background_gradient(cmap='summer_r')"
      ],
      "execution_count": 15,
      "outputs": [
        {
          "output_type": "execute_result",
          "data": {
            "text/html": [
              "<style  type=\"text/css\" >\n",
              "    #T_46c2e92a_428c_11ea_9bb2_0242ac1c0002row0_col0 {\n",
              "            background-color:  #ffff66;\n",
              "            color:  #000000;\n",
              "        }    #T_46c2e92a_428c_11ea_9bb2_0242ac1c0002row0_col1 {\n",
              "            background-color:  #cee666;\n",
              "            color:  #000000;\n",
              "        }    #T_46c2e92a_428c_11ea_9bb2_0242ac1c0002row0_col2 {\n",
              "            background-color:  #f4fa66;\n",
              "            color:  #000000;\n",
              "        }    #T_46c2e92a_428c_11ea_9bb2_0242ac1c0002row1_col0 {\n",
              "            background-color:  #f6fa66;\n",
              "            color:  #000000;\n",
              "        }    #T_46c2e92a_428c_11ea_9bb2_0242ac1c0002row1_col1 {\n",
              "            background-color:  #ffff66;\n",
              "            color:  #000000;\n",
              "        }    #T_46c2e92a_428c_11ea_9bb2_0242ac1c0002row1_col2 {\n",
              "            background-color:  #ffff66;\n",
              "            color:  #000000;\n",
              "        }    #T_46c2e92a_428c_11ea_9bb2_0242ac1c0002row2_col0 {\n",
              "            background-color:  #60b066;\n",
              "            color:  #000000;\n",
              "        }    #T_46c2e92a_428c_11ea_9bb2_0242ac1c0002row2_col1 {\n",
              "            background-color:  #dfef66;\n",
              "            color:  #000000;\n",
              "        }    #T_46c2e92a_428c_11ea_9bb2_0242ac1c0002row2_col2 {\n",
              "            background-color:  #90c866;\n",
              "            color:  #000000;\n",
              "        }    #T_46c2e92a_428c_11ea_9bb2_0242ac1c0002row3_col0 {\n",
              "            background-color:  #008066;\n",
              "            color:  #f1f1f1;\n",
              "        }    #T_46c2e92a_428c_11ea_9bb2_0242ac1c0002row3_col1 {\n",
              "            background-color:  #008066;\n",
              "            color:  #f1f1f1;\n",
              "        }    #T_46c2e92a_428c_11ea_9bb2_0242ac1c0002row3_col2 {\n",
              "            background-color:  #008066;\n",
              "            color:  #f1f1f1;\n",
              "        }</style><table id=\"T_46c2e92a_428c_11ea_9bb2_0242ac1c0002\" ><thead>    <tr>        <th class=\"index_name level0\" >Survived</th>        <th class=\"col_heading level0 col0\" >0</th>        <th class=\"col_heading level0 col1\" >1</th>        <th class=\"col_heading level0 col2\" >All</th>    </tr>    <tr>        <th class=\"index_name level0\" >Pclass</th>        <th class=\"blank\" ></th>        <th class=\"blank\" ></th>        <th class=\"blank\" ></th>    </tr></thead><tbody>\n",
              "                <tr>\n",
              "                        <th id=\"T_46c2e92a_428c_11ea_9bb2_0242ac1c0002level0_row0\" class=\"row_heading level0 row0\" >1</th>\n",
              "                        <td id=\"T_46c2e92a_428c_11ea_9bb2_0242ac1c0002row0_col0\" class=\"data row0 col0\" >80</td>\n",
              "                        <td id=\"T_46c2e92a_428c_11ea_9bb2_0242ac1c0002row0_col1\" class=\"data row0 col1\" >136</td>\n",
              "                        <td id=\"T_46c2e92a_428c_11ea_9bb2_0242ac1c0002row0_col2\" class=\"data row0 col2\" >216</td>\n",
              "            </tr>\n",
              "            <tr>\n",
              "                        <th id=\"T_46c2e92a_428c_11ea_9bb2_0242ac1c0002level0_row1\" class=\"row_heading level0 row1\" >2</th>\n",
              "                        <td id=\"T_46c2e92a_428c_11ea_9bb2_0242ac1c0002row1_col0\" class=\"data row1 col0\" >97</td>\n",
              "                        <td id=\"T_46c2e92a_428c_11ea_9bb2_0242ac1c0002row1_col1\" class=\"data row1 col1\" >87</td>\n",
              "                        <td id=\"T_46c2e92a_428c_11ea_9bb2_0242ac1c0002row1_col2\" class=\"data row1 col2\" >184</td>\n",
              "            </tr>\n",
              "            <tr>\n",
              "                        <th id=\"T_46c2e92a_428c_11ea_9bb2_0242ac1c0002level0_row2\" class=\"row_heading level0 row2\" >3</th>\n",
              "                        <td id=\"T_46c2e92a_428c_11ea_9bb2_0242ac1c0002row2_col0\" class=\"data row2 col0\" >372</td>\n",
              "                        <td id=\"T_46c2e92a_428c_11ea_9bb2_0242ac1c0002row2_col1\" class=\"data row2 col1\" >119</td>\n",
              "                        <td id=\"T_46c2e92a_428c_11ea_9bb2_0242ac1c0002row2_col2\" class=\"data row2 col2\" >491</td>\n",
              "            </tr>\n",
              "            <tr>\n",
              "                        <th id=\"T_46c2e92a_428c_11ea_9bb2_0242ac1c0002level0_row3\" class=\"row_heading level0 row3\" >All</th>\n",
              "                        <td id=\"T_46c2e92a_428c_11ea_9bb2_0242ac1c0002row3_col0\" class=\"data row3 col0\" >549</td>\n",
              "                        <td id=\"T_46c2e92a_428c_11ea_9bb2_0242ac1c0002row3_col1\" class=\"data row3 col1\" >342</td>\n",
              "                        <td id=\"T_46c2e92a_428c_11ea_9bb2_0242ac1c0002row3_col2\" class=\"data row3 col2\" >891</td>\n",
              "            </tr>\n",
              "    </tbody></table>"
            ],
            "text/plain": [
              "<pandas.io.formats.style.Styler at 0x7f415d1bf978>"
            ]
          },
          "metadata": {
            "tags": []
          },
          "execution_count": 15
        }
      ]
    },
    {
      "cell_type": "code",
      "metadata": {
        "id": "y_4OziKnGx6p",
        "colab_type": "code",
        "colab": {
          "base_uri": "https://localhost:8080/",
          "height": 85
        },
        "outputId": "f4de02a5-1ab9-4ec0-c72a-56de7d0d0c46"
      },
      "source": [
        "\n",
        "print(\"% of survivals in\")\n",
        "print(\"Pclass=1 : {}%\".format(\n",
        "    round(\n",
        "        df.Survived[df.Pclass == 1].sum() /\n",
        "        df[df.Pclass == 1].Survived.count(), 5) * 100))\n",
        "print(\"Pclass=2 : {}%\".format(\n",
        "    round(\n",
        "        df.Survived[df.Pclass == 2].sum() /\n",
        "        df[df.Pclass == 2].Survived.count(), 5) * 100))\n",
        "print(\"Pclass=3 : {}%\".format(\n",
        "    round(\n",
        "        df.Survived[df.Pclass == 3].sum() /\n",
        "        df[df.Pclass == 3].Survived.count(), 5) * 100))"
      ],
      "execution_count": 16,
      "outputs": [
        {
          "output_type": "stream",
          "text": [
            "% of survivals in\n",
            "Pclass=1 : 62.963%\n",
            "Pclass=2 : 47.282999999999994%\n",
            "Pclass=3 : 24.236%\n"
          ],
          "name": "stdout"
        }
      ]
    },
    {
      "cell_type": "code",
      "metadata": {
        "id": "mKQ6AJD9IkxK",
        "colab_type": "code",
        "colab": {}
      },
      "source": [
        ""
      ],
      "execution_count": 0,
      "outputs": []
    }
  ]
}