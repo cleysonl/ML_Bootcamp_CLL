{
  "nbformat": 4,
  "nbformat_minor": 0,
  "metadata": {
    "colab": {
      "name": "Supervised_ML_Classification.ipynb",
      "provenance": [],
      "authorship_tag": "ABX9TyNXTfVxphMhEjhpYJjP58tx",
      "include_colab_link": true
    },
    "kernelspec": {
      "name": "python3",
      "display_name": "Python 3"
    }
  },
  "cells": [
    {
      "cell_type": "markdown",
      "metadata": {
        "id": "view-in-github",
        "colab_type": "text"
      },
      "source": [
        "<a href=\"https://colab.research.google.com/github/cleysonl/ML_Bootcamp_CLL/blob/master/Supervised_ML_Classification.ipynb\" target=\"_parent\"><img src=\"https://colab.research.google.com/assets/colab-badge.svg\" alt=\"Open In Colab\"/></a>"
      ]
    },
    {
      "cell_type": "markdown",
      "metadata": {
        "id": "B4kKZzgT5PWJ",
        "colab_type": "text"
      },
      "source": [
        "## **Logistic Regression**"
      ]
    },
    {
      "cell_type": "code",
      "metadata": {
        "id": "Ig-Bm58R4XAh",
        "colab_type": "code",
        "colab": {}
      },
      "source": [
        "import numpy as np\n",
        "import pandas as pd\n",
        "from sklearn.datasets import load_breast_cancer\n",
        "import warnings\n",
        "warnings.filterwarnings('ignore')"
      ],
      "execution_count": 0,
      "outputs": []
    },
    {
      "cell_type": "markdown",
      "metadata": {
        "id": "Y2eVFRbU-IKo",
        "colab_type": "text"
      },
      "source": [
        "### **The Breast Cancer Dataset**"
      ]
    },
    {
      "cell_type": "code",
      "metadata": {
        "id": "eyTQTVzt5S15",
        "colab_type": "code",
        "colab": {}
      },
      "source": [
        "#load data\n",
        "data = load_breast_cancer()\n",
        "X = data.data\n",
        "y = data.target\n",
        "y_labels = np.array(['malignant' if item == 0 else 'benign' for item in y])"
      ],
      "execution_count": 0,
      "outputs": []
    },
    {
      "cell_type": "code",
      "metadata": {
        "id": "k18wvKla_sW3",
        "colab_type": "code",
        "colab": {
          "base_uri": "https://localhost:8080/",
          "height": 34
        },
        "outputId": "864d5af8-5b92-4f78-8f4b-b77296fb8174"
      },
      "source": [
        "from collections import Counter\n",
        "\n",
        "Counter(y_labels)"
      ],
      "execution_count": 57,
      "outputs": [
        {
          "output_type": "execute_result",
          "data": {
            "text/plain": [
              "Counter({'benign': 357, 'malignant': 212})"
            ]
          },
          "metadata": {
            "tags": []
          },
          "execution_count": 57
        }
      ]
    },
    {
      "cell_type": "markdown",
      "metadata": {
        "id": "l6MRtT4AAsR2",
        "colab_type": "text"
      },
      "source": [
        "**Details**"
      ]
    },
    {
      "cell_type": "code",
      "metadata": {
        "id": "EUDj-cKsApQR",
        "colab_type": "code",
        "colab": {
          "base_uri": "https://localhost:8080/",
          "height": 1000
        },
        "outputId": "c68924eb-4e53-4a75-c7e1-90cdac0a4658"
      },
      "source": [
        "print(data.DESCR)"
      ],
      "execution_count": 58,
      "outputs": [
        {
          "output_type": "stream",
          "text": [
            ".. _breast_cancer_dataset:\n",
            "\n",
            "Breast cancer wisconsin (diagnostic) dataset\n",
            "--------------------------------------------\n",
            "\n",
            "**Data Set Characteristics:**\n",
            "\n",
            "    :Number of Instances: 569\n",
            "\n",
            "    :Number of Attributes: 30 numeric, predictive attributes and the class\n",
            "\n",
            "    :Attribute Information:\n",
            "        - radius (mean of distances from center to points on the perimeter)\n",
            "        - texture (standard deviation of gray-scale values)\n",
            "        - perimeter\n",
            "        - area\n",
            "        - smoothness (local variation in radius lengths)\n",
            "        - compactness (perimeter^2 / area - 1.0)\n",
            "        - concavity (severity of concave portions of the contour)\n",
            "        - concave points (number of concave portions of the contour)\n",
            "        - symmetry \n",
            "        - fractal dimension (\"coastline approximation\" - 1)\n",
            "\n",
            "        The mean, standard error, and \"worst\" or largest (mean of the three\n",
            "        largest values) of these features were computed for each image,\n",
            "        resulting in 30 features.  For instance, field 3 is Mean Radius, field\n",
            "        13 is Radius SE, field 23 is Worst Radius.\n",
            "\n",
            "        - class:\n",
            "                - WDBC-Malignant\n",
            "                - WDBC-Benign\n",
            "\n",
            "    :Summary Statistics:\n",
            "\n",
            "    ===================================== ====== ======\n",
            "                                           Min    Max\n",
            "    ===================================== ====== ======\n",
            "    radius (mean):                        6.981  28.11\n",
            "    texture (mean):                       9.71   39.28\n",
            "    perimeter (mean):                     43.79  188.5\n",
            "    area (mean):                          143.5  2501.0\n",
            "    smoothness (mean):                    0.053  0.163\n",
            "    compactness (mean):                   0.019  0.345\n",
            "    concavity (mean):                     0.0    0.427\n",
            "    concave points (mean):                0.0    0.201\n",
            "    symmetry (mean):                      0.106  0.304\n",
            "    fractal dimension (mean):             0.05   0.097\n",
            "    radius (standard error):              0.112  2.873\n",
            "    texture (standard error):             0.36   4.885\n",
            "    perimeter (standard error):           0.757  21.98\n",
            "    area (standard error):                6.802  542.2\n",
            "    smoothness (standard error):          0.002  0.031\n",
            "    compactness (standard error):         0.002  0.135\n",
            "    concavity (standard error):           0.0    0.396\n",
            "    concave points (standard error):      0.0    0.053\n",
            "    symmetry (standard error):            0.008  0.079\n",
            "    fractal dimension (standard error):   0.001  0.03\n",
            "    radius (worst):                       7.93   36.04\n",
            "    texture (worst):                      12.02  49.54\n",
            "    perimeter (worst):                    50.41  251.2\n",
            "    area (worst):                         185.2  4254.0\n",
            "    smoothness (worst):                   0.071  0.223\n",
            "    compactness (worst):                  0.027  1.058\n",
            "    concavity (worst):                    0.0    1.252\n",
            "    concave points (worst):               0.0    0.291\n",
            "    symmetry (worst):                     0.156  0.664\n",
            "    fractal dimension (worst):            0.055  0.208\n",
            "    ===================================== ====== ======\n",
            "\n",
            "    :Missing Attribute Values: None\n",
            "\n",
            "    :Class Distribution: 212 - Malignant, 357 - Benign\n",
            "\n",
            "    :Creator:  Dr. William H. Wolberg, W. Nick Street, Olvi L. Mangasarian\n",
            "\n",
            "    :Donor: Nick Street\n",
            "\n",
            "    :Date: November, 1995\n",
            "\n",
            "This is a copy of UCI ML Breast Cancer Wisconsin (Diagnostic) datasets.\n",
            "https://goo.gl/U2Uwz2\n",
            "\n",
            "Features are computed from a digitized image of a fine needle\n",
            "aspirate (FNA) of a breast mass.  They describe\n",
            "characteristics of the cell nuclei present in the image.\n",
            "\n",
            "Separating plane described above was obtained using\n",
            "Multisurface Method-Tree (MSM-T) [K. P. Bennett, \"Decision Tree\n",
            "Construction Via Linear Programming.\" Proceedings of the 4th\n",
            "Midwest Artificial Intelligence and Cognitive Science Society,\n",
            "pp. 97-101, 1992], a classification method which uses linear\n",
            "programming to construct a decision tree.  Relevant features\n",
            "were selected using an exhaustive search in the space of 1-4\n",
            "features and 1-3 separating planes.\n",
            "\n",
            "The actual linear program used to obtain the separating plane\n",
            "in the 3-dimensional space is that described in:\n",
            "[K. P. Bennett and O. L. Mangasarian: \"Robust Linear\n",
            "Programming Discrimination of Two Linearly Inseparable Sets\",\n",
            "Optimization Methods and Software 1, 1992, 23-34].\n",
            "\n",
            "This database is also available through the UW CS ftp server:\n",
            "\n",
            "ftp ftp.cs.wisc.edu\n",
            "cd math-prog/cpo-dataset/machine-learn/WDBC/\n",
            "\n",
            ".. topic:: References\n",
            "\n",
            "   - W.N. Street, W.H. Wolberg and O.L. Mangasarian. Nuclear feature extraction \n",
            "     for breast tumor diagnosis. IS&T/SPIE 1993 International Symposium on \n",
            "     Electronic Imaging: Science and Technology, volume 1905, pages 861-870,\n",
            "     San Jose, CA, 1993.\n",
            "   - O.L. Mangasarian, W.N. Street and W.H. Wolberg. Breast cancer diagnosis and \n",
            "     prognosis via linear programming. Operations Research, 43(4), pages 570-577, \n",
            "     July-August 1995.\n",
            "   - W.H. Wolberg, W.N. Street, and O.L. Mangasarian. Machine learning techniques\n",
            "     to diagnose breast cancer from fine-needle aspirates. Cancer Letters 77 (1994) \n",
            "     163-171.\n"
          ],
          "name": "stdout"
        }
      ]
    },
    {
      "cell_type": "markdown",
      "metadata": {
        "id": "rWPwDCo_BWud",
        "colab_type": "text"
      },
      "source": [
        "### **Prepare the Dataset**"
      ]
    },
    {
      "cell_type": "code",
      "metadata": {
        "id": "EK3WQxrBBZ5l",
        "colab_type": "code",
        "colab": {}
      },
      "source": [
        "df = pd.concat([pd.DataFrame(X, columns = data.feature_names),\n",
        "                pd.DataFrame(y_labels.reshape(-1,1), columns=['has cancer'])], axis=1)"
      ],
      "execution_count": 0,
      "outputs": []
    },
    {
      "cell_type": "code",
      "metadata": {
        "id": "nx6lHqthAxAs",
        "colab_type": "code",
        "colab": {
          "base_uri": "https://localhost:8080/",
          "height": 413
        },
        "outputId": "17ae0127-3d3c-49f6-c51a-bcef787ddbd8"
      },
      "source": [
        "df.sample(10)"
      ],
      "execution_count": 60,
      "outputs": [
        {
          "output_type": "execute_result",
          "data": {
            "text/html": [
              "<div>\n",
              "<style scoped>\n",
              "    .dataframe tbody tr th:only-of-type {\n",
              "        vertical-align: middle;\n",
              "    }\n",
              "\n",
              "    .dataframe tbody tr th {\n",
              "        vertical-align: top;\n",
              "    }\n",
              "\n",
              "    .dataframe thead th {\n",
              "        text-align: right;\n",
              "    }\n",
              "</style>\n",
              "<table border=\"1\" class=\"dataframe\">\n",
              "  <thead>\n",
              "    <tr style=\"text-align: right;\">\n",
              "      <th></th>\n",
              "      <th>mean radius</th>\n",
              "      <th>mean texture</th>\n",
              "      <th>mean perimeter</th>\n",
              "      <th>mean area</th>\n",
              "      <th>mean smoothness</th>\n",
              "      <th>mean compactness</th>\n",
              "      <th>mean concavity</th>\n",
              "      <th>mean concave points</th>\n",
              "      <th>mean symmetry</th>\n",
              "      <th>mean fractal dimension</th>\n",
              "      <th>radius error</th>\n",
              "      <th>texture error</th>\n",
              "      <th>perimeter error</th>\n",
              "      <th>area error</th>\n",
              "      <th>smoothness error</th>\n",
              "      <th>compactness error</th>\n",
              "      <th>concavity error</th>\n",
              "      <th>concave points error</th>\n",
              "      <th>symmetry error</th>\n",
              "      <th>fractal dimension error</th>\n",
              "      <th>worst radius</th>\n",
              "      <th>worst texture</th>\n",
              "      <th>worst perimeter</th>\n",
              "      <th>worst area</th>\n",
              "      <th>worst smoothness</th>\n",
              "      <th>worst compactness</th>\n",
              "      <th>worst concavity</th>\n",
              "      <th>worst concave points</th>\n",
              "      <th>worst symmetry</th>\n",
              "      <th>worst fractal dimension</th>\n",
              "      <th>has cancer</th>\n",
              "    </tr>\n",
              "  </thead>\n",
              "  <tbody>\n",
              "    <tr>\n",
              "      <th>286</th>\n",
              "      <td>11.94</td>\n",
              "      <td>20.76</td>\n",
              "      <td>77.87</td>\n",
              "      <td>441.0</td>\n",
              "      <td>0.08605</td>\n",
              "      <td>0.10110</td>\n",
              "      <td>0.06574</td>\n",
              "      <td>0.03791</td>\n",
              "      <td>0.1588</td>\n",
              "      <td>0.06766</td>\n",
              "      <td>0.2742</td>\n",
              "      <td>1.3900</td>\n",
              "      <td>3.198</td>\n",
              "      <td>21.91</td>\n",
              "      <td>0.006719</td>\n",
              "      <td>0.05156</td>\n",
              "      <td>0.043870</td>\n",
              "      <td>0.016330</td>\n",
              "      <td>0.01872</td>\n",
              "      <td>0.008015</td>\n",
              "      <td>13.24</td>\n",
              "      <td>27.29</td>\n",
              "      <td>92.20</td>\n",
              "      <td>546.1</td>\n",
              "      <td>0.1116</td>\n",
              "      <td>0.2813</td>\n",
              "      <td>0.23650</td>\n",
              "      <td>0.11550</td>\n",
              "      <td>0.2465</td>\n",
              "      <td>0.09981</td>\n",
              "      <td>benign</td>\n",
              "    </tr>\n",
              "    <tr>\n",
              "      <th>482</th>\n",
              "      <td>13.47</td>\n",
              "      <td>14.06</td>\n",
              "      <td>87.32</td>\n",
              "      <td>546.3</td>\n",
              "      <td>0.10710</td>\n",
              "      <td>0.11550</td>\n",
              "      <td>0.05786</td>\n",
              "      <td>0.05266</td>\n",
              "      <td>0.1779</td>\n",
              "      <td>0.06639</td>\n",
              "      <td>0.1588</td>\n",
              "      <td>0.5733</td>\n",
              "      <td>1.102</td>\n",
              "      <td>12.84</td>\n",
              "      <td>0.004450</td>\n",
              "      <td>0.01452</td>\n",
              "      <td>0.013340</td>\n",
              "      <td>0.008791</td>\n",
              "      <td>0.01698</td>\n",
              "      <td>0.002787</td>\n",
              "      <td>14.83</td>\n",
              "      <td>18.32</td>\n",
              "      <td>94.94</td>\n",
              "      <td>660.2</td>\n",
              "      <td>0.1393</td>\n",
              "      <td>0.2499</td>\n",
              "      <td>0.18480</td>\n",
              "      <td>0.13350</td>\n",
              "      <td>0.3227</td>\n",
              "      <td>0.09326</td>\n",
              "      <td>benign</td>\n",
              "    </tr>\n",
              "    <tr>\n",
              "      <th>85</th>\n",
              "      <td>18.46</td>\n",
              "      <td>18.52</td>\n",
              "      <td>121.10</td>\n",
              "      <td>1075.0</td>\n",
              "      <td>0.09874</td>\n",
              "      <td>0.10530</td>\n",
              "      <td>0.13350</td>\n",
              "      <td>0.08795</td>\n",
              "      <td>0.2132</td>\n",
              "      <td>0.06022</td>\n",
              "      <td>0.6997</td>\n",
              "      <td>1.4750</td>\n",
              "      <td>4.782</td>\n",
              "      <td>80.60</td>\n",
              "      <td>0.006471</td>\n",
              "      <td>0.01649</td>\n",
              "      <td>0.028060</td>\n",
              "      <td>0.014200</td>\n",
              "      <td>0.02370</td>\n",
              "      <td>0.003755</td>\n",
              "      <td>22.93</td>\n",
              "      <td>27.68</td>\n",
              "      <td>152.20</td>\n",
              "      <td>1603.0</td>\n",
              "      <td>0.1398</td>\n",
              "      <td>0.2089</td>\n",
              "      <td>0.31570</td>\n",
              "      <td>0.16420</td>\n",
              "      <td>0.3695</td>\n",
              "      <td>0.08579</td>\n",
              "      <td>malignant</td>\n",
              "    </tr>\n",
              "    <tr>\n",
              "      <th>408</th>\n",
              "      <td>17.99</td>\n",
              "      <td>20.66</td>\n",
              "      <td>117.80</td>\n",
              "      <td>991.7</td>\n",
              "      <td>0.10360</td>\n",
              "      <td>0.13040</td>\n",
              "      <td>0.12010</td>\n",
              "      <td>0.08824</td>\n",
              "      <td>0.1992</td>\n",
              "      <td>0.06069</td>\n",
              "      <td>0.4537</td>\n",
              "      <td>0.8733</td>\n",
              "      <td>3.061</td>\n",
              "      <td>49.81</td>\n",
              "      <td>0.007231</td>\n",
              "      <td>0.02772</td>\n",
              "      <td>0.025090</td>\n",
              "      <td>0.014800</td>\n",
              "      <td>0.01414</td>\n",
              "      <td>0.003336</td>\n",
              "      <td>21.08</td>\n",
              "      <td>25.41</td>\n",
              "      <td>138.10</td>\n",
              "      <td>1349.0</td>\n",
              "      <td>0.1482</td>\n",
              "      <td>0.3735</td>\n",
              "      <td>0.33010</td>\n",
              "      <td>0.19740</td>\n",
              "      <td>0.3060</td>\n",
              "      <td>0.08503</td>\n",
              "      <td>malignant</td>\n",
              "    </tr>\n",
              "    <tr>\n",
              "      <th>323</th>\n",
              "      <td>20.34</td>\n",
              "      <td>21.51</td>\n",
              "      <td>135.90</td>\n",
              "      <td>1264.0</td>\n",
              "      <td>0.11700</td>\n",
              "      <td>0.18750</td>\n",
              "      <td>0.25650</td>\n",
              "      <td>0.15040</td>\n",
              "      <td>0.2569</td>\n",
              "      <td>0.06670</td>\n",
              "      <td>0.5702</td>\n",
              "      <td>1.0230</td>\n",
              "      <td>4.012</td>\n",
              "      <td>69.06</td>\n",
              "      <td>0.005485</td>\n",
              "      <td>0.02431</td>\n",
              "      <td>0.031900</td>\n",
              "      <td>0.013690</td>\n",
              "      <td>0.02768</td>\n",
              "      <td>0.003345</td>\n",
              "      <td>25.30</td>\n",
              "      <td>31.86</td>\n",
              "      <td>171.10</td>\n",
              "      <td>1938.0</td>\n",
              "      <td>0.1592</td>\n",
              "      <td>0.4492</td>\n",
              "      <td>0.53440</td>\n",
              "      <td>0.26850</td>\n",
              "      <td>0.5558</td>\n",
              "      <td>0.10240</td>\n",
              "      <td>malignant</td>\n",
              "    </tr>\n",
              "    <tr>\n",
              "      <th>377</th>\n",
              "      <td>13.46</td>\n",
              "      <td>28.21</td>\n",
              "      <td>85.89</td>\n",
              "      <td>562.1</td>\n",
              "      <td>0.07517</td>\n",
              "      <td>0.04726</td>\n",
              "      <td>0.01271</td>\n",
              "      <td>0.01117</td>\n",
              "      <td>0.1421</td>\n",
              "      <td>0.05763</td>\n",
              "      <td>0.1689</td>\n",
              "      <td>1.1500</td>\n",
              "      <td>1.400</td>\n",
              "      <td>14.91</td>\n",
              "      <td>0.004942</td>\n",
              "      <td>0.01203</td>\n",
              "      <td>0.007508</td>\n",
              "      <td>0.005179</td>\n",
              "      <td>0.01442</td>\n",
              "      <td>0.001684</td>\n",
              "      <td>14.69</td>\n",
              "      <td>35.63</td>\n",
              "      <td>97.11</td>\n",
              "      <td>680.6</td>\n",
              "      <td>0.1108</td>\n",
              "      <td>0.1457</td>\n",
              "      <td>0.07934</td>\n",
              "      <td>0.05781</td>\n",
              "      <td>0.2694</td>\n",
              "      <td>0.07061</td>\n",
              "      <td>benign</td>\n",
              "    </tr>\n",
              "    <tr>\n",
              "      <th>146</th>\n",
              "      <td>11.80</td>\n",
              "      <td>16.58</td>\n",
              "      <td>78.99</td>\n",
              "      <td>432.0</td>\n",
              "      <td>0.10910</td>\n",
              "      <td>0.17000</td>\n",
              "      <td>0.16590</td>\n",
              "      <td>0.07415</td>\n",
              "      <td>0.2678</td>\n",
              "      <td>0.07371</td>\n",
              "      <td>0.3197</td>\n",
              "      <td>1.4260</td>\n",
              "      <td>2.281</td>\n",
              "      <td>24.72</td>\n",
              "      <td>0.005427</td>\n",
              "      <td>0.03633</td>\n",
              "      <td>0.046490</td>\n",
              "      <td>0.018430</td>\n",
              "      <td>0.05628</td>\n",
              "      <td>0.004635</td>\n",
              "      <td>13.74</td>\n",
              "      <td>26.38</td>\n",
              "      <td>91.93</td>\n",
              "      <td>591.7</td>\n",
              "      <td>0.1385</td>\n",
              "      <td>0.4092</td>\n",
              "      <td>0.45040</td>\n",
              "      <td>0.18650</td>\n",
              "      <td>0.5774</td>\n",
              "      <td>0.10300</td>\n",
              "      <td>malignant</td>\n",
              "    </tr>\n",
              "    <tr>\n",
              "      <th>94</th>\n",
              "      <td>15.06</td>\n",
              "      <td>19.83</td>\n",
              "      <td>100.30</td>\n",
              "      <td>705.6</td>\n",
              "      <td>0.10390</td>\n",
              "      <td>0.15530</td>\n",
              "      <td>0.17000</td>\n",
              "      <td>0.08815</td>\n",
              "      <td>0.1855</td>\n",
              "      <td>0.06284</td>\n",
              "      <td>0.4768</td>\n",
              "      <td>0.9644</td>\n",
              "      <td>3.706</td>\n",
              "      <td>47.14</td>\n",
              "      <td>0.009250</td>\n",
              "      <td>0.03715</td>\n",
              "      <td>0.048670</td>\n",
              "      <td>0.018510</td>\n",
              "      <td>0.01498</td>\n",
              "      <td>0.003520</td>\n",
              "      <td>18.23</td>\n",
              "      <td>24.23</td>\n",
              "      <td>123.50</td>\n",
              "      <td>1025.0</td>\n",
              "      <td>0.1551</td>\n",
              "      <td>0.4203</td>\n",
              "      <td>0.52030</td>\n",
              "      <td>0.21150</td>\n",
              "      <td>0.2834</td>\n",
              "      <td>0.08234</td>\n",
              "      <td>malignant</td>\n",
              "    </tr>\n",
              "    <tr>\n",
              "      <th>565</th>\n",
              "      <td>20.13</td>\n",
              "      <td>28.25</td>\n",
              "      <td>131.20</td>\n",
              "      <td>1261.0</td>\n",
              "      <td>0.09780</td>\n",
              "      <td>0.10340</td>\n",
              "      <td>0.14400</td>\n",
              "      <td>0.09791</td>\n",
              "      <td>0.1752</td>\n",
              "      <td>0.05533</td>\n",
              "      <td>0.7655</td>\n",
              "      <td>2.4630</td>\n",
              "      <td>5.203</td>\n",
              "      <td>99.04</td>\n",
              "      <td>0.005769</td>\n",
              "      <td>0.02423</td>\n",
              "      <td>0.039500</td>\n",
              "      <td>0.016780</td>\n",
              "      <td>0.01898</td>\n",
              "      <td>0.002498</td>\n",
              "      <td>23.69</td>\n",
              "      <td>38.25</td>\n",
              "      <td>155.00</td>\n",
              "      <td>1731.0</td>\n",
              "      <td>0.1166</td>\n",
              "      <td>0.1922</td>\n",
              "      <td>0.32150</td>\n",
              "      <td>0.16280</td>\n",
              "      <td>0.2572</td>\n",
              "      <td>0.06637</td>\n",
              "      <td>malignant</td>\n",
              "    </tr>\n",
              "    <tr>\n",
              "      <th>4</th>\n",
              "      <td>20.29</td>\n",
              "      <td>14.34</td>\n",
              "      <td>135.10</td>\n",
              "      <td>1297.0</td>\n",
              "      <td>0.10030</td>\n",
              "      <td>0.13280</td>\n",
              "      <td>0.19800</td>\n",
              "      <td>0.10430</td>\n",
              "      <td>0.1809</td>\n",
              "      <td>0.05883</td>\n",
              "      <td>0.7572</td>\n",
              "      <td>0.7813</td>\n",
              "      <td>5.438</td>\n",
              "      <td>94.44</td>\n",
              "      <td>0.011490</td>\n",
              "      <td>0.02461</td>\n",
              "      <td>0.056880</td>\n",
              "      <td>0.018850</td>\n",
              "      <td>0.01756</td>\n",
              "      <td>0.005115</td>\n",
              "      <td>22.54</td>\n",
              "      <td>16.67</td>\n",
              "      <td>152.20</td>\n",
              "      <td>1575.0</td>\n",
              "      <td>0.1374</td>\n",
              "      <td>0.2050</td>\n",
              "      <td>0.40000</td>\n",
              "      <td>0.16250</td>\n",
              "      <td>0.2364</td>\n",
              "      <td>0.07678</td>\n",
              "      <td>malignant</td>\n",
              "    </tr>\n",
              "  </tbody>\n",
              "</table>\n",
              "</div>"
            ],
            "text/plain": [
              "     mean radius  mean texture  ...  worst fractal dimension  has cancer\n",
              "286        11.94         20.76  ...                  0.09981      benign\n",
              "482        13.47         14.06  ...                  0.09326      benign\n",
              "85         18.46         18.52  ...                  0.08579   malignant\n",
              "408        17.99         20.66  ...                  0.08503   malignant\n",
              "323        20.34         21.51  ...                  0.10240   malignant\n",
              "377        13.46         28.21  ...                  0.07061      benign\n",
              "146        11.80         16.58  ...                  0.10300   malignant\n",
              "94         15.06         19.83  ...                  0.08234   malignant\n",
              "565        20.13         28.25  ...                  0.06637   malignant\n",
              "4          20.29         14.34  ...                  0.07678   malignant\n",
              "\n",
              "[10 rows x 31 columns]"
            ]
          },
          "metadata": {
            "tags": []
          },
          "execution_count": 60
        }
      ]
    },
    {
      "cell_type": "markdown",
      "metadata": {
        "id": "WZAW5wIPCi92",
        "colab_type": "text"
      },
      "source": [
        "### **Exploratory Analysis**"
      ]
    },
    {
      "cell_type": "code",
      "metadata": {
        "id": "Ygcu1D5DB9Cg",
        "colab_type": "code",
        "colab": {
          "base_uri": "https://localhost:8080/",
          "height": 629
        },
        "outputId": "8372ffb7-7022-4118-e0c4-5326be06ad3e"
      },
      "source": [
        "df.info()"
      ],
      "execution_count": 61,
      "outputs": [
        {
          "output_type": "stream",
          "text": [
            "<class 'pandas.core.frame.DataFrame'>\n",
            "RangeIndex: 569 entries, 0 to 568\n",
            "Data columns (total 31 columns):\n",
            "mean radius                569 non-null float64\n",
            "mean texture               569 non-null float64\n",
            "mean perimeter             569 non-null float64\n",
            "mean area                  569 non-null float64\n",
            "mean smoothness            569 non-null float64\n",
            "mean compactness           569 non-null float64\n",
            "mean concavity             569 non-null float64\n",
            "mean concave points        569 non-null float64\n",
            "mean symmetry              569 non-null float64\n",
            "mean fractal dimension     569 non-null float64\n",
            "radius error               569 non-null float64\n",
            "texture error              569 non-null float64\n",
            "perimeter error            569 non-null float64\n",
            "area error                 569 non-null float64\n",
            "smoothness error           569 non-null float64\n",
            "compactness error          569 non-null float64\n",
            "concavity error            569 non-null float64\n",
            "concave points error       569 non-null float64\n",
            "symmetry error             569 non-null float64\n",
            "fractal dimension error    569 non-null float64\n",
            "worst radius               569 non-null float64\n",
            "worst texture              569 non-null float64\n",
            "worst perimeter            569 non-null float64\n",
            "worst area                 569 non-null float64\n",
            "worst smoothness           569 non-null float64\n",
            "worst compactness          569 non-null float64\n",
            "worst concavity            569 non-null float64\n",
            "worst concave points       569 non-null float64\n",
            "worst symmetry             569 non-null float64\n",
            "worst fractal dimension    569 non-null float64\n",
            "has cancer                 569 non-null object\n",
            "dtypes: float64(30), object(1)\n",
            "memory usage: 137.9+ KB\n"
          ],
          "name": "stdout"
        }
      ]
    },
    {
      "cell_type": "markdown",
      "metadata": {
        "id": "sQ_0JBd6Cz4D",
        "colab_type": "text"
      },
      "source": [
        "**Classification Targets/Output**"
      ]
    },
    {
      "cell_type": "code",
      "metadata": {
        "id": "CDeR1g4fC5KD",
        "colab_type": "code",
        "colab": {
          "base_uri": "https://localhost:8080/",
          "height": 34
        },
        "outputId": "6a45681c-9df3-4009-cf2f-4bc4493a343b"
      },
      "source": [
        "data.target_names"
      ],
      "execution_count": 62,
      "outputs": [
        {
          "output_type": "execute_result",
          "data": {
            "text/plain": [
              "array(['malignant', 'benign'], dtype='<U9')"
            ]
          },
          "metadata": {
            "tags": []
          },
          "execution_count": 62
        }
      ]
    },
    {
      "cell_type": "markdown",
      "metadata": {
        "id": "elQtmOFDC97_",
        "colab_type": "text"
      },
      "source": [
        "**Class Distribution**"
      ]
    },
    {
      "cell_type": "code",
      "metadata": {
        "id": "URx_N1WvCl6v",
        "colab_type": "code",
        "colab": {
          "base_uri": "https://localhost:8080/",
          "height": 68
        },
        "outputId": "540a50bf-5bba-4add-d904-b4ace14f20a4"
      },
      "source": [
        "df['has cancer'].value_counts()"
      ],
      "execution_count": 63,
      "outputs": [
        {
          "output_type": "execute_result",
          "data": {
            "text/plain": [
              "benign       357\n",
              "malignant    212\n",
              "Name: has cancer, dtype: int64"
            ]
          },
          "metadata": {
            "tags": []
          },
          "execution_count": 63
        }
      ]
    },
    {
      "cell_type": "markdown",
      "metadata": {
        "id": "cr4se06IDSj9",
        "colab_type": "text"
      },
      "source": [
        "### **Train-test split**"
      ]
    },
    {
      "cell_type": "code",
      "metadata": {
        "id": "x1FCTx3_C67x",
        "colab_type": "code",
        "colab": {
          "base_uri": "https://localhost:8080/",
          "height": 34
        },
        "outputId": "9f5e8531-36b2-4473-fa73-5396ad5edac7"
      },
      "source": [
        "from sklearn.model_selection import train_test_split\n",
        "\n",
        "X_train, X_test, y_train, y_test = train_test_split(X, y, test_size=0.3, random_state=42)\n",
        "print('Training dataset shape:', X_train.shape, '\\tTest dataset shape:', X_test.shape)"
      ],
      "execution_count": 64,
      "outputs": [
        {
          "output_type": "stream",
          "text": [
            "Training dataset shape: (398, 30) \tTest dataset shape: (171, 30)\n"
          ],
          "name": "stdout"
        }
      ]
    },
    {
      "cell_type": "markdown",
      "metadata": {
        "id": "_A-5odvDKWOS",
        "colab_type": "text"
      },
      "source": [
        "### **Modeling**"
      ]
    },
    {
      "cell_type": "code",
      "metadata": {
        "id": "F4Wp-U-8DaA7",
        "colab_type": "code",
        "colab": {}
      },
      "source": [
        "from sklearn.linear_model import LogisticRegression\n",
        "\n",
        "#Logistica regression without any regularization using all features\n",
        "lr = LogisticRegression(random_state=42, max_iter=100, solver='liblinear')"
      ],
      "execution_count": 0,
      "outputs": []
    },
    {
      "cell_type": "code",
      "metadata": {
        "id": "tiykwWrsKYCX",
        "colab_type": "code",
        "colab": {
          "base_uri": "https://localhost:8080/",
          "height": 102
        },
        "outputId": "dbdcfcb1-ac10-4ee4-822e-4c7d6d3a15a5"
      },
      "source": [
        "lr.fit(X_train, y_train)"
      ],
      "execution_count": 66,
      "outputs": [
        {
          "output_type": "execute_result",
          "data": {
            "text/plain": [
              "LogisticRegression(C=1.0, class_weight=None, dual=False, fit_intercept=True,\n",
              "                   intercept_scaling=1, l1_ratio=None, max_iter=100,\n",
              "                   multi_class='auto', n_jobs=None, penalty='l2',\n",
              "                   random_state=42, solver='liblinear', tol=0.0001, verbose=0,\n",
              "                   warm_start=False)"
            ]
          },
          "metadata": {
            "tags": []
          },
          "execution_count": 66
        }
      ]
    },
    {
      "cell_type": "code",
      "metadata": {
        "id": "CWXN0p0uLws_",
        "colab_type": "code",
        "colab": {
          "base_uri": "https://localhost:8080/",
          "height": 102
        },
        "outputId": "af41485d-f011-4e8d-f68f-b2d0a0a8a9af"
      },
      "source": [
        "from sklearn.linear_model import LogisticRegressionCV\n",
        "\n",
        "#L1 regularization\n",
        "lr_l1 = LogisticRegressionCV(Cs=10, cv=4, penalty='l1', solver='liblinear', max_iter=100, random_state=42)\n",
        "lr_l1.fit(X_train, y_train)\n",
        "\n",
        "#l2 regularization\n",
        "lr_l2 = LogisticRegressionCV(Cs=10, cv=4, penalty= 'l2', solver='liblinear', max_iter=100, random_state=42)\n",
        "lr_l2.fit(X_train, y_train)"
      ],
      "execution_count": 67,
      "outputs": [
        {
          "output_type": "execute_result",
          "data": {
            "text/plain": [
              "LogisticRegressionCV(Cs=10, class_weight=None, cv=4, dual=False,\n",
              "                     fit_intercept=True, intercept_scaling=1.0, l1_ratios=None,\n",
              "                     max_iter=100, multi_class='auto', n_jobs=None,\n",
              "                     penalty='l2', random_state=42, refit=True, scoring=None,\n",
              "                     solver='liblinear', tol=0.0001, verbose=0)"
            ]
          },
          "metadata": {
            "tags": []
          },
          "execution_count": 67
        }
      ]
    },
    {
      "cell_type": "markdown",
      "metadata": {
        "id": "aPpbrKQVOMNr",
        "colab_type": "text"
      },
      "source": [
        "**Understanding Coefficients**"
      ]
    },
    {
      "cell_type": "code",
      "metadata": {
        "id": "2mMuoicjNm3L",
        "colab_type": "code",
        "colab": {
          "base_uri": "https://localhost:8080/",
          "height": 359
        },
        "outputId": "bd023652-fded-462a-8f71-e11f3f7132ab"
      },
      "source": [
        "# Combine all the coefficients into a dataframe\n",
        "coefficients = pd.DataFrame({'lr':lr.coef_[0],'l1':lr_l1.coef_[0], 'l2':lr_l2.coef_[0]})\n",
        "coefficients.head(10)"
      ],
      "execution_count": 68,
      "outputs": [
        {
          "output_type": "execute_result",
          "data": {
            "text/html": [
              "<div>\n",
              "<style scoped>\n",
              "    .dataframe tbody tr th:only-of-type {\n",
              "        vertical-align: middle;\n",
              "    }\n",
              "\n",
              "    .dataframe tbody tr th {\n",
              "        vertical-align: top;\n",
              "    }\n",
              "\n",
              "    .dataframe thead th {\n",
              "        text-align: right;\n",
              "    }\n",
              "</style>\n",
              "<table border=\"1\" class=\"dataframe\">\n",
              "  <thead>\n",
              "    <tr style=\"text-align: right;\">\n",
              "      <th></th>\n",
              "      <th>lr</th>\n",
              "      <th>l1</th>\n",
              "      <th>l2</th>\n",
              "    </tr>\n",
              "  </thead>\n",
              "  <tbody>\n",
              "    <tr>\n",
              "      <th>0</th>\n",
              "      <td>2.175329</td>\n",
              "      <td>0.872910</td>\n",
              "      <td>6.313026</td>\n",
              "    </tr>\n",
              "    <tr>\n",
              "      <th>1</th>\n",
              "      <td>0.159658</td>\n",
              "      <td>0.094292</td>\n",
              "      <td>0.291868</td>\n",
              "    </tr>\n",
              "    <tr>\n",
              "      <th>2</th>\n",
              "      <td>-0.125372</td>\n",
              "      <td>0.100725</td>\n",
              "      <td>-0.697775</td>\n",
              "    </tr>\n",
              "    <tr>\n",
              "      <th>3</th>\n",
              "      <td>-0.004002</td>\n",
              "      <td>-0.011063</td>\n",
              "      <td>-0.017826</td>\n",
              "    </tr>\n",
              "    <tr>\n",
              "      <th>4</th>\n",
              "      <td>-0.130413</td>\n",
              "      <td>0.000000</td>\n",
              "      <td>-0.643827</td>\n",
              "    </tr>\n",
              "    <tr>\n",
              "      <th>5</th>\n",
              "      <td>-0.411271</td>\n",
              "      <td>0.000000</td>\n",
              "      <td>-1.210503</td>\n",
              "    </tr>\n",
              "    <tr>\n",
              "      <th>6</th>\n",
              "      <td>-0.655026</td>\n",
              "      <td>0.000000</td>\n",
              "      <td>-2.401223</td>\n",
              "    </tr>\n",
              "    <tr>\n",
              "      <th>7</th>\n",
              "      <td>-0.350106</td>\n",
              "      <td>-52.417339</td>\n",
              "      <td>-1.656670</td>\n",
              "    </tr>\n",
              "    <tr>\n",
              "      <th>8</th>\n",
              "      <td>-0.202222</td>\n",
              "      <td>0.000000</td>\n",
              "      <td>-1.000874</td>\n",
              "    </tr>\n",
              "    <tr>\n",
              "      <th>9</th>\n",
              "      <td>-0.029289</td>\n",
              "      <td>0.000000</td>\n",
              "      <td>-0.067365</td>\n",
              "    </tr>\n",
              "  </tbody>\n",
              "</table>\n",
              "</div>"
            ],
            "text/plain": [
              "         lr         l1        l2\n",
              "0  2.175329   0.872910  6.313026\n",
              "1  0.159658   0.094292  0.291868\n",
              "2 -0.125372   0.100725 -0.697775\n",
              "3 -0.004002  -0.011063 -0.017826\n",
              "4 -0.130413   0.000000 -0.643827\n",
              "5 -0.411271   0.000000 -1.210503\n",
              "6 -0.655026   0.000000 -2.401223\n",
              "7 -0.350106 -52.417339 -1.656670\n",
              "8 -0.202222   0.000000 -1.000874\n",
              "9 -0.029289   0.000000 -0.067365"
            ]
          },
          "metadata": {
            "tags": []
          },
          "execution_count": 68
        }
      ]
    },
    {
      "cell_type": "code",
      "metadata": {
        "id": "W9Quqib3O4lb",
        "colab_type": "code",
        "colab": {}
      },
      "source": [
        "import matplotlib.pyplot as plt\n",
        "%matplotlib inline"
      ],
      "execution_count": 0,
      "outputs": []
    },
    {
      "cell_type": "code",
      "metadata": {
        "id": "1Lbj5JBsPcUt",
        "colab_type": "code",
        "colab": {
          "base_uri": "https://localhost:8080/",
          "height": 282
        },
        "outputId": "c060ef19-f80c-4eab-8cbd-aa7d2135c558"
      },
      "source": [
        "coefficients.plot(y=['lr', 'l1', 'l2'], kind='line')"
      ],
      "execution_count": 70,
      "outputs": [
        {
          "output_type": "execute_result",
          "data": {
            "text/plain": [
              "<matplotlib.axes._subplots.AxesSubplot at 0x7fc6e74ba438>"
            ]
          },
          "metadata": {
            "tags": []
          },
          "execution_count": 70
        },
        {
          "output_type": "display_data",
          "data": {
            "image/png": "[encoded data removed]",
            "text/plain": [
              "<Figure size 432x288 with 1 Axes>"
            ]
          },
          "metadata": {
            "tags": []
          }
        }
      ]
    },
    {
      "cell_type": "markdown",
      "metadata": {
        "id": "F09jEr0ERWa_",
        "colab_type": "text"
      },
      "source": [
        "**Predict on Test Set**"
      ]
    },
    {
      "cell_type": "code",
      "metadata": {
        "id": "xdawQslQPqVM",
        "colab_type": "code",
        "colab": {}
      },
      "source": [
        "test_predictions = lr.predict(X_test)"
      ],
      "execution_count": 0,
      "outputs": []
    },
    {
      "cell_type": "code",
      "metadata": {
        "id": "104UveWnRtg1",
        "colab_type": "code",
        "colab": {
          "base_uri": "https://localhost:8080/",
          "height": 34
        },
        "outputId": "348a9809-fb81-4754-8a7d-3b41e068ee4b"
      },
      "source": [
        "test_predictions[:10]"
      ],
      "execution_count": 72,
      "outputs": [
        {
          "output_type": "execute_result",
          "data": {
            "text/plain": [
              "array([1, 0, 0, 1, 1, 0, 0, 0, 1, 1])"
            ]
          },
          "metadata": {
            "tags": []
          },
          "execution_count": 72
        }
      ]
    },
    {
      "cell_type": "markdown",
      "metadata": {
        "id": "QHtiFezXR36s",
        "colab_type": "text"
      },
      "source": [
        "###**Model Evaluation**"
      ]
    },
    {
      "cell_type": "code",
      "metadata": {
        "id": "tw8Dm_BURxCt",
        "colab_type": "code",
        "colab": {}
      },
      "source": [
        "from sklearn import metrics\n",
        "\n",
        "def get_metrics(true_labels, predicted_labels):\n",
        "  \n",
        "  print('Accuracy:', np.round(metrics.accuracy_score(true_labels, predicted_labels), 4))\n",
        "  print('Precision:', np.round(metrics.precision_score(true_labels, predicted_labels, average = 'weighted'), 4))\n",
        "  print('Recall:', np.round(metrics.recall_score(true_labels, predicted_labels, average = 'weighted'), 4))\n",
        "  print('F1 Score:', np.round(metrics.f1_score(true_labels, predicted_labels, average = 'weighted'), 4))"
      ],
      "execution_count": 0,
      "outputs": []
    },
    {
      "cell_type": "markdown",
      "metadata": {
        "id": "vjFynBlvT12I",
        "colab_type": "text"
      },
      "source": [
        "**Evaluation Sets**"
      ]
    },
    {
      "cell_type": "code",
      "metadata": {
        "id": "DkF3PU8lR6JG",
        "colab_type": "code",
        "colab": {
          "base_uri": "https://localhost:8080/",
          "height": 85
        },
        "outputId": "675b102d-3933-4dc1-b26c-8c75bd1e5e17"
      },
      "source": [
        "get_metrics(true_labels=y_test, predicted_labels=test_predictions)"
      ],
      "execution_count": 74,
      "outputs": [
        {
          "output_type": "stream",
          "text": [
            "Accuracy: 0.9649\n",
            "Precision: 0.965\n",
            "Recall: 0.9649\n",
            "F1 Score: 0.9648\n"
          ],
          "name": "stdout"
        }
      ]
    },
    {
      "cell_type": "code",
      "metadata": {
        "id": "--IoyIGKT4WN",
        "colab_type": "code",
        "colab": {
          "base_uri": "https://localhost:8080/",
          "height": 85
        },
        "outputId": "fdce8c5e-285e-4950-ad4a-ad1f64d172f9"
      },
      "source": [
        "test_predictions = lr_l1.predict(X_test)\n",
        "get_metrics(true_labels=y_test, predicted_labels=test_predictions)"
      ],
      "execution_count": 75,
      "outputs": [
        {
          "output_type": "stream",
          "text": [
            "Accuracy: 0.9708\n",
            "Precision: 0.9709\n",
            "Recall: 0.9708\n",
            "F1 Score: 0.9708\n"
          ],
          "name": "stdout"
        }
      ]
    },
    {
      "cell_type": "code",
      "metadata": {
        "id": "qG61DkSfUBqd",
        "colab_type": "code",
        "colab": {
          "base_uri": "https://localhost:8080/",
          "height": 85
        },
        "outputId": "565ec78f-f3df-43bb-d049-5ca8ac924af8"
      },
      "source": [
        "test_predictions = lr_l2.predict(X_test)\n",
        "get_metrics(true_labels=y_test, predicted_labels=test_predictions)"
      ],
      "execution_count": 76,
      "outputs": [
        {
          "output_type": "stream",
          "text": [
            "Accuracy: 0.9649\n",
            "Precision: 0.9649\n",
            "Recall: 0.9649\n",
            "F1 Score: 0.9649\n"
          ],
          "name": "stdout"
        }
      ]
    },
    {
      "cell_type": "markdown",
      "metadata": {
        "id": "fM4QKsrcUGgd",
        "colab_type": "text"
      },
      "source": [
        "**Confusion Matrix**"
      ]
    },
    {
      "cell_type": "code",
      "metadata": {
        "id": "8Feeby8xUFiq",
        "colab_type": "code",
        "colab": {
          "base_uri": "https://localhost:8080/",
          "height": 142
        },
        "outputId": "eb87cb8d-879a-428f-9c45-67a948aea9a1"
      },
      "source": [
        "total_classes = len(data.target_names)\n",
        "level_labels = [total_classes*[0], list(range(total_classes))]\n",
        "cm = metrics.confusion_matrix(y_true = y_test, y_pred = test_predictions, labels=[0,1])\n",
        "cm_frame = pd.DataFrame(data=cm, \n",
        "                        columns=pd.MultiIndex(levels=[['Predicted:'], [0,1]], \n",
        "                                              codes=level_labels), \n",
        "                        index=pd.MultiIndex(levels=[['Actual:'], [0,1]], \n",
        "                                            codes=level_labels)) \n",
        "cm_frame"
      ],
      "execution_count": 85,
      "outputs": [
        {
          "output_type": "execute_result",
          "data": {
            "text/html": [
              "<div>\n",
              "<style scoped>\n",
              "    .dataframe tbody tr th:only-of-type {\n",
              "        vertical-align: middle;\n",
              "    }\n",
              "\n",
              "    .dataframe tbody tr th {\n",
              "        vertical-align: top;\n",
              "    }\n",
              "\n",
              "    .dataframe thead tr th {\n",
              "        text-align: left;\n",
              "    }\n",
              "</style>\n",
              "<table border=\"1\" class=\"dataframe\">\n",
              "  <thead>\n",
              "    <tr>\n",
              "      <th></th>\n",
              "      <th></th>\n",
              "      <th colspan=\"2\" halign=\"left\">Predicted:</th>\n",
              "    </tr>\n",
              "    <tr>\n",
              "      <th></th>\n",
              "      <th></th>\n",
              "      <th>0</th>\n",
              "      <th>1</th>\n",
              "    </tr>\n",
              "  </thead>\n",
              "  <tbody>\n",
              "    <tr>\n",
              "      <th rowspan=\"2\" valign=\"top\">Actual:</th>\n",
              "      <th>0</th>\n",
              "      <td>60</td>\n",
              "      <td>3</td>\n",
              "    </tr>\n",
              "    <tr>\n",
              "      <th>1</th>\n",
              "      <td>3</td>\n",
              "      <td>105</td>\n",
              "    </tr>\n",
              "  </tbody>\n",
              "</table>\n",
              "</div>"
            ],
            "text/plain": [
              "          Predicted:     \n",
              "                   0    1\n",
              "Actual: 0         60    3\n",
              "        1          3  105"
            ]
          },
          "metadata": {
            "tags": []
          },
          "execution_count": 85
        }
      ]
    },
    {
      "cell_type": "code",
      "metadata": {
        "id": "EKXLJOrkUIWx",
        "colab_type": "code",
        "colab": {
          "base_uri": "https://localhost:8080/",
          "height": 170
        },
        "outputId": "1675d620-fbe5-48de-eb02-fe077ca16d60"
      },
      "source": [
        "print(metrics.classification_report(y_test, test_predictions))"
      ],
      "execution_count": 86,
      "outputs": [
        {
          "output_type": "stream",
          "text": [
            "              precision    recall  f1-score   support\n",
            "\n",
            "           0       0.95      0.95      0.95        63\n",
            "           1       0.97      0.97      0.97       108\n",
            "\n",
            "    accuracy                           0.96       171\n",
            "   macro avg       0.96      0.96      0.96       171\n",
            "weighted avg       0.96      0.96      0.96       171\n",
            "\n"
          ],
          "name": "stdout"
        }
      ]
    },
    {
      "cell_type": "markdown",
      "metadata": {
        "id": "-fbBkhGtYCzu",
        "colab_type": "text"
      },
      "source": [
        "### **Feature Selection**"
      ]
    },
    {
      "cell_type": "code",
      "metadata": {
        "id": "AozVSJ-XWTjo",
        "colab_type": "code",
        "colab": {
          "base_uri": "https://localhost:8080/",
          "height": 34
        },
        "outputId": "cfe3e604-6032-4405-a3d9-ac4118a92be8"
      },
      "source": [
        "from sklearn.feature_selection import SelectKBest\n",
        "from sklearn.feature_selection import chi2\n",
        "from sklearn.feature_selection import VarianceThreshold\n",
        "\n",
        "#threshold with .7\n",
        "\n",
        "sel = VarianceThreshold(threshold=(.7 * (1 - .7)))\n",
        "\n",
        "data2 = df.copy()\n",
        "data_new = pd.DataFrame(sel.fit_transform(data2.loc[:,~data2.columns.isin(['has cancer'])]))\n",
        "\n",
        "# train-test split\n",
        "X_new,X_test_new, Y_new,Y_test_new = train_test_split(data_new, data2['has cancer'].tolist(), test_size=0.3, random_state=42)\n",
        "print('Training dataset shape:', X_new.shape, '\\tTest dataset shape:', X_test_new.shape)"
      ],
      "execution_count": 87,
      "outputs": [
        {
          "output_type": "stream",
          "text": [
            "Training dataset shape: (398, 11) \tTest dataset shape: (171, 11)\n"
          ],
          "name": "stdout"
        }
      ]
    },
    {
      "cell_type": "code",
      "metadata": {
        "id": "jsG4LiVkYE7X",
        "colab_type": "code",
        "colab": {}
      },
      "source": [
        ""
      ],
      "execution_count": 0,
      "outputs": []
    }
  ]
}