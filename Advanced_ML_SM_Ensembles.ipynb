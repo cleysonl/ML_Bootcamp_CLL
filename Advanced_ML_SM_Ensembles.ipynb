{
  "nbformat": 4,
  "nbformat_minor": 0,
  "metadata": {
    "colab": {
      "name": "Advanced_ML_SM_Ensembles.ipynb",
      "provenance": [],
      "authorship_tag": "ABX9TyMCbS+MxI7F5oBIT8uperT+",
      "include_colab_link": true
    },
    "kernelspec": {
      "name": "python3",
      "display_name": "Python 3"
    }
  },
  "cells": [
    {
      "cell_type": "markdown",
      "metadata": {
        "id": "view-in-github",
        "colab_type": "text"
      },
      "source": [
        "<a href=\"https://colab.research.google.com/github/cleysonl/ML_Bootcamp_CLL/blob/master/Advanced_ML_SM_Ensembles.ipynb\" target=\"_parent\"><img src=\"https://colab.research.google.com/assets/colab-badge.svg\" alt=\"Open In Colab\"/></a>"
      ]
    },
    {
      "cell_type": "code",
      "metadata": {
        "id": "OtIcZdHp8cTp",
        "colab_type": "code",
        "colab": {}
      },
      "source": [
        "#import libraries\n",
        "import pandas as pd\n",
        "import numpy as np\n",
        "\n",
        "data = pd.read_csv(\"https://raw.githubusercontent.com/dipanjanS/appliedml_workshop_dhs_av_2019/master/Module%2008%20-%20%20Advanced%20ML%20-%20Supervised%20Models/data/Orange_Telecom_Churn_Data.csv\")"
      ],
      "execution_count": 0,
      "outputs": []
    },
    {
      "cell_type": "code",
      "metadata": {
        "id": "y9p6O6OcFMz2",
        "colab_type": "code",
        "colab": {
          "base_uri": "https://localhost:8080/",
          "height": 224
        },
        "outputId": "e267a2e5-df86-498f-ed61-0c75dcdce9b0"
      },
      "source": [
        "data.head()"
      ],
      "execution_count": 2,
      "outputs": [
        {
          "output_type": "execute_result",
          "data": {
            "text/html": [
              "<div>\n",
              "<style scoped>\n",
              "    .dataframe tbody tr th:only-of-type {\n",
              "        vertical-align: middle;\n",
              "    }\n",
              "\n",
              "    .dataframe tbody tr th {\n",
              "        vertical-align: top;\n",
              "    }\n",
              "\n",
              "    .dataframe thead th {\n",
              "        text-align: right;\n",
              "    }\n",
              "</style>\n",
              "<table border=\"1\" class=\"dataframe\">\n",
              "  <thead>\n",
              "    <tr style=\"text-align: right;\">\n",
              "      <th></th>\n",
              "      <th>state</th>\n",
              "      <th>account_length</th>\n",
              "      <th>area_code</th>\n",
              "      <th>phone_number</th>\n",
              "      <th>intl_plan</th>\n",
              "      <th>voice_mail_plan</th>\n",
              "      <th>number_vmail_messages</th>\n",
              "      <th>total_day_minutes</th>\n",
              "      <th>total_day_calls</th>\n",
              "      <th>total_day_charge</th>\n",
              "      <th>total_eve_minutes</th>\n",
              "      <th>total_eve_calls</th>\n",
              "      <th>total_eve_charge</th>\n",
              "      <th>total_night_minutes</th>\n",
              "      <th>total_night_calls</th>\n",
              "      <th>total_night_charge</th>\n",
              "      <th>total_intl_minutes</th>\n",
              "      <th>total_intl_calls</th>\n",
              "      <th>total_intl_charge</th>\n",
              "      <th>number_customer_service_calls</th>\n",
              "      <th>churned</th>\n",
              "    </tr>\n",
              "  </thead>\n",
              "  <tbody>\n",
              "    <tr>\n",
              "      <th>0</th>\n",
              "      <td>KS</td>\n",
              "      <td>128</td>\n",
              "      <td>415</td>\n",
              "      <td>382-4657</td>\n",
              "      <td>no</td>\n",
              "      <td>yes</td>\n",
              "      <td>25</td>\n",
              "      <td>265.1</td>\n",
              "      <td>110</td>\n",
              "      <td>45.07</td>\n",
              "      <td>197.4</td>\n",
              "      <td>99</td>\n",
              "      <td>16.78</td>\n",
              "      <td>244.7</td>\n",
              "      <td>91</td>\n",
              "      <td>11.01</td>\n",
              "      <td>10.0</td>\n",
              "      <td>3</td>\n",
              "      <td>2.70</td>\n",
              "      <td>1</td>\n",
              "      <td>False</td>\n",
              "    </tr>\n",
              "    <tr>\n",
              "      <th>1</th>\n",
              "      <td>OH</td>\n",
              "      <td>107</td>\n",
              "      <td>415</td>\n",
              "      <td>371-7191</td>\n",
              "      <td>no</td>\n",
              "      <td>yes</td>\n",
              "      <td>26</td>\n",
              "      <td>161.6</td>\n",
              "      <td>123</td>\n",
              "      <td>27.47</td>\n",
              "      <td>195.5</td>\n",
              "      <td>103</td>\n",
              "      <td>16.62</td>\n",
              "      <td>254.4</td>\n",
              "      <td>103</td>\n",
              "      <td>11.45</td>\n",
              "      <td>13.7</td>\n",
              "      <td>3</td>\n",
              "      <td>3.70</td>\n",
              "      <td>1</td>\n",
              "      <td>False</td>\n",
              "    </tr>\n",
              "    <tr>\n",
              "      <th>2</th>\n",
              "      <td>NJ</td>\n",
              "      <td>137</td>\n",
              "      <td>415</td>\n",
              "      <td>358-1921</td>\n",
              "      <td>no</td>\n",
              "      <td>no</td>\n",
              "      <td>0</td>\n",
              "      <td>243.4</td>\n",
              "      <td>114</td>\n",
              "      <td>41.38</td>\n",
              "      <td>121.2</td>\n",
              "      <td>110</td>\n",
              "      <td>10.30</td>\n",
              "      <td>162.6</td>\n",
              "      <td>104</td>\n",
              "      <td>7.32</td>\n",
              "      <td>12.2</td>\n",
              "      <td>5</td>\n",
              "      <td>3.29</td>\n",
              "      <td>0</td>\n",
              "      <td>False</td>\n",
              "    </tr>\n",
              "    <tr>\n",
              "      <th>3</th>\n",
              "      <td>OH</td>\n",
              "      <td>84</td>\n",
              "      <td>408</td>\n",
              "      <td>375-9999</td>\n",
              "      <td>yes</td>\n",
              "      <td>no</td>\n",
              "      <td>0</td>\n",
              "      <td>299.4</td>\n",
              "      <td>71</td>\n",
              "      <td>50.90</td>\n",
              "      <td>61.9</td>\n",
              "      <td>88</td>\n",
              "      <td>5.26</td>\n",
              "      <td>196.9</td>\n",
              "      <td>89</td>\n",
              "      <td>8.86</td>\n",
              "      <td>6.6</td>\n",
              "      <td>7</td>\n",
              "      <td>1.78</td>\n",
              "      <td>2</td>\n",
              "      <td>False</td>\n",
              "    </tr>\n",
              "    <tr>\n",
              "      <th>4</th>\n",
              "      <td>OK</td>\n",
              "      <td>75</td>\n",
              "      <td>415</td>\n",
              "      <td>330-6626</td>\n",
              "      <td>yes</td>\n",
              "      <td>no</td>\n",
              "      <td>0</td>\n",
              "      <td>166.7</td>\n",
              "      <td>113</td>\n",
              "      <td>28.34</td>\n",
              "      <td>148.3</td>\n",
              "      <td>122</td>\n",
              "      <td>12.61</td>\n",
              "      <td>186.9</td>\n",
              "      <td>121</td>\n",
              "      <td>8.41</td>\n",
              "      <td>10.1</td>\n",
              "      <td>3</td>\n",
              "      <td>2.73</td>\n",
              "      <td>3</td>\n",
              "      <td>False</td>\n",
              "    </tr>\n",
              "  </tbody>\n",
              "</table>\n",
              "</div>"
            ],
            "text/plain": [
              "  state  account_length  ...  number_customer_service_calls churned\n",
              "0    KS             128  ...                              1   False\n",
              "1    OH             107  ...                              1   False\n",
              "2    NJ             137  ...                              0   False\n",
              "3    OH              84  ...                              2   False\n",
              "4    OK              75  ...                              3   False\n",
              "\n",
              "[5 rows x 21 columns]"
            ]
          },
          "metadata": {
            "tags": []
          },
          "execution_count": 2
        }
      ]
    },
    {
      "cell_type": "code",
      "metadata": {
        "id": "iMxTeahMFQl1",
        "colab_type": "code",
        "colab": {
          "base_uri": "https://localhost:8080/",
          "height": 459
        },
        "outputId": "b016a897-d93e-4855-c690-c48c91486844"
      },
      "source": [
        "data.info()"
      ],
      "execution_count": 3,
      "outputs": [
        {
          "output_type": "stream",
          "text": [
            "<class 'pandas.core.frame.DataFrame'>\n",
            "RangeIndex: 5000 entries, 0 to 4999\n",
            "Data columns (total 21 columns):\n",
            "state                            5000 non-null object\n",
            "account_length                   5000 non-null int64\n",
            "area_code                        5000 non-null int64\n",
            "phone_number                     5000 non-null object\n",
            "intl_plan                        5000 non-null object\n",
            "voice_mail_plan                  5000 non-null object\n",
            "number_vmail_messages            5000 non-null int64\n",
            "total_day_minutes                5000 non-null float64\n",
            "total_day_calls                  5000 non-null int64\n",
            "total_day_charge                 5000 non-null float64\n",
            "total_eve_minutes                5000 non-null float64\n",
            "total_eve_calls                  5000 non-null int64\n",
            "total_eve_charge                 5000 non-null float64\n",
            "total_night_minutes              5000 non-null float64\n",
            "total_night_calls                5000 non-null int64\n",
            "total_night_charge               5000 non-null float64\n",
            "total_intl_minutes               5000 non-null float64\n",
            "total_intl_calls                 5000 non-null int64\n",
            "total_intl_charge                5000 non-null float64\n",
            "number_customer_service_calls    5000 non-null int64\n",
            "churned                          5000 non-null bool\n",
            "dtypes: bool(1), float64(8), int64(8), object(4)\n",
            "memory usage: 786.3+ KB\n"
          ],
          "name": "stdout"
        }
      ]
    },
    {
      "cell_type": "code",
      "metadata": {
        "id": "RSH-pdY5FTXA",
        "colab_type": "code",
        "colab": {}
      },
      "source": [
        "# Drop columns that are not going to be used for the prediction\n",
        "data.drop(['state', 'phone_number', 'area_code'],axis=1, inplace=True)"
      ],
      "execution_count": 0,
      "outputs": []
    },
    {
      "cell_type": "markdown",
      "metadata": {
        "id": "WHGi57U3F0G6",
        "colab_type": "text"
      },
      "source": [
        "### **Data Preprocessing**"
      ]
    },
    {
      "cell_type": "code",
      "metadata": {
        "id": "8TRyb0qwFwmG",
        "colab_type": "code",
        "colab": {
          "base_uri": "https://localhost:8080/",
          "height": 68
        },
        "outputId": "e189b767-d154-450a-fb1b-d28368348ca7"
      },
      "source": [
        "for col in ['intl_plan', 'voice_mail_plan']:\n",
        "  data[col] = data[col].replace('yes', 'True').replace('no', 'False').astype(np.bool)\n",
        "\n",
        "data[['intl_plan', 'voice_mail_plan']].dtypes"
      ],
      "execution_count": 6,
      "outputs": [
        {
          "output_type": "execute_result",
          "data": {
            "text/plain": [
              "intl_plan          bool\n",
              "voice_mail_plan    bool\n",
              "dtype: object"
            ]
          },
          "metadata": {
            "tags": []
          },
          "execution_count": 6
        }
      ]
    },
    {
      "cell_type": "code",
      "metadata": {
        "id": "5mWdf5A5F3vX",
        "colab_type": "code",
        "colab": {
          "base_uri": "https://localhost:8080/",
          "height": 131
        },
        "outputId": "ed4f3488-18e1-4438-e6bc-7e93b22ec170"
      },
      "source": [
        "# data.groupby('intl_plan').count()\n",
        "data.groupby('voice_mail_plan').count()"
      ],
      "execution_count": 12,
      "outputs": [
        {
          "output_type": "execute_result",
          "data": {
            "text/html": [
              "<div>\n",
              "<style scoped>\n",
              "    .dataframe tbody tr th:only-of-type {\n",
              "        vertical-align: middle;\n",
              "    }\n",
              "\n",
              "    .dataframe tbody tr th {\n",
              "        vertical-align: top;\n",
              "    }\n",
              "\n",
              "    .dataframe thead th {\n",
              "        text-align: right;\n",
              "    }\n",
              "</style>\n",
              "<table border=\"1\" class=\"dataframe\">\n",
              "  <thead>\n",
              "    <tr style=\"text-align: right;\">\n",
              "      <th></th>\n",
              "      <th>account_length</th>\n",
              "      <th>intl_plan</th>\n",
              "      <th>number_vmail_messages</th>\n",
              "      <th>total_day_minutes</th>\n",
              "      <th>total_day_calls</th>\n",
              "      <th>total_day_charge</th>\n",
              "      <th>total_eve_minutes</th>\n",
              "      <th>total_eve_calls</th>\n",
              "      <th>total_eve_charge</th>\n",
              "      <th>total_night_minutes</th>\n",
              "      <th>total_night_calls</th>\n",
              "      <th>total_night_charge</th>\n",
              "      <th>total_intl_minutes</th>\n",
              "      <th>total_intl_calls</th>\n",
              "      <th>total_intl_charge</th>\n",
              "      <th>number_customer_service_calls</th>\n",
              "      <th>churned</th>\n",
              "    </tr>\n",
              "    <tr>\n",
              "      <th>voice_mail_plan</th>\n",
              "      <th></th>\n",
              "      <th></th>\n",
              "      <th></th>\n",
              "      <th></th>\n",
              "      <th></th>\n",
              "      <th></th>\n",
              "      <th></th>\n",
              "      <th></th>\n",
              "      <th></th>\n",
              "      <th></th>\n",
              "      <th></th>\n",
              "      <th></th>\n",
              "      <th></th>\n",
              "      <th></th>\n",
              "      <th></th>\n",
              "      <th></th>\n",
              "      <th></th>\n",
              "    </tr>\n",
              "  </thead>\n",
              "  <tbody>\n",
              "    <tr>\n",
              "      <th>True</th>\n",
              "      <td>5000</td>\n",
              "      <td>5000</td>\n",
              "      <td>5000</td>\n",
              "      <td>5000</td>\n",
              "      <td>5000</td>\n",
              "      <td>5000</td>\n",
              "      <td>5000</td>\n",
              "      <td>5000</td>\n",
              "      <td>5000</td>\n",
              "      <td>5000</td>\n",
              "      <td>5000</td>\n",
              "      <td>5000</td>\n",
              "      <td>5000</td>\n",
              "      <td>5000</td>\n",
              "      <td>5000</td>\n",
              "      <td>5000</td>\n",
              "      <td>5000</td>\n",
              "    </tr>\n",
              "  </tbody>\n",
              "</table>\n",
              "</div>"
            ],
            "text/plain": [
              "                 account_length  ...  churned\n",
              "voice_mail_plan                  ...         \n",
              "True                       5000  ...     5000\n",
              "\n",
              "[1 rows x 17 columns]"
            ]
          },
          "metadata": {
            "tags": []
          },
          "execution_count": 12
        }
      ]
    },
    {
      "cell_type": "code",
      "metadata": {
        "id": "f6jaDuvMHu3t",
        "colab_type": "code",
        "colab": {
          "base_uri": "https://localhost:8080/",
          "height": 68
        },
        "outputId": "9c36115c-1c3e-468c-ccb2-7745601390a6"
      },
      "source": [
        "# Examine distribution of the predicted variable\n",
        "# Check if out data is imbalanced\n",
        "data.churned.value_counts()"
      ],
      "execution_count": 13,
      "outputs": [
        {
          "output_type": "execute_result",
          "data": {
            "text/plain": [
              "False    4293\n",
              "True      707\n",
              "Name: churned, dtype: int64"
            ]
          },
          "metadata": {
            "tags": []
          },
          "execution_count": 13
        }
      ]
    },
    {
      "cell_type": "code",
      "metadata": {
        "id": "wWKnLB0GI-pI",
        "colab_type": "code",
        "colab": {
          "base_uri": "https://localhost:8080/",
          "height": 68
        },
        "outputId": "a947e4b2-83ce-4102-c2b2-96cd68fccc4f"
      },
      "source": [
        "data.churned.value_counts(normalize=True)"
      ],
      "execution_count": 14,
      "outputs": [
        {
          "output_type": "execute_result",
          "data": {
            "text/plain": [
              "False    0.8586\n",
              "True     0.1414\n",
              "Name: churned, dtype: float64"
            ]
          },
          "metadata": {
            "tags": []
          },
          "execution_count": 14
        }
      ]
    },
    {
      "cell_type": "code",
      "metadata": {
        "id": "7PfbqzLUJD70",
        "colab_type": "code",
        "colab": {}
      },
      "source": [
        "\"\"\"\n",
        "Two ways of shuffling the data into a test and train set maintaining the proportion of the predicted\n",
        "variable in both.\n",
        "\"\"\"\n",
        "### 1 ###\n",
        "# feature_cols = [x for x in data.columns if x != 'churned']\n",
        "\n",
        "# # Split the data into two parts with 1500 points in the test data\n",
        "# # This creates a generator\n",
        "# strat_shuff_split = StratifiedShuffleSplit(n_splits=1, test_size=1500, random_state=42)\n",
        "\n",
        "# # Get the index values from the generator\n",
        "# train_idx, test_idx = next(strat_shuff_split.split(data[feature_cols], data['churned']))\n",
        "\n",
        "# # Create the data sets\n",
        "# X_train = data.loc[train_idx, feature_cols]\n",
        "# y_train = data.loc[train_idx, 'churned']\n",
        "\n",
        "# X_test = data.loc[test_idx, feature_cols]\n",
        "# y_test = data.loc[test_idx, 'churned']\n",
        "\n",
        "#### 2 ####\n",
        "\n",
        "# Separate the test and train data maintaining the proportion of the labels in the two sets\n",
        "from sklearn.model_selection import train_test_split\n",
        "\n",
        "X_train, X_test, y_train, y_test = train_test_split(data.drop(['churned'],axis=1), data['churned'], test_size=0.3, stratify=data.churned, random_state=42)\n"
      ],
      "execution_count": 0,
      "outputs": []
    },
    {
      "cell_type": "code",
      "metadata": {
        "id": "WiGnHOjXK2pi",
        "colab_type": "code",
        "colab": {}
      },
      "source": [
        "# Suppress warnings about too few trees from the early models\n",
        "\n",
        "import warnings\n",
        "warnings.filterwarnings(\"ignore\", category=UserWarning)\n",
        "warnings.filterwarnings(\"ignore\", category=RuntimeWarning)"
      ],
      "execution_count": 0,
      "outputs": []
    },
    {
      "cell_type": "code",
      "metadata": {
        "id": "0I3CtXqFLCId",
        "colab_type": "code",
        "colab": {
          "base_uri": "https://localhost:8080/",
          "height": 390
        },
        "outputId": "35f97fb2-5c78-4d59-fbe2-39c648bb5303"
      },
      "source": [
        "from sklearn.ensemble import RandomForestClassifier\n",
        "\n",
        "# Initialize the random forest estimator\n",
        "# Note that the number of trees is not setup here\n",
        "rf = RandomForestClassifier(oob_score=True, \n",
        "                            random_state=42, \n",
        "                            warm_start=True,\n",
        "                            n_jobs=1)\n",
        "\n",
        "oob_list = list()\n",
        "\n",
        "# Iterate through all of the possibilities for \n",
        "# number of trees\n",
        "for n_trees in [15, 20, 30, 40, 50, 100, 150, 200, 300, 400]:\n",
        "    \n",
        "    # Use this to set the number of trees\n",
        "    rf.set_params(n_estimators=n_trees)\n",
        "\n",
        "    # Fit the model\n",
        "    rf.fit(X_train, y_train)\n",
        "\n",
        "    # Get the oob error\n",
        "    oob_error = 1 - rf.oob_score_\n",
        "    \n",
        "    # Store it\n",
        "    oob_list.append(pd.Series({'n_trees': n_trees, 'oob': oob_error}))\n",
        "\n",
        "rf_oob_df = pd.concat(oob_list, axis=1).T.set_index('n_trees')\n",
        "\n",
        "rf_oob_df"
      ],
      "execution_count": 18,
      "outputs": [
        {
          "output_type": "execute_result",
          "data": {
            "text/html": [
              "<div>\n",
              "<style scoped>\n",
              "    .dataframe tbody tr th:only-of-type {\n",
              "        vertical-align: middle;\n",
              "    }\n",
              "\n",
              "    .dataframe tbody tr th {\n",
              "        vertical-align: top;\n",
              "    }\n",
              "\n",
              "    .dataframe thead th {\n",
              "        text-align: right;\n",
              "    }\n",
              "</style>\n",
              "<table border=\"1\" class=\"dataframe\">\n",
              "  <thead>\n",
              "    <tr style=\"text-align: right;\">\n",
              "      <th></th>\n",
              "      <th>oob</th>\n",
              "    </tr>\n",
              "    <tr>\n",
              "      <th>n_trees</th>\n",
              "      <th></th>\n",
              "    </tr>\n",
              "  </thead>\n",
              "  <tbody>\n",
              "    <tr>\n",
              "      <th>15.0</th>\n",
              "      <td>0.092286</td>\n",
              "    </tr>\n",
              "    <tr>\n",
              "      <th>20.0</th>\n",
              "      <td>0.084857</td>\n",
              "    </tr>\n",
              "    <tr>\n",
              "      <th>30.0</th>\n",
              "      <td>0.080857</td>\n",
              "    </tr>\n",
              "    <tr>\n",
              "      <th>40.0</th>\n",
              "      <td>0.077429</td>\n",
              "    </tr>\n",
              "    <tr>\n",
              "      <th>50.0</th>\n",
              "      <td>0.077714</td>\n",
              "    </tr>\n",
              "    <tr>\n",
              "      <th>100.0</th>\n",
              "      <td>0.072857</td>\n",
              "    </tr>\n",
              "    <tr>\n",
              "      <th>150.0</th>\n",
              "      <td>0.072571</td>\n",
              "    </tr>\n",
              "    <tr>\n",
              "      <th>200.0</th>\n",
              "      <td>0.073143</td>\n",
              "    </tr>\n",
              "    <tr>\n",
              "      <th>300.0</th>\n",
              "      <td>0.072000</td>\n",
              "    </tr>\n",
              "    <tr>\n",
              "      <th>400.0</th>\n",
              "      <td>0.072857</td>\n",
              "    </tr>\n",
              "  </tbody>\n",
              "</table>\n",
              "</div>"
            ],
            "text/plain": [
              "              oob\n",
              "n_trees          \n",
              "15.0     0.092286\n",
              "20.0     0.084857\n",
              "30.0     0.080857\n",
              "40.0     0.077429\n",
              "50.0     0.077714\n",
              "100.0    0.072857\n",
              "150.0    0.072571\n",
              "200.0    0.073143\n",
              "300.0    0.072000\n",
              "400.0    0.072857"
            ]
          },
          "metadata": {
            "tags": []
          },
          "execution_count": 18
        }
      ]
    },
    {
      "cell_type": "code",
      "metadata": {
        "id": "lrpxA-LkLM6H",
        "colab_type": "code",
        "colab": {}
      },
      "source": [
        "import matplotlib.pyplot as plt\n",
        "import seaborn as sns\n",
        "\n",
        "%matplotlib inline"
      ],
      "execution_count": 0,
      "outputs": []
    },
    {
      "cell_type": "code",
      "metadata": {
        "id": "XHqbUPguLylB",
        "colab_type": "code",
        "colab": {
          "base_uri": "https://localhost:8080/",
          "height": 318
        },
        "outputId": "98078b4c-abd8-4081-899a-bcdf6d27df07"
      },
      "source": [
        "sns.set_context('talk')\n",
        "sns.set_palette('dark')\n",
        "sns.set_style('white')\n",
        "\n",
        "ax = rf_oob_df.plot(legend=False, marker='o')\n",
        "ax.set(ylabel='out-of-bag error')"
      ],
      "execution_count": 20,
      "outputs": [
        {
          "output_type": "execute_result",
          "data": {
            "text/plain": [
              "[Text(0, 0.5, 'out-of-bag error')]"
            ]
          },
          "metadata": {
            "tags": []
          },
          "execution_count": 20
        },
        {
          "output_type": "display_data",
          "data": {
            "image/png": "[encoded data removed]",
            "text/plain": [
              "<Figure size 432x288 with 1 Axes>"
            ]
          },
          "metadata": {
            "tags": []
          }
        }
      ]
    },
    {
      "cell_type": "code",
      "metadata": {
        "id": "kKr_bQBvMV3C",
        "colab_type": "code",
        "colab": {
          "base_uri": "https://localhost:8080/",
          "height": 153
        },
        "outputId": "ce6826ab-0008-4c3d-dcd9-dc75a22503cf"
      },
      "source": [
        "rf"
      ],
      "execution_count": 21,
      "outputs": [
        {
          "output_type": "execute_result",
          "data": {
            "text/plain": [
              "RandomForestClassifier(bootstrap=True, ccp_alpha=0.0, class_weight=None,\n",
              "                       criterion='gini', max_depth=None, max_features='auto',\n",
              "                       max_leaf_nodes=None, max_samples=None,\n",
              "                       min_impurity_decrease=0.0, min_impurity_split=None,\n",
              "                       min_samples_leaf=1, min_samples_split=2,\n",
              "                       min_weight_fraction_leaf=0.0, n_estimators=400, n_jobs=1,\n",
              "                       oob_score=True, random_state=42, verbose=0,\n",
              "                       warm_start=True)"
            ]
          },
          "metadata": {
            "tags": []
          },
          "execution_count": 21
        }
      ]
    },
    {
      "cell_type": "code",
      "metadata": {
        "id": "if8isAvQMqN_",
        "colab_type": "code",
        "colab": {}
      },
      "source": [
        "# Random forest with 300 estimators\n",
        "model = RandomForestClassifier(oob_score=False,\n",
        "                               random_state=42,\n",
        "                               n_estimators=300,\n",
        "                               n_jobs=1)\n",
        "\n",
        "model.fit(X_train, y_train)\n",
        "y_pred = model.predict(X_test)"
      ],
      "execution_count": 0,
      "outputs": []
    },
    {
      "cell_type": "code",
      "metadata": {
        "id": "KVSZ8VQCQoAt",
        "colab_type": "code",
        "colab": {
          "base_uri": "https://localhost:8080/",
          "height": 204
        },
        "outputId": "39578838-00ee-4aa0-8ca5-e22c44695c0e"
      },
      "source": [
        "from sklearn.metrics import classification_report, accuracy_score, precision_score, recall_score\n",
        "from sklearn.metrics import f1_score, roc_auc_score\n",
        "\n",
        "cr = classification_report(y_test, y_pred)\n",
        "print(cr)\n",
        "\n",
        "score_df = pd.DataFrame({'accuracy': accuracy_score(y_test, y_pred),\n",
        "                         'precision': precision_score(y_test, y_pred),\n",
        "                         'recall': recall_score(y_test, y_pred),\n",
        "                         'f1': f1_score(y_test, y_pred),\n",
        "                         'auc': roc_auc_score(y_test, y_pred)},\n",
        "                        index=pd.Index([0]))\n",
        "print(score_df)"
      ],
      "execution_count": 23,
      "outputs": [
        {
          "output_type": "stream",
          "text": [
            "              precision    recall  f1-score   support\n",
            "\n",
            "       False       0.93      1.00      0.96      1288\n",
            "        True       0.95      0.55      0.69       212\n",
            "\n",
            "    accuracy                           0.93      1500\n",
            "   macro avg       0.94      0.77      0.83      1500\n",
            "weighted avg       0.93      0.93      0.92      1500\n",
            "\n",
            "   accuracy  precision   recall        f1       auc\n",
            "0     0.932    0.95082  0.54717  0.694611  0.771256\n"
          ],
          "name": "stdout"
        }
      ]
    },
    {
      "cell_type": "code",
      "metadata": {
        "id": "Nt-dh4UBR0nR",
        "colab_type": "code",
        "colab": {
          "base_uri": "https://localhost:8080/",
          "height": 302
        },
        "outputId": "baa7b7ff-e362-4a51-9413-a8232e052266"
      },
      "source": [
        "from sklearn.metrics import roc_curve, precision_recall_curve, confusion_matrix\n",
        "\n",
        "sns.set_context('talk')\n",
        "cm = confusion_matrix(y_test, y_pred)\n",
        "ax = sns.heatmap(cm, annot=True, fmt='d')\n",
        "\n",
        "labels = ['False', 'True']\n",
        "ax.set_xticklabels(labels);\n",
        "ax.set_yticklabels(labels[::-1]);\n",
        "ax.set_ylabel('Prediction');\n",
        "ax.set_xlabel('Ground Truth')\n",
        "\n",
        "# This has to be done for a bug in seaborn\\matplotlib which should get fixed with matplotlib 3.1.2\n",
        "b, t = ax.get_ylim() # discover the values for bottom and top\n",
        "b += 0.5 # Add 0.5 to the bottom\n",
        "t -= 0.5 # Subtract 0.5 from the top\n",
        "ax.set_ylim(b, t); # update the ylim(bottom, top) values"
      ],
      "execution_count": 24,
      "outputs": [
        {
          "output_type": "display_data",
          "data": {
            "image/png": "[encoded data removed]",
            "text/plain": [
              "<Figure size 432x288 with 2 Axes>"
            ]
          },
          "metadata": {
            "tags": []
          }
        }
      ]
    },
    {
      "cell_type": "code",
      "metadata": {
        "id": "UkabjLwxVMyZ",
        "colab_type": "code",
        "colab": {
          "base_uri": "https://localhost:8080/",
          "height": 34
        },
        "outputId": "8cccc563-0a4c-43c1-9389-be6863b8901b"
      },
      "source": [
        "sns.__version__"
      ],
      "execution_count": 26,
      "outputs": [
        {
          "output_type": "execute_result",
          "data": {
            "text/plain": [
              "'0.9.1'"
            ]
          },
          "metadata": {
            "tags": []
          },
          "execution_count": 26
        }
      ]
    },
    {
      "cell_type": "code",
      "metadata": {
        "id": "wQDZEyutVPvo",
        "colab_type": "code",
        "colab": {
          "base_uri": "https://localhost:8080/",
          "height": 163
        },
        "outputId": "acd9bbf7-958b-43cd-a4cf-057eabad95f8"
      },
      "source": [
        ""
      ],
      "execution_count": 29,
      "outputs": [
        {
          "output_type": "error",
          "ename": "AttributeError",
          "evalue": "ignored",
          "traceback": [
            "\u001b[0;31m---------------------------------------------------------------------------\u001b[0m",
            "\u001b[0;31mAttributeError\u001b[0m                            Traceback (most recent call last)",
            "\u001b[0;32m<ipython-input-29-258ef2d68aad>\u001b[0m in \u001b[0;36m<module>\u001b[0;34m()\u001b[0m\n\u001b[0;32m----> 1\u001b[0;31m \u001b[0mplt\u001b[0m\u001b[0;34m.\u001b[0m\u001b[0m__version__\u001b[0m\u001b[0;34m\u001b[0m\u001b[0;34m\u001b[0m\u001b[0m\n\u001b[0m",
            "\u001b[0;31mAttributeError\u001b[0m: module 'matplotlib.pyplot' has no attribute '__version__'"
          ]
        }
      ]
    },
    {
      "cell_type": "code",
      "metadata": {
        "id": "YBGUdCmWVUrl",
        "colab_type": "code",
        "colab": {}
      },
      "source": [
        ""
      ],
      "execution_count": 0,
      "outputs": []
    }
  ]
}